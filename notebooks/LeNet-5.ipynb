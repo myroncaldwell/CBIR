{
 "cells": [
  {
   "cell_type": "code",
   "execution_count": null,
   "metadata": {
    "ExecuteTime": {
     "end_time": "2021-06-07T13:57:40.419767Z",
     "start_time": "2021-06-07T13:57:40.399248Z"
    },
    "id": "e1QDis694UJm"
   },
   "outputs": [],
   "source": [
    "from torchvision import datasets\n",
    "\n",
    "import numpy as np\n",
    "\n",
    "# preprocessing\n",
    "from torch.utils.data import Dataset, DataLoader\n",
    "import torchvision.transforms as transforms\n",
    "from torch.utils.data import random_split\n",
    "\n",
    "# model\n",
    "import torch\n",
    "from torch import nn\n",
    "from torch.optim import SGD"
   ]
  },
  {
   "cell_type": "markdown",
   "metadata": {
    "heading_collapsed": true,
    "id": "QVsPsuI-4UJn"
   },
   "source": [
    "# 1. Load Data"
   ]
  },
  {
   "cell_type": "code",
   "execution_count": null,
   "metadata": {
    "ExecuteTime": {
     "end_time": "2021-06-07T13:57:40.497198Z",
     "start_time": "2021-06-07T13:57:40.426745Z"
    },
    "hidden": true,
    "id": "ii9r9fLY4UJn"
   },
   "outputs": [],
   "source": [
    "def load_data(data_dir):\n",
    "    \"\"\" Create train and test pytorch dataset objects from CIFAR10.\n",
    "    \n",
    "    The following tranformations are applied on CIFAR10:\n",
    "        * image pixels to [0, 1] range,\n",
    "        * normalization (by substracting mean and dividing with std; [-1, 1] range)\n",
    "    \n",
    "    Args:\n",
    "        data_dir:\n",
    "            directory where data will be saved, as a string.\n",
    "    \n",
    "    Returns:\n",
    "        train and test dataset, as pytorch dataset objects.\n",
    "    \"\"\"\n",
    "    transform = transforms.Compose([\n",
    "        # transforms.Grayscale(num_output_channels=1),\n",
    "        transforms.ToTensor(),\n",
    "        transforms.Normalize((0.5, 0.5, 0.5), (0.5, 0.5, 0.5))\n",
    "    ])\n",
    "\n",
    "    trainset = datasets.CIFAR10(root=data_dir,\n",
    "                                train=True, \n",
    "                                download=True, \n",
    "                                transform=transform)\n",
    "\n",
    "    testset = datasets.CIFAR10(root=data_dir, \n",
    "                               train=False, \n",
    "                               download=True, \n",
    "                               transform=transform)\n",
    "\n",
    "    return trainset, testset"
   ]
  },
  {
   "cell_type": "code",
   "execution_count": null,
   "metadata": {
    "ExecuteTime": {
     "end_time": "2021-06-07T13:57:43.362186Z",
     "start_time": "2021-06-07T13:57:40.499192Z"
    },
    "colab": {
     "base_uri": "https://localhost:8080/"
    },
    "hidden": true,
    "id": "AK8yhYr-4UJo",
    "outputId": "5e6e26eb-86f6-4a42-cfd4-121da5f48b05"
   },
   "outputs": [],
   "source": [
    "training_data, test_data = load_data(data_dir='cifar10')\n",
    "\n",
    "print(f'\\nTraining data:\\n--------------\\n{training_data}')\n",
    "print(f'Test data:\\n--------------\\n{test_data}')"
   ]
  },
  {
   "cell_type": "markdown",
   "metadata": {
    "heading_collapsed": true,
    "id": "-WC227VV4UJo"
   },
   "source": [
    "# 2. LeNet-5\n",
    "\n",
    "**Architecture:** Input &#8594; C1 &#8594; Tanh &#8594; S2 &#8594; C3 &#8594; Tanh &#8594; S4 &#8594; C5 &#8594; Tanh &#8594; FC6 &#8594; Softmax <br>\n",
    "where:\n",
    "* C is a convolutional layer,\n",
    "* S is a pooling (subsampling) layer,\n",
    "* FC is a fully connected layer.\n",
    "\n",
    "Specifically: \n",
    "* C1 has 6 filters, C3 has 16 filters, C5 has 120 filters.\n",
    "* kernel size of 5 x 5.\n",
    "* pooling layer with receptive field of 2 x 2 (average pooling).\n",
    "* tanh activation function.\n",
    "\n",
    "Also, learning rate decay was used as followed:\n",
    "* 5e-4 for the first 2 epochs,\n",
    "* 2e-4 for the next 3 epochs,\n",
    "* 5e-5 for the next 4 epochs,\n",
    "* 1e-5 thereafter."
   ]
  },
  {
   "cell_type": "code",
   "execution_count": null,
   "metadata": {
    "ExecuteTime": {
     "end_time": "2021-06-07T13:57:43.377147Z",
     "start_time": "2021-06-07T13:57:43.364183Z"
    },
    "hidden": true,
    "id": "PFTUJ7u_4UJp"
   },
   "outputs": [],
   "source": [
    "class LeNet5(nn.Module):\n",
    "    \n",
    "    def __init__(self, output_size):\n",
    "        super(LeNet5, self).__init__()\n",
    "        \n",
    "        self.feature_extractor = nn.Sequential(\n",
    "            # filters=6, kernel_size=5, stride=1\n",
    "            nn.Conv2d(in_channels=3, out_channels=6, kernel_size=5, stride=1),\n",
    "            nn.Tanh(), \n",
    "            nn.AvgPool2d(kernel_size=2),\n",
    "           \n",
    "            # filters=16, kernel_size=5, stride=1\n",
    "            nn.Conv2d(in_channels=6, out_channels=16, kernel_size=5, stride=1),\n",
    "            nn.Tanh(),\n",
    "            nn.AvgPool2d(kernel_size=2),\n",
    "            \n",
    "            # filters=120, kernel_size=5, stride=1\n",
    "            nn.Conv2d(in_channels=16, out_channels=120, kernel_size=5, stride=1),\n",
    "            nn.Tanh()\n",
    "        )\n",
    "        \n",
    "        self.classifier = nn.Sequential(\n",
    "            nn.Linear(in_features=120, out_features=84),\n",
    "            nn.Tanh(),\n",
    "            nn.Linear(in_features=84, out_features=output_size),\n",
    "        )\n",
    "        \n",
    "    def forward(self, x):\n",
    "        x = self.feature_extractor(x)\n",
    "        \n",
    "        # flatten all dimensions except the batch dimension\n",
    "        x = torch.flatten(x, 1)\n",
    "        \n",
    "        logits = self.classifier(x)\n",
    "\n",
    "        return logits"
   ]
  },
  {
   "cell_type": "code",
   "execution_count": null,
   "metadata": {
    "ExecuteTime": {
     "end_time": "2021-06-07T13:57:46.533605Z",
     "start_time": "2021-06-07T13:57:46.443814Z"
    },
    "hidden": true,
    "id": "SpSXPCJW4UJu"
   },
   "outputs": [],
   "source": [
    "def lr_schedule(epoch):\n",
    "    if epoch <= 2:\n",
    "        lr = 5e-4\n",
    "    elif epoch > 2 and epoch <= 5:\n",
    "        lr = 2e-4\n",
    "    elif epoch > 5 and epoch <= 9:\n",
    "        lr = 5e-5\n",
    "    else:\n",
    "        lr = 1e-5\n",
    "        \n",
    "    return lr"
   ]
  },
  {
   "cell_type": "markdown",
   "metadata": {
    "heading_collapsed": true,
    "id": "XLhFmou74UJp"
   },
   "source": [
    "# 3. Fit and Predict"
   ]
  },
  {
   "cell_type": "code",
   "execution_count": null,
   "metadata": {
    "ExecuteTime": {
     "end_time": "2021-06-07T13:57:43.532847Z",
     "start_time": "2021-06-07T13:57:43.380141Z"
    },
    "hidden": true,
    "id": "HI8rqVnQ4UJq"
   },
   "outputs": [],
   "source": [
    "def fit(dataloader, model, loss_fn, optimizer, print_loss=False):\n",
    "    \"\"\" Fit neural network.\n",
    "    \n",
    "    Args:\n",
    "        dataloader:\n",
    "            pytorch DataLoader object.\n",
    "        model:\n",
    "            neural network, as pytorch object.\n",
    "        loss_fn:\n",
    "            loss function, as pytorch object.\n",
    "        optimizer:\n",
    "            optimizer function, as pytorch object.\n",
    "        print_loss:\n",
    "            print loss on every batch, as boolean (default False)\n",
    "    \"\"\"\n",
    "    size = len(dataloader.dataset)\n",
    "    model.train()  # put on train mode\n",
    "    for batch, (X, Y) in enumerate(dataloader):\n",
    "        X, Y = X.to(device), Y.to(device)\n",
    "        \n",
    "        # compute prediction\n",
    "        pred = model(X)\n",
    "        \n",
    "        # compute loss\n",
    "        loss = loss_fn(pred, Y)\n",
    "\n",
    "        # reset the gradients\n",
    "        optimizer.zero_grad()\n",
    "        \n",
    "        # backpropagate\n",
    "        loss.backward()\n",
    "        \n",
    "        # update parameters\n",
    "        optimizer.step()\n",
    "\n",
    "        if print_loss and batch % 100 == 0:\n",
    "            loss, current = loss.item(), batch * len(X)\n",
    "            print(f\"loss: {loss:>7f} [{current:>5d}/{size:>5d}]\")"
   ]
  },
  {
   "cell_type": "code",
   "execution_count": null,
   "metadata": {
    "ExecuteTime": {
     "end_time": "2021-06-07T13:57:43.641140Z",
     "start_time": "2021-06-07T13:57:43.533627Z"
    },
    "hidden": true,
    "id": "SZ8dvmTY4UJr"
   },
   "outputs": [],
   "source": [
    "def predict(dataloader, model, loss_fn):\n",
    "    \"\"\" Predict with neural network.\n",
    "    \n",
    "    Args:\n",
    "        dataloader:\n",
    "            pytorch DataLoader object.\n",
    "        model:\n",
    "            neural network, as pytorch object.\n",
    "        loss_fn:\n",
    "            loss function, as pytorch object.\n",
    "    \"\"\"\n",
    "    size = len(dataloader.dataset)\n",
    "    \n",
    "    test_loss = 0\n",
    "    correct = 0\n",
    "    \n",
    "    model.eval()  # put on evaluation mode\n",
    "    with torch.no_grad():\n",
    "        for X, Y in dataloader:\n",
    "            X, Y = X.to(device), Y.to(device)\n",
    "            \n",
    "            pred = model(X)\n",
    "            \n",
    "            test_loss += loss_fn(pred, Y).item()\n",
    "            \n",
    "            correct += (pred.argmax(1) == Y).type(torch.float).sum().item()\n",
    "\n",
    "    test_loss /= size\n",
    "    correct /= size\n",
    "    print(f\"average loss: {test_loss:>8f} \\naccuracy: {(100*correct):>0.1f}%\\n\")"
   ]
  },
  {
   "cell_type": "markdown",
   "metadata": {
    "heading_collapsed": true,
    "id": "uNwQxPx54UJs"
   },
   "source": [
    "# 4. Final Model"
   ]
  },
  {
   "cell_type": "code",
   "execution_count": null,
   "metadata": {
    "ExecuteTime": {
     "end_time": "2021-06-07T13:57:46.421905Z",
     "start_time": "2021-06-07T13:57:43.648125Z"
    },
    "colab": {
     "base_uri": "https://localhost:8080/"
    },
    "hidden": true,
    "id": "6hbF5DQ34UJt",
    "outputId": "8f1e1b04-b1a3-47fc-bb01-2380608a8a75"
   },
   "outputs": [],
   "source": [
    "batch_size = 64\n",
    "\n",
    "training_data, test_data = load_data(data_dir='cifar10')\n",
    "\n",
    "train_dataloader = DataLoader(training_data, batch_size=batch_size, shuffle=True)\n",
    "test_dataloader = DataLoader(test_data, batch_size=batch_size, shuffle=False)"
   ]
  },
  {
   "cell_type": "code",
   "execution_count": null,
   "metadata": {
    "ExecuteTime": {
     "end_time": "2021-06-07T13:57:46.437829Z",
     "start_time": "2021-06-07T13:57:46.423866Z"
    },
    "colab": {
     "base_uri": "https://localhost:8080/"
    },
    "hidden": true,
    "id": "JqMCH5_R4UJt",
    "outputId": "8d06e740-657a-4049-96f4-ebc9f2c12022"
   },
   "outputs": [],
   "source": [
    "device = 'cuda' if torch.cuda.is_available() else 'cpu'\n",
    "print('Using {} device'.format(device))"
   ]
  },
  {
   "cell_type": "code",
   "execution_count": null,
   "metadata": {
    "ExecuteTime": {
     "end_time": "2021-06-07T13:57:46.658570Z",
     "start_time": "2021-06-07T13:57:46.535579Z"
    },
    "colab": {
     "base_uri": "https://localhost:8080/"
    },
    "hidden": true,
    "id": "rvdGVBIK4UJu",
    "outputId": "8a28fed0-c8e1-438d-d0e1-7b74ef94a115"
   },
   "outputs": [],
   "source": [
    "num_labels = 10\n",
    "\n",
    "model = LeNet5(output_size=num_labels).to(device)\n",
    "\n",
    "print(f'Model architecture:\\n{model}')\n",
    "\n",
    "learning_rate = 5e-4\n",
    "\n",
    "loss_fn = nn.CrossEntropyLoss()\n",
    "optimizer = SGD(model.parameters(), lr=learning_rate)"
   ]
  },
  {
   "cell_type": "code",
   "execution_count": null,
   "metadata": {
    "ExecuteTime": {
     "start_time": "2021-06-07T13:57:40.414Z"
    },
    "colab": {
     "base_uri": "https://localhost:8080/"
    },
    "hidden": true,
    "id": "o5KaGnvh4UJu",
    "outputId": "563b6873-657d-492c-b681-81f51864f6e3"
   },
   "outputs": [],
   "source": [
    "epochs = 100\n",
    "\n",
    "for t in range(epochs):\n",
    "    print(f\"Epoch {t+1}\\n-------------------------------\")\n",
    "    \n",
    "    fit(train_dataloader, model, loss_fn, optimizer, print_loss=False)\n",
    "    \n",
    "    print('\\nTrain:\\n-------')\n",
    "    predict(train_dataloader, model, loss_fn)\n",
    "    \n",
    "    print('\\nTest:\\n-------')\n",
    "    predict(test_dataloader, model, loss_fn)\n",
    "    \n",
    "    for param_group in optimizer.param_groups:\n",
    "        param_group['lr'] = lr_schedule(t)\n",
    "    \n",
    "    print(f\"-------------------------------\")"
   ]
  }
 ],
 "metadata": {
  "accelerator": "GPU",
  "colab": {
   "collapsed_sections": [],
   "name": "LeNet-5.ipynb",
   "provenance": []
  },
  "kernelspec": {
   "display_name": "Python 3",
   "language": "python",
   "name": "python3"
  },
  "language_info": {
   "codemirror_mode": {
    "name": "ipython",
    "version": 3
   },
   "file_extension": ".py",
   "mimetype": "text/x-python",
   "name": "python",
   "nbconvert_exporter": "python",
   "pygments_lexer": "ipython3",
   "version": "3.8.5"
  },
  "metadata": {
   "interpreter": {
    "hash": "3f02b2f559bcc2ffeee464ea6186a548e731d9852e746063497e7b2946854ef8"
   }
  },
  "toc": {
   "base_numbering": 1,
   "nav_menu": {},
   "number_sections": false,
   "sideBar": true,
   "skip_h1_title": false,
   "title_cell": "Table of Contents",
   "title_sidebar": "Contents",
   "toc_cell": false,
   "toc_position": {
    "height": "calc(100% - 180px)",
    "left": "10px",
    "top": "150px",
    "width": "203.2px"
   },
   "toc_section_display": true,
   "toc_window_display": true
  }
 },
 "nbformat": 4,
 "nbformat_minor": 1
}
