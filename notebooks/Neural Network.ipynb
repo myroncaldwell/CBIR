{
 "cells": [
  {
   "cell_type": "code",
   "execution_count": 1,
   "metadata": {
    "ExecuteTime": {
     "end_time": "2021-05-12T16:58:07.398339Z",
     "start_time": "2021-05-12T16:58:06.768818Z"
    }
   },
   "outputs": [],
   "source": [
    "from torchvision import datasets\n",
    "\n",
    "import torch\n",
    "from torch import nn\n",
    "from torch.utils.data import Dataset, DataLoader\n",
    "from torchvision.transforms import ToTensor, Lambda\n",
    "from torch import optim"
   ]
  },
  {
   "cell_type": "markdown",
   "metadata": {
    "heading_collapsed": true
   },
   "source": [
    "# 1. Import Data"
   ]
  },
  {
   "cell_type": "code",
   "execution_count": 2,
   "metadata": {
    "ExecuteTime": {
     "end_time": "2021-05-12T16:58:09.258588Z",
     "start_time": "2021-05-12T16:58:07.400250Z"
    },
    "hidden": true
   },
   "outputs": [
    {
     "name": "stdout",
     "output_type": "stream",
     "text": [
      "Files already downloaded and verified\n",
      "Files already downloaded and verified\n"
     ]
    }
   ],
   "source": [
    "training_data = datasets.CIFAR10(root='cifar10', \n",
    "                                 train=True, \n",
    "                                 download=True, \n",
    "                                 transform=ToTensor())\n",
    "\n",
    "test_data = datasets.CIFAR10(root='cifar10', \n",
    "                             train=False, \n",
    "                             download=True, \n",
    "                             transform=ToTensor())"
   ]
  },
  {
   "cell_type": "code",
   "execution_count": 3,
   "metadata": {
    "ExecuteTime": {
     "end_time": "2021-05-12T16:58:09.274531Z",
     "start_time": "2021-05-12T16:58:09.260502Z"
    },
    "hidden": true
   },
   "outputs": [
    {
     "name": "stdout",
     "output_type": "stream",
     "text": [
      "Training data: Dataset CIFAR10\n",
      "    Number of datapoints: 50000\n",
      "    Root location: cifar10\n",
      "    Split: Train\n",
      "    StandardTransform\n",
      "Transform: ToTensor()\n",
      "Test data: Dataset CIFAR10\n",
      "    Number of datapoints: 10000\n",
      "    Root location: cifar10\n",
      "    Split: Test\n",
      "    StandardTransform\n",
      "Transform: ToTensor()\n"
     ]
    }
   ],
   "source": [
    "print(f'Training data: {training_data}')\n",
    "print(f'Test data: {test_data}')"
   ]
  },
  {
   "cell_type": "code",
   "execution_count": 4,
   "metadata": {
    "ExecuteTime": {
     "end_time": "2021-05-12T16:58:09.384771Z",
     "start_time": "2021-05-12T16:58:09.276465Z"
    },
    "hidden": true
   },
   "outputs": [
    {
     "name": "stdout",
     "output_type": "stream",
     "text": [
      "Image dimensions: torch.Size([3, 32, 32])\n"
     ]
    }
   ],
   "source": [
    "print(f'Image dimensions: {training_data[0][0].shape}')"
   ]
  },
  {
   "cell_type": "code",
   "execution_count": 5,
   "metadata": {
    "ExecuteTime": {
     "end_time": "2021-05-12T16:58:09.477994Z",
     "start_time": "2021-05-12T16:58:09.386762Z"
    },
    "hidden": true
   },
   "outputs": [],
   "source": [
    "train_dataloader = DataLoader(training_data, batch_size=64, shuffle=True)\n",
    "test_dataloader = DataLoader(test_data, batch_size=64, shuffle=False)"
   ]
  },
  {
   "cell_type": "markdown",
   "metadata": {
    "heading_collapsed": true
   },
   "source": [
    "# 2. Neural Network\n",
    "\n",
    "* [ ] He initialization\n",
    "* [x] ReLU activation function **(hidden layer)**\n",
    "* [x] Softmax activation function **(output layer)**\n",
    "* [x] Cross Entropy Loss\n",
    "* [x] Adam optimizer\n",
    "* [ ] Dropout \n",
    "* [ ] Batch Normalization"
   ]
  },
  {
   "cell_type": "code",
   "execution_count": 6,
   "metadata": {
    "ExecuteTime": {
     "end_time": "2021-05-12T16:58:09.588343Z",
     "start_time": "2021-05-12T16:58:09.481985Z"
    },
    "hidden": true
   },
   "outputs": [
    {
     "name": "stdout",
     "output_type": "stream",
     "text": [
      "Using cpu device\n"
     ]
    }
   ],
   "source": [
    "# get GPU if available\n",
    "device = 'cuda' if torch.cuda.is_available() else 'cpu'\n",
    "print(f'Using {device} device')"
   ]
  },
  {
   "cell_type": "code",
   "execution_count": 7,
   "metadata": {
    "ExecuteTime": {
     "end_time": "2021-05-12T16:58:09.695788Z",
     "start_time": "2021-05-12T16:58:09.591335Z"
    },
    "hidden": true
   },
   "outputs": [],
   "source": [
    "class NeuralNetwork(nn.Module):\n",
    "    \n",
    "    def __init__(self, dims):\n",
    "        super(NeuralNetwork, self).__init__()\n",
    "        self.flatten = nn.Flatten()\n",
    "        self.linear_relu_stack = nn.Sequential(\n",
    "            nn.Linear(dims[0], dims[1]),\n",
    "            nn.ReLU(),\n",
    "            nn.Linear(dims[1], dims[2]),\n",
    "            nn.ReLU(),\n",
    "            nn.Linear(dims[2], dims[3])\n",
    "        )\n",
    "\n",
    "    def forward(self, x):\n",
    "        x = self.flatten(x)\n",
    "        logits = self.linear_relu_stack(x)\n",
    "        \n",
    "        return logits"
   ]
  },
  {
   "cell_type": "code",
   "execution_count": 8,
   "metadata": {
    "ExecuteTime": {
     "end_time": "2021-05-12T16:58:09.868749Z",
     "start_time": "2021-05-12T16:58:09.701773Z"
    },
    "hidden": true
   },
   "outputs": [
    {
     "name": "stdout",
     "output_type": "stream",
     "text": [
      "NeuralNetwork(\n",
      "  (flatten): Flatten()\n",
      "  (linear_relu_stack): Sequential(\n",
      "    (0): Linear(in_features=3072, out_features=100, bias=True)\n",
      "    (1): ReLU()\n",
      "    (2): Linear(in_features=100, out_features=100, bias=True)\n",
      "    (3): ReLU()\n",
      "    (4): Linear(in_features=100, out_features=10, bias=True)\n",
      "  )\n",
      ")\n"
     ]
    }
   ],
   "source": [
    "image_size = training_data[0][0].shape[0] * training_data[0][0].shape[1] * training_data[0][0].shape[2]\n",
    "num_labels = 10\n",
    "\n",
    "dims = [image_size, 100, 100, num_labels]\n",
    "model = NeuralNetwork(dims=dims).to(device)\n",
    "\n",
    "print(model)"
   ]
  },
  {
   "cell_type": "markdown",
   "metadata": {
    "heading_collapsed": true
   },
   "source": [
    "# 3. Fit and Predict"
   ]
  },
  {
   "cell_type": "code",
   "execution_count": 9,
   "metadata": {
    "ExecuteTime": {
     "end_time": "2021-05-12T16:58:09.976971Z",
     "start_time": "2021-05-12T16:58:09.872745Z"
    },
    "hidden": true
   },
   "outputs": [],
   "source": [
    "def fit(dataloader, model, loss_fn, optimizer, print_loss=False):\n",
    "    \"\"\" Fit neural network.\n",
    "    \n",
    "    Args:\n",
    "        dataloader:\n",
    "            pytorch DataLoader object.\n",
    "        model:\n",
    "            neural network, as pytorch object.\n",
    "        loss_fn:\n",
    "            loss function, as pytorch object.\n",
    "        optimizer:\n",
    "            optimizer function, as pytorch object.\n",
    "        print_loss:\n",
    "            print loss on every batch, as boolean (default False)\n",
    "    \"\"\"\n",
    "    size = len(dataloader.dataset)\n",
    "    for batch, (X, Y) in enumerate(dataloader):\n",
    "        # compute prediction\n",
    "        pred = model(X)\n",
    "        \n",
    "        # compute loss\n",
    "        loss = loss_fn(pred, Y)\n",
    "\n",
    "        # reset the gradients\n",
    "        optimizer.zero_grad()\n",
    "        \n",
    "        # backpropagate\n",
    "        loss.backward()\n",
    "        \n",
    "        # update parameters\n",
    "        optimizer.step()\n",
    "\n",
    "        if print_loss and batch % 100 == 0:\n",
    "            loss, current = loss.item(), batch * len(X)\n",
    "            print(f\"loss: {loss:>7f} [{current:>5d}/{size:>5d}]\")"
   ]
  },
  {
   "cell_type": "code",
   "execution_count": 10,
   "metadata": {
    "ExecuteTime": {
     "end_time": "2021-05-12T16:58:10.070159Z",
     "start_time": "2021-05-12T16:58:09.982799Z"
    },
    "hidden": true
   },
   "outputs": [],
   "source": [
    "def predict(dataloader, model, loss_fn):\n",
    "    \"\"\" Predict with neural network.\n",
    "    \n",
    "    Args:\n",
    "        dataloader:\n",
    "            pytorch DataLoader object.\n",
    "        model:\n",
    "            neural network, as pytorch object.\n",
    "        loss_fn:\n",
    "            loss function, as pytorch object.\n",
    "    \"\"\"\n",
    "    size = len(dataloader.dataset)\n",
    "    \n",
    "    test_loss = 0\n",
    "    correct = 0\n",
    "\n",
    "    with torch.no_grad():\n",
    "        for X, Y in dataloader:\n",
    "            pred = model(X)\n",
    "            \n",
    "            test_loss += loss_fn(pred, Y).item()\n",
    "            \n",
    "            correct += (pred.argmax(1) == Y).type(torch.float).sum().item()\n",
    "\n",
    "    test_loss /= size\n",
    "    correct /= size\n",
    "    print(f\"average loss: {test_loss:>8f} \\naccuracy: {(100*correct):>0.1f}%\\n\")"
   ]
  },
  {
   "cell_type": "markdown",
   "metadata": {},
   "source": [
    "# 4. Predict on test data"
   ]
  },
  {
   "cell_type": "code",
   "execution_count": 11,
   "metadata": {
    "ExecuteTime": {
     "end_time": "2021-05-12T17:01:32.284779Z",
     "start_time": "2021-05-12T16:58:10.076099Z"
    }
   },
   "outputs": [
    {
     "name": "stdout",
     "output_type": "stream",
     "text": [
      "Epoch 1\n",
      "-------------------------------\n",
      "loss: 2.328216 [    0/50000]\n",
      "loss: 2.015908 [ 6400/50000]\n",
      "loss: 1.956435 [12800/50000]\n",
      "loss: 1.924407 [19200/50000]\n",
      "loss: 1.662471 [25600/50000]\n",
      "loss: 1.798967 [32000/50000]\n",
      "loss: 1.826696 [38400/50000]\n",
      "loss: 1.792024 [44800/50000]\n",
      "\n",
      "Train:\n",
      "-------\n",
      "average loss: 0.027232 \n",
      "accuracy: 36.9%\n",
      "\n",
      "\n",
      "Test:\n",
      "-------\n",
      "average loss: 0.027373 \n",
      "accuracy: 36.5%\n",
      "\n",
      "-------------------------------\n",
      "Epoch 2\n",
      "-------------------------------\n",
      "loss: 1.802806 [    0/50000]\n",
      "loss: 1.636673 [ 6400/50000]\n",
      "loss: 1.658983 [12800/50000]\n",
      "loss: 1.773434 [19200/50000]\n",
      "loss: 1.668064 [25600/50000]\n",
      "loss: 1.729813 [32000/50000]\n",
      "loss: 1.532233 [38400/50000]\n",
      "loss: 1.734095 [44800/50000]\n",
      "\n",
      "Train:\n",
      "-------\n",
      "average loss: 0.025559 \n",
      "accuracy: 40.7%\n",
      "\n",
      "\n",
      "Test:\n",
      "-------\n",
      "average loss: 0.025846 \n",
      "accuracy: 40.4%\n",
      "\n",
      "-------------------------------\n",
      "Epoch 3\n",
      "-------------------------------\n",
      "loss: 1.850076 [    0/50000]\n",
      "loss: 1.727802 [ 6400/50000]\n",
      "loss: 1.850490 [12800/50000]\n",
      "loss: 1.587694 [19200/50000]\n",
      "loss: 1.360215 [25600/50000]\n",
      "loss: 1.565368 [32000/50000]\n",
      "loss: 1.627260 [38400/50000]\n",
      "loss: 1.413772 [44800/50000]\n",
      "\n",
      "Train:\n",
      "-------\n",
      "average loss: 0.024668 \n",
      "accuracy: 43.4%\n",
      "\n",
      "\n",
      "Test:\n",
      "-------\n",
      "average loss: 0.025139 \n",
      "accuracy: 42.6%\n",
      "\n",
      "-------------------------------\n",
      "Epoch 4\n",
      "-------------------------------\n",
      "loss: 1.699257 [    0/50000]\n",
      "loss: 1.695324 [ 6400/50000]\n",
      "loss: 1.341163 [12800/50000]\n",
      "loss: 1.758756 [19200/50000]\n",
      "loss: 1.599762 [25600/50000]\n",
      "loss: 1.641702 [32000/50000]\n",
      "loss: 1.602880 [38400/50000]\n",
      "loss: 1.342285 [44800/50000]\n",
      "\n",
      "Train:\n",
      "-------\n",
      "average loss: 0.023450 \n",
      "accuracy: 46.4%\n",
      "\n",
      "\n",
      "Test:\n",
      "-------\n",
      "average loss: 0.023995 \n",
      "accuracy: 45.5%\n",
      "\n",
      "-------------------------------\n",
      "Epoch 5\n",
      "-------------------------------\n",
      "loss: 1.444473 [    0/50000]\n",
      "loss: 1.529002 [ 6400/50000]\n",
      "loss: 1.513446 [12800/50000]\n",
      "loss: 1.317029 [19200/50000]\n",
      "loss: 1.445577 [25600/50000]\n",
      "loss: 1.560402 [32000/50000]\n",
      "loss: 1.642810 [38400/50000]\n",
      "loss: 1.376652 [44800/50000]\n",
      "\n",
      "Train:\n",
      "-------\n",
      "average loss: 0.023050 \n",
      "accuracy: 47.7%\n",
      "\n",
      "\n",
      "Test:\n",
      "-------\n",
      "average loss: 0.023720 \n",
      "accuracy: 46.5%\n",
      "\n",
      "-------------------------------\n",
      "Epoch 6\n",
      "-------------------------------\n",
      "loss: 1.398926 [    0/50000]\n",
      "loss: 1.320652 [ 6400/50000]\n",
      "loss: 1.243777 [12800/50000]\n",
      "loss: 1.445222 [19200/50000]\n",
      "loss: 1.430289 [25600/50000]\n",
      "loss: 1.323429 [32000/50000]\n",
      "loss: 1.431336 [38400/50000]\n",
      "loss: 1.629285 [44800/50000]\n",
      "\n",
      "Train:\n",
      "-------\n",
      "average loss: 0.023197 \n",
      "accuracy: 46.7%\n",
      "\n",
      "\n",
      "Test:\n",
      "-------\n",
      "average loss: 0.023993 \n",
      "accuracy: 44.9%\n",
      "\n",
      "-------------------------------\n",
      "Epoch 7\n",
      "-------------------------------\n",
      "loss: 1.417455 [    0/50000]\n",
      "loss: 1.556265 [ 6400/50000]\n",
      "loss: 1.392822 [12800/50000]\n",
      "loss: 1.218474 [19200/50000]\n",
      "loss: 1.556581 [25600/50000]\n",
      "loss: 1.305658 [32000/50000]\n",
      "loss: 1.276788 [38400/50000]\n",
      "loss: 1.577005 [44800/50000]\n",
      "\n",
      "Train:\n",
      "-------\n",
      "average loss: 0.023012 \n",
      "accuracy: 47.9%\n",
      "\n",
      "\n",
      "Test:\n",
      "-------\n",
      "average loss: 0.023936 \n",
      "accuracy: 46.4%\n",
      "\n",
      "-------------------------------\n",
      "Epoch 8\n",
      "-------------------------------\n",
      "loss: 1.383489 [    0/50000]\n",
      "loss: 1.309621 [ 6400/50000]\n",
      "loss: 1.640025 [12800/50000]\n",
      "loss: 1.402102 [19200/50000]\n",
      "loss: 1.452016 [25600/50000]\n",
      "loss: 1.425217 [32000/50000]\n",
      "loss: 1.329380 [38400/50000]\n",
      "loss: 1.464229 [44800/50000]\n",
      "\n",
      "Train:\n",
      "-------\n",
      "average loss: 0.022350 \n",
      "accuracy: 49.1%\n",
      "\n",
      "\n",
      "Test:\n",
      "-------\n",
      "average loss: 0.023353 \n",
      "accuracy: 47.3%\n",
      "\n",
      "-------------------------------\n",
      "Epoch 9\n",
      "-------------------------------\n",
      "loss: 1.549916 [    0/50000]\n",
      "loss: 1.398192 [ 6400/50000]\n",
      "loss: 1.447834 [12800/50000]\n",
      "loss: 1.360769 [19200/50000]\n",
      "loss: 1.547303 [25600/50000]\n",
      "loss: 1.225770 [32000/50000]\n",
      "loss: 1.309751 [38400/50000]\n",
      "loss: 1.410686 [44800/50000]\n",
      "\n",
      "Train:\n",
      "-------\n",
      "average loss: 0.022012 \n",
      "accuracy: 49.7%\n",
      "\n",
      "\n",
      "Test:\n",
      "-------\n",
      "average loss: 0.023381 \n",
      "accuracy: 46.9%\n",
      "\n",
      "-------------------------------\n",
      "Epoch 10\n",
      "-------------------------------\n",
      "loss: 1.394230 [    0/50000]\n",
      "loss: 1.690177 [ 6400/50000]\n",
      "loss: 1.369805 [12800/50000]\n",
      "loss: 1.282294 [19200/50000]\n",
      "loss: 1.475796 [25600/50000]\n",
      "loss: 1.204766 [32000/50000]\n",
      "loss: 1.613447 [38400/50000]\n",
      "loss: 1.371950 [44800/50000]\n",
      "\n",
      "Train:\n",
      "-------\n",
      "average loss: 0.022043 \n",
      "accuracy: 50.0%\n",
      "\n",
      "\n",
      "Test:\n",
      "-------\n",
      "average loss: 0.023351 \n",
      "accuracy: 47.7%\n",
      "\n",
      "-------------------------------\n"
     ]
    }
   ],
   "source": [
    "batch_size = 64\n",
    "learning_rate = 1e-3\n",
    "epochs = 10\n",
    "loss_fn = nn.CrossEntropyLoss()\n",
    "optimizer = torch.optim.Adam(model.parameters(), lr=learning_rate)\n",
    "\n",
    "for t in range(epochs):\n",
    "    print(f\"Epoch {t+1}\\n-------------------------------\")\n",
    "    \n",
    "    fit(train_dataloader, model, loss_fn, optimizer, print_loss=True)\n",
    "    \n",
    "    print('\\nTrain:\\n-------')\n",
    "    predict(train_dataloader, model, loss_fn)\n",
    "    \n",
    "    print('\\nTest:\\n-------')\n",
    "    predict(test_dataloader, model, loss_fn)\n",
    "    \n",
    "    print(f\"-------------------------------\")"
   ]
  }
 ],
 "metadata": {
  "kernelspec": {
   "display_name": "Python [conda env:image-retrieval]",
   "language": "python",
   "name": "conda-env-image-retrieval-py"
  },
  "language_info": {
   "codemirror_mode": {
    "name": "ipython",
    "version": 3
   },
   "file_extension": ".py",
   "mimetype": "text/x-python",
   "name": "python",
   "nbconvert_exporter": "python",
   "pygments_lexer": "ipython3",
   "version": "3.7.10"
  },
  "toc": {
   "base_numbering": 1,
   "nav_menu": {},
   "number_sections": false,
   "sideBar": true,
   "skip_h1_title": false,
   "title_cell": "Table of Contents",
   "title_sidebar": "Contents",
   "toc_cell": false,
   "toc_position": {
    "height": "calc(100% - 180px)",
    "left": "10px",
    "top": "150px",
    "width": "208.2px"
   },
   "toc_section_display": true,
   "toc_window_display": true
  }
 },
 "nbformat": 4,
 "nbformat_minor": 4
}
