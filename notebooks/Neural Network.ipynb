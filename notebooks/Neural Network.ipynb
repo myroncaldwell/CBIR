{
 "cells": [
  {
   "cell_type": "code",
   "execution_count": null,
   "metadata": {
    "ExecuteTime": {
     "end_time": "2021-06-06T14:01:46.327828Z",
     "start_time": "2021-06-06T14:01:44.026983Z"
    }
   },
   "outputs": [],
   "source": [
    "from torchvision import datasets\n",
    "\n",
    "from functools import partial\n",
    "import numpy as np\n",
    "\n",
    "# visualization\n",
    "import matplotlib.pyplot as plt\n",
    "%matplotlib inline\n",
    "\n",
    "# preprocessing\n",
    "from torch.utils.data import Dataset, DataLoader\n",
    "import torchvision.transforms as transforms\n",
    "from torch.utils.data import random_split\n",
    "\n",
    "# model\n",
    "import torch\n",
    "from torch import nn\n",
    "from torch.optim import AdamW\n",
    "\n",
    "# hyperparameter tuning\n",
    "from ray import tune\n",
    "from ray.tune import CLIReporter\n",
    "from ray.tune.schedulers import ASHAScheduler"
   ]
  },
  {
   "cell_type": "markdown",
   "metadata": {
    "heading_collapsed": true
   },
   "source": [
    "# 1. Load Data"
   ]
  },
  {
   "cell_type": "code",
   "execution_count": null,
   "metadata": {
    "ExecuteTime": {
     "end_time": "2021-06-06T14:01:46.343794Z",
     "start_time": "2021-06-06T14:01:46.331822Z"
    },
    "hidden": true
   },
   "outputs": [],
   "source": [
    "def load_data(data_dir):\n",
    "    \"\"\" Create train and test pytorch dataset objects from CIFAR10.\n",
    "    \n",
    "    The following tranformations are applied on CIFAR10:\n",
    "        * image pixels to [0, 1] range,\n",
    "        * normalization (by substracting mean and dividing with std; [-1, 1] range)\n",
    "    \n",
    "    Args:\n",
    "        data_dir:\n",
    "            directory where data will be saved, as a string.\n",
    "    \n",
    "    Returns:\n",
    "        train and test dataset, as pytorch dataset objects.\n",
    "    \"\"\"\n",
    "    transform = transforms.Compose([\n",
    "        transforms.ToTensor(),\n",
    "        transforms.Normalize((0.5, 0.5, 0.5), (0.5, 0.5, 0.5))\n",
    "    ])\n",
    "\n",
    "    trainset = datasets.CIFAR10(root=data_dir,\n",
    "                                train=True, \n",
    "                                download=True, \n",
    "                                transform=transform)\n",
    "\n",
    "    testset = datasets.CIFAR10(root=data_dir, \n",
    "                               train=False, \n",
    "                               download=True, \n",
    "                               transform=transform)\n",
    "\n",
    "    return trainset, testset"
   ]
  },
  {
   "cell_type": "code",
   "execution_count": null,
   "metadata": {
    "ExecuteTime": {
     "end_time": "2021-06-06T14:01:49.314855Z",
     "start_time": "2021-06-06T14:01:46.348784Z"
    },
    "hidden": true
   },
   "outputs": [],
   "source": [
    "training_data, test_data = load_data(data_dir='cifar10')\n",
    "\n",
    "print(f'\\nTraining data:\\n--------------\\n{training_data}')\n",
    "print(f'Test data:\\n--------------\\n{test_data}')"
   ]
  },
  {
   "cell_type": "markdown",
   "metadata": {},
   "source": [
    "# 2. Neural Network\n",
    "\n",
    "Architecture:\n",
    "* [x] ReLU activation function **(hidden layer)**\n",
    "* [x] Softmax activation function **(output layer)**\n",
    "* [x] Cross Entropy Loss\n",
    "* [x] Adam optimizer\n",
    "\n",
    "Regularization:\n",
    "* [x] L2 regularization\n",
    "* [x] Dropout "
   ]
  },
  {
   "cell_type": "code",
   "execution_count": null,
   "metadata": {
    "ExecuteTime": {
     "end_time": "2021-06-06T14:01:49.344762Z",
     "start_time": "2021-06-06T14:01:49.321829Z"
    }
   },
   "outputs": [],
   "source": [
    "class NeuralNetwork(nn.Module):\n",
    "    \"\"\" Represents a neural network for multiclass classifiacation.\n",
    "    \n",
    "    This neural network uses a ReLU activation function in hidden layers and a Softmax \n",
    "    activation function in output layer. Also, dropout layers have been defined. <br>\n",
    "    The hyperparameters of the neural network are:\n",
    "        * number of hidden layers,\n",
    "        * size of hidden layers (number of neurons),\n",
    "        * probability of dropout layer.\n",
    "    \n",
    "    Arguments:\n",
    "        num_layers:\n",
    "            number of hidden layers, as an integer.\n",
    "        input_size:\n",
    "            size of input (size of embeddings), as an integer.\n",
    "        hidden_size:\n",
    "            number of neurons in hidden layers, as an integer.\n",
    "        output_size:\n",
    "            size of output (number of labels), as an integer.\n",
    "        p:\n",
    "            dropout probability, as a float.\n",
    "    \"\"\"\n",
    "    \n",
    "    def __init__(self, num_layers, input_size, hidden_size, output_size, p):\n",
    "        \"\"\" Initialize neural network.\n",
    "        \n",
    "        Args:\n",
    "            num_layers:\n",
    "                number of hidden layers, as an integer.\n",
    "            input_size:\n",
    "                size of input (size of embeddings), as an integer.\n",
    "            hidden_size:\n",
    "                number of neurons in hidden layers, as an integer.\n",
    "            output_size:\n",
    "                size of output (number of labels), as an integer.\n",
    "            p:\n",
    "                dropout probability, as a float.\n",
    "        \"\"\"\n",
    "        super(NeuralNetwork, self).__init__()\n",
    "        \n",
    "        self.num_layers = num_layers\n",
    "        self.input_size = input_size\n",
    "        self.hidden_size = hidden_size\n",
    "        self.output_size = output_size\n",
    "        self.p = p\n",
    "        \n",
    "        # activation function\n",
    "        self.activation = nn.ReLU()\n",
    "        # dropout layer\n",
    "        self.dropout = nn.Dropout(self.p)\n",
    "        \n",
    "        # flatten\n",
    "        self.flatten = nn.Flatten()\n",
    "        # input\n",
    "        self.input_linear = nn.Linear(input_size, hidden_size)\n",
    "        # hidden\n",
    "        self.hidden_linears = nn.ModuleList([nn.Linear(hidden_size, hidden_size) for i in range(num_layers)])\n",
    "        # output\n",
    "        self.output_linear = nn.Linear(hidden_size, output_size)\n",
    "        \n",
    "    def forward(self, x):\n",
    "        logits = self.flatten(x)\n",
    "        \n",
    "        logits = self.activation(self.input_linear(logits))\n",
    "        logits = self.dropout(logits)\n",
    "\n",
    "        for i, layer in enumerate(self.hidden_linears):\n",
    "            logits = self.activation(layer(logits))\n",
    "            logits = self.dropout(logits)\n",
    "\n",
    "        logits = self.output_linear(logits)\n",
    "        \n",
    "        return logits"
   ]
  },
  {
   "cell_type": "markdown",
   "metadata": {
    "heading_collapsed": true
   },
   "source": [
    "# 3. Hyperparameter Tuning\n",
    "\n",
    "* [x] early stopping"
   ]
  },
  {
   "cell_type": "code",
   "execution_count": null,
   "metadata": {
    "hidden": true
   },
   "outputs": [],
   "source": [
    "def tune_fit(config, train_data, input_size, num_labels, batch_size, num_workers, epochs):\n",
    "    \"\"\" Fit neural network and hyperparameter tune in validation set.\n",
    "    \n",
    "    The validation set is 20% hold out data from the training set. <br>\n",
    "    The metric used is accuracy score.\n",
    "    \n",
    "    Args:\n",
    "        config:\n",
    "            hyperparameters of neural network, as a dictionary.\n",
    "        train_data:\n",
    "            training dataset, as a pytorch object.\n",
    "        input_size:\n",
    "            size of input, as an integer.\n",
    "        num_labels:\n",
    "            number of labels, as an integer.\n",
    "        batch_size:\n",
    "            size of batches to be processed, as an integer.\n",
    "        num_workers:\n",
    "            how many subprocesses to use for data loading (0 means that the data \n",
    "            will be loaded in the main process), as an integer.\n",
    "        epochs:\n",
    "            number of epochs (times the neural network will see the data), as an integer.\n",
    "    \"\"\"\n",
    "    model = NeuralNetwork(num_layers=config['num_layers'], \n",
    "                          input_size=input_size,\n",
    "                          hidden_size=config['hidden_size'],\n",
    "                          output_size=num_labels,\n",
    "                          p=config['p'])\n",
    "    \n",
    "    # support data parallel training on multiple GPUs\n",
    "    device = \"cpu\"\n",
    "    if torch.cuda.is_available():\n",
    "        device = \"cuda:0\"\n",
    "        if torch.cuda.device_count() > 1:\n",
    "            model = nn.DataParallel(model)\n",
    "    model.to(device)\n",
    "    \n",
    "    loss_fn = nn.CrossEntropyLoss()\n",
    "    \n",
    "    optimizer = AdamW(model.parameters(), lr=config['lr'], weight_decay=config['l2'])\n",
    "    \n",
    "    # split data: training (80%) - validation (20%)\n",
    "    test_abs = int(len(train_data) * 0.8)\n",
    "    train_subset, val_subset = random_split(train_data, [test_abs, len(train_data) - test_abs])\n",
    "\n",
    "    train_dataloader = DataLoader(train_subset,\n",
    "                                  batch_size=batch_size,\n",
    "                                  shuffle=True, \n",
    "                                  num_workers=num_workers)\n",
    "    \n",
    "    val_dataloader = DataLoader(val_subset,\n",
    "                                batch_size=batch_size,\n",
    "                                shuffle=True,\n",
    "                                num_workers=num_workers)\n",
    "    \n",
    "    for epoch in range(epochs):\n",
    "        model.train()  # put on train mode\n",
    "        for batch, (X, Y) in enumerate(train_dataloader, 0):\n",
    "            # send the data to the GPU memory explicitly\n",
    "            X, Y = X.to(device), Y.to(device)\n",
    "\n",
    "            # reset the gradients\n",
    "            optimizer.zero_grad()\n",
    "            \n",
    "            # compute prediction\n",
    "            pred = model(X)\n",
    "\n",
    "            # compute loss\n",
    "            loss = loss_fn(pred, Y)\n",
    "\n",
    "            # backpropagate\n",
    "            loss.backward()\n",
    "\n",
    "            # update parameters\n",
    "            optimizer.step()\n",
    "\n",
    "        # validation loss\n",
    "        val_loss = 0.0\n",
    "        val_steps = 0\n",
    "        total = 0\n",
    "        correct = 0\n",
    "        model.eval()  # put on evaluation mode\n",
    "        for batch, (X, Y) in enumerate(val_dataloader, 0):\n",
    "            with torch.no_grad():\n",
    "                X, Y = X.to(device), Y.to(device)\n",
    "\n",
    "                pred = model(X)\n",
    "                \n",
    "                _, predicted = torch.max(pred.data, 1)\n",
    "                total += Y.size(0)\n",
    "                correct += (predicted == Y).sum().item()\n",
    "\n",
    "                loss = loss_fn(pred, Y)\n",
    "                val_loss += loss.cpu().numpy()\n",
    "                val_steps += 1\n",
    "\n",
    "        tune.report(loss=(val_loss / val_steps), accuracy=(correct / total))"
   ]
  },
  {
   "cell_type": "code",
   "execution_count": null,
   "metadata": {
    "hidden": true
   },
   "outputs": [],
   "source": [
    "def hyperparameter_tune(data_dir,\n",
    "                        batch_size,\n",
    "                        epochs,\n",
    "                        config,\n",
    "                        grace_period,\n",
    "                        num_samples, \n",
    "                        cpus_per_trial,\n",
    "                        gpus_per_trial):\n",
    "    \"\"\" Run hyperparameter tuning and report best hyperparameters.\n",
    "    \n",
    "    Args:\n",
    "        data_dir:\n",
    "            directory where data will be saved, as a string.\n",
    "        batch_size:\n",
    "            size of batches to be processed, as an integer.\n",
    "        epochs:\n",
    "            number of epochs (times the neural network will see the data), as an integer.\n",
    "        config:\n",
    "            hyperparametes, as a dictionary.\n",
    "        grace_period:\n",
    "            stop trials at least this old in time, as an integer.\n",
    "        num_samples:\n",
    "            number of times to sample from the hyperparameter space (if grid_search is provided as an argument,\n",
    "            the grid will be repeated num_samples of times), as an integer.\n",
    "        cpus_per_trial:\n",
    "            CPUs to allocate per trial, as integer.\n",
    "        gpus_per_trial:\n",
    "            GPUs to allocate per trial, as integer.\n",
    "    \"\"\"\n",
    "    trainset, testset = load_data(data_dir=data_dir)\n",
    "    \n",
    "    input_size = trainset[0][0].shape[0] * trainset[0][0].shape[1] * trainset[0][0].shape[2]\n",
    "    num_labels = 10\n",
    "    \n",
    "    # hyperparameter search space\n",
    "    cofig = config\n",
    "    \n",
    "    # used for early stopping\n",
    "    scheduler = ASHAScheduler(metric=\"loss\", \n",
    "                              mode=\"min\",\n",
    "                              max_t=epochs,\n",
    "                              grace_period=grace_period,\n",
    "                              reduction_factor=2)\n",
    "    \n",
    "    reporter = CLIReporter(metric_columns=[\"loss\", \"accuracy\", \"training_iteration\"])\n",
    "    \n",
    "    # hyperparamet tuning\n",
    "    result = tune.run(partial(tune_fit, \n",
    "                              train_data=trainset,\n",
    "                              input_size=input_size, \n",
    "                              num_labels=num_labels,\n",
    "                              batch_size=batch_size,\n",
    "                              num_workers=3, \n",
    "                              epochs=epochs),\n",
    "                      resources_per_trial={\"cpu\": cpus_per_trial, \"gpu\": gpus_per_trial},\n",
    "                      config=config,\n",
    "                      num_samples=num_samples,\n",
    "                      scheduler=scheduler,\n",
    "                      progress_reporter=reporter)\n",
    "    \n",
    "    # report best results\n",
    "    best_trial = result.get_best_trial(\"loss\", \"min\", \"last\")\n",
    "    print(\"Best trial config: {}\".format(best_trial.config))\n",
    "    print(\"Best trial final validation loss: {}\".format(best_trial.last_result[\"loss\"]))\n",
    "    print(\"Best trial final validation acurracy: {}\".format(best_trial.last_result[\"accuracy\"]))"
   ]
  },
  {
   "cell_type": "code",
   "execution_count": null,
   "metadata": {
    "hidden": true
   },
   "outputs": [],
   "source": [
    "# hyperparameter search space\n",
    "config = {\n",
    "        \"num_layers\": tune.grid_search([3, 5, 7]),\n",
    "        \"hidden_size\": tune.grid_search([100, 150, 200]),\n",
    "        \"lr\": tune.grid_search([1e-4, 1e-3]),\n",
    "        \"l2\": tune.grid_search([1e-5, 1e-4, 1e-3]),\n",
    "        \"p\": tune.grid_search([0.4, 0.5, 0.6])\n",
    "    }"
   ]
  },
  {
   "cell_type": "code",
   "execution_count": null,
   "metadata": {
    "hidden": true
   },
   "outputs": [],
   "source": [
    "hyperparameter_tune(data_dir='cifar10',\n",
    "                    batch_size=64,\n",
    "                    epochs=100,\n",
    "                    config=config,\n",
    "                    grace_period=10,\n",
    "                    num_samples=10, \n",
    "                    cpus_per_trial=2,\n",
    "                    gpus_per_trial=0)"
   ]
  },
  {
   "cell_type": "markdown",
   "metadata": {
    "heading_collapsed": true
   },
   "source": [
    "# 4. Fit and Predict"
   ]
  },
  {
   "cell_type": "code",
   "execution_count": null,
   "metadata": {
    "ExecuteTime": {
     "end_time": "2021-06-06T14:01:56.345047Z",
     "start_time": "2021-06-06T14:01:56.333080Z"
    },
    "hidden": true
   },
   "outputs": [],
   "source": [
    "def fit(dataloader, model, loss_fn, optimizer, print_loss=False):\n",
    "    \"\"\" Fit neural network.\n",
    "    \n",
    "    Args:\n",
    "        dataloader:\n",
    "            pytorch DataLoader object.\n",
    "        model:\n",
    "            neural network, as pytorch object.\n",
    "        loss_fn:\n",
    "            loss function, as pytorch object.\n",
    "        optimizer:\n",
    "            optimizer function, as pytorch object.\n",
    "        print_loss:\n",
    "            print loss on every batch, as boolean (default False)\n",
    "    \"\"\"\n",
    "    size = len(dataloader.dataset)\n",
    "    model.train()  # put on train mode\n",
    "    for batch, (X, Y) in enumerate(dataloader):\n",
    "        X, Y = X.to(device), Y.to(device)\n",
    "        \n",
    "        # compute prediction\n",
    "        pred = model(X)\n",
    "        \n",
    "        # compute loss\n",
    "        loss = loss_fn(pred, Y)\n",
    "\n",
    "        # reset the gradients\n",
    "        optimizer.zero_grad()\n",
    "        \n",
    "        # backpropagate\n",
    "        loss.backward()\n",
    "        \n",
    "        # update parameters\n",
    "        optimizer.step()\n",
    "\n",
    "        if print_loss and batch % 100 == 0:\n",
    "            loss, current = loss.item(), batch * len(X)\n",
    "            print(f\"loss: {loss:>7f} [{current:>5d}/{size:>5d}]\")"
   ]
  },
  {
   "cell_type": "code",
   "execution_count": null,
   "metadata": {
    "ExecuteTime": {
     "end_time": "2021-06-06T14:01:56.454753Z",
     "start_time": "2021-06-06T14:01:56.347043Z"
    },
    "hidden": true
   },
   "outputs": [],
   "source": [
    "def predict(dataloader, model, loss_fn):\n",
    "    \"\"\" Predict with neural network.\n",
    "    \n",
    "    Args:\n",
    "        dataloader:\n",
    "            pytorch DataLoader object.\n",
    "        model:\n",
    "            neural network, as pytorch object.\n",
    "        loss_fn:\n",
    "            loss function, as pytorch object.\n",
    "    \"\"\"\n",
    "    size = len(dataloader.dataset)\n",
    "    \n",
    "    test_loss = 0\n",
    "    correct = 0\n",
    "    \n",
    "    model.eval()  # put on evaluation mode\n",
    "    with torch.no_grad():\n",
    "        for X, Y in dataloader:\n",
    "            X, Y = X.to(device), Y.to(device)\n",
    "            \n",
    "            pred = model(X)\n",
    "            \n",
    "            test_loss += loss_fn(pred, Y).item()\n",
    "            \n",
    "            correct += (pred.argmax(1) == Y).type(torch.float).sum().item()\n",
    "\n",
    "    test_loss /= size\n",
    "    correct /= size\n",
    "    print(f\"average loss: {test_loss:>8f} \\naccuracy: {(100*correct):>0.1f}%\\n\")"
   ]
  },
  {
   "cell_type": "markdown",
   "metadata": {},
   "source": [
    "# 5. Final Model"
   ]
  },
  {
   "cell_type": "code",
   "execution_count": null,
   "metadata": {
    "ExecuteTime": {
     "end_time": "2021-06-06T14:01:59.484652Z",
     "start_time": "2021-06-06T14:01:56.456748Z"
    }
   },
   "outputs": [],
   "source": [
    "batch_size = 64\n",
    "\n",
    "training_data, test_data = load_data(data_dir='cifar10')\n",
    "\n",
    "train_dataloader = DataLoader(training_data, batch_size=batch_size, shuffle=True)\n",
    "test_dataloader = DataLoader(test_data, batch_size=batch_size, shuffle=False)"
   ]
  },
  {
   "cell_type": "code",
   "execution_count": null,
   "metadata": {
    "ExecuteTime": {
     "end_time": "2021-06-06T14:01:59.500610Z",
     "start_time": "2021-06-06T14:01:59.487665Z"
    }
   },
   "outputs": [],
   "source": [
    "device = 'cuda' if torch.cuda.is_available() else 'cpu'\n",
    "print('Using {} device'.format(device))"
   ]
  },
  {
   "cell_type": "code",
   "execution_count": null,
   "metadata": {
    "ExecuteTime": {
     "end_time": "2021-06-06T14:01:59.625276Z",
     "start_time": "2021-06-06T14:01:59.502605Z"
    }
   },
   "outputs": [],
   "source": [
    "num_layers = 3\n",
    "input_size = training_data[0][0].shape[0] * training_data[0][0].shape[1] * training_data[0][0].shape[2]\n",
    "hidden_size = 200\n",
    "num_labels = 10\n",
    "weight_decay = 1e-3\n",
    "p = 0.4\n",
    "\n",
    "model = NeuralNetwork(num_layers=num_layers, \n",
    "                      input_size=input_size,\n",
    "                      hidden_size=hidden_size,\n",
    "                      output_size=num_labels,\n",
    "                      p=p).to(device)\n",
    "\n",
    "print(f'Model architecture:\\n{model}')\n",
    "\n",
    "learning_rate = 1e-3\n",
    "\n",
    "loss_fn = nn.CrossEntropyLoss()\n",
    "optimizer = AdamW(model.parameters(), lr=learning_rate, weight_decay=weight_decay)"
   ]
  },
  {
   "cell_type": "code",
   "execution_count": null,
   "metadata": {
    "ExecuteTime": {
     "end_time": "2021-06-06T15:15:30.658796Z",
     "start_time": "2021-06-06T14:01:59.630274Z"
    }
   },
   "outputs": [],
   "source": [
    "epochs = 100\n",
    "\n",
    "for t in range(epochs):\n",
    "    print(f\"Epoch {t+1}\\n-------------------------------\")\n",
    "    \n",
    "    fit(train_dataloader, model, loss_fn, optimizer, print_loss=False)\n",
    "    \n",
    "    print('\\nTrain:\\n-------')\n",
    "    predict(train_dataloader, model, loss_fn)\n",
    "    \n",
    "    print('\\nTest:\\n-------')\n",
    "    predict(test_dataloader, model, loss_fn)\n",
    "    \n",
    "    print(f\"-------------------------------\")"
   ]
  }
 ],
 "metadata": {
  "kernelspec": {
   "display_name": "Python [conda env:image-retrieval]",
   "language": "python",
   "name": "conda-env-image-retrieval-py"
  },
  "language_info": {
   "codemirror_mode": {
    "name": "ipython",
    "version": 3
   },
   "file_extension": ".py",
   "mimetype": "text/x-python",
   "name": "python",
   "nbconvert_exporter": "python",
   "pygments_lexer": "ipython3",
   "version": "3.7.10"
  },
  "toc": {
   "base_numbering": 1,
   "nav_menu": {},
   "number_sections": false,
   "sideBar": true,
   "skip_h1_title": false,
   "title_cell": "Table of Contents",
   "title_sidebar": "Contents",
   "toc_cell": false,
   "toc_position": {
    "height": "calc(100% - 180px)",
    "left": "10px",
    "top": "150px",
    "width": "208.2px"
   },
   "toc_section_display": true,
   "toc_window_display": true
  }
 },
 "nbformat": 4,
 "nbformat_minor": 4
}
