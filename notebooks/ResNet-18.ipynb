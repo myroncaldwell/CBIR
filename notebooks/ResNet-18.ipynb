{
 "cells": [
  {
   "cell_type": "code",
   "execution_count": null,
   "metadata": {
    "ExecuteTime": {
     "end_time": "2021-06-08T08:53:18.953529Z",
     "start_time": "2021-06-08T08:53:18.942550Z"
    },
    "id": "v53VpIRGH-vt"
   },
   "outputs": [],
   "source": [
    "# dataset\n",
    "from torchvision import datasets\n",
    "\n",
    "from functools import partial\n",
    "import numpy as np\n",
    "\n",
    "# visualization\n",
    "%matplotlib inline\n",
    "import matplotlib.pyplot as plt\n",
    "import seaborn as sns\n",
    "from tabulate import tabulate\n",
    "\n",
    "# preprocessing\n",
    "from torch.utils.data import Dataset, DataLoader\n",
    "import torchvision.transforms as transforms\n",
    "from torch.utils.data import random_split\n",
    "\n",
    "# model\n",
    "import torch\n",
    "from torch import nn\n",
    "import torchvision.models as models\n",
    "from torch.optim import AdamW\n",
    "from torch.optim.lr_scheduler import ReduceLROnPlateau\n",
    "\n",
    "# hyperparameter tuning\n",
    "from ray import tune\n",
    "from ray.tune import CLIReporter\n",
    "from ray.tune.schedulers import ASHAScheduler\n",
    "\n",
    "# metrics\n",
    "from sklearn.metrics import classification_report\n",
    "from sklearn.metrics import confusion_matrix\n",
    "from sklearn.metrics import accuracy_score"
   ]
  },
  {
   "cell_type": "markdown",
   "metadata": {
    "heading_collapsed": true,
    "id": "nmuuze4VH-vw"
   },
   "source": [
    "# 1. Load Data & Preprocessing\n",
    "\n",
    "**Dataset**: <a href=\"https://www.cs.toronto.edu/~kriz/cifar.html\" target=\"_blank\">CIFAR-10</a>\n",
    "\n",
    "**Classes**: airplane, automobile, bird, cat, deer, dog, frog, horse, ship, truck\n",
    "\n",
    "The following transformations are tested:\n",
    "* **resize**\n",
    "* **center crop**\n",
    "* **normalization**: from [0, 255] to [0, 1]\n",
    "* **standardization**: by substracting the mean and dividing with std according to ImageNet"
   ]
  },
  {
   "cell_type": "code",
   "execution_count": null,
   "metadata": {
    "ExecuteTime": {
     "end_time": "2021-06-08T08:51:49.995165Z",
     "start_time": "2021-06-08T08:51:49.889137Z"
    },
    "hidden": true,
    "id": "noKRjTQ-H-vx"
   },
   "outputs": [],
   "source": [
    "def load_data(data_dir):\n",
    "    \"\"\" Create train and test pytorch dataset objects from CIFAR-10.\n",
    "    \n",
    "    The following tranformations are applied on CIFAR-10:\n",
    "        * resize images,\n",
    "        * center crop images,\n",
    "        * normalization: from [0, 255] to [0, 1] by dividing with 255,\n",
    "        * standardization: by substracting the mean and dividing with std according to ImageNet\n",
    "    \n",
    "    Args:\n",
    "        data_dir:\n",
    "            directory where data will be saved, as a string.\n",
    "    \n",
    "    Returns:\n",
    "        train and test dataset, as pytorch dataset objects.\n",
    "    \"\"\"\n",
    "    transform = transforms.Compose([\n",
    "        transforms.Resize(224), \n",
    "        transforms.CenterCrop(224),\n",
    "        transforms.ToTensor(),\n",
    "        transforms.Normalize(mean=[0.485, 0.456, 0.406], std=[0.229, 0.224, 0.225])\n",
    "    ])\n",
    "\n",
    "    trainset = datasets.CIFAR10(root=data_dir,\n",
    "                                train=True, \n",
    "                                download=True, \n",
    "                                transform=transform)\n",
    "\n",
    "    testset = datasets.CIFAR10(root=data_dir, \n",
    "                               train=False, \n",
    "                               download=True, \n",
    "                               transform=transform)\n",
    "\n",
    "    return trainset, testset"
   ]
  },
  {
   "cell_type": "code",
   "execution_count": null,
   "metadata": {
    "ExecuteTime": {
     "end_time": "2021-06-08T08:51:52.135690Z",
     "start_time": "2021-06-08T08:51:50.000371Z"
    },
    "colab": {
     "base_uri": "https://localhost:8080/"
    },
    "hidden": true,
    "id": "8uuwhvI9H-vx",
    "outputId": "f4bb7022-a2ac-4f90-d425-6bf0ed7640f2"
   },
   "outputs": [],
   "source": [
    "trainset, testset = load_data(data_dir='cifar10-pytorch')\n",
    "\n",
    "print(f'\\nTraining data:\\n--------------\\n{trainset}')\n",
    "print(f'Test data:\\n--------------\\n{testset}')"
   ]
  },
  {
   "cell_type": "code",
   "execution_count": null,
   "metadata": {
    "hidden": true
   },
   "outputs": [],
   "source": [
    "batch_size = 64\n",
    "\n",
    "train_dataloader = DataLoader(trainset, batch_size=batch_size, shuffle=True)\n",
    "test_dataloader = DataLoader(testset, batch_size=batch_size, shuffle=False)"
   ]
  },
  {
   "cell_type": "markdown",
   "metadata": {
    "heading_collapsed": true,
    "id": "SRaCSGhvH-vy"
   },
   "source": [
    "# 2. ResNet-18\n",
    "\n",
    "We'll use the **pretrained version** of ResNet. Since CIFAR-10 dataset has less classes than ImageNet, we'll keep all the layers **freezed**, except of the last one, which will be **unfreezed** and updated with the right number of classes and will be re-trained.\n",
    "\n",
    "![ResNet](images\\resnet.png)\n",
    "\n",
    "Regularization:\n",
    "* Weight decay (L2 regularization)\n",
    "\n",
    "Loss Function:\n",
    "* Cross Entropy Loss\n",
    "\n",
    "Optimizer and Scheduler:\n",
    "* Adam optimizer\n",
    "* ReduceLROnPlateau scheduler"
   ]
  },
  {
   "cell_type": "code",
   "execution_count": null,
   "metadata": {
    "ExecuteTime": {
     "end_time": "2021-06-08T08:51:52.151852Z",
     "start_time": "2021-06-08T08:51:52.137600Z"
    },
    "hidden": true,
    "id": "90uFr0szH-vy"
   },
   "outputs": [],
   "source": [
    "def set_parameter_requires_grad(model, feature_extracting):\n",
    "    \"\"\" This helper function sets the .requires_grad attribute of the parameters in the model \n",
    "    to False when we are feature extracting. \n",
    "    \n",
    "    When we are feature extracting and only want to compute gradients for the newly initialized layer, \n",
    "    then we want all of the other parameters to not require gradients.\n",
    "    \n",
    "    Args:\n",
    "        model: \n",
    "            deep learning model, as pytorch object.\n",
    "        feature_extracting:\n",
    "            whether or not we're feature extracting, as boolean.\n",
    "    \"\"\"\n",
    "    if feature_extracting:\n",
    "        for param in model.parameters():\n",
    "            param.requires_grad = False"
   ]
  },
  {
   "cell_type": "code",
   "execution_count": null,
   "metadata": {
    "ExecuteTime": {
     "end_time": "2021-06-08T08:51:52.308158Z",
     "start_time": "2021-06-08T08:51:52.152782Z"
    },
    "hidden": true,
    "id": "-0jh4uctH-vz"
   },
   "outputs": [],
   "source": [
    "def initialize_model(num_labels, feature_extracting, pretrained=True):\n",
    "    \"\"\" Initialize ResNet-18 model and reshape the last layer with the correct number of classes.\n",
    "    \n",
    "    Since ResNet-18 has been pretrained on Imagenet, it has output layers of size 1000, one node for each class. \n",
    "    We reshape the last layer to have the same number of inputs as before, and to have the same number of \n",
    "    outputs as the number of classes in our the dataset.\n",
    "    \n",
    "    Args:\n",
    "        num_labels:\n",
    "            number of labels in our dataset, as integer.\n",
    "        feature_extracting:\n",
    "          flag for feature extracting (when False, we finetune the whole model, \n",
    "          when True we only update the reshaped layer params), as boolean.\n",
    "        pretrained:\n",
    "            whether or not we want the pretrained version of AlexNet, as boolean.\n",
    "    \n",
    "    Returns:\n",
    "        ResNet-18 model, as pytorch object\n",
    "    \"\"\"\n",
    "    model = models.resnet18(pretrained=pretrained)\n",
    "    \n",
    "    set_parameter_requires_grad(model, feature_extracting)\n",
    "    \n",
    "    last_layer_in_ftrs = model.fc.in_features\n",
    "    model.fc = nn.Linear(last_layer_in_ftrs, num_labels)\n",
    "    \n",
    "    return model"
   ]
  },
  {
   "cell_type": "markdown",
   "metadata": {
    "heading_collapsed": true
   },
   "source": [
    "# 3. Hyperparameter Tuning\n",
    "\n",
    "We'll use **early stopping** with **ASHAScheduler** to stop bad trials earlier.\n",
    "\n",
    "|                               | Validation Loss | Validation Accuracy |\n",
    "| :---------------------------: | :-------------: | :-----------------: |\n",
    "| ResNet-18                     |             |                  |\n",
    "\n",
    "Best trial **configuration** for ResNet-18: lr:, l2:"
   ]
  },
  {
   "cell_type": "code",
   "execution_count": null,
   "metadata": {
    "hidden": true
   },
   "outputs": [],
   "source": [
    "def tune_helper(config, trainset, num_labels, batch_size, epochs):\n",
    "    \"\"\" Fit deep learning model and test it on a hold-out validation set.\n",
    "    \n",
    "    The validation set is a 20% hold-out set of the training set. \n",
    "    The loss function used is Cross Entropy Loss.\n",
    "    The optimer used is Adam and the scheduler that wraps the optimizer is ReduceLROnPlateau.\n",
    "    The metric used is accuracy score.\n",
    "    \n",
    "    Args:\n",
    "        config:\n",
    "            hyperparameters of neural network, as a dictionary.\n",
    "        trainset:\n",
    "            training dataset, as a pytorch object.\n",
    "        num_labels:\n",
    "            number of labels, as an integer.\n",
    "        batch_size:\n",
    "            size of batches to be processed, as an integer.\n",
    "        epochs:\n",
    "            number of epochs (times the neural network will see the data), as an integer.\n",
    "    \"\"\"\n",
    "    feature_extracting = True\n",
    "    pretrained = True\n",
    "    model = initialize_model(num_labels=num_labels, \n",
    "                             feature_extracting=feature_extracting, \n",
    "                             pretrained=pretrained)\n",
    "    \n",
    "    # support data parallel training on multiple GPUs\n",
    "    device = \"cpu\"\n",
    "    if torch.cuda.is_available():\n",
    "        device = \"cuda:0\"\n",
    "        if torch.cuda.device_count() > 1:\n",
    "            model = nn.DataParallel(model)\n",
    "    model.to(device)\n",
    "    \n",
    "    # create an optimizer that only updates the desired parameters\n",
    "    params_to_update = model.parameters()\n",
    "    print(\"Parameters to learn:\")\n",
    "    if feature_extracting:\n",
    "        params_to_update = []\n",
    "        for name, param in model.named_parameters():\n",
    "            if param.requires_grad == True:\n",
    "                params_to_update.append(param)\n",
    "                print(\"\\t\", name)\n",
    "    else:\n",
    "        for name, param in model.named_parameters():\n",
    "            if param.requires_grad == True:\n",
    "                print(\"\\t\", name)\n",
    "    \n",
    "    # optimizer\n",
    "    optimizer = AdamW(params_to_update, lr=config['lr'], weight_decay=config['l2'])\n",
    "    \n",
    "    #scheduler\n",
    "    scheduler = ReduceLROnPlateau(optimizer, mode='min')\n",
    "    \n",
    "    \n",
    "    # loss function\n",
    "    loss_fn = nn.CrossEntropyLoss()\n",
    "    \n",
    "    # split data: training (80%) - validation (20%)\n",
    "    test_abs = int(len(trainset) * 0.8)\n",
    "    train_subset, val_subset = random_split(trainset, [test_abs, len(trainset) - test_abs])\n",
    "\n",
    "    train_dataloader = DataLoader(train_subset,\n",
    "                                  batch_size=batch_size,\n",
    "                                  shuffle=True, \n",
    "                                  num_workers=2)\n",
    "    \n",
    "    val_dataloader = DataLoader(val_subset,\n",
    "                                batch_size=batch_size,\n",
    "                                shuffle=True,\n",
    "                                num_workers=2)\n",
    "    \n",
    "    for epoch in range(epochs):\n",
    "        # fit neural network on training data\n",
    "        model.train()  # put on train mode\n",
    "        for batch, (X, Y) in enumerate(train_dataloader, 0):\n",
    "            # send the data to the GPU memory explicitly\n",
    "            X, Y = X.to(device), Y.to(device)\n",
    "\n",
    "            # reset the gradients\n",
    "            optimizer.zero_grad()\n",
    "            \n",
    "            # compute prediction\n",
    "            pred = model(X)\n",
    "\n",
    "            # compute loss\n",
    "            loss = loss_fn(pred, Y)\n",
    "\n",
    "            # backpropagate\n",
    "            loss.backward()\n",
    "\n",
    "            # update parameters\n",
    "            optimizer.step()\n",
    "        \n",
    "        # test on validation data\n",
    "        val_loss = 0.0\n",
    "        val_steps = 0\n",
    "        total = 0\n",
    "        correct = 0\n",
    "        model.eval()  # put on evaluation mode\n",
    "        for batch, (X, Y) in enumerate(val_dataloader, 0):\n",
    "            with torch.no_grad():\n",
    "                X, Y = X.to(device), Y.to(device)\n",
    "\n",
    "                pred = model(X)\n",
    "                \n",
    "                _, predicted = torch.max(pred.data, 1)\n",
    "                total += Y.size(0)\n",
    "                correct += (predicted == Y).sum().item()\n",
    "\n",
    "                loss = loss_fn(pred, Y)\n",
    "                val_loss += loss.cpu().numpy()\n",
    "                val_steps += 1\n",
    "        \n",
    "        # update scheduler\n",
    "        scheduler.step(val_loss)\n",
    "        \n",
    "        # report metrics\n",
    "        tune.report(loss=(val_loss / val_steps), accuracy=(correct / total))"
   ]
  },
  {
   "cell_type": "code",
   "execution_count": null,
   "metadata": {
    "hidden": true
   },
   "outputs": [],
   "source": [
    "def hyperparameter_tune(data_dir,\n",
    "                        batch_size,\n",
    "                        epochs,\n",
    "                        config,\n",
    "                        grace_period,\n",
    "                        num_samples, \n",
    "                        cpus_per_trial,\n",
    "                        gpus_per_trial):\n",
    "    \"\"\" Run hyperparameter tuning and report best hyperparameters.\n",
    "    \n",
    "    Args:\n",
    "        data_dir:\n",
    "            directory where CIFAR-10 data will be saved/loaded, as a string.\n",
    "        batch_size:\n",
    "            size of batches to be processed, as an integer.\n",
    "        epochs:\n",
    "            number of epochs (times the neural network will see the data), as an integer.\n",
    "        config:\n",
    "            hyperparametes, as a dictionary.\n",
    "        grace_period:\n",
    "            stop trials at least this old in time, as an integer.\n",
    "        num_samples:\n",
    "            number of times to sample from the hyperparameter space (if grid_search is provided as an argument,\n",
    "            the grid will be repeated num_samples of times), as an integer.\n",
    "        cpus_per_trial:\n",
    "            CPUs to allocate per trial, as integer.\n",
    "        gpus_per_trial:\n",
    "            GPUs to allocate per trial, as integer.\n",
    "    \"\"\"\n",
    "    trainset, testset = load_data(data_dir=data_dir)\n",
    "    \n",
    "    num_labels = 10\n",
    "    \n",
    "    # hyperparameter search space\n",
    "    cofig = config\n",
    "    \n",
    "    # used for early stopping\n",
    "    scheduler = ASHAScheduler(metric=\"loss\", \n",
    "                              mode=\"min\",\n",
    "                              max_t=epochs,\n",
    "                              grace_period=grace_period,\n",
    "                              reduction_factor=2)\n",
    "    \n",
    "    reporter = CLIReporter(metric_columns=[\"loss\", \"accuracy\", \"training_iteration\"])\n",
    "    \n",
    "    # hyperparamet tuning\n",
    "    result = tune.run(tune.with_parameters(tune_helper,\n",
    "                                           trainset=trainset,\n",
    "                                           num_labels=num_labels,\n",
    "                                           batch_size=batch_size,\n",
    "                                           epochs=epochs),\n",
    "                      resources_per_trial={\"cpu\": cpus_per_trial, \"gpu\": gpus_per_trial},\n",
    "                      config=config,\n",
    "                      num_samples=num_samples,\n",
    "                      scheduler=scheduler,\n",
    "                      progress_reporter=reporter)\n",
    "    \n",
    "    # report best results\n",
    "    best_trial = result.get_best_trial(\"loss\", \"min\", \"last\")\n",
    "    print(\"Best trial config: {}\".format(best_trial.config))\n",
    "    print(\"Best trial final validation loss: {}\".format(best_trial.last_result[\"loss\"]))\n",
    "    print(\"Best trial final validation acurracy: {}\".format(best_trial.last_result[\"accuracy\"]))"
   ]
  },
  {
   "cell_type": "code",
   "execution_count": null,
   "metadata": {
    "hidden": true
   },
   "outputs": [],
   "source": [
    "# hyperparameter search space\n",
    "config = {\n",
    "    \"lr\": tune.grid_search([1e-3, 1e-4]),\n",
    "    \"l2\": tune.grid_search([1e-3, 1e-4])\n",
    "    }"
   ]
  },
  {
   "cell_type": "code",
   "execution_count": null,
   "metadata": {
    "hidden": true
   },
   "outputs": [],
   "source": [
    "hyperparameter_tune(data_dir='cifar10-pytorch',\n",
    "                    batch_size=64,\n",
    "                    epochs=100,\n",
    "                    config=config,\n",
    "                    grace_period=30,\n",
    "                    num_samples=1, \n",
    "                    cpus_per_trial=0,\n",
    "                    gpus_per_trial=1)"
   ]
  },
  {
   "cell_type": "markdown",
   "metadata": {
    "heading_collapsed": true,
    "id": "XO8xPoCTH-vz"
   },
   "source": [
    "# 4. Fit and Predict"
   ]
  },
  {
   "cell_type": "code",
   "execution_count": null,
   "metadata": {
    "hidden": true,
    "id": "TrmFsPy5H-v0"
   },
   "outputs": [],
   "source": [
    "def fit(dataloader, model, loss_fn, optimizer, print_loss=False):\n",
    "    \"\"\" Fit deep learning model.\n",
    "    \n",
    "    Args:\n",
    "        dataloader:\n",
    "            pytorch DataLoader object.\n",
    "        model:\n",
    "            deep learning model, as pytorch object.\n",
    "        loss_fn:\n",
    "            loss function, as pytorch object.\n",
    "        optimizer:\n",
    "            optimizer function, as pytorch object.\n",
    "        print_loss:\n",
    "            print loss on every batch, as boolean (default False)\n",
    "    \"\"\"\n",
    "    size = len(dataloader.dataset)\n",
    "    model.train()  # put on train mode\n",
    "    for batch, (X, Y) in enumerate(dataloader):\n",
    "        X, Y = X.to(device), Y.to(device)\n",
    "        \n",
    "        # compute prediction\n",
    "        pred = model(X)\n",
    "        \n",
    "        # compute loss\n",
    "        loss = loss_fn(pred, Y)\n",
    "\n",
    "        # reset the gradients\n",
    "        optimizer.zero_grad()\n",
    "        \n",
    "        # backpropagate\n",
    "        loss.backward()\n",
    "        \n",
    "        # update parameters\n",
    "        optimizer.step()\n",
    "\n",
    "        if print_loss and batch % 100 == 0:\n",
    "            loss, current = loss.item(), batch * len(X)\n",
    "            print(f\"loss: {loss:>7f} [{current:>5d}/{size:>5d}]\")"
   ]
  },
  {
   "cell_type": "code",
   "execution_count": null,
   "metadata": {
    "hidden": true,
    "id": "jva8uCbTH-v0"
   },
   "outputs": [],
   "source": [
    "def predict(dataloader, model, loss_fn):\n",
    "    \"\"\" Predict with deep learning model.\n",
    "    \n",
    "    Args:\n",
    "        dataloader:\n",
    "            pytorch DataLoader object.\n",
    "        model:\n",
    "            deep learning model, as pytorch object.\n",
    "        loss_fn:\n",
    "            loss function, as pytorch object.\n",
    "            \n",
    "    Returns:\n",
    "         test loss, as float.\n",
    "         predictions, as a list of integers.\n",
    "         ground truth, as a list of integers.\n",
    "    \"\"\"\n",
    "    size = len(dataloader.dataset)\n",
    "    num_batches = len(dataloader)\n",
    "    \n",
    "    test_loss = 0\n",
    "\n",
    "    pred_concat = []\n",
    "    y_concat = []\n",
    "    \n",
    "    model.eval()  # put on evaluation mode\n",
    "    with torch.no_grad():\n",
    "        for X, Y in dataloader:\n",
    "            X, Y = X.to(device), Y.to(device)\n",
    "            \n",
    "            pred = model(X)\n",
    "            \n",
    "            test_loss += loss_fn(pred, Y).item()\n",
    "            \n",
    "            # predictions to one-hot vectors\n",
    "            for label in pred.argmax(1):    \n",
    "                pred_concat.append(label.item())\n",
    "            \n",
    "            # ground truth to one-hot vectors\n",
    "            for label in Y:\n",
    "                y_concat.append(label.item())\n",
    "\n",
    "    test_loss /= num_batches\n",
    "    \n",
    "    return test_loss, pred_concat, y_concat"
   ]
  },
  {
   "cell_type": "markdown",
   "metadata": {
    "heading_collapsed": true,
    "id": "ZYPxyPAeH-v1"
   },
   "source": [
    "# 5. Final Model\n",
    "\n",
    "Best model configuration: lr:, l2:\n",
    "\n",
    "Results: \n",
    "* Best **epoch**:\n",
    "* Best **train**: **accuracy**:, **avg loss**:\n",
    "* Best **test**: **accuracy**:, **avg loss**:"
   ]
  },
  {
   "cell_type": "code",
   "execution_count": null,
   "metadata": {
    "hidden": true
   },
   "outputs": [],
   "source": [
    "target_names = ['airplane', 'automobile', 'bird', 'cat', 'deer', 'dog', 'frog', 'horse', 'ship', 'truck']"
   ]
  },
  {
   "cell_type": "code",
   "execution_count": null,
   "metadata": {
    "hidden": true
   },
   "outputs": [],
   "source": [
    "device = torch.device(f\"cuda\" if torch.cuda.is_available() else \"cpu\")\n",
    "print('Using {} device'.format(device))"
   ]
  },
  {
   "cell_type": "markdown",
   "metadata": {
    "heading_collapsed": true,
    "hidden": true
   },
   "source": [
    "## 5.1 Define model"
   ]
  },
  {
   "cell_type": "code",
   "execution_count": null,
   "metadata": {
    "ExecuteTime": {
     "end_time": "2021-06-08T08:53:25.985258Z",
     "start_time": "2021-06-08T08:53:22.576603Z"
    },
    "colab": {
     "base_uri": "https://localhost:8080/"
    },
    "hidden": true,
    "id": "XK5oKBZoH-v2",
    "outputId": "0e059006-7b0d-4f89-dbc1-04abbff7aed8"
   },
   "outputs": [],
   "source": [
    "num_labels = 10\n",
    "feature_extracting = True\n",
    "pretrained = True\n",
    "\n",
    "model = initialize_model(num_labels=num_labels, \n",
    "                         feature_extracting=feature_extracting, \n",
    "                         pretrained=pretrained).to(device)\n",
    "\n",
    "print(f'Model architecture:\\n{model}')"
   ]
  },
  {
   "cell_type": "markdown",
   "metadata": {
    "hidden": true,
    "id": "-muCizcxH-v2"
   },
   "source": [
    "Create an optimizer that **only** updates the desired parameters"
   ]
  },
  {
   "cell_type": "code",
   "execution_count": null,
   "metadata": {
    "colab": {
     "base_uri": "https://localhost:8080/"
    },
    "hidden": true,
    "id": "VC9ajRTVH-v2",
    "outputId": "60512f86-73d2-4511-c172-686cbbba95da"
   },
   "outputs": [],
   "source": [
    "learning_rate = 0.001\n",
    "weight_decay = 0.001\n",
    "\n",
    "params_to_update = model.parameters()\n",
    "print(\"Parameters to learn:\")\n",
    "if feature_extracting:\n",
    "    params_to_update = []\n",
    "    for name, param in model.named_parameters():\n",
    "        if param.requires_grad == True:\n",
    "            params_to_update.append(param)\n",
    "            print(\"\\t\", name)\n",
    "else:\n",
    "    for name, param in model.named_parameters():\n",
    "        if param.requires_grad == True:\n",
    "            print(\"\\t\", name)\n",
    "\n",
    "# optimizer\n",
    "optimizer = AdamW(params_to_update, lr=learning_rate, weight_decay=weight_decay)\n",
    "\n",
    "# scheduler\n",
    "scheduler = ReduceLROnPlateau(optimizer, mode='min')\n",
    "\n",
    "# loss function\n",
    "loss_fn = nn.CrossEntropyLoss()"
   ]
  },
  {
   "cell_type": "markdown",
   "metadata": {
    "heading_collapsed": true,
    "hidden": true
   },
   "source": [
    "## 5.2 Fit and predict"
   ]
  },
  {
   "cell_type": "code",
   "execution_count": null,
   "metadata": {
    "hidden": true
   },
   "outputs": [],
   "source": [
    "train_loss = []\n",
    "test_loss = []\n",
    "train_accuracy = []\n",
    "test_accuracy = []\n",
    "\n",
    "# best iteration\n",
    "best_epoch = 0\n",
    "best_train_loss = 0\n",
    "best_test_loss = 0\n",
    "best_train_accuracy = 0\n",
    "best_test_accuracy = 0\n",
    "best_train_pred = None\n",
    "best_test_pred = None\n",
    "best_train_y = None\n",
    "best_test_y = None\n",
    "best_model_state_dict = None\n",
    "\n",
    "epochs = 100\n",
    "\n",
    "for t in range(epochs):\n",
    "    print(f\"Epoch {t+1}\\n-------------------------------\")\n",
    "    \n",
    "    fit(train_dataloader, model, loss_fn, optimizer, print_loss=True)\n",
    "    \n",
    "    print('\\nTrain:\\n-------')\n",
    "    train_current_loss, train_pred, train_y = predict(train_dataloader, model, loss_fn)\n",
    "    \n",
    "    train_acc = 100 * accuracy_score(train_y, train_pred)\n",
    "    train_loss.append(train_current_loss)\n",
    "    train_accuracy.append(train_acc)\n",
    "    \n",
    "    print(f\"accuracy: {(100*accuracy_score(train_y, train_pred)):>0.1f}%, avg loss: {train_current_loss:>8f}\")\n",
    "    \n",
    "    print('\\nTest:\\n-------')\n",
    "    test_current_loss, test_pred, test_y = predict(test_dataloader, model, loss_fn)\n",
    "\n",
    "    test_acc = 100 * accuracy_score(test_y, test_pred)\n",
    "    test_loss.append(test_current_loss)\n",
    "    test_accuracy.append(test_acc)\n",
    "    \n",
    "    print(f\"accuracy: {(100*accuracy_score(test_y, test_pred)):>0.1f}%, avg loss: {test_current_loss:>8f}\")\n",
    "    \n",
    "    # best iteration\n",
    "    if test_acc > best_test_accuracy:\n",
    "        best_epoch = t + 1\n",
    "        best_train_loss = train_current_loss\n",
    "        best_test_loss = test_current_loss\n",
    "        best_train_accuracy = train_acc\n",
    "        best_test_accuracy = test_acc\n",
    "        best_train_pred = train_pred\n",
    "        best_test_pred = test_pred\n",
    "        best_train_y = train_y\n",
    "        best_test_y = test_y\n",
    "        best_model_state_dict = model.state_dict()\n",
    "        \n",
    "    scheduler.step(test_current_loss)\n",
    "    \n",
    "    print(f\"\\n-------------------------------\")"
   ]
  },
  {
   "cell_type": "markdown",
   "metadata": {
    "heading_collapsed": true,
    "hidden": true
   },
   "source": [
    "## 5.3 Visualize training and testing"
   ]
  },
  {
   "cell_type": "code",
   "execution_count": null,
   "metadata": {
    "hidden": true
   },
   "outputs": [],
   "source": [
    "plt.figure(figsize=(10,8))\n",
    "\n",
    "plt.plot(range(1, 101), train_loss, 'b-', label='train_loss')\n",
    "plt.plot(range(1, 101), test_loss, 'r-', label='test_loss')\n",
    "\n",
    "plt.xlabel('epochs')\n",
    "plt.ylabel('loss')\n",
    "plt.title('train & test loss per epoch')\n",
    "plt.legend()\n",
    "\n",
    "plt.show()"
   ]
  },
  {
   "cell_type": "code",
   "execution_count": null,
   "metadata": {
    "hidden": true
   },
   "outputs": [],
   "source": [
    "plt.figure(figsize=(10,8))\n",
    "\n",
    "plt.plot(range(1, 101), train_accuracy, 'b-', label='train_accuracy')\n",
    "plt.plot(range(1, 101), test_accuracy, 'r-', label='test_accuracy')\n",
    "\n",
    "plt.xlabel('epochs')\n",
    "plt.ylabel('accuracy')\n",
    "plt.title('train & test accuracy per epoch')\n",
    "plt.legend()\n",
    "\n",
    "plt.show()"
   ]
  },
  {
   "cell_type": "code",
   "execution_count": null,
   "metadata": {
    "hidden": true
   },
   "outputs": [],
   "source": [
    "print(f'Best epoch: {best_epoch}')\n",
    "print(f'Train: accuracy: {best_train_accuracy:>0.1f}%, avg loss: {best_train_loss:>8f}')\n",
    "print(f'Test: accuracy: {best_test_accuracy:>0.1f}%, avg loss: {best_test_loss:>8f}')"
   ]
  },
  {
   "cell_type": "markdown",
   "metadata": {
    "heading_collapsed": true,
    "hidden": true
   },
   "source": [
    "## 5.4 Model metrics"
   ]
  },
  {
   "cell_type": "code",
   "execution_count": null,
   "metadata": {
    "hidden": true
   },
   "outputs": [],
   "source": [
    "print(f'Train:\\n{classification_report(best_train_y, best_train_pred, target_names=target_names)}')\n",
    "print(f'Test:\\n{classification_report(best_test_y, best_test_pred, target_names=target_names)}')"
   ]
  },
  {
   "cell_type": "code",
   "execution_count": null,
   "metadata": {
    "hidden": true
   },
   "outputs": [],
   "source": [
    "cm = confusion_matrix(best_test_y, best_test_pred)\n",
    "sns.heatmap(cm, annot=True, fmt='', xticklabels=target_names, yticklabels=target_names, ax=plt.subplots(figsize=(10,8))[1])"
   ]
  },
  {
   "cell_type": "markdown",
   "metadata": {
    "heading_collapsed": true,
    "hidden": true
   },
   "source": [
    "## 5.5 Save model"
   ]
  },
  {
   "cell_type": "code",
   "execution_count": null,
   "metadata": {
    "hidden": true
   },
   "outputs": [],
   "source": [
    "torch.save(best_model_state_dict, '../saved-model/resnet18-weights.pth')"
   ]
  }
 ],
 "metadata": {
  "accelerator": "GPU",
  "colab": {
   "collapsed_sections": [],
   "name": "AlexNet.ipynb",
   "provenance": []
  },
  "kernelspec": {
   "display_name": "Python 3",
   "language": "python",
   "name": "python3"
  },
  "language_info": {
   "codemirror_mode": {
    "name": "ipython",
    "version": 3
   },
   "file_extension": ".py",
   "mimetype": "text/x-python",
   "name": "python",
   "nbconvert_exporter": "python",
   "pygments_lexer": "ipython3",
   "version": "3.8.5"
  },
  "toc": {
   "base_numbering": 1,
   "nav_menu": {},
   "number_sections": false,
   "sideBar": true,
   "skip_h1_title": false,
   "title_cell": "Table of Contents",
   "title_sidebar": "Contents",
   "toc_cell": false,
   "toc_position": {
    "height": "calc(100% - 180px)",
    "left": "10px",
    "top": "150px",
    "width": "259.2px"
   },
   "toc_section_display": true,
   "toc_window_display": true
  }
 },
 "nbformat": 4,
 "nbformat_minor": 1
}
