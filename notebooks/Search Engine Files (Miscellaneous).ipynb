{
 "cells": [
  {
   "cell_type": "code",
   "execution_count": 1,
   "metadata": {
    "ExecuteTime": {
     "end_time": "2021-10-13T09:37:42.799681Z",
     "start_time": "2021-10-13T09:36:45.106515Z"
    }
   },
   "outputs": [
    {
     "name": "stderr",
     "output_type": "stream",
     "text": [
      "Using TensorFlow backend.\n"
     ]
    }
   ],
   "source": [
    "from keras.datasets import cifar10\n",
    "import os\n",
    "import cv2 as cv"
   ]
  },
  {
   "cell_type": "markdown",
   "metadata": {
    "heading_collapsed": true
   },
   "source": [
    "# 1. Load Dataset"
   ]
  },
  {
   "cell_type": "code",
   "execution_count": 2,
   "metadata": {
    "ExecuteTime": {
     "end_time": "2021-10-13T09:37:47.475749Z",
     "start_time": "2021-10-13T09:37:45.309991Z"
    },
    "hidden": true
   },
   "outputs": [],
   "source": [
    "(X_train, Y_train), (X_test, Y_test) = cifar10.load_data()"
   ]
  },
  {
   "cell_type": "code",
   "execution_count": 3,
   "metadata": {
    "ExecuteTime": {
     "end_time": "2021-10-13T09:37:47.491682Z",
     "start_time": "2021-10-13T09:37:47.477719Z"
    },
    "hidden": true
   },
   "outputs": [],
   "source": [
    "labels = {\n",
    "    0: 'airplane',\n",
    "    1: 'automobile',\n",
    "    2: 'bird',\n",
    "    3: 'cat',\n",
    "    4: 'deer',\n",
    "    5: 'dog',\n",
    "    6: 'frog',\n",
    "    7: 'horse',\n",
    "    8: 'ship',\n",
    "    9: 'truck'\n",
    "}"
   ]
  },
  {
   "cell_type": "markdown",
   "metadata": {
    "hidden": true
   },
   "source": [
    "Extracting image information, such as the filename and the label."
   ]
  },
  {
   "cell_type": "code",
   "execution_count": 4,
   "metadata": {
    "ExecuteTime": {
     "end_time": "2021-10-13T09:37:50.586403Z",
     "start_time": "2021-10-13T09:37:50.569448Z"
    },
    "hidden": true
   },
   "outputs": [],
   "source": [
    "def get_info(data):\n",
    "    \"\"\" Extract image information from CIFAR-10.\n",
    "    \n",
    "    The extracted information is:\n",
    "    * the filename, which is of the form (image_number)-(label).png,\n",
    "    * the label.\n",
    "    \n",
    "    Args:\n",
    "        data:\n",
    "            CIFAR-10 images, as numpy array.\n",
    "    \n",
    "    Returns:\n",
    "        list of dictionaries containing the filename and the label for each image.\n",
    "    \"\"\"\n",
    "    img_info = []\n",
    "    \n",
    "    index = 0\n",
    "    for i in range(data.shape[0]):\n",
    "        img_info.append({\"filename\": '{}-{}.png'.format(index, labels[data[i][0]]), \"label\": labels[data[i][0]]})\n",
    "        \n",
    "        index += 1\n",
    "    \n",
    "    return img_info"
   ]
  },
  {
   "cell_type": "code",
   "execution_count": 5,
   "metadata": {
    "ExecuteTime": {
     "end_time": "2021-10-13T09:37:54.492952Z",
     "start_time": "2021-10-13T09:37:54.219693Z"
    },
    "hidden": true
   },
   "outputs": [],
   "source": [
    "train = get_info(Y_train)\n",
    "test = get_info(Y_test)"
   ]
  },
  {
   "cell_type": "markdown",
   "metadata": {
    "heading_collapsed": true
   },
   "source": [
    "# 2. Download Dataset"
   ]
  },
  {
   "cell_type": "markdown",
   "metadata": {
    "hidden": true
   },
   "source": [
    "Create directories to host the train and test datasets."
   ]
  },
  {
   "cell_type": "code",
   "execution_count": 7,
   "metadata": {
    "ExecuteTime": {
     "end_time": "2021-10-13T09:38:20.381636Z",
     "start_time": "2021-10-13T09:38:12.735159Z"
    },
    "hidden": true
   },
   "outputs": [
    {
     "name": "stdout",
     "output_type": "stream",
     "text": [
      "Enter path of parent directory: ../static/cifar10\n",
      "Directory ../static/cifar10 was created successfully.\n",
      "Directory ../static/cifar10\\train was created successfully.\n",
      "Directory ../static/cifar10\\test was created successfully.\n"
     ]
    }
   ],
   "source": [
    "PARENT_DIR = input(\"Enter path of parent directory: \")\n",
    "TRAIN_DIR = os.path.join(PARENT_DIR, 'train')\n",
    "TEST_DIR = os.path.join(PARENT_DIR, 'test')\n",
    "\n",
    "if not os.path.isdir(PARENT_DIR):\n",
    "    try:\n",
    "        os.mkdir(PARENT_DIR)\n",
    "        print(f\"Directory {PARENT_DIR} was created successfully.\")\n",
    "    except OSError as ex:\n",
    "        print(f\"Directory {PARENT_DIR} cannot be created.\\n{ex}\")\n",
    "\n",
    "if os.path.isdir(PARENT_DIR):\n",
    "    if not os.path.isdir(TRAIN_DIR):\n",
    "        try:\n",
    "            os.mkdir(TRAIN_DIR)\n",
    "            print(f\"Directory {TRAIN_DIR} was created successfully.\")\n",
    "        except OSError as ex:\n",
    "            print(f\"Directory {TRAIN_DIR} cannot be created.\\n{ex}\")\n",
    "    \n",
    "    if not os.path.isdir(TEST_DIR):\n",
    "        try:\n",
    "            os.mkdir(TEST_DIR)\n",
    "            print(f\"Directory {TEST_DIR} was created successfully.\")\n",
    "        except OSError as ex:\n",
    "            print(f\"Directory {TEST_DIR} cannot be created.\\n{ex}\")"
   ]
  },
  {
   "cell_type": "markdown",
   "metadata": {
    "hidden": true
   },
   "source": [
    "Download train and test images"
   ]
  },
  {
   "cell_type": "code",
   "execution_count": 13,
   "metadata": {
    "ExecuteTime": {
     "end_time": "2021-10-13T09:49:27.315592Z",
     "start_time": "2021-10-13T09:49:27.304650Z"
    },
    "hidden": true
   },
   "outputs": [
    {
     "name": "stdout",
     "output_type": "stream",
     "text": [
      "ERROR! Session/line number was not unique in database. History logging moved to new session 912\n"
     ]
    }
   ],
   "source": [
    "def save_images(data, data_info, directory):\n",
    "    \"\"\"\n",
    "    \n",
    "    Args:\n",
    "        data:\n",
    "        data_info:\n",
    "        directory:\n",
    "    \"\"\"\n",
    "    for img in data_info:\n",
    "        filename = img[\"filename\"]\n",
    "        img_index = int(filename[0 : filename.find(\"-\")])\n",
    "        \n",
    "        path = os.path.join(directory, filename)\n",
    "        \n",
    "        cv.imwrite(path, data[img_index])"
   ]
  },
  {
   "cell_type": "code",
   "execution_count": 14,
   "metadata": {
    "ExecuteTime": {
     "end_time": "2021-10-13T09:50:57.380224Z",
     "start_time": "2021-10-13T09:49:29.818970Z"
    },
    "hidden": true
   },
   "outputs": [],
   "source": [
    "save_images(X_train, train, TRAIN_DIR)\n",
    "save_images(X_test, test, TEST_DIR)"
   ]
  },
  {
   "cell_type": "markdown",
   "metadata": {},
   "source": [
    "# 3. Search Engine Files"
   ]
  },
  {
   "cell_type": "markdown",
   "metadata": {},
   "source": [
    "Create directory to host the files (queries.txt, qrels.txt)."
   ]
  },
  {
   "cell_type": "code",
   "execution_count": 15,
   "metadata": {
    "ExecuteTime": {
     "end_time": "2021-10-13T10:18:29.852459Z",
     "start_time": "2021-10-13T10:18:29.846475Z"
    }
   },
   "outputs": [
    {
     "name": "stdout",
     "output_type": "stream",
     "text": [
      "Directory ../data/ was created successfully.\n"
     ]
    }
   ],
   "source": [
    "PARENT_DIR = '../data/'\n",
    "\n",
    "if not os.path.isdir(PARENT_DIR):\n",
    "    try:\n",
    "        os.mkdir(PARENT_DIR)\n",
    "        print(f\"Directory {PARENT_DIR} was created successfully.\")\n",
    "    except OSError as ex:\n",
    "        print(f\"Directory {PARENT_DIR} cannot be created.\\n{ex}\")"
   ]
  },
  {
   "cell_type": "markdown",
   "metadata": {},
   "source": [
    "## 3.1 Queries\n",
    "\n",
    "The queries file (queries.txt), consists of records with the following structure: query_id, filename"
   ]
  },
  {
   "cell_type": "code",
   "execution_count": 17,
   "metadata": {
    "ExecuteTime": {
     "end_time": "2021-10-13T10:26:03.900493Z",
     "start_time": "2021-10-13T10:26:03.863207Z"
    }
   },
   "outputs": [],
   "source": [
    "FILE_NAME = 'queries.txt'\n",
    "\n",
    "with open(os.path.join(PARENT_DIR, FILE_NAME), 'w') as f:\n",
    "    for img in test:\n",
    "        query_id = img[\"filename\"][0 : img[\"filename\"].find(\"-\")]\n",
    "        query_body = img[\"filename\"]\n",
    "        query = \"{} {}\\n\".format(query_id, query_body)\n",
    "        \n",
    "        f.write(query)"
   ]
  },
  {
   "cell_type": "markdown",
   "metadata": {},
   "source": [
    "## 3.2 Relevance File\n",
    "\n",
    "The document-query relevance file (qrels.txt), consists of records with the following structure: query_id, iteration, doc_id, relevance."
   ]
  },
  {
   "cell_type": "code",
   "execution_count": 19,
   "metadata": {
    "ExecuteTime": {
     "end_time": "2021-10-13T10:39:14.885010Z",
     "start_time": "2021-10-13T10:36:53.625881Z"
    }
   },
   "outputs": [],
   "source": [
    "FILE_NAME = 'qrels.txt'\n",
    "\n",
    "with open(os.path.join(PARENT_DIR, FILE_NAME), 'w') as f:\n",
    "    for query in test:\n",
    "        query_id = query[\"filename\"][0 : query[\"filename\"].find(\"-\")]\n",
    "        iteration = \"0\"\n",
    "        relevance = \"1\"\n",
    "        \n",
    "        # find relevant images, with respect to the query\n",
    "        # relevant images are those that have the same label\n",
    "        for img in train:\n",
    "            if img[\"label\"] == query[\"label\"]:\n",
    "                doc_id = img[\"filename\"][0 : img[\"filename\"].find(\"-\")]\n",
    "                \n",
    "                record = \"{} {} {} {}\\n\".format(query_id, iteration, doc_id, relevance)\n",
    "                \n",
    "                f.write(record)"
   ]
  }
 ],
 "metadata": {
  "kernelspec": {
   "display_name": "Python [conda env:cbir-ml]",
   "language": "python",
   "name": "conda-env-cbir-ml-py"
  },
  "language_info": {
   "codemirror_mode": {
    "name": "ipython",
    "version": 3
   },
   "file_extension": ".py",
   "mimetype": "text/x-python",
   "name": "python",
   "nbconvert_exporter": "python",
   "pygments_lexer": "ipython3",
   "version": "3.6.13"
  },
  "toc": {
   "base_numbering": 1,
   "nav_menu": {},
   "number_sections": false,
   "sideBar": true,
   "skip_h1_title": false,
   "title_cell": "Table of Contents",
   "title_sidebar": "Contents",
   "toc_cell": false,
   "toc_position": {
    "height": "calc(100% - 180px)",
    "left": "10px",
    "top": "150px",
    "width": "247.2px"
   },
   "toc_section_display": true,
   "toc_window_display": true
  }
 },
 "nbformat": 4,
 "nbformat_minor": 4
}
