{
 "cells": [
  {
   "cell_type": "code",
   "execution_count": null,
   "metadata": {
    "ExecuteTime": {
     "end_time": "2021-06-08T08:53:18.953529Z",
     "start_time": "2021-06-08T08:53:18.942550Z"
    },
    "id": "v53VpIRGH-vt"
   },
   "outputs": [],
   "source": [
    "from torchvision import datasets\n",
    "\n",
    "import numpy as np\n",
    "\n",
    "# preprocessing\n",
    "from torch.utils.data import Dataset, DataLoader\n",
    "import torchvision.transforms as transforms\n",
    "from torch.utils.data import random_split\n",
    "\n",
    "# model\n",
    "import torch\n",
    "import torchvision.models as models\n",
    "from torch import nn\n",
    "from torch.optim import Adam"
   ]
  },
  {
   "cell_type": "markdown",
   "metadata": {
    "heading_collapsed": true,
    "id": "nmuuze4VH-vw"
   },
   "source": [
    "# 1. Load Data"
   ]
  },
  {
   "cell_type": "code",
   "execution_count": null,
   "metadata": {
    "ExecuteTime": {
     "end_time": "2021-06-08T08:51:49.995165Z",
     "start_time": "2021-06-08T08:51:49.889137Z"
    },
    "hidden": true,
    "id": "noKRjTQ-H-vx"
   },
   "outputs": [],
   "source": [
    "def load_data(data_dir):\n",
    "    \"\"\" Create train and test pytorch dataset objects from CIFAR10.\n",
    "    \n",
    "    The following tranformations are applied on CIFAR10:\n",
    "        * resize images,\n",
    "        * center crop images,\n",
    "        * image pixels to [0, 1] range,\n",
    "        * normalization (by substracting mean and dividing with std according to ImageNet)\n",
    "    \n",
    "    Args:\n",
    "        data_dir:\n",
    "            directory where data will be saved, as a string.\n",
    "    \n",
    "    Returns:\n",
    "        train and test dataset, as pytorch dataset objects.\n",
    "    \"\"\"\n",
    "    transform = transforms.Compose([\n",
    "        transforms.Resize(224), \n",
    "        transforms.CenterCrop(224),\n",
    "        transforms.ToTensor(),\n",
    "        transforms.Normalize(mean=[0.485, 0.456, 0.406], std=[0.229, 0.224, 0.225])\n",
    "    ])\n",
    "\n",
    "    trainset = datasets.CIFAR10(root=data_dir,\n",
    "                                train=True, \n",
    "                                download=True, \n",
    "                                transform=transform)\n",
    "\n",
    "    testset = datasets.CIFAR10(root=data_dir, \n",
    "                               train=False, \n",
    "                               download=True, \n",
    "                               transform=transform)\n",
    "\n",
    "    return trainset, testset"
   ]
  },
  {
   "cell_type": "code",
   "execution_count": null,
   "metadata": {
    "ExecuteTime": {
     "end_time": "2021-06-08T08:51:52.135690Z",
     "start_time": "2021-06-08T08:51:50.000371Z"
    },
    "colab": {
     "base_uri": "https://localhost:8080/"
    },
    "hidden": true,
    "id": "8uuwhvI9H-vx",
    "outputId": "f4bb7022-a2ac-4f90-d425-6bf0ed7640f2"
   },
   "outputs": [],
   "source": [
    "training_data, test_data = load_data(data_dir='cifar10')\n",
    "\n",
    "print(f'\\nTraining data:\\n--------------\\n{training_data}')\n",
    "print(f'Test data:\\n--------------\\n{test_data}')"
   ]
  },
  {
   "cell_type": "markdown",
   "metadata": {
    "heading_collapsed": true,
    "id": "SRaCSGhvH-vy"
   },
   "source": [
    "# 2. AlexNet"
   ]
  },
  {
   "cell_type": "code",
   "execution_count": null,
   "metadata": {
    "ExecuteTime": {
     "end_time": "2021-06-08T08:51:52.151852Z",
     "start_time": "2021-06-08T08:51:52.137600Z"
    },
    "hidden": true,
    "id": "90uFr0szH-vy"
   },
   "outputs": [],
   "source": [
    "def set_parameter_requires_grad(model, feature_extracting):\n",
    "    \"\"\" This helper function sets the .requires_grad attribute of the parameters in the model \n",
    "    to False when we are feature extracting. \n",
    "    \n",
    "    When we are feature extracting and only want to compute gradients for the newly initialized layer \n",
    "    then we want all of the other parameters to not require gradients.\n",
    "    \n",
    "    Args:\n",
    "        model: \n",
    "            deep learning model, as pytorch object.\n",
    "        feature_extracting:\n",
    "            whether or not we're feature extracting, as boolean.\n",
    "    \"\"\"\n",
    "    if feature_extracting:\n",
    "        for param in model.parameters():\n",
    "            param.requires_grad = False"
   ]
  },
  {
   "cell_type": "code",
   "execution_count": null,
   "metadata": {
    "ExecuteTime": {
     "end_time": "2021-06-08T08:51:52.308158Z",
     "start_time": "2021-06-08T08:51:52.152782Z"
    },
    "hidden": true,
    "id": "-0jh4uctH-vz"
   },
   "outputs": [],
   "source": [
    "def initialize_model(num_labels, feature_extract, pretrained=True):\n",
    "    \"\"\" Initialize AlexNet model and reshape the last layer with the correct number of classes.\n",
    "    \n",
    "    Since AlexNet has been pretrained on Imagenet, it has output layers of size 1000, one node for each class. \n",
    "    We reshape the last layer to have the same number of inputs as before, and to have the same number of \n",
    "    outputs as the number of classes in our the dataset.\n",
    "    \n",
    "    Args:\n",
    "        num_labels:\n",
    "            number of labels in our dataset, as integer.\n",
    "        feature_extract:\n",
    "          flag for feature extracting (when False, we finetune the whole model, \n",
    "          when True we only update the reshaped layer params), as boolean.\n",
    "        pretrained:\n",
    "            whether or not we want the pretrained version of AlexNet, as boolean.\n",
    "    \n",
    "    Returns:\n",
    "        AlexNet model, as pytorch object\n",
    "    \"\"\"\n",
    "    model = models.alexnet(pretrained=pretrained)\n",
    "    \n",
    "    set_parameter_requires_grad(model, feature_extract)\n",
    "    \n",
    "    last_layer_in_ftrs = model.classifier[6].in_features\n",
    "    model.classifier[6] = nn.Linear(last_layer_in_ftrs, num_labels)\n",
    "    \n",
    "    return model"
   ]
  },
  {
   "cell_type": "markdown",
   "metadata": {
    "heading_collapsed": true,
    "id": "XO8xPoCTH-vz"
   },
   "source": [
    "# 3. Fit and Predict"
   ]
  },
  {
   "cell_type": "code",
   "execution_count": null,
   "metadata": {
    "hidden": true,
    "id": "TrmFsPy5H-v0"
   },
   "outputs": [],
   "source": [
    "def fit(dataloader, model, loss_fn, optimizer, print_loss=False):\n",
    "    \"\"\" Fit neural network.\n",
    "    \n",
    "    Args:\n",
    "        dataloader:\n",
    "            pytorch DataLoader object.\n",
    "        model:\n",
    "            neural network, as pytorch object.\n",
    "        loss_fn:\n",
    "            loss function, as pytorch object.\n",
    "        optimizer:\n",
    "            optimizer function, as pytorch object.\n",
    "        print_loss:\n",
    "            print loss on every batch, as boolean (default False)\n",
    "    \"\"\"\n",
    "    size = len(dataloader.dataset)\n",
    "    model.train()  # put on train mode\n",
    "    for batch, (X, Y) in enumerate(dataloader):\n",
    "        X, Y = X.to(device), Y.to(device)\n",
    "        \n",
    "        # compute prediction\n",
    "        pred = model(X)\n",
    "        \n",
    "        # compute loss\n",
    "        loss = loss_fn(pred, Y)\n",
    "\n",
    "        # reset the gradients\n",
    "        optimizer.zero_grad()\n",
    "        \n",
    "        # backpropagate\n",
    "        loss.backward()\n",
    "        \n",
    "        # update parameters\n",
    "        optimizer.step()\n",
    "\n",
    "        if print_loss and batch % 100 == 0:\n",
    "            loss, current = loss.item(), batch * len(X)\n",
    "            print(f\"loss: {loss:>7f} [{current:>5d}/{size:>5d}]\")"
   ]
  },
  {
   "cell_type": "code",
   "execution_count": null,
   "metadata": {
    "hidden": true,
    "id": "jva8uCbTH-v0"
   },
   "outputs": [],
   "source": [
    "def predict(dataloader, model, loss_fn):\n",
    "    \"\"\" Predict with neural network.\n",
    "    \n",
    "    Args:\n",
    "        dataloader:\n",
    "            pytorch DataLoader object.\n",
    "        model:\n",
    "            neural network, as pytorch object.\n",
    "        loss_fn:\n",
    "            loss function, as pytorch object.\n",
    "    \"\"\"\n",
    "    size = len(dataloader.dataset)\n",
    "    \n",
    "    test_loss = 0\n",
    "    correct = 0\n",
    "    \n",
    "    model.eval()  # put on evaluation mode\n",
    "    with torch.no_grad():\n",
    "        for X, Y in dataloader:\n",
    "            X, Y = X.to(device), Y.to(device)\n",
    "            \n",
    "            pred = model(X)\n",
    "            \n",
    "            test_loss += loss_fn(pred, Y).item()\n",
    "            \n",
    "            correct += (pred.argmax(1) == Y).type(torch.float).sum().item()\n",
    "\n",
    "    test_loss /= size\n",
    "    correct /= size\n",
    "    print(f\"average loss: {test_loss:>8f} \\naccuracy: {(100*correct):>0.1f}%\\n\")"
   ]
  },
  {
   "cell_type": "markdown",
   "metadata": {
    "id": "ZYPxyPAeH-v1"
   },
   "source": [
    "# 4. Final Model"
   ]
  },
  {
   "cell_type": "code",
   "execution_count": null,
   "metadata": {
    "colab": {
     "base_uri": "https://localhost:8080/"
    },
    "id": "R4nlzYQIH-v1",
    "outputId": "a3648a24-dfa0-4471-d811-3df0fc860f76"
   },
   "outputs": [],
   "source": [
    "batch_size = 64\n",
    "\n",
    "training_data, test_data = load_data(data_dir='cifar10')\n",
    "\n",
    "train_dataloader = DataLoader(training_data, batch_size=batch_size, shuffle=True)\n",
    "test_dataloader = DataLoader(test_data, batch_size=batch_size, shuffle=False)"
   ]
  },
  {
   "cell_type": "code",
   "execution_count": null,
   "metadata": {
    "colab": {
     "base_uri": "https://localhost:8080/"
    },
    "id": "4nP3g3pcH-v1",
    "outputId": "9949ab73-5d9a-4f4c-d540-9537741cf45a"
   },
   "outputs": [],
   "source": [
    "device = 'cuda' if torch.cuda.is_available() else 'cpu'\n",
    "print(f'Using {device} device')"
   ]
  },
  {
   "cell_type": "code",
   "execution_count": null,
   "metadata": {
    "ExecuteTime": {
     "end_time": "2021-06-08T08:53:25.985258Z",
     "start_time": "2021-06-08T08:53:22.576603Z"
    },
    "colab": {
     "base_uri": "https://localhost:8080/"
    },
    "id": "XK5oKBZoH-v2",
    "outputId": "0e059006-7b0d-4f89-dbc1-04abbff7aed8"
   },
   "outputs": [],
   "source": [
    "num_labels=10\n",
    "feature_extract=True\n",
    "pretrained=True\n",
    "\n",
    "model = initialize_model(num_labels=num_labels, feature_extract=feature_extract, pretrained=pretrained)\n",
    "model.to(device)\n",
    "\n",
    "print(f'Model architecture:\\n{model}')"
   ]
  },
  {
   "cell_type": "markdown",
   "metadata": {
    "id": "-muCizcxH-v2"
   },
   "source": [
    "Create an optimizer that **only** updates the desired parameters"
   ]
  },
  {
   "cell_type": "code",
   "execution_count": null,
   "metadata": {
    "colab": {
     "base_uri": "https://localhost:8080/"
    },
    "id": "VC9ajRTVH-v2",
    "outputId": "60512f86-73d2-4511-c172-686cbbba95da"
   },
   "outputs": [],
   "source": [
    "params_to_update = model.parameters()\n",
    "print(\"Parameters to learn:\")\n",
    "if feature_extract:\n",
    "    params_to_update = []\n",
    "    for name, param in model.named_parameters():\n",
    "        if param.requires_grad == True:\n",
    "            params_to_update.append(param)\n",
    "            print(\"\\t\", name)\n",
    "else:\n",
    "    for name, param in model.named_parameters():\n",
    "        if param.requires_grad == True:\n",
    "            print(\"\\t\", name)\n",
    "\n",
    "learning_rate = 0.001\n",
    "optimizer = Adam(params_to_update, lr=learning_rate)"
   ]
  },
  {
   "cell_type": "code",
   "execution_count": null,
   "metadata": {
    "id": "ws9ErAbVH-v2"
   },
   "outputs": [],
   "source": [
    "loss_fn = nn.CrossEntropyLoss()"
   ]
  },
  {
   "cell_type": "code",
   "execution_count": null,
   "metadata": {
    "colab": {
     "base_uri": "https://localhost:8080/"
    },
    "id": "C-gmn5N9H-v2",
    "outputId": "9096a298-2689-4c2f-d2a0-7a6ae9f66862"
   },
   "outputs": [],
   "source": [
    "epochs = 20\n",
    "\n",
    "for t in range(epochs):\n",
    "    print(f\"Epoch {t+1}\\n-------------------------------\")\n",
    "    \n",
    "    fit(train_dataloader, model, loss_fn, optimizer, print_loss=False)\n",
    "    \n",
    "    print('\\nTrain:\\n-------')\n",
    "    predict(train_dataloader, model, loss_fn)\n",
    "    \n",
    "    print('\\nTest:\\n-------')\n",
    "    predict(test_dataloader, model, loss_fn)\n",
    "    \n",
    "    print(f\"-------------------------------\")"
   ]
  }
 ],
 "metadata": {
  "accelerator": "GPU",
  "colab": {
   "collapsed_sections": [],
   "name": "AlexNet.ipynb",
   "provenance": []
  },
  "kernelspec": {
   "display_name": "Python 3",
   "language": "python",
   "name": "python3"
  },
  "language_info": {
   "codemirror_mode": {
    "name": "ipython",
    "version": 3
   },
   "file_extension": ".py",
   "mimetype": "text/x-python",
   "name": "python",
   "nbconvert_exporter": "python",
   "pygments_lexer": "ipython3",
   "version": "3.8.5"
  },
  "toc": {
   "base_numbering": 1,
   "nav_menu": {},
   "number_sections": false,
   "sideBar": true,
   "skip_h1_title": false,
   "title_cell": "Table of Contents",
   "title_sidebar": "Contents",
   "toc_cell": false,
   "toc_position": {
    "height": "calc(100% - 180px)",
    "left": "10px",
    "top": "150px",
    "width": "206.2px"
   },
   "toc_section_display": true,
   "toc_window_display": true
  }
 },
 "nbformat": 4,
 "nbformat_minor": 1
}
