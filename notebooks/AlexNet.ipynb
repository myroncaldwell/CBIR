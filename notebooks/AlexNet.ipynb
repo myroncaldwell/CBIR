{
 "cells": [
  {
   "cell_type": "code",
   "execution_count": null,
   "metadata": {},
   "outputs": [],
   "source": [
    "from torchvision import datasets\n",
    "\n",
    "import numpy as np\n",
    "\n",
    "# preprocessing\n",
    "from torch.utils.data import Dataset, DataLoader\n",
    "import torchvision.transforms as transforms\n",
    "from torch.utils.data import random_split\n",
    "\n",
    "# model\n",
    "from torchvision.models import alexnet"
   ]
  },
  {
   "cell_type": "markdown",
   "metadata": {
    "heading_collapsed": true
   },
   "source": [
    "# 1. Load Data\n",
    "\n",
    "**(?) normalization**"
   ]
  },
  {
   "cell_type": "code",
   "execution_count": null,
   "metadata": {
    "hidden": true
   },
   "outputs": [],
   "source": [
    "def load_data(data_dir):\n",
    "    \"\"\" Create train and test pytorch dataset objects from CIFAR10.\n",
    "    \n",
    "    The following tranformations are applied on CIFAR10:\n",
    "        * image pixels to [0, 1] range,\n",
    "        * normalization (by substracting mean and dividing with std according to ImageNet)\n",
    "    \n",
    "    Args:\n",
    "        data_dir:\n",
    "            directory where data will be saved, as a string.\n",
    "    \n",
    "    Returns:\n",
    "        train and test dataset, as pytorch dataset objects.\n",
    "    \"\"\"\n",
    "    transform = transforms.Compose([\n",
    "        transforms.ToTensor(),\n",
    "        transforms.Normalize(mean=[0.485, 0.456, 0.406], std=[0.229, 0.224, 0.225])\n",
    "    ])\n",
    "\n",
    "    trainset = datasets.CIFAR10(root=data_dir,\n",
    "                                train=True, \n",
    "                                download=True, \n",
    "                                transform=transform)\n",
    "\n",
    "    testset = datasets.CIFAR10(root=data_dir, \n",
    "                               train=False, \n",
    "                               download=True, \n",
    "                               transform=transform)\n",
    "\n",
    "    return trainset, testset"
   ]
  },
  {
   "cell_type": "code",
   "execution_count": null,
   "metadata": {
    "hidden": true
   },
   "outputs": [],
   "source": [
    "training_data, test_data = load_data(data_dir='cifar10')\n",
    "\n",
    "print(f'\\nTraining data:\\n--------------\\n{training_data}')\n",
    "print(f'Test data:\\n--------------\\n{test_data}')"
   ]
  },
  {
   "cell_type": "markdown",
   "metadata": {
    "heading_collapsed": true
   },
   "source": [
    "# 2. AlexNet\n",
    "\n",
    "Architecture: **TODO**"
   ]
  },
  {
   "cell_type": "markdown",
   "metadata": {
    "hidden": true
   },
   "source": [
    "**pretrained** AlexNet model"
   ]
  },
  {
   "cell_type": "code",
   "execution_count": null,
   "metadata": {
    "hidden": true
   },
   "outputs": [],
   "source": [
    "model_pretrained = alexnet(pretrained=True, progress=True)"
   ]
  },
  {
   "cell_type": "markdown",
   "metadata": {
    "hidden": true
   },
   "source": [
    "**non pretrained** AlexNet model"
   ]
  },
  {
   "cell_type": "code",
   "execution_count": null,
   "metadata": {
    "hidden": true
   },
   "outputs": [],
   "source": [
    "model = alexnet(pretrained=False)"
   ]
  },
  {
   "cell_type": "markdown",
   "metadata": {
    "heading_collapsed": true
   },
   "source": [
    "# 3. Fit and Predict"
   ]
  },
  {
   "cell_type": "code",
   "execution_count": null,
   "metadata": {
    "hidden": true
   },
   "outputs": [],
   "source": [
    "def fit(dataloader, model, loss_fn, optimizer, print_loss=False):\n",
    "    \"\"\" Fit neural network.\n",
    "    \n",
    "    Args:\n",
    "        dataloader:\n",
    "            pytorch DataLoader object.\n",
    "        model:\n",
    "            neural network, as pytorch object.\n",
    "        loss_fn:\n",
    "            loss function, as pytorch object.\n",
    "        optimizer:\n",
    "            optimizer function, as pytorch object.\n",
    "        print_loss:\n",
    "            print loss on every batch, as boolean (default False)\n",
    "    \"\"\"\n",
    "    size = len(dataloader.dataset)\n",
    "    model.train()  # put on train mode\n",
    "    for batch, (X, Y) in enumerate(dataloader):\n",
    "        X, Y = X.to(device), Y.to(device)\n",
    "        \n",
    "        # compute prediction\n",
    "        pred = model(X)\n",
    "        \n",
    "        # compute loss\n",
    "        loss = loss_fn(pred, Y)\n",
    "\n",
    "        # reset the gradients\n",
    "        optimizer.zero_grad()\n",
    "        \n",
    "        # backpropagate\n",
    "        loss.backward()\n",
    "        \n",
    "        # update parameters\n",
    "        optimizer.step()\n",
    "\n",
    "        if print_loss and batch % 100 == 0:\n",
    "            loss, current = loss.item(), batch * len(X)\n",
    "            print(f\"loss: {loss:>7f} [{current:>5d}/{size:>5d}]\")"
   ]
  },
  {
   "cell_type": "code",
   "execution_count": null,
   "metadata": {
    "hidden": true
   },
   "outputs": [],
   "source": [
    "def predict(dataloader, model, loss_fn):\n",
    "    \"\"\" Predict with neural network.\n",
    "    \n",
    "    Args:\n",
    "        dataloader:\n",
    "            pytorch DataLoader object.\n",
    "        model:\n",
    "            neural network, as pytorch object.\n",
    "        loss_fn:\n",
    "            loss function, as pytorch object.\n",
    "    \"\"\"\n",
    "    size = len(dataloader.dataset)\n",
    "    \n",
    "    test_loss = 0\n",
    "    correct = 0\n",
    "    \n",
    "    model.eval()  # put on evaluation mode\n",
    "    with torch.no_grad():\n",
    "        for X, Y in dataloader:\n",
    "            X, Y = X.to(device), Y.to(device)\n",
    "            \n",
    "            pred = model(X)\n",
    "            \n",
    "            test_loss += loss_fn(pred, Y).item()\n",
    "            \n",
    "            correct += (pred.argmax(1) == Y).type(torch.float).sum().item()\n",
    "\n",
    "    test_loss /= size\n",
    "    correct /= size\n",
    "    print(f\"average loss: {test_loss:>8f} \\naccuracy: {(100*correct):>0.1f}%\\n\")"
   ]
  }
 ],
 "metadata": {
  "kernelspec": {
   "display_name": "Python [conda env:image-retrieval]",
   "language": "python",
   "name": "conda-env-image-retrieval-py"
  },
  "language_info": {
   "codemirror_mode": {
    "name": "ipython",
    "version": 3
   },
   "file_extension": ".py",
   "mimetype": "text/x-python",
   "name": "python",
   "nbconvert_exporter": "python",
   "pygments_lexer": "ipython3",
   "version": "3.7.10"
  },
  "toc": {
   "base_numbering": 1,
   "nav_menu": {},
   "number_sections": false,
   "sideBar": true,
   "skip_h1_title": false,
   "title_cell": "Table of Contents",
   "title_sidebar": "Contents",
   "toc_cell": false,
   "toc_position": {
    "height": "calc(100% - 180px)",
    "left": "10px",
    "top": "150px",
    "width": "206.2px"
   },
   "toc_section_display": true,
   "toc_window_display": true
  }
 },
 "nbformat": 4,
 "nbformat_minor": 4
}
