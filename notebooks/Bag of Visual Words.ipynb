{
 "cells": [
  {
   "cell_type": "code",
   "execution_count": null,
   "metadata": {
    "ExecuteTime": {
     "end_time": "2021-05-26T18:30:41.164073Z",
     "start_time": "2021-05-26T18:30:00.355181Z"
    }
   },
   "outputs": [],
   "source": [
    "from keras.datasets import cifar10\n",
    "\n",
    "import joblib\n",
    "import numpy as np\n",
    "import cv2 as cv\n",
    "from skimage.feature import hog\n",
    "\n",
    "# visualization\n",
    "%matplotlib inline\n",
    "import matplotlib.pyplot as plt\n",
    "from tabulate import tabulate\n",
    "\n",
    "from sklearn.preprocessing import minmax_scale, scale\n",
    "from sklearn.model_selection import train_test_split, GridSearchCV\n",
    "from sklearn.metrics import accuracy_score\n",
    "\n",
    "# models\n",
    "from sklearn.cluster import MiniBatchKMeans\n",
    "from sklearn.linear_model import LogisticRegression\n",
    "from sklearn.neighbors import KNeighborsClassifier\n",
    "from sklearn.ensemble import RandomForestClassifier"
   ]
  },
  {
   "cell_type": "markdown",
   "metadata": {},
   "source": [
    "# BoVW (Bag of Visual Words)\n",
    "Dataset: <a href='https://www.cs.toronto.edu/~kriz/cifar.html' target=\"_blank\"> CIFAR-10 </a> <br/>\n",
    "Classes: airplane, automobile, bird, cat, deer, dog, frog, horse, ship, truck"
   ]
  },
  {
   "cell_type": "markdown",
   "metadata": {
    "heading_collapsed": true
   },
   "source": [
    "## 1. Load Data"
   ]
  },
  {
   "cell_type": "code",
   "execution_count": null,
   "metadata": {
    "ExecuteTime": {
     "end_time": "2021-05-26T18:30:42.008827Z",
     "start_time": "2021-05-26T18:30:41.166069Z"
    },
    "hidden": true
   },
   "outputs": [],
   "source": [
    "(X_train, Y_train), (X_test, Y_test) = cifar10.load_data()"
   ]
  },
  {
   "cell_type": "code",
   "execution_count": null,
   "metadata": {
    "ExecuteTime": {
     "end_time": "2021-05-26T18:30:42.070648Z",
     "start_time": "2021-05-26T18:30:42.011805Z"
    },
    "hidden": true
   },
   "outputs": [],
   "source": [
    "X_train = X_train.astype('uint8')\n",
    "X_test = X_test.astype('uint8')"
   ]
  },
  {
   "cell_type": "code",
   "execution_count": null,
   "metadata": {
    "ExecuteTime": {
     "end_time": "2021-05-26T18:30:42.118520Z",
     "start_time": "2021-05-26T18:30:42.073641Z"
    },
    "hidden": true
   },
   "outputs": [],
   "source": [
    "print(f'Total train data: {X_train.shape[0]}')\n",
    "print(f'Total test data: {X_test.shape[0]}')\n",
    "print(f'Image dimensions: {X_train.shape[1], X_train.shape[2], X_train.shape[3]}')"
   ]
  },
  {
   "cell_type": "code",
   "execution_count": null,
   "metadata": {
    "ExecuteTime": {
     "end_time": "2021-05-26T17:39:43.034702Z",
     "start_time": "2021-05-26T17:39:42.793837Z"
    },
    "hidden": true
   },
   "outputs": [],
   "source": [
    "plt.imshow(X_train[4])\n",
    "plt.title('RGB Image')"
   ]
  },
  {
   "cell_type": "markdown",
   "metadata": {
    "heading_collapsed": true
   },
   "source": [
    "## 2. Preprocessing"
   ]
  },
  {
   "cell_type": "markdown",
   "metadata": {
    "heading_collapsed": true,
    "hidden": true
   },
   "source": [
    "### 2.1 Grayscale"
   ]
  },
  {
   "cell_type": "code",
   "execution_count": null,
   "metadata": {
    "ExecuteTime": {
     "end_time": "2021-05-11T18:17:15.186286Z",
     "start_time": "2021-05-11T18:17:15.173234Z"
    },
    "hidden": true
   },
   "outputs": [],
   "source": [
    "def to_grayscale(images):\n",
    "    \"\"\" Converts RGB images to grayscale.\n",
    "    \n",
    "    Args:\n",
    "        images:\n",
    "            Numpy array of images in RGB format.\n",
    "    \n",
    "    Returns:\n",
    "        Numpy array of grayscale images.\n",
    "    \"\"\"\n",
    "    grayscale = np.zeros((images.shape[0], images.shape[1], images.shape[2])).astype('uint8')\n",
    "    \n",
    "    for img_idx in range(images.shape[0]):\n",
    "        grayscale[img_idx] = cv.cvtColor(images[img_idx], cv.COLOR_RGB2GRAY)\n",
    "    \n",
    "    return grayscale"
   ]
  },
  {
   "cell_type": "code",
   "execution_count": null,
   "metadata": {
    "ExecuteTime": {
     "end_time": "2021-05-11T18:17:16.003694Z",
     "start_time": "2021-05-11T18:17:15.187210Z"
    },
    "hidden": true
   },
   "outputs": [],
   "source": [
    "X_train_grayscale = to_grayscale(X_train)\n",
    "X_test_grayscale = to_grayscale(X_test)"
   ]
  },
  {
   "cell_type": "code",
   "execution_count": null,
   "metadata": {
    "ExecuteTime": {
     "end_time": "2021-05-11T18:17:16.019714Z",
     "start_time": "2021-05-11T18:17:16.006718Z"
    },
    "hidden": true
   },
   "outputs": [],
   "source": [
    "print(f'Image dimensions in grayscale: {X_train_grayscale.shape[1], X_train_grayscale.shape[2]}')"
   ]
  },
  {
   "cell_type": "code",
   "execution_count": null,
   "metadata": {
    "ExecuteTime": {
     "end_time": "2021-05-11T18:17:16.319773Z",
     "start_time": "2021-05-11T18:17:16.021649Z"
    },
    "hidden": true
   },
   "outputs": [],
   "source": [
    "plt.imshow(X_train_grayscale[4], cmap='gray')\n",
    "plt.title('Grayscale Image')"
   ]
  },
  {
   "cell_type": "markdown",
   "metadata": {
    "heading_collapsed": true
   },
   "source": [
    "## 3. Features\n",
    "\n",
    "* HOG\n",
    "* SIFT\n",
    "* Gray Color Histogram"
   ]
  },
  {
   "cell_type": "markdown",
   "metadata": {
    "heading_collapsed": true,
    "hidden": true
   },
   "source": [
    "### 3.1 SIFT"
   ]
  },
  {
   "cell_type": "code",
   "execution_count": null,
   "metadata": {
    "ExecuteTime": {
     "end_time": "2021-05-26T18:30:42.260141Z",
     "start_time": "2021-05-26T18:30:42.123508Z"
    },
    "hidden": true
   },
   "outputs": [],
   "source": [
    "def sift_features(images):\n",
    "    \"\"\" Extracts image keypoints and descriptors using SIFT.\n",
    "    \n",
    "    Args:\n",
    "        images:\n",
    "            Numpy array of images in grayscale format.\n",
    "    \n",
    "    Returns:\n",
    "        keypoints and descriptors as lists.\n",
    "    \"\"\"\n",
    "    sift = cv.xfeatures2d.SIFT_create(contrastThreshold=0.02, sigma=0.9)\n",
    "    \n",
    "    keypoints = []\n",
    "    descriptors = []\n",
    "    \n",
    "    for img_idx in range(images.shape[0]):\n",
    "        kp, des = sift.detectAndCompute(images[img_idx], None)\n",
    "        keypoints.append(kp)\n",
    "        descriptors.append(des)\n",
    "    \n",
    "    return keypoints, descriptors"
   ]
  },
  {
   "cell_type": "code",
   "execution_count": null,
   "metadata": {
    "ExecuteTime": {
     "end_time": "2021-05-26T18:31:58.496595Z",
     "start_time": "2021-05-26T18:30:42.262136Z"
    },
    "hidden": true
   },
   "outputs": [],
   "source": [
    "kp_sift_train, des_sift_train = sift_features(X_train_grayscale) \n",
    "kp_sift_test, des_sift_test = sift_features(X_test_grayscale)"
   ]
  },
  {
   "cell_type": "code",
   "execution_count": null,
   "metadata": {
    "ExecuteTime": {
     "end_time": "2021-05-11T18:18:10.949769Z",
     "start_time": "2021-05-11T18:18:10.839063Z"
    },
    "hidden": true
   },
   "outputs": [],
   "source": [
    "img = cv.drawKeypoints(X_train_grayscale[4], kp_sift_train[4], None)\n",
    "\n",
    "plt.imshow(img)\n",
    "plt.title('SIFT keypoints')"
   ]
  },
  {
   "cell_type": "markdown",
   "metadata": {
    "heading_collapsed": true,
    "hidden": true
   },
   "source": [
    "### 3.2 HOG"
   ]
  },
  {
   "cell_type": "code",
   "execution_count": null,
   "metadata": {
    "ExecuteTime": {
     "end_time": "2021-05-26T18:32:01.852191Z",
     "start_time": "2021-05-26T18:31:58.609295Z"
    },
    "hidden": true
   },
   "outputs": [],
   "source": [
    "def hog_features(images):\n",
    "    \"\"\" Extracts image histogram of oriented gradients.\n",
    "    \n",
    "    Args:\n",
    "        images:\n",
    "            Numpy array of images in grayscale format.\n",
    "    \n",
    "    Returns:\n",
    "        HOG descriptor for the image, as numpy array.\n",
    "    \"\"\"\n",
    "    hog_descriptors = []\n",
    "    \n",
    "    for img_idx in range(images.shape[0]):\n",
    "        fd = hog(images[img_idx], \n",
    "                 orientations=9, \n",
    "                 pixels_per_cell=(8, 8),\n",
    "                 cells_per_block=(2, 2), \n",
    "                 block_norm = 'L2-Hys',\n",
    "                 transform_sqrt=True,\n",
    "                 feature_vector = True,\n",
    "                 visualize=False)  \n",
    "        hog_descriptors.append(fd)\n",
    "    \n",
    "    return hog_descriptors"
   ]
  },
  {
   "cell_type": "code",
   "execution_count": null,
   "metadata": {
    "ExecuteTime": {
     "end_time": "2021-05-26T18:32:36.989474Z",
     "start_time": "2021-05-26T18:32:01.885103Z"
    },
    "hidden": true
   },
   "outputs": [],
   "source": [
    "des_hog_train = hog_features(X_train_grayscale)\n",
    "des_hog_test = hog_features(X_test_grayscale)"
   ]
  },
  {
   "cell_type": "markdown",
   "metadata": {
    "heading_collapsed": true,
    "hidden": true
   },
   "source": [
    "### 3.3 Gray Color Histogram"
   ]
  },
  {
   "cell_type": "code",
   "execution_count": null,
   "metadata": {
    "ExecuteTime": {
     "end_time": "2021-05-11T18:18:36.991665Z",
     "start_time": "2021-05-11T18:18:36.977701Z"
    },
    "hidden": true
   },
   "outputs": [],
   "source": [
    "def color_histogram(images):\n",
    "    \"\"\" Extracts image gray color histogram.\n",
    "    \n",
    "    Args:\n",
    "        images:\n",
    "            Numpy array of images in grayscale format.\n",
    "    \n",
    "    Returns:\n",
    "        Gray color histogram, as numpy array.\n",
    "    \"\"\"\n",
    "    color_hists = []\n",
    "    \n",
    "    for img_idx in range(images.shape[0]):\n",
    "        color_hist = cv.calcHist([images[img_idx]], [0], None, [256], [0, 256])\n",
    "        color_hists.append(color_hist.ravel())\n",
    "    \n",
    "    return color_hists"
   ]
  },
  {
   "cell_type": "code",
   "execution_count": null,
   "metadata": {
    "ExecuteTime": {
     "end_time": "2021-05-11T18:18:37.522156Z",
     "start_time": "2021-05-11T18:18:36.993660Z"
    },
    "hidden": true
   },
   "outputs": [],
   "source": [
    "color_hist_train = color_histogram(X_train_grayscale)\n",
    "color_hist_test = color_histogram(X_test_grayscale)"
   ]
  },
  {
   "cell_type": "markdown",
   "metadata": {
    "heading_collapsed": true
   },
   "source": [
    "## 4. Bag of Visual Words"
   ]
  },
  {
   "cell_type": "markdown",
   "metadata": {
    "heading_collapsed": true,
    "hidden": true
   },
   "source": [
    "### 4.1 Visual Vocabulary"
   ]
  },
  {
   "cell_type": "code",
   "execution_count": null,
   "metadata": {
    "ExecuteTime": {
     "end_time": "2021-05-10T16:49:58.543948Z",
     "start_time": "2021-05-10T16:49:58.529521Z"
    },
    "hidden": true
   },
   "outputs": [],
   "source": [
    "def get_visual_words(descriptors, n_clusters=8, n_init=10, max_iter=300):\n",
    "    \"\"\" Finds the vocabulary of visual words.\n",
    "\n",
    "    To find the vocabulary of visual words, k-means is used. The centroids found by k-means\n",
    "    form the vocabulary.\n",
    "\n",
    "    Args:\n",
    "        descriptors:\n",
    "            descriptors, as a list of numpy arrays.\n",
    "        n_clusters:\n",
    "            The number of clusters to form as well as the number of centroids to generate, as int (default=8).\n",
    "        n_init:\n",
    "            Number of time the k-means algorithm will be run with different centroid seeds, as int (default=10).\n",
    "        max_iter:\n",
    "            Maximum number of iterations of the k-means algorithm for a single run, as int (default=300)\n",
    "\n",
    "    Returns:\n",
    "        Fitted k-means, holding the vocabulary of visual words .\n",
    "    \"\"\"\n",
    "    descriptors_raw = []\n",
    "    for des in descriptors:\n",
    "        if des is not None:\n",
    "            descriptors_raw.extend(des)\n",
    "\n",
    "    kmeans = MiniBatchKMeans(n_clusters=n_clusters, batch_size=64, n_init=n_init, max_iter=max_iter)\n",
    "\n",
    "    visual_words = kmeans.fit(descriptors_raw)\n",
    "\n",
    "    return visual_words"
   ]
  },
  {
   "cell_type": "code",
   "execution_count": null,
   "metadata": {
    "ExecuteTime": {
     "end_time": "2021-05-10T16:49:58.763383Z",
     "start_time": "2021-05-10T16:49:58.544978Z"
    },
    "hidden": true
   },
   "outputs": [],
   "source": [
    "visual_words = get_visual_words(descriptors=des_sift_train, n_clusters=500)"
   ]
  },
  {
   "cell_type": "markdown",
   "metadata": {
    "heading_collapsed": true,
    "hidden": true
   },
   "source": [
    "### 4.2 Vector Representations"
   ]
  },
  {
   "cell_type": "code",
   "execution_count": null,
   "metadata": {
    "ExecuteTime": {
     "end_time": "2021-05-26T18:08:05.238711Z",
     "start_time": "2021-05-26T18:08:05.189341Z"
    },
    "hidden": true
   },
   "outputs": [],
   "source": [
    "def get_vector_representation(visual_words, descriptors):\n",
    "    \"\"\" Computes the vector representation of images.\n",
    "\n",
    "    The representation is based on the image descriptors and a predefined BoVW model. Specifically,\n",
    "    it's a histogram of the frequencies of visual words from the vocabulary of the BoVW.\n",
    "\n",
    "    Args:\n",
    "        visual_words:\n",
    "            precomputed k-means model with the vocabulary of visual words.\n",
    "        descriptors:\n",
    "            descriptors, as list of numpy arrays.\n",
    "\n",
    "    Returns:\n",
    "        Vector representations of images, as list of numpy array.\n",
    "    \"\"\"\n",
    "    histograms = []\n",
    "    for desc in descriptors:\n",
    "        hist = np.zeros(visual_words.cluster_centers_.shape[0])\n",
    "        if desc is not None:\n",
    "            for d in desc:\n",
    "                # find the cluster each descriptor is close to\n",
    "                cluster_idx = visual_words.predict([d.astype(float)])\n",
    "                hist[cluster_idx] += 1\n",
    "            histograms.append(hist)\n",
    "    \n",
    "    return histograms"
   ]
  },
  {
   "cell_type": "code",
   "execution_count": null,
   "metadata": {
    "ExecuteTime": {
     "start_time": "2021-05-26T18:08:08.401Z"
    },
    "hidden": true
   },
   "outputs": [],
   "source": [
    "des_sift_train = get_vector_representation(visual_words, des_sift_train)\n",
    "des_sift_test = get_vector_representation(visual_words, des_sift_test)"
   ]
  },
  {
   "cell_type": "markdown",
   "metadata": {
    "heading_collapsed": true
   },
   "source": [
    "## 5. Early Fusion"
   ]
  },
  {
   "cell_type": "markdown",
   "metadata": {
    "heading_collapsed": true,
    "hidden": true
   },
   "source": [
    "### 5.1 Early Fusion: HOG + GCH"
   ]
  },
  {
   "cell_type": "code",
   "execution_count": null,
   "metadata": {
    "ExecuteTime": {
     "end_time": "2021-05-10T17:16:57.678009Z",
     "start_time": "2021-05-10T17:16:55.871592Z"
    },
    "hidden": true
   },
   "outputs": [],
   "source": [
    "X_train_hog_gch = []\n",
    "for idx in range(X_train_grayscale.shape[0]):\n",
    "    fused = np.concatenate((des_hog_train[idx], color_hist_train[idx]), axis=None)\n",
    "    X_train_hog_gch.append(fused)\n",
    "\n",
    "X_test_hog_gch = []\n",
    "for idx in range(X_test_grayscale.shape[0]):\n",
    "    fused = np.concatenate((des_hog_test[idx], color_hist_test[idx]), axis=None)\n",
    "    X_test_hog_gch.append(fused)"
   ]
  },
  {
   "cell_type": "code",
   "execution_count": null,
   "metadata": {
    "ExecuteTime": {
     "end_time": "2021-05-10T17:16:57.708093Z",
     "start_time": "2021-05-10T17:16:57.694096Z"
    },
    "hidden": true
   },
   "outputs": [],
   "source": [
    "print(f'Number of features: {X_train_hog_gch[0].shape[0]}')"
   ]
  },
  {
   "cell_type": "markdown",
   "metadata": {
    "heading_collapsed": true,
    "hidden": true
   },
   "source": [
    "### 5.2 Early Fusion: HOG + SIFT"
   ]
  },
  {
   "cell_type": "code",
   "execution_count": null,
   "metadata": {
    "ExecuteTime": {
     "start_time": "2021-05-26T18:09:04.841Z"
    },
    "hidden": true
   },
   "outputs": [],
   "source": [
    "X_train_hog_sift = []\n",
    "for idx in range(X_train_grayscale.shape[0]):\n",
    "    fused = np.concatenate((des_hog_train[idx], des_sift_train[idx]), axis=None)\n",
    "    X_train_hog_sift.append(fused)\n",
    "\n",
    "X_test_hog_sift = []\n",
    "for idx in range(X_test_grayscale.shape[0]):\n",
    "    fused = np.concatenate((des_hog_test[idx], des_sift_test[idx]), axis=None)\n",
    "    X_test_hog_sift.append(fused)"
   ]
  },
  {
   "cell_type": "code",
   "execution_count": null,
   "metadata": {
    "ExecuteTime": {
     "start_time": "2021-05-26T18:09:08.224Z"
    },
    "hidden": true
   },
   "outputs": [],
   "source": [
    "print(f'Number of features: {X_train_hog_sift[0].shape[0]}')"
   ]
  },
  {
   "cell_type": "markdown",
   "metadata": {
    "heading_collapsed": true,
    "hidden": true
   },
   "source": [
    "### 5.3 Early Fusion: HOG + GCH + SIFT"
   ]
  },
  {
   "cell_type": "code",
   "execution_count": null,
   "metadata": {
    "ExecuteTime": {
     "end_time": "2021-05-10T17:21:44.541368Z",
     "start_time": "2021-05-10T17:21:43.732653Z"
    },
    "hidden": true
   },
   "outputs": [],
   "source": [
    "X_train_hog_gch_sift = []\n",
    "for idx in range(X_train_grayscale.shape[0]):\n",
    "    fused = np.concatenate((des_hog_train[idx], color_hist_train[idx]), axis=None)\n",
    "    fused = np.concatenate((fused, des_sift_train[idx]), axis=None)\n",
    "    X_train_hog_gch_sift.append(fused)\n",
    "\n",
    "X_test_hog_gch_sift = []\n",
    "for idx in range(X_test_grayscale.shape[0]):\n",
    "    fused = np.concatenate((des_hog_test[idx], color_hist_test[idx]), axis=None)\n",
    "    fused = np.concatenate((fused, des_sift_test[idx]), axis=None)\n",
    "    X_test_hog_gch_sift.append(fused)"
   ]
  },
  {
   "cell_type": "code",
   "execution_count": null,
   "metadata": {
    "ExecuteTime": {
     "end_time": "2021-05-10T17:22:01.714023Z",
     "start_time": "2021-05-10T17:22:01.693046Z"
    },
    "hidden": true
   },
   "outputs": [],
   "source": [
    "print(f'Number of features: {X_train_hog_gch_sift[0].shape[0]}')"
   ]
  },
  {
   "cell_type": "markdown",
   "metadata": {
    "heading_collapsed": true
   },
   "source": [
    "## 6. Scaling"
   ]
  },
  {
   "cell_type": "markdown",
   "metadata": {
    "heading_collapsed": true,
    "hidden": true
   },
   "source": [
    "### 6.1 Minmax Scaling"
   ]
  },
  {
   "cell_type": "code",
   "execution_count": null,
   "metadata": {
    "ExecuteTime": {
     "end_time": "2021-05-11T17:53:46.686331Z",
     "start_time": "2021-05-11T17:53:45.807066Z"
    },
    "hidden": true
   },
   "outputs": [],
   "source": [
    "X_train_scaled = minmax_scale(np.array(X_train_hog_sift))\n",
    "X_test_scaled = minmax_scale(np.array(X_test_hog_sift))"
   ]
  },
  {
   "cell_type": "markdown",
   "metadata": {
    "heading_collapsed": true,
    "hidden": true
   },
   "source": [
    "### 6.2 Standardize"
   ]
  },
  {
   "cell_type": "code",
   "execution_count": null,
   "metadata": {
    "ExecuteTime": {
     "end_time": "2021-05-11T17:53:48.805669Z",
     "start_time": "2021-05-11T17:53:46.692316Z"
    },
    "hidden": true
   },
   "outputs": [],
   "source": [
    "X_train_stand = scale(np.array(X_train_hog_sift))\n",
    "X_test_stand = scale(np.array(X_test_hog_sift))"
   ]
  },
  {
   "cell_type": "markdown",
   "metadata": {},
   "source": [
    "## 7. Classification"
   ]
  },
  {
   "cell_type": "markdown",
   "metadata": {},
   "source": [
    "### 7.1 Logistic Regression"
   ]
  },
  {
   "cell_type": "code",
   "execution_count": null,
   "metadata": {
    "ExecuteTime": {
     "end_time": "2021-05-11T16:37:45.785131Z",
     "start_time": "2021-05-11T16:37:45.770197Z"
    }
   },
   "outputs": [],
   "source": [
    "# hyperparameter space\n",
    "space = {\n",
    "    'C': [0.01, 0.1, 1, 10],\n",
    "    'class_weight': [None],\n",
    "    'max_iter': [5000] \n",
    "}\n",
    "\n",
    "clf = LogisticRegression()"
   ]
  },
  {
   "cell_type": "code",
   "execution_count": null,
   "metadata": {
    "ExecuteTime": {
     "start_time": "2021-05-11T16:37:47.814Z"
    }
   },
   "outputs": [],
   "source": [
    "# hyperparameter tunning & cross validation\n",
    "search = GridSearchCV(clf, space, scoring=\"accuracy\", cv=10)\n",
    "results = search.fit(X_train_hog_sift, Y_train.ravel())\n",
    "\n",
    "print(results.best_score_)\n",
    "print(results.best_params_)"
   ]
  },
  {
   "cell_type": "code",
   "execution_count": null,
   "metadata": {
    "ExecuteTime": {
     "end_time": "2021-05-11T18:36:48.428383Z",
     "start_time": "2021-05-11T18:34:04.729544Z"
    }
   },
   "outputs": [],
   "source": [
    "clf = LogisticRegression(C=10, class_weight=None, max_iter=5000)\n",
    "\n",
    "clf.fit(X_train_hog_sift, Y_train.ravel())\n",
    "\n",
    "Y_train_pred = clf.predict(X_train_hog_sift)\n",
    "Y_test_pred = clf.predict(X_test_hog_sift)\n",
    "\n",
    "print(f'Train accuracy: {accuracy_score(Y_train.ravel(), Y_train_pred)}')\n",
    "print(f'Test accuracy: {accuracy_score(Y_test.ravel(), Y_test_pred)}')"
   ]
  },
  {
   "cell_type": "markdown",
   "metadata": {
    "heading_collapsed": true
   },
   "source": [
    "### 7.2 kNN"
   ]
  },
  {
   "cell_type": "code",
   "execution_count": null,
   "metadata": {
    "ExecuteTime": {
     "end_time": "2021-04-22T13:14:45.478253Z",
     "start_time": "2021-04-22T13:14:45.465290Z"
    },
    "hidden": true
   },
   "outputs": [],
   "source": [
    "# hyperparameter space\n",
    "space = {\n",
    "    'n_neighbors': list(range(1, 20, 3)),\n",
    "    'weights': ['uniform', 'distance']\n",
    "}\n",
    "\n",
    "clf = KNeighborsClassifier()"
   ]
  },
  {
   "cell_type": "code",
   "execution_count": null,
   "metadata": {
    "ExecuteTime": {
     "end_time": "2021-04-22T15:04:49.112505Z",
     "start_time": "2021-04-22T14:25:22.840539Z"
    },
    "hidden": true
   },
   "outputs": [],
   "source": [
    "# hyperparameter tunning & cross validation\n",
    "search = GridSearchCV(clf, space, scoring=\"accuracy\", cv=10)\n",
    "results = search.fit(X_train_hog_sift, Y_train.ravel())\n",
    "\n",
    "print(results.best_score_)\n",
    "print(results.best_params_)"
   ]
  },
  {
   "cell_type": "code",
   "execution_count": null,
   "metadata": {
    "ExecuteTime": {
     "end_time": "2021-05-10T21:10:19.677094Z",
     "start_time": "2021-05-10T21:08:31.361128Z"
    },
    "hidden": true
   },
   "outputs": [],
   "source": [
    "clf = KNeighborsClassifier(n_neighbors=19, weights='distance')\n",
    "\n",
    "clf.fit(X_train_hog_sift, Y_train.ravel())\n",
    "\n",
    "Y_train_pred = clf.predict(X_train_hog_sift)\n",
    "Y_test_pred = clf.predict(X_test_hog_sift)\n",
    "\n",
    "print(f'Train accuracy: {accuracy_score(Y_train.ravel(), Y_train_pred)}')\n",
    "print(f'Test accuracy: {accuracy_score(Y_test.ravel(), Y_test_pred)}')"
   ]
  },
  {
   "cell_type": "markdown",
   "metadata": {
    "heading_collapsed": true
   },
   "source": [
    "### 7.3 Random Forest"
   ]
  },
  {
   "cell_type": "code",
   "execution_count": null,
   "metadata": {
    "ExecuteTime": {
     "start_time": "2021-04-22T15:48:41.308Z"
    },
    "hidden": true
   },
   "outputs": [],
   "source": [
    "# hyperparameter space\n",
    "max_depth = (np.linspace(10, 50, num = 5).astype(int)).tolist()\n",
    "max_depth.append(None)\n",
    "space = {\n",
    "    'n_estimators': list(range(10, 101, 10)),\n",
    "    'max_depth': max_depth ,\n",
    "    'min_samples_split': [2, 5, 10],\n",
    "    'min_samples_leaf': [1, 3, 5],\n",
    "}\n",
    "\n",
    "clf = RandomForestClassifier()"
   ]
  },
  {
   "cell_type": "code",
   "execution_count": null,
   "metadata": {
    "ExecuteTime": {
     "start_time": "2021-04-22T15:48:41.316Z"
    },
    "hidden": true
   },
   "outputs": [],
   "source": [
    "# hyperparameter tunning & cross validation\n",
    "search = GridSearchCV(clf, space, scoring=\"accuracy\", cv=10)\n",
    "results = search.fit(X_train_hog_sift, Y_train.ravel())\n",
    "\n",
    "print(results.best_score_)\n",
    "print(results.best_params_)"
   ]
  },
  {
   "cell_type": "code",
   "execution_count": null,
   "metadata": {
    "ExecuteTime": {
     "end_time": "2021-05-10T21:11:46.476952Z",
     "start_time": "2021-05-10T21:10:19.716987Z"
    },
    "hidden": true
   },
   "outputs": [],
   "source": [
    "clf = RandomForestClassifier(n_estimators=100, max_depth=None, min_samples_split=2, min_samples_leaf=1)\n",
    "\n",
    "clf.fit(X_train_hog_sift, Y_train.ravel())\n",
    "\n",
    "Y_train_pred = clf.predict(X_train_hog_sift)\n",
    "Y_test_pred = clf.predict(X_test_hog_sift)\n",
    "\n",
    "print(f'Train accuracy: {accuracy_score(Y_train.ravel(), Y_train_pred)}')\n",
    "print(f'Test accuracy: {accuracy_score(Y_test.ravel(), Y_test_pred)}')"
   ]
  }
 ],
 "metadata": {
  "kernelspec": {
   "display_name": "Python [conda env:image-retrieval]",
   "language": "python",
   "name": "conda-env-image-retrieval-py"
  },
  "language_info": {
   "codemirror_mode": {
    "name": "ipython",
    "version": 3
   },
   "file_extension": ".py",
   "mimetype": "text/x-python",
   "name": "python",
   "nbconvert_exporter": "python",
   "pygments_lexer": "ipython3",
   "version": "3.7.10"
  },
  "toc": {
   "base_numbering": 1,
   "nav_menu": {
    "height": "283px",
    "width": "284px"
   },
   "number_sections": false,
   "sideBar": true,
   "skip_h1_title": false,
   "title_cell": "Table of Contents",
   "title_sidebar": "Contents",
   "toc_cell": false,
   "toc_position": {
    "height": "calc(100% - 180px)",
    "left": "10px",
    "top": "150px",
    "width": "291.2px"
   },
   "toc_section_display": true,
   "toc_window_display": true
  }
 },
 "nbformat": 4,
 "nbformat_minor": 4
}
