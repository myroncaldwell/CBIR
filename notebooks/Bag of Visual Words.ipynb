{
 "cells": [
  {
   "cell_type": "code",
   "execution_count": 44,
   "metadata": {
    "ExecuteTime": {
     "end_time": "2021-08-05T07:23:39.910573Z",
     "start_time": "2021-08-05T07:22:51.736132Z"
    }
   },
   "outputs": [],
   "source": [
    "# dataset\n",
    "from keras.datasets import cifar10\n",
    "\n",
    "import joblib\n",
    "import numpy as np\n",
    "import cv2 as cv\n",
    "from skimage.feature import hog\n",
    "\n",
    "# visualization\n",
    "%matplotlib inline\n",
    "import matplotlib.pyplot as plt\n",
    "from tabulate import tabulate\n",
    "\n",
    "# utilities\n",
    "# from sklearn.preprocessing import minmax_scale, scale\n",
    "# from sklearn.model_selection import train_test_split, GridSearchCV\n",
    "\n",
    "# models\n",
    "from sklearn.cluster import KMeans\n",
    "from sklearn.cluster import MiniBatchKMeans\n",
    "# from sklearn.linear_model import LogisticRegression\n",
    "# from sklearn.neighbors import KNeighborsClassifier\n",
    "# from sklearn.ensemble import RandomForestClassifier\n",
    "\n",
    "# metrics\n",
    "from sklearn.metrics import calinski_harabasz_score\n",
    "# from sklearn.metrics import accuracy_score"
   ]
  },
  {
   "cell_type": "markdown",
   "metadata": {
    "heading_collapsed": true
   },
   "source": [
    "# 1. Load Data\n",
    "\n",
    "**Dataset**: <a href=\"https://www.cs.toronto.edu/~kriz/cifar.html\" target=\"_blank\"> CIFAR-10 </a>\n",
    "\n",
    "**Classes**: airplane, automobile, bird, cat, deer, dog, frog, horse, ship, truck"
   ]
  },
  {
   "cell_type": "code",
   "execution_count": 2,
   "metadata": {
    "ExecuteTime": {
     "end_time": "2021-08-05T07:23:42.338837Z",
     "start_time": "2021-08-05T07:23:39.918383Z"
    },
    "hidden": true
   },
   "outputs": [],
   "source": [
    "(X_train, Y_train), (X_test, Y_test) = cifar10.load_data()"
   ]
  },
  {
   "cell_type": "code",
   "execution_count": 3,
   "metadata": {
    "ExecuteTime": {
     "end_time": "2021-08-05T07:23:42.432883Z",
     "start_time": "2021-08-05T07:23:42.340870Z"
    },
    "hidden": true
   },
   "outputs": [],
   "source": [
    "X_train = X_train.astype('uint8')\n",
    "X_test = X_test.astype('uint8')"
   ]
  },
  {
   "cell_type": "code",
   "execution_count": 4,
   "metadata": {
    "ExecuteTime": {
     "end_time": "2021-08-05T07:23:42.572190Z",
     "start_time": "2021-08-05T07:23:42.434914Z"
    },
    "hidden": true
   },
   "outputs": [
    {
     "name": "stdout",
     "output_type": "stream",
     "text": [
      "Total train data: 50000\n",
      "Total test data: 10000\n",
      "Image dimensions: (32, 32, 3)\n"
     ]
    }
   ],
   "source": [
    "print(f'Total train data: {X_train.shape[0]}')\n",
    "print(f'Total test data: {X_test.shape[0]}')\n",
    "print(f'Image dimensions: {X_train.shape[1], X_train.shape[2], X_train.shape[3]}')"
   ]
  },
  {
   "cell_type": "code",
   "execution_count": 5,
   "metadata": {
    "ExecuteTime": {
     "end_time": "2021-08-05T07:23:43.909342Z",
     "start_time": "2021-08-05T07:23:42.574149Z"
    },
    "hidden": true
   },
   "outputs": [
    {
     "data": {
      "text/plain": [
       "<matplotlib.colorbar.Colorbar at 0x7f228ca5fd30>"
      ]
     },
     "execution_count": 5,
     "metadata": {},
     "output_type": "execute_result"
    },
    {
     "data": {
      "image/png": "[encoded data removed]",
      "text/plain": [
       "<Figure size 432x288 with 2 Axes>"
      ]
     },
     "metadata": {
      "needs_background": "light"
     },
     "output_type": "display_data"
    }
   ],
   "source": [
    "plt.imshow(X_train[4])\n",
    "\n",
    "plt.title('RGB Image')\n",
    "plt.colorbar()"
   ]
  },
  {
   "cell_type": "markdown",
   "metadata": {
    "heading_collapsed": true
   },
   "source": [
    "# 2. Preprocessing\n",
    "\n",
    "The following transformations are used:\n",
    "* **grayscale**: convert image from RGB to grayscale.\n",
    "* <span style=\"color:red\"><b>(deprecated)</b></span> **scale**: convert image pixels from [0, 255] range to [0, 1] range.\n",
    "\n",
    "\n",
    "* <span style=\"color:red\"><b> minmax scaling </b></span>\n",
    "* <span style=\"color:red\"><b> standardize </b></span> "
   ]
  },
  {
   "cell_type": "markdown",
   "metadata": {
    "heading_collapsed": true,
    "hidden": true
   },
   "source": [
    "## 2.1 Grayscale"
   ]
  },
  {
   "cell_type": "code",
   "execution_count": 6,
   "metadata": {
    "ExecuteTime": {
     "end_time": "2021-08-05T07:23:43.924528Z",
     "start_time": "2021-08-05T07:23:43.911290Z"
    },
    "hidden": true
   },
   "outputs": [],
   "source": [
    "def to_grayscale(data):\n",
    "    \"\"\" Converts RGB images to grayscale.\n",
    "    \n",
    "    Args:\n",
    "        data:\n",
    "            images in RGB format, as numpy array.\n",
    "    \n",
    "    Returns:\n",
    "       grayscale images, as numpy array.\n",
    "    \"\"\"\n",
    "    grayscale = np.zeros((data.shape[0], data.shape[1], data.shape[2])).astype('uint8')\n",
    "    \n",
    "    for idx in range(data.shape[0]):\n",
    "        grayscale[idx] = cv.cvtColor(data[idx], cv.COLOR_RGB2GRAY)\n",
    "    \n",
    "    return grayscale"
   ]
  },
  {
   "cell_type": "code",
   "execution_count": 7,
   "metadata": {
    "ExecuteTime": {
     "end_time": "2021-08-05T07:23:45.171670Z",
     "start_time": "2021-08-05T07:23:43.926473Z"
    },
    "hidden": true
   },
   "outputs": [],
   "source": [
    "X_train_grayscale = to_grayscale(X_train)\n",
    "X_test_grayscale = to_grayscale(X_test)"
   ]
  },
  {
   "cell_type": "code",
   "execution_count": 8,
   "metadata": {
    "ExecuteTime": {
     "end_time": "2021-08-05T07:23:45.187599Z",
     "start_time": "2021-08-05T07:23:45.174631Z"
    },
    "hidden": true
   },
   "outputs": [
    {
     "name": "stdout",
     "output_type": "stream",
     "text": [
      "Image dimensions in grayscale: (32, 32)\n"
     ]
    }
   ],
   "source": [
    "print(f'Image dimensions in grayscale: {X_train_grayscale.shape[1], X_train_grayscale.shape[2]}')"
   ]
  },
  {
   "cell_type": "code",
   "execution_count": 9,
   "metadata": {
    "ExecuteTime": {
     "end_time": "2021-08-05T07:23:46.138720Z",
     "start_time": "2021-08-05T07:23:45.191588Z"
    },
    "hidden": true
   },
   "outputs": [
    {
     "data": {
      "text/plain": [
       "<matplotlib.colorbar.Colorbar at 0x7f228c9598d0>"
      ]
     },
     "execution_count": 9,
     "metadata": {},
     "output_type": "execute_result"
    },
    {
     "data": {
      "image/png": "[encoded data removed]",
      "text/plain": [
       "<Figure size 432x288 with 2 Axes>"
      ]
     },
     "metadata": {
      "needs_background": "light"
     },
     "output_type": "display_data"
    }
   ],
   "source": [
    "plt.imshow(X_train_grayscale[4], cmap='gray')\n",
    "\n",
    "plt.title('Grayscale Image')\n",
    "plt.colorbar()"
   ]
  },
  {
   "cell_type": "markdown",
   "metadata": {
    "heading_collapsed": true,
    "hidden": true
   },
   "source": [
    "## 2.2 Scaling"
   ]
  },
  {
   "cell_type": "code",
   "execution_count": 10,
   "metadata": {
    "ExecuteTime": {
     "end_time": "2021-08-05T07:23:46.154166Z",
     "start_time": "2021-08-05T07:23:46.141060Z"
    },
    "hidden": true
   },
   "outputs": [],
   "source": [
    "def scale(data):\n",
    "    \"\"\" Scale image pixels from [0, 255] range to [0, 1] range.\n",
    "\n",
    "    Args:\n",
    "        data:\n",
    "            images, as numpy array.\n",
    "\n",
    "    Returns:\n",
    "        scaled images, as numpy array.\n",
    "    \"\"\"\n",
    "    data = data / 255.0\n",
    "\n",
    "    return data"
   ]
  },
  {
   "cell_type": "code",
   "execution_count": 11,
   "metadata": {
    "ExecuteTime": {
     "end_time": "2021-08-05T07:23:46.590913Z",
     "start_time": "2021-08-05T07:23:46.155162Z"
    },
    "hidden": true
   },
   "outputs": [],
   "source": [
    "X_train_scaled = scale(X_train_grayscale)\n",
    "X_test_scaled = scale(X_test_grayscale)"
   ]
  },
  {
   "cell_type": "code",
   "execution_count": 12,
   "metadata": {
    "ExecuteTime": {
     "end_time": "2021-08-05T07:23:46.606869Z",
     "start_time": "2021-08-05T07:23:46.592907Z"
    },
    "hidden": true
   },
   "outputs": [
    {
     "name": "stdout",
     "output_type": "stream",
     "text": [
      "Image pixels after scaling:\n",
      "[[0.70196078 0.69411765 0.7254902  ... 0.69803922 0.69019608 0.68627451]\n",
      " [0.70196078 0.71764706 0.70980392 ... 0.69019608 0.68235294 0.6745098 ]\n",
      " [0.65490196 0.63529412 0.55686275 ... 0.69411765 0.68627451 0.6745098 ]\n",
      " ...\n",
      " [0.31764706 0.32156863 0.3254902  ... 0.29019608 0.27843137 0.25098039]\n",
      " [0.29019608 0.29411765 0.30196078 ... 0.30980392 0.29019608 0.29019608]\n",
      " [0.28627451 0.29019608 0.28627451 ... 0.30588235 0.29019608 0.29803922]]\n"
     ]
    }
   ],
   "source": [
    "print(f'Image pixels after scaling:\\n{X_train_scaled[4]}')"
   ]
  },
  {
   "cell_type": "code",
   "execution_count": 13,
   "metadata": {
    "ExecuteTime": {
     "end_time": "2021-08-05T07:23:46.918061Z",
     "start_time": "2021-08-05T07:23:46.610859Z"
    },
    "hidden": true
   },
   "outputs": [
    {
     "data": {
      "text/plain": [
       "<matplotlib.colorbar.Colorbar at 0x7f21e62884a8>"
      ]
     },
     "execution_count": 13,
     "metadata": {},
     "output_type": "execute_result"
    },
    {
     "data": {
      "image/png": "[encoded data removed]",
      "text/plain": [
       "<Figure size 432x288 with 2 Axes>"
      ]
     },
     "metadata": {
      "needs_background": "light"
     },
     "output_type": "display_data"
    }
   ],
   "source": [
    "plt.imshow(X_train_scaled[4], cmap='gray')\n",
    "\n",
    "plt.title('Scaled Image')\n",
    "plt.colorbar()"
   ]
  },
  {
   "cell_type": "markdown",
   "metadata": {
    "heading_collapsed": true
   },
   "source": [
    "# 3. Features\n",
    "\n",
    "The following features are extracted from images:\n",
    "* <a href=\"https://docs.opencv.org/4.5.2/d1/db7/tutorial_py_histogram_begins.html\" target=\"_blank\"> Gray Color Histogram (GCH) </a>\n",
    "* <a href=\"https://scikit-image.org/docs/dev/auto_examples/features_detection/plot_hog.html\" target=\"_blank\"> Histogram of Oriented Gradients (HOG) </a>\n",
    "* <a href=\"https://docs.opencv.org/master/da/df5/tutorial_py_sift_intro.html\" target=\"_blank\"> Scale-Invariant Feature Transform (SIFT) </a>"
   ]
  },
  {
   "cell_type": "markdown",
   "metadata": {
    "heading_collapsed": true,
    "hidden": true
   },
   "source": [
    "## 3.1 Gray Color Histogram"
   ]
  },
  {
   "cell_type": "code",
   "execution_count": 14,
   "metadata": {
    "ExecuteTime": {
     "end_time": "2021-08-05T07:23:46.934174Z",
     "start_time": "2021-08-05T07:23:46.922057Z"
    },
    "hidden": true
   },
   "outputs": [],
   "source": [
    "def color_histogram(data):\n",
    "    \"\"\" Extracts gray color histograms.\n",
    "    \n",
    "    Args:\n",
    "        data:\n",
    "            images in grayscale format, as numpy array.\n",
    "    \n",
    "    Returns:\n",
    "        gray color histograms, as list of numpy arrays.\n",
    "    \"\"\"\n",
    "    color_hists = []\n",
    "    \n",
    "    for idx in range(data.shape[0]):\n",
    "        color_hist = cv.calcHist([data[idx]], [0], None, [256], [0,256])\n",
    "        color_hists.append(color_hist.ravel())\n",
    "    \n",
    "    return color_hists"
   ]
  },
  {
   "cell_type": "code",
   "execution_count": 15,
   "metadata": {
    "ExecuteTime": {
     "end_time": "2021-08-05T07:23:47.732412Z",
     "start_time": "2021-08-05T07:23:46.935124Z"
    },
    "hidden": true
   },
   "outputs": [],
   "source": [
    "color_hist_train = color_histogram(X_train_grayscale)\n",
    "color_hist_test = color_histogram(X_test_grayscale)"
   ]
  },
  {
   "cell_type": "code",
   "execution_count": 16,
   "metadata": {
    "ExecuteTime": {
     "end_time": "2021-08-05T07:23:47.747634Z",
     "start_time": "2021-08-05T07:23:47.734316Z"
    },
    "hidden": true
   },
   "outputs": [
    {
     "name": "stdout",
     "output_type": "stream",
     "text": [
      "Image gray color histogram, first 10 values: [ 0.  4.  4.  6. 10.  6.  3.  4.  6.  7.]\n",
      "\n",
      "Size of image gray color histogram: (256,)\n"
     ]
    }
   ],
   "source": [
    "print(f'Image gray color histogram, first 10 values: {color_hist_train[4][:10]}\\n') \n",
    "print(f'Size of image gray color histogram: {color_hist_train[4].shape}')"
   ]
  },
  {
   "cell_type": "code",
   "execution_count": 17,
   "metadata": {
    "ExecuteTime": {
     "end_time": "2021-08-05T07:23:48.058018Z",
     "start_time": "2021-08-05T07:23:47.748674Z"
    },
    "hidden": true
   },
   "outputs": [
    {
     "data": {
      "image/png": "[encoded data removed]",
      "text/plain": [
       "<Figure size 720x288 with 2 Axes>"
      ]
     },
     "metadata": {
      "needs_background": "light"
     },
     "output_type": "display_data"
    }
   ],
   "source": [
    "fig, (ax1, ax2) = plt.subplots(1, 2, figsize=(10, 4))\n",
    "\n",
    "ax1.imshow(X_train_grayscale[4], cmap='gray')\n",
    "ax1.set_title('Input Image')\n",
    "\n",
    "ax2.plot(color_hist_train[4]); \n",
    "ax2.set_title('Image Graycolor Histogram')\n",
    "\n",
    "plt.show()"
   ]
  },
  {
   "cell_type": "markdown",
   "metadata": {
    "heading_collapsed": true,
    "hidden": true
   },
   "source": [
    "## 3.2 Histogram of Oriented Gradients (HOG)"
   ]
  },
  {
   "cell_type": "code",
   "execution_count": 18,
   "metadata": {
    "ExecuteTime": {
     "end_time": "2021-08-05T07:23:48.089213Z",
     "start_time": "2021-08-05T07:23:48.063043Z"
    },
    "hidden": true
   },
   "outputs": [],
   "source": [
    "def hog_features(data):\n",
    "    \"\"\" Extracts histogram of oriented gradients.\n",
    "    \n",
    "    Args:\n",
    "        data:\n",
    "            images in grayscale format, as numpy array.\n",
    "    \n",
    "    Returns:\n",
    "        HOG descriptors, as list of numpy arrays.\n",
    "        HOG images, as list of numpy arrays.\n",
    "    \"\"\"\n",
    "    hog_descriptors = []\n",
    "    hog_images = []\n",
    "    \n",
    "    for idx in range(data.shape[0]):\n",
    "        fd, hog_image = hog(data[idx], \n",
    "                            orientations=9, \n",
    "                            pixels_per_cell=(8, 8),\n",
    "                            cells_per_block=(2, 2), \n",
    "                            block_norm='L2-Hys',\n",
    "                            transform_sqrt=True,\n",
    "                            feature_vector=True,\n",
    "                            visualize=True)  \n",
    "        hog_descriptors.append(fd)\n",
    "        hog_images.append(hog_image)\n",
    "    \n",
    "    return hog_descriptors, hog_images"
   ]
  },
  {
   "cell_type": "code",
   "execution_count": 19,
   "metadata": {
    "ExecuteTime": {
     "end_time": "2021-08-05T07:26:54.949612Z",
     "start_time": "2021-08-05T07:23:48.091139Z"
    },
    "hidden": true
   },
   "outputs": [],
   "source": [
    "hog_train, hog_train_img = hog_features(X_train_grayscale)\n",
    "hog_test, hog_test_img = hog_features(X_test_grayscale)"
   ]
  },
  {
   "cell_type": "code",
   "execution_count": 20,
   "metadata": {
    "ExecuteTime": {
     "end_time": "2021-08-05T07:26:54.964576Z",
     "start_time": "2021-08-05T07:26:54.952613Z"
    },
    "hidden": true
   },
   "outputs": [
    {
     "name": "stdout",
     "output_type": "stream",
     "text": [
      "Image HOG, first 6 values: [0.05613025 0.01108392 0.0912732  0.1247402  0.29826597 0.27952999]\n",
      "\n",
      "Size of image HOG: (324,)\n"
     ]
    }
   ],
   "source": [
    "print(f'Image HOG, first 6 values: {hog_train[4][:6]}\\n')\n",
    "print(f'Size of image HOG: {hog_train[4].shape}')"
   ]
  },
  {
   "cell_type": "code",
   "execution_count": 21,
   "metadata": {
    "ExecuteTime": {
     "end_time": "2021-08-05T07:26:55.290614Z",
     "start_time": "2021-08-05T07:26:54.967569Z"
    },
    "hidden": true
   },
   "outputs": [
    {
     "data": {
      "image/png": "[encoded data removed]",
      "text/plain": [
       "<Figure size 720x288 with 2 Axes>"
      ]
     },
     "metadata": {
      "needs_background": "light"
     },
     "output_type": "display_data"
    }
   ],
   "source": [
    "fig, (ax1, ax2) = plt.subplots(1, 2, figsize=(10, 4), sharex=True, sharey=True)\n",
    "\n",
    "ax1.imshow(X_train_grayscale[4], cmap='gray')\n",
    "ax1.set_title('Input Image')\n",
    "\n",
    "ax2.imshow(hog_train_img[4], cmap='gray')\n",
    "ax2.set_title('Histogram of Oriented Gradients')\n",
    "\n",
    "plt.show()"
   ]
  },
  {
   "cell_type": "markdown",
   "metadata": {
    "heading_collapsed": true,
    "hidden": true
   },
   "source": [
    "## 3.3 Scale-Invariant Feature Transform (SIFT)"
   ]
  },
  {
   "cell_type": "code",
   "execution_count": 22,
   "metadata": {
    "ExecuteTime": {
     "end_time": "2021-08-05T07:26:55.305756Z",
     "start_time": "2021-08-05T07:26:55.292603Z"
    },
    "hidden": true
   },
   "outputs": [],
   "source": [
    "def sift_features(data):\n",
    "    \"\"\" Extracts image SIFT keypoints and descriptors.\n",
    "    \n",
    "    Args:\n",
    "        data:\n",
    "            images in grayscale format, as numpy array.\n",
    "    \n",
    "    Returns:\n",
    "        SIFT keypoints, as list of lists.\n",
    "        SIFT descriptors, as list of numpy array. \n",
    "    \"\"\"\n",
    "    sift = cv.xfeatures2d.SIFT_create(contrastThreshold=0.02, sigma=0.9)\n",
    "    \n",
    "    keypoints = []\n",
    "    descriptors = []\n",
    "    \n",
    "    for idx in range(data.shape[0]):\n",
    "        kp, des = sift.detectAndCompute(data[idx], None)\n",
    "        keypoints.append(kp)\n",
    "        descriptors.append(des)\n",
    "    \n",
    "    return keypoints, descriptors"
   ]
  },
  {
   "cell_type": "code",
   "execution_count": 23,
   "metadata": {
    "ExecuteTime": {
     "end_time": "2021-08-05T07:28:01.682781Z",
     "start_time": "2021-08-05T07:26:55.309748Z"
    },
    "hidden": true
   },
   "outputs": [],
   "source": [
    "kp_sift_train, des_sift_train = sift_features(X_train_grayscale) \n",
    "kp_sift_test, des_sift_test = sift_features(X_test_grayscale)"
   ]
  },
  {
   "cell_type": "code",
   "execution_count": 24,
   "metadata": {
    "ExecuteTime": {
     "end_time": "2021-08-05T07:28:01.745614Z",
     "start_time": "2021-08-05T07:28:01.685774Z"
    },
    "hidden": true
   },
   "outputs": [
    {
     "name": "stdout",
     "output_type": "stream",
     "text": [
      "Image SIFT keypoints, first 3 values: [<KeyPoint 0x7f21e495fcc0>, <KeyPoint 0x7f21e495fcf0>, <KeyPoint 0x7f21e495fd20>]\n",
      "\n",
      "Size SIFT keypoints (image 4): 37\n",
      "Size SIFT keypoints (image 8): 30\n"
     ]
    }
   ],
   "source": [
    "print(f'Image SIFT keypoints, first 3 values: {kp_sift_train[4][:3]}\\n')\n",
    "print(f'Size SIFT keypoints (image 4): {len(kp_sift_train[4])}')\n",
    "print(f'Size SIFT keypoints (image 8): {len(kp_sift_train[8])}')"
   ]
  },
  {
   "cell_type": "code",
   "execution_count": 25,
   "metadata": {
    "ExecuteTime": {
     "end_time": "2021-08-05T07:28:02.089002Z",
     "start_time": "2021-08-05T07:28:01.746612Z"
    },
    "hidden": true
   },
   "outputs": [
    {
     "name": "stdout",
     "output_type": "stream",
     "text": [
      "Image SIFT descriptors:\n",
      "[[ 27.   1.   0. ...   0.   0.   0.]\n",
      " [  0.   3.   1. ...  21.   0.   0.]\n",
      " [ 11.   7.   2. ...   9.   0.   3.]\n",
      " ...\n",
      " [ 37.   0.   0. ...   0.   6.  26.]\n",
      " [ 44.  45.  24. ...   1. 101.  33.]\n",
      " [  9.  76.  43. ...   0.   0.   0.]]\n",
      "\n",
      "Size SIFT descriptors (image 4): (37, 128)\n",
      "Size SIFT descriptors (image 8): (30, 128)\n"
     ]
    }
   ],
   "source": [
    "print(f'Image SIFT descriptors:\\n{des_sift_train[4]}\\n')\n",
    "\n",
    "print(f'Size SIFT descriptors (image 4): {des_sift_train[4].shape}')\n",
    "print(f'Size SIFT descriptors (image 8): {des_sift_train[8].shape}')"
   ]
  },
  {
   "cell_type": "code",
   "execution_count": 26,
   "metadata": {
    "ExecuteTime": {
     "end_time": "2021-08-05T07:28:02.975336Z",
     "start_time": "2021-08-05T07:28:02.095027Z"
    },
    "hidden": true
   },
   "outputs": [
    {
     "data": {
      "image/png": "[encoded data removed]",
      "text/plain": [
       "<Figure size 720x288 with 2 Axes>"
      ]
     },
     "metadata": {
      "needs_background": "light"
     },
     "output_type": "display_data"
    }
   ],
   "source": [
    "img = cv.drawKeypoints(X_train_grayscale[4], kp_sift_train[4][:3], None)\n",
    "\n",
    "fig, (ax1, ax2) = plt.subplots(1, 2, figsize=(10, 4), sharex=True, sharey=True)\n",
    "\n",
    "ax1.imshow(X_train_grayscale[4], cmap='gray')\n",
    "ax1.set_title('Input Image')\n",
    "\n",
    "ax2.imshow(img, cmap='gray')\n",
    "ax2.set_title('SIFT keypoints (first 3)')\n",
    "\n",
    "plt.show()"
   ]
  },
  {
   "cell_type": "markdown",
   "metadata": {},
   "source": [
    "# 4. Bag of Visual Words (BoVW) model\n",
    "\n",
    "We'll only insert SIFT features into the BoVW model, since GCH and HOG features are already in histogram forms.\n",
    "\n",
    "To evaluate our BoVW, we'll use the **Elbow method** along with the **Calinski-Harabasz Index** metric."
   ]
  },
  {
   "cell_type": "markdown",
   "metadata": {
    "heading_collapsed": true
   },
   "source": [
    "## 4.1 Visual Vocabulary"
   ]
  },
  {
   "cell_type": "code",
   "execution_count": 27,
   "metadata": {
    "ExecuteTime": {
     "end_time": "2021-08-05T07:28:02.990330Z",
     "start_time": "2021-08-05T07:28:02.977317Z"
    },
    "hidden": true
   },
   "outputs": [],
   "source": [
    "def get_visual_words(descriptors, model):\n",
    "    \"\"\" Finds the vocabulary of visual words.\n",
    "\n",
    "    To find the vocabulary of visual words, k-means is used. The centroids found by k-means\n",
    "    form the vocabulary.\n",
    "\n",
    "    Args:\n",
    "        descriptors:\n",
    "            descriptors, as list of numpy arrays.\n",
    "        model:\n",
    "            clustering model, as scikit-learn object.\n",
    "\n",
    "    Returns:\n",
    "        fitted k-means, holding the vocabulary of visual words .\n",
    "    \"\"\"\n",
    "    \n",
    "    visual_words = model.fit(descriptors)\n",
    "\n",
    "    return visual_words"
   ]
  },
  {
   "cell_type": "code",
   "execution_count": 28,
   "metadata": {
    "ExecuteTime": {
     "end_time": "2021-08-05T07:28:04.021098Z",
     "start_time": "2021-08-05T07:28:02.992323Z"
    },
    "hidden": true
   },
   "outputs": [],
   "source": [
    "des_sift_raw_train = []\n",
    "for des in des_sift_train:\n",
    "    if des is not None:\n",
    "        des_sift_raw_train.extend(des)"
   ]
  },
  {
   "cell_type": "markdown",
   "metadata": {
    "heading_collapsed": true,
    "hidden": true
   },
   "source": [
    "### 4.1.1 KMeans"
   ]
  },
  {
   "cell_type": "code",
   "execution_count": 29,
   "metadata": {
    "ExecuteTime": {
     "start_time": "2021-08-05T08:01:41.194Z"
    },
    "hidden": true
   },
   "outputs": [
    {
     "name": "stdout",
     "output_type": "stream",
     "text": [
      "Number of clusters: 100\n",
      "Number of clusters: 200\n",
      "Number of clusters: 300\n",
      "Number of clusters: 400\n",
      "Number of clusters: 500\n",
      "Number of clusters: 600\n",
      "Number of clusters: 700\n",
      "Number of clusters: 800\n",
      "Number of clusters: 900\n",
      "Number of clusters: 1000\n"
     ]
    }
   ],
   "source": [
    "kmeans_calinski = []\n",
    "\n",
    "for n_clusters in range(100, 1100, 100):\n",
    "    print(f'Number of clusters: {n_clusters}')\n",
    "    \n",
    "    clustering = KMeans(n_clusters=n_clusters, n_init=10, max_iter=300)\n",
    "    model = get_visual_words(descriptors=des_sift_raw_train, model=clustering)\n",
    "    \n",
    "    kmeans_calinski.append(calinski_harabasz_score(des_sift_raw_train, model.labels_))"
   ]
  },
  {
   "cell_type": "markdown",
   "metadata": {
    "heading_collapsed": true,
    "hidden": true
   },
   "source": [
    "### 4.1.2 MiniBatchKMeans"
   ]
  },
  {
   "cell_type": "code",
   "execution_count": 30,
   "metadata": {
    "ExecuteTime": {
     "end_time": "2021-08-05T08:00:46.290900Z",
     "start_time": "2021-08-05T07:32:08.187803Z"
    },
    "hidden": true
   },
   "outputs": [
    {
     "name": "stdout",
     "output_type": "stream",
     "text": [
      "Number of clusters: 100\n",
      "Number of clusters: 200\n",
      "Number of clusters: 300\n",
      "Number of clusters: 400\n",
      "Number of clusters: 500\n",
      "Number of clusters: 600\n",
      "Number of clusters: 700\n",
      "Number of clusters: 800\n",
      "Number of clusters: 900\n",
      "Number of clusters: 1000\n"
     ]
    }
   ],
   "source": [
    "batch_kmeans_calinski = []\n",
    "\n",
    "for n_clusters in range(100, 1100, 100):\n",
    "    print(f'Number of clusters: {n_clusters}')\n",
    "    \n",
    "    clustering = MiniBatchKMeans(n_clusters=n_clusters, batch_size=64, n_init=10, max_iter=300)\n",
    "    model = get_visual_words(descriptors=des_sift_raw_train, model=clustering)\n",
    "    \n",
    "    batch_kmeans_calinski.append(calinski_harabasz_score(des_sift_raw_train, model.labels_))"
   ]
  },
  {
   "cell_type": "markdown",
   "metadata": {
    "heading_collapsed": true,
    "hidden": true
   },
   "source": [
    "### 4.1.3 Compare BoVW models"
   ]
  },
  {
   "cell_type": "code",
   "execution_count": 43,
   "metadata": {
    "hidden": true
   },
   "outputs": [
    {
     "data": {
      "image/png": "[encoded data removed]",
      "text/plain": [
       "<Figure size 720x576 with 1 Axes>"
      ]
     },
     "metadata": {
      "needs_background": "light"
     },
     "output_type": "display_data"
    },
    {
     "name": "stdout",
     "output_type": "stream",
     "text": [
      "number of clusters: 100 | KMeans: 12417.300870282248 | MiniBatchKMeans: 12065.841676107673\n",
      "number of clusters: 200 | KMeans: 7354.088944825345 | MiniBatchKMeans: 7142.9117955958145\n",
      "number of clusters: 300 | KMeans: 5354.918102584723 | MiniBatchKMeans: 5205.224831165665\n",
      "number of clusters: 400 | KMeans: 4265.446639745584 | MiniBatchKMeans: 4137.386220326259\n",
      "number of clusters: 500 | KMeans: 3569.809003933928 | MiniBatchKMeans: 3463.565682543316\n",
      "number of clusters: 600 | KMeans: 3082.9507691611907 | MiniBatchKMeans: 2449.1105786695334\n",
      "number of clusters: 700 | KMeans: 2720.8272462223786 | MiniBatchKMeans: 2641.1788971138176\n",
      "number of clusters: 800 | KMeans: 2440.8188276125557 | MiniBatchKMeans: 2371.2969690188534\n",
      "number of clusters: 900 | KMeans: 2217.247229252161 | MiniBatchKMeans: 2150.7923245326583\n",
      "number of clusters: 1000 | KMeans: 2034.289037327385 | MiniBatchKMeans: 1973.0435437296912\n"
     ]
    }
   ],
   "source": [
    "plt.figure(figsize=(10,8))\n",
    "\n",
    "plt.plot(range(100, 1100, 100), kmeans_calinski, 'rx-', label='KMeans')\n",
    "plt.plot(range(100, 1100, 100), batch_kmeans_calinski, 'bx-', label='MiniBatchKMeans')\n",
    "\n",
    "plt.xlabel('number of clusters')\n",
    "plt.ylabel('calinski_harabasz_score')\n",
    "plt.title('Calinski Harabasz score elbow for optimal number of clusters')\n",
    "plt.legend()\n",
    "\n",
    "plt.show()\n",
    "\n",
    "for count, value in enumerate(range(100, 1100, 100)):\n",
    "    print(f'number of clusters: {value} | KMeans: {kmeans_calinski[count]} | MiniBatchKMeans: {batch_kmeans_calinski[count]}')"
   ]
  },
  {
   "cell_type": "markdown",
   "metadata": {
    "heading_collapsed": true,
    "hidden": true
   },
   "source": [
    "### 4.1.4 Best BoVW model"
   ]
  },
  {
   "cell_type": "code",
   "execution_count": 45,
   "metadata": {
    "ExecuteTime": {
     "end_time": "2021-05-10T16:49:58.763383Z",
     "start_time": "2021-05-10T16:49:58.544978Z"
    },
    "hidden": true
   },
   "outputs": [
    {
     "data": {
      "text/plain": [
       "['bovw.joblib']"
      ]
     },
     "execution_count": 45,
     "metadata": {},
     "output_type": "execute_result"
    }
   ],
   "source": [
    "# retrain best model\n",
    "bovw = get_visual_words(descriptors=des_sift_raw_train, model=KMeans(n_clusters=600, n_init=10, max_iter=300))\n",
    "\n",
    "# save model\n",
    "joblib.dump(bovw, 'bovw.joblib')"
   ]
  },
  {
   "cell_type": "markdown",
   "metadata": {
    "heading_collapsed": true
   },
   "source": [
    "## 4.2 Vector Representations"
   ]
  },
  {
   "cell_type": "code",
   "execution_count": null,
   "metadata": {
    "ExecuteTime": {
     "end_time": "2021-05-26T18:08:05.238711Z",
     "start_time": "2021-05-26T18:08:05.189341Z"
    },
    "hidden": true
   },
   "outputs": [],
   "source": [
    "def get_vector_representation(model, descriptors):\n",
    "    \"\"\" Computes the vector representations of images.\n",
    "\n",
    "    The representations are based on the images descriptors and a predefined BoVW model. Specifically,\n",
    "    they're a histogram of the frequencies of visual words from the vocabulary of the BoVW.\n",
    "\n",
    "    Args:\n",
    "        model:\n",
    "            precomputed BoVW model, as scikit-learn obj.\n",
    "        descriptors:\n",
    "            descriptors, as list of numpy arrays.\n",
    "\n",
    "    Returns:\n",
    "        vector representations of images, as list of numpy array.\n",
    "    \"\"\"\n",
    "    histograms = []\n",
    "    for desc in descriptors:\n",
    "        hist = np.zeros(visual_words.cluster_centers_.shape[0])\n",
    "        if desc is not None:\n",
    "            for d in desc:\n",
    "                # find the cluster each descriptor is close to\n",
    "                cluster_idx = visual_words.predict([d.astype(float)])\n",
    "                hist[cluster_idx] += 1\n",
    "            histograms.append(hist)\n",
    "    \n",
    "    return histograms"
   ]
  },
  {
   "cell_type": "code",
   "execution_count": null,
   "metadata": {
    "ExecuteTime": {
     "start_time": "2021-05-26T18:08:08.401Z"
    },
    "hidden": true
   },
   "outputs": [],
   "source": [
    "des_sift_train = get_vector_representation(visual_words, des_sift_train)\n",
    "des_sift_test = get_vector_representation(visual_words, des_sift_test)"
   ]
  },
  {
   "cell_type": "markdown",
   "metadata": {
    "heading_collapsed": true
   },
   "source": [
    "# 5. Early Fusion"
   ]
  },
  {
   "cell_type": "markdown",
   "metadata": {
    "heading_collapsed": true,
    "hidden": true
   },
   "source": [
    "### 5.1 Early Fusion: HOG + GCH"
   ]
  },
  {
   "cell_type": "code",
   "execution_count": null,
   "metadata": {
    "ExecuteTime": {
     "end_time": "2021-05-10T17:16:57.678009Z",
     "start_time": "2021-05-10T17:16:55.871592Z"
    },
    "hidden": true
   },
   "outputs": [],
   "source": [
    "X_train_hog_gch = []\n",
    "for idx in range(X_train_grayscale.shape[0]):\n",
    "    fused = np.concatenate((des_hog_train[idx], color_hist_train[idx]), axis=None)\n",
    "    X_train_hog_gch.append(fused)\n",
    "\n",
    "X_test_hog_gch = []\n",
    "for idx in range(X_test_grayscale.shape[0]):\n",
    "    fused = np.concatenate((des_hog_test[idx], color_hist_test[idx]), axis=None)\n",
    "    X_test_hog_gch.append(fused)"
   ]
  },
  {
   "cell_type": "code",
   "execution_count": null,
   "metadata": {
    "ExecuteTime": {
     "end_time": "2021-05-10T17:16:57.708093Z",
     "start_time": "2021-05-10T17:16:57.694096Z"
    },
    "hidden": true
   },
   "outputs": [],
   "source": [
    "print(f'Number of features: {X_train_hog_gch[0].shape[0]}')"
   ]
  },
  {
   "cell_type": "markdown",
   "metadata": {
    "heading_collapsed": true,
    "hidden": true
   },
   "source": [
    "### 5.2 Early Fusion: HOG + SIFT"
   ]
  },
  {
   "cell_type": "code",
   "execution_count": null,
   "metadata": {
    "ExecuteTime": {
     "start_time": "2021-05-26T18:09:04.841Z"
    },
    "hidden": true
   },
   "outputs": [],
   "source": [
    "X_train_hog_sift = []\n",
    "for idx in range(X_train_grayscale.shape[0]):\n",
    "    fused = np.concatenate((des_hog_train[idx], des_sift_train[idx]), axis=None)\n",
    "    X_train_hog_sift.append(fused)\n",
    "\n",
    "X_test_hog_sift = []\n",
    "for idx in range(X_test_grayscale.shape[0]):\n",
    "    fused = np.concatenate((des_hog_test[idx], des_sift_test[idx]), axis=None)\n",
    "    X_test_hog_sift.append(fused)"
   ]
  },
  {
   "cell_type": "code",
   "execution_count": null,
   "metadata": {
    "ExecuteTime": {
     "start_time": "2021-05-26T18:09:08.224Z"
    },
    "hidden": true
   },
   "outputs": [],
   "source": [
    "print(f'Number of features: {X_train_hog_sift[0].shape[0]}')"
   ]
  },
  {
   "cell_type": "markdown",
   "metadata": {
    "heading_collapsed": true,
    "hidden": true
   },
   "source": [
    "### 5.3 Early Fusion: HOG + GCH + SIFT"
   ]
  },
  {
   "cell_type": "code",
   "execution_count": null,
   "metadata": {
    "ExecuteTime": {
     "end_time": "2021-05-10T17:21:44.541368Z",
     "start_time": "2021-05-10T17:21:43.732653Z"
    },
    "hidden": true
   },
   "outputs": [],
   "source": [
    "X_train_hog_gch_sift = []\n",
    "for idx in range(X_train_grayscale.shape[0]):\n",
    "    fused = np.concatenate((des_hog_train[idx], color_hist_train[idx]), axis=None)\n",
    "    fused = np.concatenate((fused, des_sift_train[idx]), axis=None)\n",
    "    X_train_hog_gch_sift.append(fused)\n",
    "\n",
    "X_test_hog_gch_sift = []\n",
    "for idx in range(X_test_grayscale.shape[0]):\n",
    "    fused = np.concatenate((des_hog_test[idx], color_hist_test[idx]), axis=None)\n",
    "    fused = np.concatenate((fused, des_sift_test[idx]), axis=None)\n",
    "    X_test_hog_gch_sift.append(fused)"
   ]
  },
  {
   "cell_type": "code",
   "execution_count": null,
   "metadata": {
    "ExecuteTime": {
     "end_time": "2021-05-10T17:22:01.714023Z",
     "start_time": "2021-05-10T17:22:01.693046Z"
    },
    "hidden": true
   },
   "outputs": [],
   "source": [
    "print(f'Number of features: {X_train_hog_gch_sift[0].shape[0]}')"
   ]
  },
  {
   "cell_type": "markdown",
   "metadata": {
    "heading_collapsed": true
   },
   "source": [
    "# 6. Scaling"
   ]
  },
  {
   "cell_type": "markdown",
   "metadata": {
    "heading_collapsed": true,
    "hidden": true
   },
   "source": [
    "### 6.1 Minmax Scaling"
   ]
  },
  {
   "cell_type": "code",
   "execution_count": null,
   "metadata": {
    "ExecuteTime": {
     "end_time": "2021-05-11T17:53:46.686331Z",
     "start_time": "2021-05-11T17:53:45.807066Z"
    },
    "hidden": true
   },
   "outputs": [],
   "source": [
    "X_train_scaled = minmax_scale(np.array(X_train_hog_sift))\n",
    "X_test_scaled = minmax_scale(np.array(X_test_hog_sift))"
   ]
  },
  {
   "cell_type": "markdown",
   "metadata": {
    "heading_collapsed": true,
    "hidden": true
   },
   "source": [
    "### 6.2 Standardize"
   ]
  },
  {
   "cell_type": "code",
   "execution_count": null,
   "metadata": {
    "ExecuteTime": {
     "end_time": "2021-05-11T17:53:48.805669Z",
     "start_time": "2021-05-11T17:53:46.692316Z"
    },
    "hidden": true
   },
   "outputs": [],
   "source": [
    "X_train_stand = scale(np.array(X_train_hog_sift))\n",
    "X_test_stand = scale(np.array(X_test_hog_sift))"
   ]
  },
  {
   "cell_type": "markdown",
   "metadata": {
    "heading_collapsed": true
   },
   "source": [
    "# 7. Classification"
   ]
  },
  {
   "cell_type": "markdown",
   "metadata": {
    "hidden": true
   },
   "source": [
    "### 7.1 Logistic Regression"
   ]
  },
  {
   "cell_type": "code",
   "execution_count": null,
   "metadata": {
    "ExecuteTime": {
     "end_time": "2021-05-11T16:37:45.785131Z",
     "start_time": "2021-05-11T16:37:45.770197Z"
    },
    "hidden": true
   },
   "outputs": [],
   "source": [
    "# hyperparameter space\n",
    "space = {\n",
    "    'C': [0.01, 0.1, 1, 10],\n",
    "    'class_weight': [None],\n",
    "    'max_iter': [5000] \n",
    "}\n",
    "\n",
    "clf = LogisticRegression()"
   ]
  },
  {
   "cell_type": "code",
   "execution_count": null,
   "metadata": {
    "ExecuteTime": {
     "start_time": "2021-05-11T16:37:47.814Z"
    },
    "hidden": true
   },
   "outputs": [],
   "source": [
    "# hyperparameter tunning & cross validation\n",
    "search = GridSearchCV(clf, space, scoring=\"accuracy\", cv=10)\n",
    "results = search.fit(X_train_hog_sift, Y_train.ravel())\n",
    "\n",
    "print(results.best_score_)\n",
    "print(results.best_params_)"
   ]
  },
  {
   "cell_type": "code",
   "execution_count": null,
   "metadata": {
    "ExecuteTime": {
     "end_time": "2021-05-11T18:36:48.428383Z",
     "start_time": "2021-05-11T18:34:04.729544Z"
    },
    "hidden": true
   },
   "outputs": [],
   "source": [
    "clf = LogisticRegression(C=10, class_weight=None, max_iter=5000)\n",
    "\n",
    "clf.fit(X_train_hog_sift, Y_train.ravel())\n",
    "\n",
    "Y_train_pred = clf.predict(X_train_hog_sift)\n",
    "Y_test_pred = clf.predict(X_test_hog_sift)\n",
    "\n",
    "print(f'Train accuracy: {accuracy_score(Y_train.ravel(), Y_train_pred)}')\n",
    "print(f'Test accuracy: {accuracy_score(Y_test.ravel(), Y_test_pred)}')"
   ]
  },
  {
   "cell_type": "markdown",
   "metadata": {
    "heading_collapsed": true,
    "hidden": true
   },
   "source": [
    "### 7.2 kNN"
   ]
  },
  {
   "cell_type": "code",
   "execution_count": null,
   "metadata": {
    "ExecuteTime": {
     "end_time": "2021-04-22T13:14:45.478253Z",
     "start_time": "2021-04-22T13:14:45.465290Z"
    },
    "hidden": true
   },
   "outputs": [],
   "source": [
    "# hyperparameter space\n",
    "space = {\n",
    "    'n_neighbors': list(range(1, 20, 3)),\n",
    "    'weights': ['uniform', 'distance']\n",
    "}\n",
    "\n",
    "clf = KNeighborsClassifier()"
   ]
  },
  {
   "cell_type": "code",
   "execution_count": null,
   "metadata": {
    "ExecuteTime": {
     "end_time": "2021-04-22T15:04:49.112505Z",
     "start_time": "2021-04-22T14:25:22.840539Z"
    },
    "hidden": true
   },
   "outputs": [],
   "source": [
    "# hyperparameter tunning & cross validation\n",
    "search = GridSearchCV(clf, space, scoring=\"accuracy\", cv=10)\n",
    "results = search.fit(X_train_hog_sift, Y_train.ravel())\n",
    "\n",
    "print(results.best_score_)\n",
    "print(results.best_params_)"
   ]
  },
  {
   "cell_type": "code",
   "execution_count": null,
   "metadata": {
    "ExecuteTime": {
     "end_time": "2021-05-10T21:10:19.677094Z",
     "start_time": "2021-05-10T21:08:31.361128Z"
    },
    "hidden": true
   },
   "outputs": [],
   "source": [
    "clf = KNeighborsClassifier(n_neighbors=19, weights='distance')\n",
    "\n",
    "clf.fit(X_train_hog_sift, Y_train.ravel())\n",
    "\n",
    "Y_train_pred = clf.predict(X_train_hog_sift)\n",
    "Y_test_pred = clf.predict(X_test_hog_sift)\n",
    "\n",
    "print(f'Train accuracy: {accuracy_score(Y_train.ravel(), Y_train_pred)}')\n",
    "print(f'Test accuracy: {accuracy_score(Y_test.ravel(), Y_test_pred)}')"
   ]
  },
  {
   "cell_type": "markdown",
   "metadata": {
    "heading_collapsed": true,
    "hidden": true
   },
   "source": [
    "### 7.3 Random Forest"
   ]
  },
  {
   "cell_type": "code",
   "execution_count": null,
   "metadata": {
    "ExecuteTime": {
     "start_time": "2021-04-22T15:48:41.308Z"
    },
    "hidden": true
   },
   "outputs": [],
   "source": [
    "# hyperparameter space\n",
    "max_depth = (np.linspace(10, 50, num = 5).astype(int)).tolist()\n",
    "max_depth.append(None)\n",
    "space = {\n",
    "    'n_estimators': list(range(10, 101, 10)),\n",
    "    'max_depth': max_depth ,\n",
    "    'min_samples_split': [2, 5, 10],\n",
    "    'min_samples_leaf': [1, 3, 5],\n",
    "}\n",
    "\n",
    "clf = RandomForestClassifier()"
   ]
  },
  {
   "cell_type": "code",
   "execution_count": null,
   "metadata": {
    "ExecuteTime": {
     "start_time": "2021-04-22T15:48:41.316Z"
    },
    "hidden": true
   },
   "outputs": [],
   "source": [
    "# hyperparameter tunning & cross validation\n",
    "search = GridSearchCV(clf, space, scoring=\"accuracy\", cv=10)\n",
    "results = search.fit(X_train_hog_sift, Y_train.ravel())\n",
    "\n",
    "print(results.best_score_)\n",
    "print(results.best_params_)"
   ]
  },
  {
   "cell_type": "code",
   "execution_count": null,
   "metadata": {
    "ExecuteTime": {
     "end_time": "2021-05-10T21:11:46.476952Z",
     "start_time": "2021-05-10T21:10:19.716987Z"
    },
    "hidden": true
   },
   "outputs": [],
   "source": [
    "clf = RandomForestClassifier(n_estimators=100, max_depth=None, min_samples_split=2, min_samples_leaf=1)\n",
    "\n",
    "clf.fit(X_train_hog_sift, Y_train.ravel())\n",
    "\n",
    "Y_train_pred = clf.predict(X_train_hog_sift)\n",
    "Y_test_pred = clf.predict(X_test_hog_sift)\n",
    "\n",
    "print(f'Train accuracy: {accuracy_score(Y_train.ravel(), Y_train_pred)}')\n",
    "print(f'Test accuracy: {accuracy_score(Y_test.ravel(), Y_test_pred)}')"
   ]
  }
 ],
 "metadata": {
  "interpreter": {
   "hash": "7a0688ac39a1cf256db620452bcf8c9fd041ced0def690078a3d3a43a4a91932"
  },
  "kernelspec": {
   "display_name": "Python 3",
   "language": "python",
   "name": "python3"
  },
  "language_info": {
   "codemirror_mode": {
    "name": "ipython",
    "version": 3
   },
   "file_extension": ".py",
   "mimetype": "text/x-python",
   "name": "python",
   "nbconvert_exporter": "python",
   "pygments_lexer": "ipython3",
   "version": "3.8.5"
  },
  "toc": {
   "base_numbering": 1,
   "nav_menu": {
    "height": "283px",
    "width": "284px"
   },
   "number_sections": false,
   "sideBar": true,
   "skip_h1_title": false,
   "title_cell": "Table of Contents",
   "title_sidebar": "Contents",
   "toc_cell": false,
   "toc_position": {
    "height": "calc(100% - 180px)",
    "left": "10px",
    "top": "150px",
    "width": "280.2px"
   },
   "toc_section_display": true,
   "toc_window_display": true
  }
 },
 "nbformat": 4,
 "nbformat_minor": 4
}
