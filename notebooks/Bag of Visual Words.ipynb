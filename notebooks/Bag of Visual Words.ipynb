{
 "cells": [
  {
   "cell_type": "code",
   "execution_count": 1,
   "metadata": {
    "ExecuteTime": {
     "end_time": "2021-08-04T09:33:07.724357Z",
     "start_time": "2021-08-04T09:32:20.291530Z"
    }
   },
   "outputs": [
    {
     "name": "stderr",
     "output_type": "stream",
     "text": [
      "Using TensorFlow backend.\n"
     ]
    }
   ],
   "source": [
    "# dataset\n",
    "from keras.datasets import cifar10\n",
    "\n",
    "# import joblib\n",
    "import numpy as np\n",
    "import cv2 as cv\n",
    "from skimage.feature import hog\n",
    "\n",
    "# visualization\n",
    "%matplotlib inline\n",
    "import matplotlib.pyplot as plt\n",
    "from tabulate import tabulate\n",
    "\n",
    "# utilities\n",
    "# from sklearn.preprocessing import minmax_scale, scale\n",
    "# from sklearn.model_selection import train_test_split, GridSearchCV\n",
    "\n",
    "# models\n",
    "# from sklearn.cluster import MiniBatchKMeans\n",
    "# from sklearn.linear_model import LogisticRegression\n",
    "# from sklearn.neighbors import KNeighborsClassifier\n",
    "# from sklearn.ensemble import RandomForestClassifier\n",
    "\n",
    "# metrics\n",
    "# from sklearn.metrics import accuracy_score"
   ]
  },
  {
   "cell_type": "markdown",
   "metadata": {
    "heading_collapsed": true
   },
   "source": [
    "# 1. Load Data\n",
    "\n",
    "**Dataset**: <a href=\"https://www.cs.toronto.edu/~kriz/cifar.html\" target=\"_blank\"> CIFAR-10 </a>\n",
    "\n",
    "**Classes**: airplane, automobile, bird, cat, deer, dog, frog, horse, ship, truck"
   ]
  },
  {
   "cell_type": "code",
   "execution_count": 2,
   "metadata": {
    "ExecuteTime": {
     "end_time": "2021-08-04T09:33:09.746585Z",
     "start_time": "2021-08-04T09:33:07.726186Z"
    },
    "hidden": true
   },
   "outputs": [],
   "source": [
    "(X_train, Y_train), (X_test, Y_test) = cifar10.load_data()"
   ]
  },
  {
   "cell_type": "code",
   "execution_count": 3,
   "metadata": {
    "ExecuteTime": {
     "end_time": "2021-08-04T09:33:09.825691Z",
     "start_time": "2021-08-04T09:33:09.748579Z"
    },
    "hidden": true
   },
   "outputs": [],
   "source": [
    "X_train = X_train.astype('uint8')\n",
    "X_test = X_test.astype('uint8')"
   ]
  },
  {
   "cell_type": "code",
   "execution_count": 4,
   "metadata": {
    "ExecuteTime": {
     "end_time": "2021-08-04T09:33:09.964440Z",
     "start_time": "2021-08-04T09:33:09.829688Z"
    },
    "hidden": true
   },
   "outputs": [
    {
     "name": "stdout",
     "output_type": "stream",
     "text": [
      "Total train data: 50000\n",
      "Total test data: 10000\n",
      "Image dimensions: (32, 32, 3)\n"
     ]
    }
   ],
   "source": [
    "print(f'Total train data: {X_train.shape[0]}')\n",
    "print(f'Total test data: {X_test.shape[0]}')\n",
    "print(f'Image dimensions: {X_train.shape[1], X_train.shape[2], X_train.shape[3]}')"
   ]
  },
  {
   "cell_type": "code",
   "execution_count": 5,
   "metadata": {
    "ExecuteTime": {
     "end_time": "2021-08-04T09:33:10.416216Z",
     "start_time": "2021-08-04T09:33:09.969442Z"
    },
    "hidden": true
   },
   "outputs": [
    {
     "data": {
      "text/plain": [
       "<matplotlib.colorbar.Colorbar at 0x1d085894a20>"
      ]
     },
     "execution_count": 5,
     "metadata": {},
     "output_type": "execute_result"
    },
    {
     "data": {
      "image/png": "[encoded data removed]",
      "text/plain": [
       "<Figure size 432x288 with 2 Axes>"
      ]
     },
     "metadata": {
      "needs_background": "light"
     },
     "output_type": "display_data"
    }
   ],
   "source": [
    "plt.imshow(X_train[4])\n",
    "\n",
    "plt.title('RGB Image')\n",
    "plt.colorbar()"
   ]
  },
  {
   "cell_type": "markdown",
   "metadata": {
    "heading_collapsed": true
   },
   "source": [
    "# 2. Preprocessing\n",
    "\n",
    "The following transformations are used:\n",
    "* **grayscale**: convert image from RGB to grayscale.\n",
    "* <span style=\"color:red\"><b>(deprecate)</b></span> **scale**: convert image pixels from [0, 255] range to [0, 1] range.\n",
    "\n",
    "<span style=\"color:red\"> <b> minmax scaling </b> </span>\n",
    "\n",
    "<span style=\"color:red\"> <b> standardize </b> </span>"
   ]
  },
  {
   "cell_type": "markdown",
   "metadata": {
    "heading_collapsed": true,
    "hidden": true
   },
   "source": [
    "## 2.1 Grayscale"
   ]
  },
  {
   "cell_type": "code",
   "execution_count": 6,
   "metadata": {
    "ExecuteTime": {
     "end_time": "2021-08-04T09:33:10.431357Z",
     "start_time": "2021-08-04T09:33:10.418215Z"
    },
    "hidden": true
   },
   "outputs": [],
   "source": [
    "def to_grayscale(data):\n",
    "    \"\"\" Converts RGB images to grayscale.\n",
    "    \n",
    "    Args:\n",
    "        data:\n",
    "            images in RGB format, as numpy array.\n",
    "    \n",
    "    Returns:\n",
    "       grayscale images, as numpy array.\n",
    "    \"\"\"\n",
    "    grayscale = np.zeros((data.shape[0], data.shape[1], data.shape[2])).astype('uint8')\n",
    "    \n",
    "    for idx in range(data.shape[0]):\n",
    "        grayscale[idx] = cv.cvtColor(data[idx], cv.COLOR_RGB2GRAY)\n",
    "    \n",
    "    return grayscale"
   ]
  },
  {
   "cell_type": "code",
   "execution_count": 7,
   "metadata": {
    "ExecuteTime": {
     "end_time": "2021-08-04T09:33:11.383582Z",
     "start_time": "2021-08-04T09:33:10.432362Z"
    },
    "hidden": true
   },
   "outputs": [],
   "source": [
    "X_train_grayscale = to_grayscale(X_train)\n",
    "X_test_grayscale = to_grayscale(X_test)"
   ]
  },
  {
   "cell_type": "code",
   "execution_count": 8,
   "metadata": {
    "ExecuteTime": {
     "end_time": "2021-08-04T09:33:11.399225Z",
     "start_time": "2021-08-04T09:33:11.388210Z"
    },
    "hidden": true
   },
   "outputs": [
    {
     "name": "stdout",
     "output_type": "stream",
     "text": [
      "Image dimensions in grayscale: (32, 32)\n"
     ]
    }
   ],
   "source": [
    "print(f'Image dimensions in grayscale: {X_train_grayscale.shape[1], X_train_grayscale.shape[2]}')"
   ]
  },
  {
   "cell_type": "code",
   "execution_count": 9,
   "metadata": {
    "ExecuteTime": {
     "end_time": "2021-08-04T09:33:11.744346Z",
     "start_time": "2021-08-04T09:33:11.406165Z"
    },
    "hidden": true
   },
   "outputs": [
    {
     "data": {
      "text/plain": [
       "<matplotlib.colorbar.Colorbar at 0x1d089aa2cc0>"
      ]
     },
     "execution_count": 9,
     "metadata": {},
     "output_type": "execute_result"
    },
    {
     "data": {
      "image/png": "[encoded data removed]",
      "text/plain": [
       "<Figure size 432x288 with 2 Axes>"
      ]
     },
     "metadata": {
      "needs_background": "light"
     },
     "output_type": "display_data"
    }
   ],
   "source": [
    "plt.imshow(X_train_grayscale[4], cmap='gray')\n",
    "\n",
    "plt.title('Grayscale Image')\n",
    "plt.colorbar()"
   ]
  },
  {
   "cell_type": "markdown",
   "metadata": {
    "heading_collapsed": true,
    "hidden": true
   },
   "source": [
    "## 2.2 Scaling"
   ]
  },
  {
   "cell_type": "code",
   "execution_count": 10,
   "metadata": {
    "ExecuteTime": {
     "end_time": "2021-08-04T09:33:11.805486Z",
     "start_time": "2021-08-04T09:33:11.748375Z"
    },
    "hidden": true
   },
   "outputs": [],
   "source": [
    "def scale(data):\n",
    "    \"\"\" Scale image pixels from [0, 255] range to [0, 1] range.\n",
    "\n",
    "    Args:\n",
    "        data:\n",
    "            images, as numpy array.\n",
    "\n",
    "    Returns:\n",
    "        scaled images, as numpy array.\n",
    "    \"\"\"\n",
    "    data = data / 255.0\n",
    "\n",
    "    return data"
   ]
  },
  {
   "cell_type": "code",
   "execution_count": 11,
   "metadata": {
    "ExecuteTime": {
     "end_time": "2021-08-04T09:33:12.165855Z",
     "start_time": "2021-08-04T09:33:11.810432Z"
    },
    "hidden": true
   },
   "outputs": [],
   "source": [
    "X_train_scaled = scale(X_train_grayscale)\n",
    "X_test_scaled = scale(X_test_grayscale)"
   ]
  },
  {
   "cell_type": "code",
   "execution_count": 12,
   "metadata": {
    "ExecuteTime": {
     "end_time": "2021-08-04T09:33:12.181936Z",
     "start_time": "2021-08-04T09:33:12.167778Z"
    },
    "hidden": true
   },
   "outputs": [
    {
     "name": "stdout",
     "output_type": "stream",
     "text": [
      "Image pixels after scaling:\n",
      "[[0.67058824 0.5254902  0.40392157 ... 0.35686275 0.34117647 0.30980392]\n",
      " [0.60784314 0.59215686 0.48627451 ... 0.37647059 0.30196078 0.27843137]\n",
      " [0.59607843 0.56470588 0.45098039 ... 0.30980392 0.26666667 0.2627451 ]\n",
      " ...\n",
      " [0.6627451  0.60784314 0.62352941 ... 0.14509804 0.21960784 0.34117647]\n",
      " [0.60392157 0.59215686 0.61960784 ... 0.37647059 0.45882353 0.49019608]\n",
      " [0.58431373 0.58039216 0.60784314 ... 0.5372549  0.54117647 0.5372549 ]]\n"
     ]
    }
   ],
   "source": [
    "print(f'Image pixels after scaling:\\n{X_train_scaled[1]}')"
   ]
  },
  {
   "cell_type": "code",
   "execution_count": 13,
   "metadata": {
    "ExecuteTime": {
     "end_time": "2021-08-04T09:33:12.513705Z",
     "start_time": "2021-08-04T09:33:12.183935Z"
    },
    "hidden": true
   },
   "outputs": [
    {
     "data": {
      "text/plain": [
       "<matplotlib.colorbar.Colorbar at 0x1d089b68080>"
      ]
     },
     "execution_count": 13,
     "metadata": {},
     "output_type": "execute_result"
    },
    {
     "data": {
      "image/png": "[encoded data removed]",
      "text/plain": [
       "<Figure size 432x288 with 2 Axes>"
      ]
     },
     "metadata": {
      "needs_background": "light"
     },
     "output_type": "display_data"
    }
   ],
   "source": [
    "plt.imshow(X_train_scaled[4], cmap='gray')\n",
    "\n",
    "plt.title('Scaled Image')\n",
    "plt.colorbar()"
   ]
  },
  {
   "cell_type": "markdown",
   "metadata": {
    "heading_collapsed": true
   },
   "source": [
    "# 3. Features\n",
    "\n",
    "The following features are extracted from images:\n",
    "* <a href=\"https://docs.opencv.org/4.5.2/d1/db7/tutorial_py_histogram_begins.html\" target=\"_blank\"> Gray Color Histogram </a>\n",
    "* <a href=\"https://scikit-image.org/docs/dev/auto_examples/features_detection/plot_hog.html\" target=\"_blank\"> Histogram of Oriented Gradients (HOG) </a>\n",
    "* <a href=\"https://docs.opencv.org/master/da/df5/tutorial_py_sift_intro.html\" target=\"_blank\"> Scale-Invariant Feature Transform (SIFT) </a>"
   ]
  },
  {
   "cell_type": "markdown",
   "metadata": {
    "heading_collapsed": true,
    "hidden": true
   },
   "source": [
    "## 3.1 Gray Color Histogram"
   ]
  },
  {
   "cell_type": "code",
   "execution_count": 14,
   "metadata": {
    "ExecuteTime": {
     "end_time": "2021-08-04T09:33:12.528910Z",
     "start_time": "2021-08-04T09:33:12.514706Z"
    },
    "hidden": true
   },
   "outputs": [],
   "source": [
    "def color_histogram(data):\n",
    "    \"\"\" Extracts gray color histograms.\n",
    "    \n",
    "    Args:\n",
    "        data:\n",
    "            images in grayscale format, as numpy array.\n",
    "    \n",
    "    Returns:\n",
    "        gray color histograms, as list of numpy arrays.\n",
    "    \"\"\"\n",
    "    color_hists = []\n",
    "    \n",
    "    for idx in range(data.shape[0]):\n",
    "        color_hist = cv.calcHist([data[idx]], [0], None, [256], [0,256])\n",
    "        color_hists.append(color_hist.ravel())\n",
    "    \n",
    "    return color_hists"
   ]
  },
  {
   "cell_type": "code",
   "execution_count": 15,
   "metadata": {
    "ExecuteTime": {
     "end_time": "2021-08-04T09:33:13.167345Z",
     "start_time": "2021-08-04T09:33:12.529904Z"
    },
    "hidden": true
   },
   "outputs": [],
   "source": [
    "color_hist_train = color_histogram(X_train_grayscale)\n",
    "color_hist_test = color_histogram(X_test_grayscale)"
   ]
  },
  {
   "cell_type": "code",
   "execution_count": 16,
   "metadata": {
    "ExecuteTime": {
     "end_time": "2021-08-04T09:33:13.183328Z",
     "start_time": "2021-08-04T09:33:13.169356Z"
    },
    "hidden": true
   },
   "outputs": [
    {
     "name": "stdout",
     "output_type": "stream",
     "text": [
      "Image gray color histogram, first 10 values: [ 0.  4.  4.  6. 10.  6.  3.  4.  6.  7.]\n",
      "\n",
      "Size of image gray color histogram: (256,)\n"
     ]
    }
   ],
   "source": [
    "print(f'Image gray color histogram, first 10 values: {color_hist_train[4][:10]}\\n') \n",
    "print(f'Size of image gray color histogram: {color_hist_train[4].shape}')"
   ]
  },
  {
   "cell_type": "code",
   "execution_count": 17,
   "metadata": {
    "ExecuteTime": {
     "end_time": "2021-08-04T09:33:13.691938Z",
     "start_time": "2021-08-04T09:33:13.185294Z"
    },
    "hidden": true
   },
   "outputs": [
    {
     "data": {
      "image/png": "[encoded data removed]",
      "text/plain": [
       "<Figure size 720x288 with 2 Axes>"
      ]
     },
     "metadata": {
      "needs_background": "light"
     },
     "output_type": "display_data"
    }
   ],
   "source": [
    "fig, (ax1, ax2) = plt.subplots(1, 2, figsize=(10, 4))\n",
    "\n",
    "ax1.imshow(X_train_grayscale[4], cmap='gray')\n",
    "ax1.set_title('Input Image')\n",
    "\n",
    "ax2.plot(color_hist_train[4]); \n",
    "ax2.set_title('Image Graycolor Histogram')\n",
    "\n",
    "plt.show()"
   ]
  },
  {
   "cell_type": "markdown",
   "metadata": {
    "heading_collapsed": true,
    "hidden": true
   },
   "source": [
    "## 3.2 Histogram of Oriented Gradients (HOG)"
   ]
  },
  {
   "cell_type": "code",
   "execution_count": 18,
   "metadata": {
    "ExecuteTime": {
     "end_time": "2021-08-04T09:33:13.707895Z",
     "start_time": "2021-08-04T09:33:13.696927Z"
    },
    "hidden": true
   },
   "outputs": [],
   "source": [
    "def hog_features(data):\n",
    "    \"\"\" Extracts histogram of oriented gradients.\n",
    "    \n",
    "    Args:\n",
    "        data:\n",
    "            images in grayscale format, as numpy array.\n",
    "    \n",
    "    Returns:\n",
    "        HOG descriptors, as list of numpy arrays.\n",
    "        HOG images, as list of numpy arrays.\n",
    "    \"\"\"\n",
    "    hog_descriptors = []\n",
    "    hog_images = []\n",
    "    \n",
    "    for idx in range(data.shape[0]):\n",
    "        fd, hog_image = hog(data[idx], \n",
    "                            orientations=9, \n",
    "                            pixels_per_cell=(8, 8),\n",
    "                            cells_per_block=(2, 2), \n",
    "                            block_norm='L2-Hys',\n",
    "                            transform_sqrt=True,\n",
    "                            feature_vector=True,\n",
    "                            visualize=True)  \n",
    "        hog_descriptors.append(fd)\n",
    "        hog_images.append(hog_image)\n",
    "    \n",
    "    return hog_descriptors, hog_images"
   ]
  },
  {
   "cell_type": "code",
   "execution_count": 19,
   "metadata": {
    "ExecuteTime": {
     "end_time": "2021-08-04T09:36:22.615073Z",
     "start_time": "2021-08-04T09:33:13.709891Z"
    },
    "hidden": true
   },
   "outputs": [],
   "source": [
    "hog_train, hog_train_img = hog_features(X_train_grayscale)\n",
    "hog_test, hog_test_img = hog_features(X_test_grayscale)"
   ]
  },
  {
   "cell_type": "code",
   "execution_count": 20,
   "metadata": {
    "ExecuteTime": {
     "end_time": "2021-08-04T09:36:22.630944Z",
     "start_time": "2021-08-04T09:36:22.616981Z"
    },
    "hidden": true
   },
   "outputs": [
    {
     "name": "stdout",
     "output_type": "stream",
     "text": [
      "Image HOG, first 6 values: [0.05613025 0.01108392 0.0912732  0.1247402  0.29826597 0.27952999]\n",
      "\n",
      "Size of image HOG: (324,)\n"
     ]
    }
   ],
   "source": [
    "print(f'Image HOG, first 6 values: {hog_train[4][:6]}\\n')\n",
    "print(f'Size of image HOG: {hog_train[4].shape}')"
   ]
  },
  {
   "cell_type": "code",
   "execution_count": 21,
   "metadata": {
    "ExecuteTime": {
     "end_time": "2021-08-04T09:36:22.959609Z",
     "start_time": "2021-08-04T09:36:22.633942Z"
    },
    "hidden": true
   },
   "outputs": [
    {
     "data": {
      "image/png": "[encoded data removed]",
      "text/plain": [
       "<Figure size 720x288 with 2 Axes>"
      ]
     },
     "metadata": {
      "needs_background": "light"
     },
     "output_type": "display_data"
    }
   ],
   "source": [
    "fig, (ax1, ax2) = plt.subplots(1, 2, figsize=(10, 4), sharex=True, sharey=True)\n",
    "\n",
    "ax1.imshow(X_train_grayscale[4], cmap='gray')\n",
    "ax1.set_title('Input Image')\n",
    "\n",
    "ax2.imshow(hog_train_img[4], cmap='gray')\n",
    "ax2.set_title('Histogram of Oriented Gradients')\n",
    "\n",
    "plt.show()"
   ]
  },
  {
   "cell_type": "markdown",
   "metadata": {
    "heading_collapsed": true,
    "hidden": true
   },
   "source": [
    "## 3.3 Scale-Invariant Feature Transform (SIFT)"
   ]
  },
  {
   "cell_type": "code",
   "execution_count": 22,
   "metadata": {
    "ExecuteTime": {
     "end_time": "2021-08-04T09:36:22.975631Z",
     "start_time": "2021-08-04T09:36:22.961579Z"
    },
    "hidden": true
   },
   "outputs": [],
   "source": [
    "def sift_features(data):\n",
    "    \"\"\" Extracts image SIFT keypoints and descriptors.\n",
    "    \n",
    "    Args:\n",
    "        data:\n",
    "            images in grayscale format, as numpy array.\n",
    "    \n",
    "    Returns:\n",
    "        SIFT keypoints, as list of lists.\n",
    "        SIFT descriptors, as list of numpy array. \n",
    "    \"\"\"\n",
    "    sift = cv.xfeatures2d.SIFT_create(contrastThreshold=0.02, sigma=0.9)\n",
    "    \n",
    "    keypoints = []\n",
    "    descriptors = []\n",
    "    \n",
    "    for idx in range(data.shape[0]):\n",
    "        kp, des = sift.detectAndCompute(data[idx], None)\n",
    "        keypoints.append(kp)\n",
    "        descriptors.append(des)\n",
    "    \n",
    "    return keypoints, descriptors"
   ]
  },
  {
   "cell_type": "code",
   "execution_count": 23,
   "metadata": {
    "ExecuteTime": {
     "end_time": "2021-08-04T09:37:31.480500Z",
     "start_time": "2021-08-04T09:36:22.980607Z"
    },
    "hidden": true
   },
   "outputs": [],
   "source": [
    "kp_sift_train, des_sift_train = sift_features(X_train_grayscale) \n",
    "kp_sift_test, des_sift_test = sift_features(X_test_grayscale)"
   ]
  },
  {
   "cell_type": "code",
   "execution_count": 24,
   "metadata": {
    "ExecuteTime": {
     "end_time": "2021-08-04T09:37:31.510420Z",
     "start_time": "2021-08-04T09:37:31.481498Z"
    },
    "hidden": true
   },
   "outputs": [
    {
     "name": "stdout",
     "output_type": "stream",
     "text": [
      "Image SIFT keypoints, first 3 values: [<KeyPoint 000001D0E3CD7090>, <KeyPoint 000001D0E3CD70C0>, <KeyPoint 000001D0E3CD70F0>]\n",
      "\n",
      "Size SIFT keypoints (image 4): 37\n",
      "Size SIFT keypoints (image 8): 30\n"
     ]
    }
   ],
   "source": [
    "print(f'Image SIFT keypoints, first 3 values: {kp_sift_train[4][:3]}\\n')\n",
    "print(f'Size SIFT keypoints (image 4): {len(kp_sift_train[4])}')\n",
    "print(f'Size SIFT keypoints (image 8): {len(kp_sift_train[8])}')"
   ]
  },
  {
   "cell_type": "code",
   "execution_count": 25,
   "metadata": {
    "ExecuteTime": {
     "end_time": "2021-08-04T09:37:31.804708Z",
     "start_time": "2021-08-04T09:37:31.511417Z"
    },
    "hidden": true
   },
   "outputs": [
    {
     "name": "stdout",
     "output_type": "stream",
     "text": [
      "Image SIFT descriptors:\n",
      "[[ 27.   1.   0. ...   0.   0.   0.]\n",
      " [  0.   3.   1. ...  21.   0.   0.]\n",
      " [ 11.   7.   2. ...   9.   0.   3.]\n",
      " ...\n",
      " [ 37.   0.   0. ...   0.   6.  26.]\n",
      " [ 44.  45.  24. ...   1. 101.  33.]\n",
      " [  9.  76.  43. ...   0.   0.   0.]]\n",
      "\n",
      "Size SIFT descriptors (image 4): (37, 128)\n",
      "Size SIFT descriptors (image 8): (30, 128)\n"
     ]
    }
   ],
   "source": [
    "print(f'Image SIFT descriptors:\\n{des_sift_train[4]}\\n')\n",
    "\n",
    "print(f'Size SIFT descriptors (image 4): {des_sift_train[4].shape}')\n",
    "print(f'Size SIFT descriptors (image 8): {des_sift_train[8].shape}')"
   ]
  },
  {
   "cell_type": "code",
   "execution_count": 26,
   "metadata": {
    "ExecuteTime": {
     "end_time": "2021-08-04T09:37:32.416247Z",
     "start_time": "2021-08-04T09:37:31.806710Z"
    },
    "hidden": true
   },
   "outputs": [
    {
     "data": {
      "image/png": "[encoded data removed]",
      "text/plain": [
       "<Figure size 720x288 with 2 Axes>"
      ]
     },
     "metadata": {
      "needs_background": "light"
     },
     "output_type": "display_data"
    }
   ],
   "source": [
    "img = cv.drawKeypoints(X_train_grayscale[4], kp_sift_train[4][:3], None)\n",
    "\n",
    "fig, (ax1, ax2) = plt.subplots(1, 2, figsize=(10, 4), sharex=True, sharey=True)\n",
    "\n",
    "ax1.imshow(X_train_grayscale[4], cmap='gray')\n",
    "ax1.set_title('Input Image')\n",
    "\n",
    "ax2.imshow(img, cmap='gray')\n",
    "ax2.set_title('SIFT keypoints (first 3)')\n",
    "\n",
    "plt.show()"
   ]
  },
  {
   "cell_type": "markdown",
   "metadata": {
    "heading_collapsed": true
   },
   "source": [
    "# 4. Bag of Visual Words"
   ]
  },
  {
   "cell_type": "markdown",
   "metadata": {
    "heading_collapsed": true,
    "hidden": true
   },
   "source": [
    "### 4.1 Visual Vocabulary"
   ]
  },
  {
   "cell_type": "code",
   "execution_count": null,
   "metadata": {
    "ExecuteTime": {
     "end_time": "2021-05-10T16:49:58.543948Z",
     "start_time": "2021-05-10T16:49:58.529521Z"
    },
    "hidden": true
   },
   "outputs": [],
   "source": [
    "def get_visual_words(descriptors, n_clusters=8, n_init=10, max_iter=300):\n",
    "    \"\"\" Finds the vocabulary of visual words.\n",
    "\n",
    "    To find the vocabulary of visual words, k-means is used. The centroids found by k-means\n",
    "    form the vocabulary.\n",
    "\n",
    "    Args:\n",
    "        descriptors:\n",
    "            descriptors, as a list of numpy arrays.\n",
    "        n_clusters:\n",
    "            The number of clusters to form as well as the number of centroids to generate, as int (default=8).\n",
    "        n_init:\n",
    "            Number of time the k-means algorithm will be run with different centroid seeds, as int (default=10).\n",
    "        max_iter:\n",
    "            Maximum number of iterations of the k-means algorithm for a single run, as int (default=300)\n",
    "\n",
    "    Returns:\n",
    "        Fitted k-means, holding the vocabulary of visual words .\n",
    "    \"\"\"\n",
    "    descriptors_raw = []\n",
    "    for des in descriptors:\n",
    "        if des is not None:\n",
    "            descriptors_raw.extend(des)\n",
    "\n",
    "    kmeans = MiniBatchKMeans(n_clusters=n_clusters, batch_size=64, n_init=n_init, max_iter=max_iter)\n",
    "\n",
    "    visual_words = kmeans.fit(descriptors_raw)\n",
    "\n",
    "    return visual_words"
   ]
  },
  {
   "cell_type": "code",
   "execution_count": null,
   "metadata": {
    "ExecuteTime": {
     "end_time": "2021-05-10T16:49:58.763383Z",
     "start_time": "2021-05-10T16:49:58.544978Z"
    },
    "hidden": true
   },
   "outputs": [],
   "source": [
    "visual_words = get_visual_words(descriptors=des_sift_train, n_clusters=500)"
   ]
  },
  {
   "cell_type": "markdown",
   "metadata": {
    "heading_collapsed": true,
    "hidden": true
   },
   "source": [
    "### 4.2 Vector Representations"
   ]
  },
  {
   "cell_type": "code",
   "execution_count": null,
   "metadata": {
    "ExecuteTime": {
     "end_time": "2021-05-26T18:08:05.238711Z",
     "start_time": "2021-05-26T18:08:05.189341Z"
    },
    "hidden": true
   },
   "outputs": [],
   "source": [
    "def get_vector_representation(visual_words, descriptors):\n",
    "    \"\"\" Computes the vector representation of images.\n",
    "\n",
    "    The representation is based on the image descriptors and a predefined BoVW model. Specifically,\n",
    "    it's a histogram of the frequencies of visual words from the vocabulary of the BoVW.\n",
    "\n",
    "    Args:\n",
    "        visual_words:\n",
    "            precomputed k-means model with the vocabulary of visual words.\n",
    "        descriptors:\n",
    "            descriptors, as list of numpy arrays.\n",
    "\n",
    "    Returns:\n",
    "        Vector representations of images, as list of numpy array.\n",
    "    \"\"\"\n",
    "    histograms = []\n",
    "    for desc in descriptors:\n",
    "        hist = np.zeros(visual_words.cluster_centers_.shape[0])\n",
    "        if desc is not None:\n",
    "            for d in desc:\n",
    "                # find the cluster each descriptor is close to\n",
    "                cluster_idx = visual_words.predict([d.astype(float)])\n",
    "                hist[cluster_idx] += 1\n",
    "            histograms.append(hist)\n",
    "    \n",
    "    return histograms"
   ]
  },
  {
   "cell_type": "code",
   "execution_count": null,
   "metadata": {
    "ExecuteTime": {
     "start_time": "2021-05-26T18:08:08.401Z"
    },
    "hidden": true
   },
   "outputs": [],
   "source": [
    "des_sift_train = get_vector_representation(visual_words, des_sift_train)\n",
    "des_sift_test = get_vector_representation(visual_words, des_sift_test)"
   ]
  },
  {
   "cell_type": "markdown",
   "metadata": {
    "heading_collapsed": true
   },
   "source": [
    "# 5. Early Fusion"
   ]
  },
  {
   "cell_type": "markdown",
   "metadata": {
    "heading_collapsed": true,
    "hidden": true
   },
   "source": [
    "### 5.1 Early Fusion: HOG + GCH"
   ]
  },
  {
   "cell_type": "code",
   "execution_count": null,
   "metadata": {
    "ExecuteTime": {
     "end_time": "2021-05-10T17:16:57.678009Z",
     "start_time": "2021-05-10T17:16:55.871592Z"
    },
    "hidden": true
   },
   "outputs": [],
   "source": [
    "X_train_hog_gch = []\n",
    "for idx in range(X_train_grayscale.shape[0]):\n",
    "    fused = np.concatenate((des_hog_train[idx], color_hist_train[idx]), axis=None)\n",
    "    X_train_hog_gch.append(fused)\n",
    "\n",
    "X_test_hog_gch = []\n",
    "for idx in range(X_test_grayscale.shape[0]):\n",
    "    fused = np.concatenate((des_hog_test[idx], color_hist_test[idx]), axis=None)\n",
    "    X_test_hog_gch.append(fused)"
   ]
  },
  {
   "cell_type": "code",
   "execution_count": null,
   "metadata": {
    "ExecuteTime": {
     "end_time": "2021-05-10T17:16:57.708093Z",
     "start_time": "2021-05-10T17:16:57.694096Z"
    },
    "hidden": true
   },
   "outputs": [],
   "source": [
    "print(f'Number of features: {X_train_hog_gch[0].shape[0]}')"
   ]
  },
  {
   "cell_type": "markdown",
   "metadata": {
    "heading_collapsed": true,
    "hidden": true
   },
   "source": [
    "### 5.2 Early Fusion: HOG + SIFT"
   ]
  },
  {
   "cell_type": "code",
   "execution_count": null,
   "metadata": {
    "ExecuteTime": {
     "start_time": "2021-05-26T18:09:04.841Z"
    },
    "hidden": true
   },
   "outputs": [],
   "source": [
    "X_train_hog_sift = []\n",
    "for idx in range(X_train_grayscale.shape[0]):\n",
    "    fused = np.concatenate((des_hog_train[idx], des_sift_train[idx]), axis=None)\n",
    "    X_train_hog_sift.append(fused)\n",
    "\n",
    "X_test_hog_sift = []\n",
    "for idx in range(X_test_grayscale.shape[0]):\n",
    "    fused = np.concatenate((des_hog_test[idx], des_sift_test[idx]), axis=None)\n",
    "    X_test_hog_sift.append(fused)"
   ]
  },
  {
   "cell_type": "code",
   "execution_count": null,
   "metadata": {
    "ExecuteTime": {
     "start_time": "2021-05-26T18:09:08.224Z"
    },
    "hidden": true
   },
   "outputs": [],
   "source": [
    "print(f'Number of features: {X_train_hog_sift[0].shape[0]}')"
   ]
  },
  {
   "cell_type": "markdown",
   "metadata": {
    "heading_collapsed": true,
    "hidden": true
   },
   "source": [
    "### 5.3 Early Fusion: HOG + GCH + SIFT"
   ]
  },
  {
   "cell_type": "code",
   "execution_count": null,
   "metadata": {
    "ExecuteTime": {
     "end_time": "2021-05-10T17:21:44.541368Z",
     "start_time": "2021-05-10T17:21:43.732653Z"
    },
    "hidden": true
   },
   "outputs": [],
   "source": [
    "X_train_hog_gch_sift = []\n",
    "for idx in range(X_train_grayscale.shape[0]):\n",
    "    fused = np.concatenate((des_hog_train[idx], color_hist_train[idx]), axis=None)\n",
    "    fused = np.concatenate((fused, des_sift_train[idx]), axis=None)\n",
    "    X_train_hog_gch_sift.append(fused)\n",
    "\n",
    "X_test_hog_gch_sift = []\n",
    "for idx in range(X_test_grayscale.shape[0]):\n",
    "    fused = np.concatenate((des_hog_test[idx], color_hist_test[idx]), axis=None)\n",
    "    fused = np.concatenate((fused, des_sift_test[idx]), axis=None)\n",
    "    X_test_hog_gch_sift.append(fused)"
   ]
  },
  {
   "cell_type": "code",
   "execution_count": null,
   "metadata": {
    "ExecuteTime": {
     "end_time": "2021-05-10T17:22:01.714023Z",
     "start_time": "2021-05-10T17:22:01.693046Z"
    },
    "hidden": true
   },
   "outputs": [],
   "source": [
    "print(f'Number of features: {X_train_hog_gch_sift[0].shape[0]}')"
   ]
  },
  {
   "cell_type": "markdown",
   "metadata": {
    "heading_collapsed": true
   },
   "source": [
    "# 6. Scaling"
   ]
  },
  {
   "cell_type": "markdown",
   "metadata": {
    "heading_collapsed": true,
    "hidden": true
   },
   "source": [
    "### 6.1 Minmax Scaling"
   ]
  },
  {
   "cell_type": "code",
   "execution_count": null,
   "metadata": {
    "ExecuteTime": {
     "end_time": "2021-05-11T17:53:46.686331Z",
     "start_time": "2021-05-11T17:53:45.807066Z"
    },
    "hidden": true
   },
   "outputs": [],
   "source": [
    "X_train_scaled = minmax_scale(np.array(X_train_hog_sift))\n",
    "X_test_scaled = minmax_scale(np.array(X_test_hog_sift))"
   ]
  },
  {
   "cell_type": "markdown",
   "metadata": {
    "heading_collapsed": true,
    "hidden": true
   },
   "source": [
    "### 6.2 Standardize"
   ]
  },
  {
   "cell_type": "code",
   "execution_count": null,
   "metadata": {
    "ExecuteTime": {
     "end_time": "2021-05-11T17:53:48.805669Z",
     "start_time": "2021-05-11T17:53:46.692316Z"
    },
    "hidden": true
   },
   "outputs": [],
   "source": [
    "X_train_stand = scale(np.array(X_train_hog_sift))\n",
    "X_test_stand = scale(np.array(X_test_hog_sift))"
   ]
  },
  {
   "cell_type": "markdown",
   "metadata": {
    "heading_collapsed": true
   },
   "source": [
    "# 7. Classification"
   ]
  },
  {
   "cell_type": "markdown",
   "metadata": {
    "hidden": true
   },
   "source": [
    "### 7.1 Logistic Regression"
   ]
  },
  {
   "cell_type": "code",
   "execution_count": null,
   "metadata": {
    "ExecuteTime": {
     "end_time": "2021-05-11T16:37:45.785131Z",
     "start_time": "2021-05-11T16:37:45.770197Z"
    },
    "hidden": true
   },
   "outputs": [],
   "source": [
    "# hyperparameter space\n",
    "space = {\n",
    "    'C': [0.01, 0.1, 1, 10],\n",
    "    'class_weight': [None],\n",
    "    'max_iter': [5000] \n",
    "}\n",
    "\n",
    "clf = LogisticRegression()"
   ]
  },
  {
   "cell_type": "code",
   "execution_count": null,
   "metadata": {
    "ExecuteTime": {
     "start_time": "2021-05-11T16:37:47.814Z"
    },
    "hidden": true
   },
   "outputs": [],
   "source": [
    "# hyperparameter tunning & cross validation\n",
    "search = GridSearchCV(clf, space, scoring=\"accuracy\", cv=10)\n",
    "results = search.fit(X_train_hog_sift, Y_train.ravel())\n",
    "\n",
    "print(results.best_score_)\n",
    "print(results.best_params_)"
   ]
  },
  {
   "cell_type": "code",
   "execution_count": null,
   "metadata": {
    "ExecuteTime": {
     "end_time": "2021-05-11T18:36:48.428383Z",
     "start_time": "2021-05-11T18:34:04.729544Z"
    },
    "hidden": true
   },
   "outputs": [],
   "source": [
    "clf = LogisticRegression(C=10, class_weight=None, max_iter=5000)\n",
    "\n",
    "clf.fit(X_train_hog_sift, Y_train.ravel())\n",
    "\n",
    "Y_train_pred = clf.predict(X_train_hog_sift)\n",
    "Y_test_pred = clf.predict(X_test_hog_sift)\n",
    "\n",
    "print(f'Train accuracy: {accuracy_score(Y_train.ravel(), Y_train_pred)}')\n",
    "print(f'Test accuracy: {accuracy_score(Y_test.ravel(), Y_test_pred)}')"
   ]
  },
  {
   "cell_type": "markdown",
   "metadata": {
    "heading_collapsed": true,
    "hidden": true
   },
   "source": [
    "### 7.2 kNN"
   ]
  },
  {
   "cell_type": "code",
   "execution_count": null,
   "metadata": {
    "ExecuteTime": {
     "end_time": "2021-04-22T13:14:45.478253Z",
     "start_time": "2021-04-22T13:14:45.465290Z"
    },
    "hidden": true
   },
   "outputs": [],
   "source": [
    "# hyperparameter space\n",
    "space = {\n",
    "    'n_neighbors': list(range(1, 20, 3)),\n",
    "    'weights': ['uniform', 'distance']\n",
    "}\n",
    "\n",
    "clf = KNeighborsClassifier()"
   ]
  },
  {
   "cell_type": "code",
   "execution_count": null,
   "metadata": {
    "ExecuteTime": {
     "end_time": "2021-04-22T15:04:49.112505Z",
     "start_time": "2021-04-22T14:25:22.840539Z"
    },
    "hidden": true
   },
   "outputs": [],
   "source": [
    "# hyperparameter tunning & cross validation\n",
    "search = GridSearchCV(clf, space, scoring=\"accuracy\", cv=10)\n",
    "results = search.fit(X_train_hog_sift, Y_train.ravel())\n",
    "\n",
    "print(results.best_score_)\n",
    "print(results.best_params_)"
   ]
  },
  {
   "cell_type": "code",
   "execution_count": null,
   "metadata": {
    "ExecuteTime": {
     "end_time": "2021-05-10T21:10:19.677094Z",
     "start_time": "2021-05-10T21:08:31.361128Z"
    },
    "hidden": true
   },
   "outputs": [],
   "source": [
    "clf = KNeighborsClassifier(n_neighbors=19, weights='distance')\n",
    "\n",
    "clf.fit(X_train_hog_sift, Y_train.ravel())\n",
    "\n",
    "Y_train_pred = clf.predict(X_train_hog_sift)\n",
    "Y_test_pred = clf.predict(X_test_hog_sift)\n",
    "\n",
    "print(f'Train accuracy: {accuracy_score(Y_train.ravel(), Y_train_pred)}')\n",
    "print(f'Test accuracy: {accuracy_score(Y_test.ravel(), Y_test_pred)}')"
   ]
  },
  {
   "cell_type": "markdown",
   "metadata": {
    "heading_collapsed": true,
    "hidden": true
   },
   "source": [
    "### 7.3 Random Forest"
   ]
  },
  {
   "cell_type": "code",
   "execution_count": null,
   "metadata": {
    "ExecuteTime": {
     "start_time": "2021-04-22T15:48:41.308Z"
    },
    "hidden": true
   },
   "outputs": [],
   "source": [
    "# hyperparameter space\n",
    "max_depth = (np.linspace(10, 50, num = 5).astype(int)).tolist()\n",
    "max_depth.append(None)\n",
    "space = {\n",
    "    'n_estimators': list(range(10, 101, 10)),\n",
    "    'max_depth': max_depth ,\n",
    "    'min_samples_split': [2, 5, 10],\n",
    "    'min_samples_leaf': [1, 3, 5],\n",
    "}\n",
    "\n",
    "clf = RandomForestClassifier()"
   ]
  },
  {
   "cell_type": "code",
   "execution_count": null,
   "metadata": {
    "ExecuteTime": {
     "start_time": "2021-04-22T15:48:41.316Z"
    },
    "hidden": true
   },
   "outputs": [],
   "source": [
    "# hyperparameter tunning & cross validation\n",
    "search = GridSearchCV(clf, space, scoring=\"accuracy\", cv=10)\n",
    "results = search.fit(X_train_hog_sift, Y_train.ravel())\n",
    "\n",
    "print(results.best_score_)\n",
    "print(results.best_params_)"
   ]
  },
  {
   "cell_type": "code",
   "execution_count": null,
   "metadata": {
    "ExecuteTime": {
     "end_time": "2021-05-10T21:11:46.476952Z",
     "start_time": "2021-05-10T21:10:19.716987Z"
    },
    "hidden": true
   },
   "outputs": [],
   "source": [
    "clf = RandomForestClassifier(n_estimators=100, max_depth=None, min_samples_split=2, min_samples_leaf=1)\n",
    "\n",
    "clf.fit(X_train_hog_sift, Y_train.ravel())\n",
    "\n",
    "Y_train_pred = clf.predict(X_train_hog_sift)\n",
    "Y_test_pred = clf.predict(X_test_hog_sift)\n",
    "\n",
    "print(f'Train accuracy: {accuracy_score(Y_train.ravel(), Y_train_pred)}')\n",
    "print(f'Test accuracy: {accuracy_score(Y_test.ravel(), Y_test_pred)}')"
   ]
  }
 ],
 "metadata": {
  "kernelspec": {
   "display_name": "Python [conda env:cbir-ml]",
   "language": "python",
   "name": "conda-env-cbir-ml-py"
  },
  "language_info": {
   "codemirror_mode": {
    "name": "ipython",
    "version": 3
   },
   "file_extension": ".py",
   "mimetype": "text/x-python",
   "name": "python",
   "nbconvert_exporter": "python",
   "pygments_lexer": "ipython3",
   "version": "3.6.13"
  },
  "toc": {
   "base_numbering": 1,
   "nav_menu": {
    "height": "283px",
    "width": "284px"
   },
   "number_sections": false,
   "sideBar": true,
   "skip_h1_title": false,
   "title_cell": "Table of Contents",
   "title_sidebar": "Contents",
   "toc_cell": false,
   "toc_position": {
    "height": "calc(100% - 180px)",
    "left": "10px",
    "top": "150px",
    "width": "291.2px"
   },
   "toc_section_display": true,
   "toc_window_display": true
  }
 },
 "nbformat": 4,
 "nbformat_minor": 4
}
