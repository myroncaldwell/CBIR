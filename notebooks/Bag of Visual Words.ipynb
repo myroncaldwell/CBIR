{
 "cells": [
  {
   "cell_type": "code",
   "execution_count": 48,
   "metadata": {
    "ExecuteTime": {
     "end_time": "2021-08-20T09:15:30.851310Z",
     "start_time": "2021-08-20T09:15:28.896374Z"
    }
   },
   "outputs": [],
   "source": [
    "# dataset\n",
    "from keras.datasets import cifar10\n",
    "\n",
    "import joblib\n",
    "import numpy as np\n",
    "import cv2 as cv\n",
    "from skimage.feature import hog\n",
    "\n",
    "# visualization\n",
    "%matplotlib inline\n",
    "import matplotlib.pyplot as plt\n",
    "import seaborn as sns\n",
    "from tabulate import tabulate\n",
    "\n",
    "# utilities\n",
    "from sklearn.model_selection import GridSearchCV\n",
    "\n",
    "# models\n",
    "from sklearn.cluster import MiniBatchKMeans\n",
    "from sklearn.naive_bayes import GaussianNB\n",
    "from sklearn.linear_model import LogisticRegression\n",
    "# from sklearn.neighbors import KNeighborsClassifier\n",
    "# from sklearn.ensemble import RandomForestClassifier\n",
    "\n",
    "# metrics\n",
    "from sklearn.metrics import davies_bouldin_score\n",
    "from sklearn.metrics import classification_report\n",
    "from sklearn.metrics import confusion_matrix"
   ]
  },
  {
   "cell_type": "markdown",
   "metadata": {
    "heading_collapsed": true
   },
   "source": [
    "# 1. Load Data\n",
    "\n",
    "**Dataset**: <a href=\"https://www.cs.toronto.edu/~kriz/cifar.html\" target=\"_blank\"> CIFAR-10 </a>\n",
    "\n",
    "**Classes**: airplane, automobile, bird, cat, deer, dog, frog, horse, ship, truck"
   ]
  },
  {
   "cell_type": "code",
   "execution_count": 2,
   "metadata": {
    "ExecuteTime": {
     "end_time": "2021-08-20T08:40:01.817977Z",
     "start_time": "2021-08-20T08:39:59.600382Z"
    },
    "hidden": true
   },
   "outputs": [],
   "source": [
    "(X_train, Y_train), (X_test, Y_test) = cifar10.load_data()"
   ]
  },
  {
   "cell_type": "code",
   "execution_count": 3,
   "metadata": {
    "ExecuteTime": {
     "end_time": "2021-08-20T08:40:01.913714Z",
     "start_time": "2021-08-20T08:40:01.819799Z"
    },
    "hidden": true
   },
   "outputs": [],
   "source": [
    "X_train = X_train.astype('uint8')\n",
    "X_test = X_test.astype('uint8')"
   ]
  },
  {
   "cell_type": "code",
   "execution_count": 4,
   "metadata": {
    "ExecuteTime": {
     "end_time": "2021-08-20T08:40:02.022241Z",
     "start_time": "2021-08-20T08:40:01.915737Z"
    },
    "hidden": true
   },
   "outputs": [
    {
     "name": "stdout",
     "output_type": "stream",
     "text": [
      "Total train data: 50000\n",
      "Total test data: 10000\n",
      "Image dimensions: (32, 32, 3)\n"
     ]
    }
   ],
   "source": [
    "print(f'Total train data: {X_train.shape[0]}')\n",
    "print(f'Total test data: {X_test.shape[0]}')\n",
    "print(f'Image dimensions: {X_train.shape[1], X_train.shape[2], X_train.shape[3]}')"
   ]
  },
  {
   "cell_type": "code",
   "execution_count": 5,
   "metadata": {
    "ExecuteTime": {
     "end_time": "2021-08-20T08:40:02.644447Z",
     "start_time": "2021-08-20T08:40:02.024237Z"
    },
    "hidden": true
   },
   "outputs": [
    {
     "data": {
      "text/plain": [
       "<matplotlib.colorbar.Colorbar at 0x1ef071d1898>"
      ]
     },
     "execution_count": 5,
     "metadata": {},
     "output_type": "execute_result"
    },
    {
     "data": {
      "image/png": "[encoded data removed]",
      "text/plain": [
       "<Figure size 432x288 with 2 Axes>"
      ]
     },
     "metadata": {
      "needs_background": "light"
     },
     "output_type": "display_data"
    }
   ],
   "source": [
    "plt.imshow(X_train[4])\n",
    "\n",
    "plt.title('RGB Image')\n",
    "plt.colorbar()"
   ]
  },
  {
   "cell_type": "markdown",
   "metadata": {
    "heading_collapsed": true
   },
   "source": [
    "# 2. Preprocessing\n",
    "\n",
    "The following transformations are tested:\n",
    "* grayscaling\n",
    "* <span style=\"color:red\"><b>(deprecated)</b></span> normalization (from [0, 255] to [0, 1] by dividing with 255)\n",
    "* <span style=\"color:red\"><b>(deprecated)</b></span> minmax scaling (from [0, 255] to [0, 1] using the formula: y = (x – min) / (max – min))\n",
    "* <span style=\"color:red\"><b>(deprecated)</b></span> standardization (y = (x - mean) / std), cliping to [-1, 1] and rescaling to [0, 1] with 0.5 mean (y = (x + 1.0) / 2.0)"
   ]
  },
  {
   "cell_type": "markdown",
   "metadata": {
    "heading_collapsed": true,
    "hidden": true
   },
   "source": [
    "## 2.1 Grayscale"
   ]
  },
  {
   "cell_type": "code",
   "execution_count": 6,
   "metadata": {
    "ExecuteTime": {
     "end_time": "2021-08-20T08:40:02.659409Z",
     "start_time": "2021-08-20T08:40:02.646437Z"
    },
    "hidden": true
   },
   "outputs": [],
   "source": [
    "def to_grayscale(data):\n",
    "    \"\"\" Converts RGB images to grayscale.\n",
    "    \n",
    "    Args:\n",
    "        data:\n",
    "            images in RGB format, as numpy array.\n",
    "    \n",
    "    Returns:\n",
    "       grayscale images, as numpy array.\n",
    "    \"\"\"\n",
    "    grayscale = np.zeros((data.shape[0], data.shape[1], data.shape[2])).astype('uint8')\n",
    "    \n",
    "    for idx in range(data.shape[0]):\n",
    "        grayscale[idx] = cv.cvtColor(data[idx], cv.COLOR_RGB2GRAY)\n",
    "    \n",
    "    return grayscale"
   ]
  },
  {
   "cell_type": "code",
   "execution_count": 7,
   "metadata": {
    "ExecuteTime": {
     "end_time": "2021-08-20T08:40:03.778297Z",
     "start_time": "2021-08-20T08:40:02.662395Z"
    },
    "hidden": true
   },
   "outputs": [],
   "source": [
    "X_train_grayscale = to_grayscale(X_train)\n",
    "X_test_grayscale = to_grayscale(X_test)"
   ]
  },
  {
   "cell_type": "code",
   "execution_count": 8,
   "metadata": {
    "ExecuteTime": {
     "end_time": "2021-08-20T08:40:03.791137Z",
     "start_time": "2021-08-20T08:40:03.780763Z"
    },
    "hidden": true
   },
   "outputs": [
    {
     "name": "stdout",
     "output_type": "stream",
     "text": [
      "Image dimensions in grayscale: (32, 32)\n"
     ]
    }
   ],
   "source": [
    "print(f'Image dimensions in grayscale: {X_train_grayscale.shape[1], X_train_grayscale.shape[2]}')"
   ]
  },
  {
   "cell_type": "code",
   "execution_count": 9,
   "metadata": {
    "ExecuteTime": {
     "end_time": "2021-08-20T08:40:04.246221Z",
     "start_time": "2021-08-20T08:40:03.794111Z"
    },
    "hidden": true
   },
   "outputs": [
    {
     "data": {
      "text/plain": [
       "<matplotlib.colorbar.Colorbar at 0x1ef0a401a58>"
      ]
     },
     "execution_count": 9,
     "metadata": {},
     "output_type": "execute_result"
    },
    {
     "data": {
      "image/png": "[encoded data removed]",
      "text/plain": [
       "<Figure size 432x288 with 2 Axes>"
      ]
     },
     "metadata": {
      "needs_background": "light"
     },
     "output_type": "display_data"
    }
   ],
   "source": [
    "plt.imshow(X_train_grayscale[4], cmap='gray')\n",
    "\n",
    "plt.title('Grayscale Image')\n",
    "plt.colorbar()"
   ]
  },
  {
   "cell_type": "markdown",
   "metadata": {
    "heading_collapsed": true,
    "hidden": true
   },
   "source": [
    "## 2.2 Normalize"
   ]
  },
  {
   "cell_type": "code",
   "execution_count": 10,
   "metadata": {
    "ExecuteTime": {
     "end_time": "2021-08-20T08:40:04.509473Z",
     "start_time": "2021-08-20T08:40:04.250173Z"
    },
    "hidden": true
   },
   "outputs": [],
   "source": [
    "X_train_norm = X_train_grayscale / 255.0\n",
    "X_test_norm = X_test_grayscale / 255.0"
   ]
  },
  {
   "cell_type": "code",
   "execution_count": 11,
   "metadata": {
    "ExecuteTime": {
     "end_time": "2021-08-20T08:40:04.525432Z",
     "start_time": "2021-08-20T08:40:04.511469Z"
    },
    "hidden": true
   },
   "outputs": [
    {
     "name": "stdout",
     "output_type": "stream",
     "text": [
      "Image pixels after normalization:\n",
      "[[0.70196078 0.69411765 0.7254902  ... 0.69803922 0.69019608 0.68627451]\n",
      " [0.70196078 0.71764706 0.70980392 ... 0.69019608 0.68235294 0.6745098 ]\n",
      " [0.65490196 0.63529412 0.55686275 ... 0.69411765 0.68627451 0.6745098 ]\n",
      " ...\n",
      " [0.31764706 0.32156863 0.3254902  ... 0.29019608 0.27843137 0.25098039]\n",
      " [0.29019608 0.29411765 0.30196078 ... 0.30980392 0.29019608 0.29019608]\n",
      " [0.28627451 0.29019608 0.28627451 ... 0.30588235 0.29019608 0.29803922]]\n"
     ]
    }
   ],
   "source": [
    "print(f'Image pixels after normalization:\\n{X_train_norm[4]}')"
   ]
  },
  {
   "cell_type": "code",
   "execution_count": 12,
   "metadata": {
    "ExecuteTime": {
     "end_time": "2021-08-20T08:40:04.916847Z",
     "start_time": "2021-08-20T08:40:04.527430Z"
    },
    "hidden": true
   },
   "outputs": [
    {
     "data": {
      "text/plain": [
       "<matplotlib.colorbar.Colorbar at 0x1ef0a4b6cf8>"
      ]
     },
     "execution_count": 12,
     "metadata": {},
     "output_type": "execute_result"
    },
    {
     "data": {
      "image/png": "[encoded data removed]",
      "text/plain": [
       "<Figure size 432x288 with 2 Axes>"
      ]
     },
     "metadata": {
      "needs_background": "light"
     },
     "output_type": "display_data"
    }
   ],
   "source": [
    "plt.imshow(X_train_norm[4], cmap='gray')\n",
    "\n",
    "plt.title('Normalized Image')\n",
    "plt.colorbar()"
   ]
  },
  {
   "cell_type": "markdown",
   "metadata": {
    "heading_collapsed": true,
    "hidden": true
   },
   "source": [
    "## 2.3 Minmax Scale"
   ]
  },
  {
   "cell_type": "code",
   "execution_count": 13,
   "metadata": {
    "ExecuteTime": {
     "end_time": "2021-08-20T08:40:05.024752Z",
     "start_time": "2021-08-20T08:40:04.918843Z"
    },
    "hidden": true
   },
   "outputs": [
    {
     "name": "stdout",
     "output_type": "stream",
     "text": [
      "mean: 0, std: 255\n"
     ]
    }
   ],
   "source": [
    "# min and max of train dataset\n",
    "minimum = X_train_grayscale.min()\n",
    "maximum = X_train_grayscale.max()\n",
    "\n",
    "print(f'mean: {minimum}, std: {maximum}')"
   ]
  },
  {
   "cell_type": "code",
   "execution_count": 14,
   "metadata": {
    "ExecuteTime": {
     "end_time": "2021-08-20T08:40:05.276353Z",
     "start_time": "2021-08-20T08:40:05.026748Z"
    },
    "hidden": true
   },
   "outputs": [],
   "source": [
    "# minmax scale\n",
    "X_train_scale = (X_train_grayscale - minimum) / (maximum - minimum)\n",
    "X_test_scale = (X_test_grayscale - minimum) / (maximum - minimum)"
   ]
  },
  {
   "cell_type": "code",
   "execution_count": 15,
   "metadata": {
    "ExecuteTime": {
     "end_time": "2021-08-20T08:40:05.292310Z",
     "start_time": "2021-08-20T08:40:05.279303Z"
    },
    "hidden": true
   },
   "outputs": [
    {
     "name": "stdout",
     "output_type": "stream",
     "text": [
      "Image pixels after minmax scaling:\n",
      "[[0.70196078 0.69411765 0.7254902  ... 0.69803922 0.69019608 0.68627451]\n",
      " [0.70196078 0.71764706 0.70980392 ... 0.69019608 0.68235294 0.6745098 ]\n",
      " [0.65490196 0.63529412 0.55686275 ... 0.69411765 0.68627451 0.6745098 ]\n",
      " ...\n",
      " [0.31764706 0.32156863 0.3254902  ... 0.29019608 0.27843137 0.25098039]\n",
      " [0.29019608 0.29411765 0.30196078 ... 0.30980392 0.29019608 0.29019608]\n",
      " [0.28627451 0.29019608 0.28627451 ... 0.30588235 0.29019608 0.29803922]]\n"
     ]
    }
   ],
   "source": [
    "print(f'Image pixels after minmax scaling:\\n{X_train_scale[4]}')"
   ]
  },
  {
   "cell_type": "code",
   "execution_count": 16,
   "metadata": {
    "ExecuteTime": {
     "end_time": "2021-08-20T08:40:05.618418Z",
     "start_time": "2021-08-20T08:40:05.294267Z"
    },
    "hidden": true
   },
   "outputs": [
    {
     "data": {
      "text/plain": [
       "<matplotlib.colorbar.Colorbar at 0x1ef0a56c908>"
      ]
     },
     "execution_count": 16,
     "metadata": {},
     "output_type": "execute_result"
    },
    {
     "data": {
      "image/png": "[encoded data removed]",
      "text/plain": [
       "<Figure size 432x288 with 2 Axes>"
      ]
     },
     "metadata": {
      "needs_background": "light"
     },
     "output_type": "display_data"
    }
   ],
   "source": [
    "plt.imshow(X_train_scale[4], cmap='gray')\n",
    "\n",
    "plt.title('Minmax scaled Image')\n",
    "plt.colorbar()"
   ]
  },
  {
   "cell_type": "markdown",
   "metadata": {
    "heading_collapsed": true,
    "hidden": true
   },
   "source": [
    "## 2.4 Standardize, Clip, Rescale"
   ]
  },
  {
   "cell_type": "code",
   "execution_count": 17,
   "metadata": {
    "ExecuteTime": {
     "end_time": "2021-08-20T08:40:06.148994Z",
     "start_time": "2021-08-20T08:40:05.620452Z"
    },
    "hidden": true
   },
   "outputs": [
    {
     "name": "stdout",
     "output_type": "stream",
     "text": [
      "mean: 122.6199244921875, std: 60.9935981511246\n"
     ]
    }
   ],
   "source": [
    "# mean and std of train dataset\n",
    "u = X_train_grayscale.mean()\n",
    "s = X_train_grayscale.std()\n",
    "\n",
    "print(f'mean: {u}, std: {s}')"
   ]
  },
  {
   "cell_type": "code",
   "execution_count": 18,
   "metadata": {
    "ExecuteTime": {
     "end_time": "2021-08-20T08:40:08.167599Z",
     "start_time": "2021-08-20T08:40:06.151987Z"
    },
    "hidden": true
   },
   "outputs": [],
   "source": [
    "# standardize\n",
    "X_train_stand = (X_train_grayscale - u) / s\n",
    "X_test_stand = (X_test_grayscale - u) / s\n",
    "\n",
    "# clip to [-1, 1]\n",
    "X_train_stand = np.clip(X_train_stand, -1.0, 1.0)\n",
    "X_test_stand = np.clip(X_test_stand, -1.0, 1.0)\n",
    "\n",
    "# rescale to [0, 1] with 0.5 mean\n",
    "X_train_stand = (X_train_stand + 1.0) / 2.0\n",
    "X_test_stand = (X_test_stand + 1.0) / 2.0"
   ]
  },
  {
   "cell_type": "code",
   "execution_count": 19,
   "metadata": {
    "ExecuteTime": {
     "end_time": "2021-08-20T08:40:08.183556Z",
     "start_time": "2021-08-20T08:40:08.169595Z"
    },
    "hidden": true
   },
   "outputs": [
    {
     "name": "stdout",
     "output_type": "stream",
     "text": [
      "Image pixels after standardization, cliping and rescaling:\n",
      "[[0.96218027 0.94578511 1.         ... 0.95398269 0.93758753 0.92938994]\n",
      " [0.96218027 0.9949706  0.97857543 ... 0.93758753 0.92119236 0.9047972 ]\n",
      " [0.86380929 0.82282138 0.65886975 ... 0.94578511 0.92938994 0.9047972 ]\n",
      " ...\n",
      " [0.15881727 0.16701485 0.17521243 ... 0.1014342  0.07684146 0.01945838]\n",
      " [0.1014342  0.10963178 0.12602694 ... 0.14242211 0.1014342  0.1014342 ]\n",
      " [0.09323662 0.1014342  0.09323662 ... 0.13422453 0.1014342  0.11782936]]\n"
     ]
    }
   ],
   "source": [
    "print(f'Image pixels after standardization, cliping and rescaling:\\n{X_train_stand[4]}')"
   ]
  },
  {
   "cell_type": "code",
   "execution_count": 20,
   "metadata": {
    "ExecuteTime": {
     "end_time": "2021-08-20T08:40:08.855653Z",
     "start_time": "2021-08-20T08:40:08.186552Z"
    },
    "hidden": true
   },
   "outputs": [
    {
     "data": {
      "text/plain": [
       "<matplotlib.colorbar.Colorbar at 0x1ef0a625518>"
      ]
     },
     "execution_count": 20,
     "metadata": {},
     "output_type": "execute_result"
    },
    {
     "data": {
      "image/png": "[encoded data removed]",
      "text/plain": [
       "<Figure size 432x288 with 2 Axes>"
      ]
     },
     "metadata": {
      "needs_background": "light"
     },
     "output_type": "display_data"
    }
   ],
   "source": [
    "plt.imshow(X_train_stand[4], cmap='gray')\n",
    "\n",
    "plt.title('Standardized, Clipped and Rescaled to [0, 1] Image')\n",
    "plt.colorbar()"
   ]
  },
  {
   "cell_type": "markdown",
   "metadata": {
    "heading_collapsed": true
   },
   "source": [
    "# 3. Features\n",
    "\n",
    "The following features are extracted from images:\n",
    "* <a href=\"https://docs.opencv.org/4.5.2/d1/db7/tutorial_py_histogram_begins.html\" target=\"_blank\"> Gray Color Histogram (GCH) </a>\n",
    "* <a href=\"https://scikit-image.org/docs/dev/auto_examples/features_detection/plot_hog.html\" target=\"_blank\"> Histogram of Oriented Gradients (HOG) </a>\n",
    "* <a href=\"https://docs.opencv.org/master/da/df5/tutorial_py_sift_intro.html\" target=\"_blank\"> Scale-Invariant Feature Transform (SIFT) </a>"
   ]
  },
  {
   "cell_type": "markdown",
   "metadata": {
    "heading_collapsed": true,
    "hidden": true
   },
   "source": [
    "## 3.1 Gray Color Histogram"
   ]
  },
  {
   "cell_type": "code",
   "execution_count": 21,
   "metadata": {
    "ExecuteTime": {
     "end_time": "2021-08-20T08:40:09.151094Z",
     "start_time": "2021-08-20T08:40:08.857651Z"
    },
    "hidden": true
   },
   "outputs": [],
   "source": [
    "def color_histogram(data):\n",
    "    \"\"\" Extracts gray color histograms.\n",
    "    \n",
    "    Args:\n",
    "        data:\n",
    "            images in grayscale format, as numpy array.\n",
    "    \n",
    "    Returns:\n",
    "        gray color histograms, as list of numpy arrays.\n",
    "    \"\"\"\n",
    "    color_hists = []\n",
    "    \n",
    "    for idx in range(data.shape[0]):\n",
    "        color_hist = cv.calcHist([data[idx]], [0], None, [256], [0,256])\n",
    "        color_hists.append(color_hist.ravel())\n",
    "    \n",
    "    return color_hists"
   ]
  },
  {
   "cell_type": "code",
   "execution_count": 22,
   "metadata": {
    "ExecuteTime": {
     "end_time": "2021-08-20T08:40:12.416231Z",
     "start_time": "2021-08-20T08:40:09.153091Z"
    },
    "hidden": true
   },
   "outputs": [],
   "source": [
    "color_hist_train = color_histogram(X_train_grayscale)\n",
    "color_hist_test = color_histogram(X_test_grayscale)"
   ]
  },
  {
   "cell_type": "code",
   "execution_count": 23,
   "metadata": {
    "ExecuteTime": {
     "end_time": "2021-08-20T08:40:12.539593Z",
     "start_time": "2021-08-20T08:40:12.421561Z"
    },
    "hidden": true
   },
   "outputs": [
    {
     "name": "stdout",
     "output_type": "stream",
     "text": [
      "Image gray color histogram, first 10 values: [ 0.  4.  4.  6. 10.  6.  3.  4.  6.  7.]\n",
      "\n",
      "Size of image gray color histogram: (256,)\n"
     ]
    }
   ],
   "source": [
    "print(f'Image gray color histogram, first 10 values: {color_hist_train[4][:10]}\\n') \n",
    "print(f'Size of image gray color histogram: {color_hist_train[4].shape}')"
   ]
  },
  {
   "cell_type": "code",
   "execution_count": 24,
   "metadata": {
    "ExecuteTime": {
     "end_time": "2021-08-20T08:40:12.919449Z",
     "start_time": "2021-08-20T08:40:12.540594Z"
    },
    "hidden": true
   },
   "outputs": [
    {
     "data": {
      "image/png": "[encoded data removed]",
      "text/plain": [
       "<Figure size 720x288 with 2 Axes>"
      ]
     },
     "metadata": {
      "needs_background": "light"
     },
     "output_type": "display_data"
    }
   ],
   "source": [
    "fig, (ax1, ax2) = plt.subplots(1, 2, figsize=(10, 4))\n",
    "\n",
    "ax1.imshow(X_train_grayscale[4], cmap='gray')\n",
    "ax1.set_title('Input Image')\n",
    "\n",
    "ax2.plot(color_hist_train[4]); \n",
    "ax2.set_title('Image Graycolor Histogram')\n",
    "\n",
    "plt.show()"
   ]
  },
  {
   "cell_type": "markdown",
   "metadata": {
    "heading_collapsed": true,
    "hidden": true
   },
   "source": [
    "## 3.2 Histogram of Oriented Gradients (HOG)"
   ]
  },
  {
   "cell_type": "code",
   "execution_count": 25,
   "metadata": {
    "ExecuteTime": {
     "end_time": "2021-08-20T08:40:12.931911Z",
     "start_time": "2021-08-20T08:40:12.920944Z"
    },
    "hidden": true
   },
   "outputs": [],
   "source": [
    "def hog_features(data):\n",
    "    \"\"\" Extracts histogram of oriented gradients.\n",
    "    \n",
    "    Args:\n",
    "        data:\n",
    "            images in grayscale format, as numpy array.\n",
    "    \n",
    "    Returns:\n",
    "        HOG descriptors, as list of numpy arrays.\n",
    "        HOG images, as list of numpy arrays.\n",
    "    \"\"\"\n",
    "    hog_descriptors = []\n",
    "    hog_images = []\n",
    "    \n",
    "    for idx in range(data.shape[0]):\n",
    "        fd, hog_image = hog(data[idx], \n",
    "                            orientations=9, \n",
    "                            pixels_per_cell=(8, 8),\n",
    "                            cells_per_block=(2, 2), \n",
    "                            block_norm='L2-Hys',\n",
    "                            transform_sqrt=True,\n",
    "                            feature_vector=True,\n",
    "                            visualize=True)  \n",
    "        hog_descriptors.append(fd)\n",
    "        hog_images.append(hog_image)\n",
    "    \n",
    "    return hog_descriptors, hog_images"
   ]
  },
  {
   "cell_type": "code",
   "execution_count": 26,
   "metadata": {
    "ExecuteTime": {
     "end_time": "2021-08-20T08:43:27.656372Z",
     "start_time": "2021-08-20T08:40:12.932906Z"
    },
    "hidden": true
   },
   "outputs": [],
   "source": [
    "hog_train, hog_train_img = hog_features(X_train_grayscale)\n",
    "hog_test, hog_test_img = hog_features(X_test_grayscale)"
   ]
  },
  {
   "cell_type": "code",
   "execution_count": 27,
   "metadata": {
    "ExecuteTime": {
     "end_time": "2021-08-20T08:43:27.672329Z",
     "start_time": "2021-08-20T08:43:27.658365Z"
    },
    "hidden": true
   },
   "outputs": [
    {
     "name": "stdout",
     "output_type": "stream",
     "text": [
      "Image HOG, first 6 values: [0.05613025 0.01108392 0.0912732  0.1247402  0.29826597 0.27952999]\n",
      "\n",
      "Size of image HOG: (324,)\n"
     ]
    }
   ],
   "source": [
    "print(f'Image HOG, first 6 values: {hog_train[4][:6]}\\n')\n",
    "print(f'Size of image HOG: {hog_train[4].shape}')"
   ]
  },
  {
   "cell_type": "code",
   "execution_count": 28,
   "metadata": {
    "ExecuteTime": {
     "end_time": "2021-08-20T08:43:27.965728Z",
     "start_time": "2021-08-20T08:43:27.675320Z"
    },
    "hidden": true
   },
   "outputs": [
    {
     "data": {
      "image/png": "[encoded data removed]",
      "text/plain": [
       "<Figure size 720x288 with 2 Axes>"
      ]
     },
     "metadata": {
      "needs_background": "light"
     },
     "output_type": "display_data"
    }
   ],
   "source": [
    "fig, (ax1, ax2) = plt.subplots(1, 2, figsize=(10, 4), sharex=True, sharey=True)\n",
    "\n",
    "ax1.imshow(X_train_grayscale[4], cmap='gray')\n",
    "ax1.set_title('Input Image')\n",
    "\n",
    "ax2.imshow(hog_train_img[4], cmap='gray')\n",
    "ax2.set_title('Histogram of Oriented Gradients')\n",
    "\n",
    "plt.show()"
   ]
  },
  {
   "cell_type": "markdown",
   "metadata": {
    "heading_collapsed": true,
    "hidden": true
   },
   "source": [
    "## 3.3 Scale-Invariant Feature Transform (SIFT)"
   ]
  },
  {
   "cell_type": "code",
   "execution_count": 29,
   "metadata": {
    "ExecuteTime": {
     "end_time": "2021-08-20T08:43:27.981827Z",
     "start_time": "2021-08-20T08:43:27.967755Z"
    },
    "hidden": true
   },
   "outputs": [],
   "source": [
    "def sift_features(data):\n",
    "    \"\"\" Extracts image SIFT keypoints and descriptors.\n",
    "    \n",
    "    Args:\n",
    "        data:\n",
    "            images in grayscale format, as numpy array.\n",
    "    \n",
    "    Returns:\n",
    "        SIFT keypoints, as list of lists.\n",
    "        SIFT descriptors, as list of numpy array. \n",
    "    \"\"\"\n",
    "    sift = cv.xfeatures2d.SIFT_create(contrastThreshold=0.02, sigma=0.9)\n",
    "    \n",
    "    keypoints = []\n",
    "    descriptors = []\n",
    "    \n",
    "    for idx in range(data.shape[0]):\n",
    "        kp, des = sift.detectAndCompute(data[idx], None)\n",
    "        keypoints.append(kp)\n",
    "        descriptors.append(des)\n",
    "    \n",
    "    return keypoints, descriptors"
   ]
  },
  {
   "cell_type": "code",
   "execution_count": 30,
   "metadata": {
    "ExecuteTime": {
     "end_time": "2021-08-20T08:44:29.400607Z",
     "start_time": "2021-08-20T08:43:27.982832Z"
    },
    "hidden": true
   },
   "outputs": [],
   "source": [
    "kp_sift_train, des_sift_train = sift_features(X_train_grayscale) \n",
    "kp_sift_test, des_sift_test = sift_features(X_test_grayscale)"
   ]
  },
  {
   "cell_type": "code",
   "execution_count": 31,
   "metadata": {
    "ExecuteTime": {
     "end_time": "2021-08-20T08:44:29.432521Z",
     "start_time": "2021-08-20T08:44:29.404596Z"
    },
    "hidden": true
   },
   "outputs": [
    {
     "name": "stdout",
     "output_type": "stream",
     "text": [
      "Image SIFT keypoints, first 3 values: [<KeyPoint 000001EF5F2F7FC0>, <KeyPoint 000001EF5F310030>, <KeyPoint 000001EF5F310060>]\n",
      "\n",
      "Size SIFT keypoints (image 4): 37\n",
      "Size SIFT keypoints (image 8): 30\n"
     ]
    }
   ],
   "source": [
    "print(f'Image SIFT keypoints, first 3 values: {kp_sift_train[4][:3]}\\n')\n",
    "print(f'Size SIFT keypoints (image 4): {len(kp_sift_train[4])}')\n",
    "print(f'Size SIFT keypoints (image 8): {len(kp_sift_train[8])}')"
   ]
  },
  {
   "cell_type": "code",
   "execution_count": 32,
   "metadata": {
    "ExecuteTime": {
     "end_time": "2021-08-20T08:44:29.540588Z",
     "start_time": "2021-08-20T08:44:29.435513Z"
    },
    "hidden": true
   },
   "outputs": [
    {
     "name": "stdout",
     "output_type": "stream",
     "text": [
      "Image SIFT descriptors:\n",
      "[[ 27.   1.   0. ...   0.   0.   0.]\n",
      " [  0.   3.   1. ...  21.   0.   0.]\n",
      " [ 11.   7.   2. ...   9.   0.   3.]\n",
      " ...\n",
      " [ 37.   0.   0. ...   0.   6.  26.]\n",
      " [ 44.  45.  24. ...   1. 101.  33.]\n",
      " [  9.  76.  43. ...   0.   0.   0.]]\n",
      "\n",
      "Size SIFT descriptors (image 4): (37, 128)\n",
      "Size SIFT descriptors (image 8): (30, 128)\n"
     ]
    }
   ],
   "source": [
    "print(f'Image SIFT descriptors:\\n{des_sift_train[4]}\\n')\n",
    "\n",
    "print(f'Size SIFT descriptors (image 4): {des_sift_train[4].shape}')\n",
    "print(f'Size SIFT descriptors (image 8): {des_sift_train[8].shape}')"
   ]
  },
  {
   "cell_type": "code",
   "execution_count": 33,
   "metadata": {
    "ExecuteTime": {
     "end_time": "2021-08-20T08:44:30.243337Z",
     "start_time": "2021-08-20T08:44:29.545551Z"
    },
    "hidden": true
   },
   "outputs": [
    {
     "data": {
      "image/png": "[encoded data removed]",
      "text/plain": [
       "<Figure size 720x288 with 2 Axes>"
      ]
     },
     "metadata": {
      "needs_background": "light"
     },
     "output_type": "display_data"
    }
   ],
   "source": [
    "img = cv.drawKeypoints(X_train_grayscale[4], kp_sift_train[4][:3], None)\n",
    "\n",
    "fig, (ax1, ax2) = plt.subplots(1, 2, figsize=(10, 4), sharex=True, sharey=True)\n",
    "\n",
    "ax1.imshow(X_train_grayscale[4], cmap='gray')\n",
    "ax1.set_title('Input Image')\n",
    "\n",
    "ax2.imshow(img, cmap='gray')\n",
    "ax2.set_title('SIFT keypoints (first 3)')\n",
    "\n",
    "plt.show()"
   ]
  },
  {
   "cell_type": "markdown",
   "metadata": {
    "heading_collapsed": true
   },
   "source": [
    "# 4. Bag of Visual Words (BoVW) model\n",
    "\n",
    "We'll only insert SIFT features into the BoVW model, since GCH and HOG features are already in histogram forms.\n",
    "\n",
    "To evaluate our BoVW, we'll use the **Elbow method** along with the **Davies-Bouldin Index** metric."
   ]
  },
  {
   "cell_type": "markdown",
   "metadata": {
    "heading_collapsed": true,
    "hidden": true
   },
   "source": [
    "## 4.1 Visual Vocabulary"
   ]
  },
  {
   "cell_type": "code",
   "execution_count": 27,
   "metadata": {
    "ExecuteTime": {
     "end_time": "2021-08-18T15:00:45.479548Z",
     "start_time": "2021-08-18T15:00:45.298421Z"
    },
    "hidden": true
   },
   "outputs": [],
   "source": [
    "def get_visual_words(descriptors, model):\n",
    "    \"\"\" Finds the vocabulary of visual words.\n",
    "\n",
    "    To find the vocabulary of visual words, k-means is used. The centroids found by k-means\n",
    "    form the vocabulary.\n",
    "\n",
    "    Args:\n",
    "        descriptors:\n",
    "            descriptors, as list of numpy arrays.\n",
    "        model:\n",
    "            clustering model, as scikit-learn object.\n",
    "\n",
    "    Returns:\n",
    "        fitted k-means, holding the vocabulary of visual words .\n",
    "    \"\"\"\n",
    "    \n",
    "    visual_words = model.fit(descriptors)\n",
    "\n",
    "    return visual_words"
   ]
  },
  {
   "cell_type": "code",
   "execution_count": 28,
   "metadata": {
    "ExecuteTime": {
     "end_time": "2021-08-18T15:00:46.311234Z",
     "start_time": "2021-08-18T15:00:45.481537Z"
    },
    "hidden": true
   },
   "outputs": [],
   "source": [
    "des_sift_raw_train = []\n",
    "for des in des_sift_train:\n",
    "    if des is not None:\n",
    "        des_sift_raw_train.extend(des)"
   ]
  },
  {
   "cell_type": "code",
   "execution_count": 29,
   "metadata": {
    "ExecuteTime": {
     "end_time": "2021-08-05T08:00:46.290900Z",
     "start_time": "2021-08-05T07:32:08.187803Z"
    },
    "hidden": true
   },
   "outputs": [
    {
     "name": "stdout",
     "output_type": "stream",
     "text": [
      "Number of clusters: 100\n",
      "Number of clusters: 200\n",
      "Number of clusters: 300\n",
      "Number of clusters: 400\n",
      "Number of clusters: 500\n",
      "Number of clusters: 600\n",
      "Number of clusters: 700\n",
      "Number of clusters: 800\n",
      "Number of clusters: 900\n",
      "Number of clusters: 1000\n"
     ]
    }
   ],
   "source": [
    "batch_kmeans_score = []\n",
    "\n",
    "for n_clusters in range(100, 1100, 100):\n",
    "    print(f'Number of clusters: {n_clusters}')\n",
    "    \n",
    "    clustering = MiniBatchKMeans(n_clusters=n_clusters, batch_size=64, n_init=10, max_iter=300)\n",
    "    model = get_visual_words(descriptors=des_sift_raw_train, model=clustering)\n",
    "    \n",
    "    batch_kmeans_score.append(davies_bouldin_score(des_sift_raw_train, model.labels_))"
   ]
  },
  {
   "cell_type": "code",
   "execution_count": 30,
   "metadata": {
    "hidden": true
   },
   "outputs": [
    {
     "data": {
      "image/png": "[encoded data removed]",
      "image/svg+xml": [
       "<?xml version=\"1.0\" encoding=\"utf-8\" standalone=\"no\"?>\n",
       "<!DOCTYPE svg PUBLIC \"-//W3C//DTD SVG 1.1//EN\"\n",
       "  \"http://www.w3.org/Graphics/SVG/1.1/DTD/svg11.dtd\">\n",
       "<!-- Created with matplotlib (https://matplotlib.org/) -->\n",
       "<svg height=\"494.754375pt\" version=\"1.1\" viewBox=\"0 0 615.34375 494.754375\" width=\"615.34375pt\" xmlns=\"http://www.w3.org/2000/svg\" xmlns:xlink=\"http://www.w3.org/1999/xlink\">\n",
       " <metadata>\n",
       "  <rdf:RDF xmlns:cc=\"http://creativecommons.org/ns#\" xmlns:dc=\"http://purl.org/dc/elements/1.1/\" xmlns:rdf=\"http://www.w3.org/1999/02/22-rdf-syntax-ns#\">\n",
       "   <cc:Work>\n",
       "    <dc:type rdf:resource=\"http://purl.org/dc/dcmitype/StillImage\"/>\n",
       "    <dc:date>2021-08-19T11:00:48.797584</dc:date>\n",
       "    <dc:format>image/svg+xml</dc:format>\n",
       "    <dc:creator>\n",
       "     <cc:Agent>\n",
       "      <dc:title>Matplotlib v3.3.4, https://matplotlib.org/</dc:title>\n",
       "     </cc:Agent>\n",
       "    </dc:creator>\n",
       "   </cc:Work>\n",
       "  </rdf:RDF>\n",
       " </metadata>\n",
       " <defs>\n",
       "  <style type=\"text/css\">*{stroke-linecap:butt;stroke-linejoin:round;}</style>\n",
       " </defs>\n",
       " <g id=\"figure_1\">\n",
       "  <g id=\"patch_1\">\n",
       "   <path d=\"M 0 494.754375 \n",
       "L 615.34375 494.754375 \n",
       "L 615.34375 0 \n",
       "L 0 0 \n",
       "z\n",
       "\" style=\"fill:none;\"/>\n",
       "  </g>\n",
       "  <g id=\"axes_1\">\n",
       "   <g id=\"patch_2\">\n",
       "    <path d=\"M 50.14375 457.198125 \n",
       "L 608.14375 457.198125 \n",
       "L 608.14375 22.318125 \n",
       "L 50.14375 22.318125 \n",
       "z\n",
       "\" style=\"fill:#ffffff;\"/>\n",
       "   </g>\n",
       "   <g id=\"matplotlib.axis_1\">\n",
       "    <g id=\"xtick_1\">\n",
       "     <g id=\"line2d_1\">\n",
       "      <defs>\n",
       "       <path d=\"M 0 0 \n",
       "L 0 3.5 \n",
       "\" id=\"m16bc792f2e\" style=\"stroke:#000000;stroke-width:0.8;\"/>\n",
       "      </defs>\n",
       "      <g>\n",
       "       <use style=\"stroke:#000000;stroke-width:0.8;\" x=\"131.871023\" xlink:href=\"#m16bc792f2e\" y=\"457.198125\"/>\n",
       "      </g>\n",
       "     </g>\n",
       "     <g id=\"text_1\">\n",
       "      <!-- 200 -->\n",
       "      <g transform=\"translate(122.327273 471.796562)scale(0.1 -0.1)\">\n",
       "       <defs>\n",
       "        <path d=\"M 19.1875 8.296875 \n",
       "L 53.609375 8.296875 \n",
       "L 53.609375 0 \n",
       "L 7.328125 0 \n",
       "L 7.328125 8.296875 \n",
       "Q 12.9375 14.109375 22.625 23.890625 \n",
       "Q 32.328125 33.6875 34.8125 36.53125 \n",
       "Q 39.546875 41.84375 41.421875 45.53125 \n",
       "Q 43.3125 49.21875 43.3125 52.78125 \n",
       "Q 43.3125 58.59375 39.234375 62.25 \n",
       "Q 35.15625 65.921875 28.609375 65.921875 \n",
       "Q 23.96875 65.921875 18.8125 64.3125 \n",
       "Q 13.671875 62.703125 7.8125 59.421875 \n",
       "L 7.8125 69.390625 \n",
       "Q 13.765625 71.78125 18.9375 73 \n",
       "Q 24.125 74.21875 28.421875 74.21875 \n",
       "Q 39.75 74.21875 46.484375 68.546875 \n",
       "Q 53.21875 62.890625 53.21875 53.421875 \n",
       "Q 53.21875 48.921875 51.53125 44.890625 \n",
       "Q 49.859375 40.875 45.40625 35.40625 \n",
       "Q 44.1875 33.984375 37.640625 27.21875 \n",
       "Q 31.109375 20.453125 19.1875 8.296875 \n",
       "z\n",
       "\" id=\"DejaVuSans-50\"/>\n",
       "        <path d=\"M 31.78125 66.40625 \n",
       "Q 24.171875 66.40625 20.328125 58.90625 \n",
       "Q 16.5 51.421875 16.5 36.375 \n",
       "Q 16.5 21.390625 20.328125 13.890625 \n",
       "Q 24.171875 6.390625 31.78125 6.390625 \n",
       "Q 39.453125 6.390625 43.28125 13.890625 \n",
       "Q 47.125 21.390625 47.125 36.375 \n",
       "Q 47.125 51.421875 43.28125 58.90625 \n",
       "Q 39.453125 66.40625 31.78125 66.40625 \n",
       "z\n",
       "M 31.78125 74.21875 \n",
       "Q 44.046875 74.21875 50.515625 64.515625 \n",
       "Q 56.984375 54.828125 56.984375 36.375 \n",
       "Q 56.984375 17.96875 50.515625 8.265625 \n",
       "Q 44.046875 -1.421875 31.78125 -1.421875 \n",
       "Q 19.53125 -1.421875 13.0625 8.265625 \n",
       "Q 6.59375 17.96875 6.59375 36.375 \n",
       "Q 6.59375 54.828125 13.0625 64.515625 \n",
       "Q 19.53125 74.21875 31.78125 74.21875 \n",
       "z\n",
       "\" id=\"DejaVuSans-48\"/>\n",
       "       </defs>\n",
       "       <use xlink:href=\"#DejaVuSans-50\"/>\n",
       "       <use x=\"63.623047\" xlink:href=\"#DejaVuSans-48\"/>\n",
       "       <use x=\"127.246094\" xlink:href=\"#DejaVuSans-48\"/>\n",
       "      </g>\n",
       "     </g>\n",
       "    </g>\n",
       "    <g id=\"xtick_2\">\n",
       "     <g id=\"line2d_2\">\n",
       "      <g>\n",
       "       <use style=\"stroke:#000000;stroke-width:0.8;\" x=\"244.598295\" xlink:href=\"#m16bc792f2e\" y=\"457.198125\"/>\n",
       "      </g>\n",
       "     </g>\n",
       "     <g id=\"text_2\">\n",
       "      <!-- 400 -->\n",
       "      <g transform=\"translate(235.054545 471.796562)scale(0.1 -0.1)\">\n",
       "       <defs>\n",
       "        <path d=\"M 37.796875 64.3125 \n",
       "L 12.890625 25.390625 \n",
       "L 37.796875 25.390625 \n",
       "z\n",
       "M 35.203125 72.90625 \n",
       "L 47.609375 72.90625 \n",
       "L 47.609375 25.390625 \n",
       "L 58.015625 25.390625 \n",
       "L 58.015625 17.1875 \n",
       "L 47.609375 17.1875 \n",
       "L 47.609375 0 \n",
       "L 37.796875 0 \n",
       "L 37.796875 17.1875 \n",
       "L 4.890625 17.1875 \n",
       "L 4.890625 26.703125 \n",
       "z\n",
       "\" id=\"DejaVuSans-52\"/>\n",
       "       </defs>\n",
       "       <use xlink:href=\"#DejaVuSans-52\"/>\n",
       "       <use x=\"63.623047\" xlink:href=\"#DejaVuSans-48\"/>\n",
       "       <use x=\"127.246094\" xlink:href=\"#DejaVuSans-48\"/>\n",
       "      </g>\n",
       "     </g>\n",
       "    </g>\n",
       "    <g id=\"xtick_3\">\n",
       "     <g id=\"line2d_3\">\n",
       "      <g>\n",
       "       <use style=\"stroke:#000000;stroke-width:0.8;\" x=\"357.325568\" xlink:href=\"#m16bc792f2e\" y=\"457.198125\"/>\n",
       "      </g>\n",
       "     </g>\n",
       "     <g id=\"text_3\">\n",
       "      <!-- 600 -->\n",
       "      <g transform=\"translate(347.781818 471.796562)scale(0.1 -0.1)\">\n",
       "       <defs>\n",
       "        <path d=\"M 33.015625 40.375 \n",
       "Q 26.375 40.375 22.484375 35.828125 \n",
       "Q 18.609375 31.296875 18.609375 23.390625 \n",
       "Q 18.609375 15.53125 22.484375 10.953125 \n",
       "Q 26.375 6.390625 33.015625 6.390625 \n",
       "Q 39.65625 6.390625 43.53125 10.953125 \n",
       "Q 47.40625 15.53125 47.40625 23.390625 \n",
       "Q 47.40625 31.296875 43.53125 35.828125 \n",
       "Q 39.65625 40.375 33.015625 40.375 \n",
       "z\n",
       "M 52.59375 71.296875 \n",
       "L 52.59375 62.3125 \n",
       "Q 48.875 64.0625 45.09375 64.984375 \n",
       "Q 41.3125 65.921875 37.59375 65.921875 \n",
       "Q 27.828125 65.921875 22.671875 59.328125 \n",
       "Q 17.53125 52.734375 16.796875 39.40625 \n",
       "Q 19.671875 43.65625 24.015625 45.921875 \n",
       "Q 28.375 48.1875 33.59375 48.1875 \n",
       "Q 44.578125 48.1875 50.953125 41.515625 \n",
       "Q 57.328125 34.859375 57.328125 23.390625 \n",
       "Q 57.328125 12.15625 50.6875 5.359375 \n",
       "Q 44.046875 -1.421875 33.015625 -1.421875 \n",
       "Q 20.359375 -1.421875 13.671875 8.265625 \n",
       "Q 6.984375 17.96875 6.984375 36.375 \n",
       "Q 6.984375 53.65625 15.1875 63.9375 \n",
       "Q 23.390625 74.21875 37.203125 74.21875 \n",
       "Q 40.921875 74.21875 44.703125 73.484375 \n",
       "Q 48.484375 72.75 52.59375 71.296875 \n",
       "z\n",
       "\" id=\"DejaVuSans-54\"/>\n",
       "       </defs>\n",
       "       <use xlink:href=\"#DejaVuSans-54\"/>\n",
       "       <use x=\"63.623047\" xlink:href=\"#DejaVuSans-48\"/>\n",
       "       <use x=\"127.246094\" xlink:href=\"#DejaVuSans-48\"/>\n",
       "      </g>\n",
       "     </g>\n",
       "    </g>\n",
       "    <g id=\"xtick_4\">\n",
       "     <g id=\"line2d_4\">\n",
       "      <g>\n",
       "       <use style=\"stroke:#000000;stroke-width:0.8;\" x=\"470.052841\" xlink:href=\"#m16bc792f2e\" y=\"457.198125\"/>\n",
       "      </g>\n",
       "     </g>\n",
       "     <g id=\"text_4\">\n",
       "      <!-- 800 -->\n",
       "      <g transform=\"translate(460.509091 471.796562)scale(0.1 -0.1)\">\n",
       "       <defs>\n",
       "        <path d=\"M 31.78125 34.625 \n",
       "Q 24.75 34.625 20.71875 30.859375 \n",
       "Q 16.703125 27.09375 16.703125 20.515625 \n",
       "Q 16.703125 13.921875 20.71875 10.15625 \n",
       "Q 24.75 6.390625 31.78125 6.390625 \n",
       "Q 38.8125 6.390625 42.859375 10.171875 \n",
       "Q 46.921875 13.96875 46.921875 20.515625 \n",
       "Q 46.921875 27.09375 42.890625 30.859375 \n",
       "Q 38.875 34.625 31.78125 34.625 \n",
       "z\n",
       "M 21.921875 38.8125 \n",
       "Q 15.578125 40.375 12.03125 44.71875 \n",
       "Q 8.5 49.078125 8.5 55.328125 \n",
       "Q 8.5 64.0625 14.71875 69.140625 \n",
       "Q 20.953125 74.21875 31.78125 74.21875 \n",
       "Q 42.671875 74.21875 48.875 69.140625 \n",
       "Q 55.078125 64.0625 55.078125 55.328125 \n",
       "Q 55.078125 49.078125 51.53125 44.71875 \n",
       "Q 48 40.375 41.703125 38.8125 \n",
       "Q 48.828125 37.15625 52.796875 32.3125 \n",
       "Q 56.78125 27.484375 56.78125 20.515625 \n",
       "Q 56.78125 9.90625 50.3125 4.234375 \n",
       "Q 43.84375 -1.421875 31.78125 -1.421875 \n",
       "Q 19.734375 -1.421875 13.25 4.234375 \n",
       "Q 6.78125 9.90625 6.78125 20.515625 \n",
       "Q 6.78125 27.484375 10.78125 32.3125 \n",
       "Q 14.796875 37.15625 21.921875 38.8125 \n",
       "z\n",
       "M 18.3125 54.390625 \n",
       "Q 18.3125 48.734375 21.84375 45.5625 \n",
       "Q 25.390625 42.390625 31.78125 42.390625 \n",
       "Q 38.140625 42.390625 41.71875 45.5625 \n",
       "Q 45.3125 48.734375 45.3125 54.390625 \n",
       "Q 45.3125 60.0625 41.71875 63.234375 \n",
       "Q 38.140625 66.40625 31.78125 66.40625 \n",
       "Q 25.390625 66.40625 21.84375 63.234375 \n",
       "Q 18.3125 60.0625 18.3125 54.390625 \n",
       "z\n",
       "\" id=\"DejaVuSans-56\"/>\n",
       "       </defs>\n",
       "       <use xlink:href=\"#DejaVuSans-56\"/>\n",
       "       <use x=\"63.623047\" xlink:href=\"#DejaVuSans-48\"/>\n",
       "       <use x=\"127.246094\" xlink:href=\"#DejaVuSans-48\"/>\n",
       "      </g>\n",
       "     </g>\n",
       "    </g>\n",
       "    <g id=\"xtick_5\">\n",
       "     <g id=\"line2d_5\">\n",
       "      <g>\n",
       "       <use style=\"stroke:#000000;stroke-width:0.8;\" x=\"582.780114\" xlink:href=\"#m16bc792f2e\" y=\"457.198125\"/>\n",
       "      </g>\n",
       "     </g>\n",
       "     <g id=\"text_5\">\n",
       "      <!-- 1000 -->\n",
       "      <g transform=\"translate(570.055114 471.796562)scale(0.1 -0.1)\">\n",
       "       <defs>\n",
       "        <path d=\"M 12.40625 8.296875 \n",
       "L 28.515625 8.296875 \n",
       "L 28.515625 63.921875 \n",
       "L 10.984375 60.40625 \n",
       "L 10.984375 69.390625 \n",
       "L 28.421875 72.90625 \n",
       "L 38.28125 72.90625 \n",
       "L 38.28125 8.296875 \n",
       "L 54.390625 8.296875 \n",
       "L 54.390625 0 \n",
       "L 12.40625 0 \n",
       "z\n",
       "\" id=\"DejaVuSans-49\"/>\n",
       "       </defs>\n",
       "       <use xlink:href=\"#DejaVuSans-49\"/>\n",
       "       <use x=\"63.623047\" xlink:href=\"#DejaVuSans-48\"/>\n",
       "       <use x=\"127.246094\" xlink:href=\"#DejaVuSans-48\"/>\n",
       "       <use x=\"190.869141\" xlink:href=\"#DejaVuSans-48\"/>\n",
       "      </g>\n",
       "     </g>\n",
       "    </g>\n",
       "    <g id=\"text_6\">\n",
       "     <!-- number of clusters -->\n",
       "     <g transform=\"translate(282.023438 485.474687)scale(0.1 -0.1)\">\n",
       "      <defs>\n",
       "       <path d=\"M 54.890625 33.015625 \n",
       "L 54.890625 0 \n",
       "L 45.90625 0 \n",
       "L 45.90625 32.71875 \n",
       "Q 45.90625 40.484375 42.875 44.328125 \n",
       "Q 39.84375 48.1875 33.796875 48.1875 \n",
       "Q 26.515625 48.1875 22.3125 43.546875 \n",
       "Q 18.109375 38.921875 18.109375 30.90625 \n",
       "L 18.109375 0 \n",
       "L 9.078125 0 \n",
       "L 9.078125 54.6875 \n",
       "L 18.109375 54.6875 \n",
       "L 18.109375 46.1875 \n",
       "Q 21.34375 51.125 25.703125 53.5625 \n",
       "Q 30.078125 56 35.796875 56 \n",
       "Q 45.21875 56 50.046875 50.171875 \n",
       "Q 54.890625 44.34375 54.890625 33.015625 \n",
       "z\n",
       "\" id=\"DejaVuSans-110\"/>\n",
       "       <path d=\"M 8.5 21.578125 \n",
       "L 8.5 54.6875 \n",
       "L 17.484375 54.6875 \n",
       "L 17.484375 21.921875 \n",
       "Q 17.484375 14.15625 20.5 10.265625 \n",
       "Q 23.53125 6.390625 29.59375 6.390625 \n",
       "Q 36.859375 6.390625 41.078125 11.03125 \n",
       "Q 45.3125 15.671875 45.3125 23.6875 \n",
       "L 45.3125 54.6875 \n",
       "L 54.296875 54.6875 \n",
       "L 54.296875 0 \n",
       "L 45.3125 0 \n",
       "L 45.3125 8.40625 \n",
       "Q 42.046875 3.421875 37.71875 1 \n",
       "Q 33.40625 -1.421875 27.6875 -1.421875 \n",
       "Q 18.265625 -1.421875 13.375 4.4375 \n",
       "Q 8.5 10.296875 8.5 21.578125 \n",
       "z\n",
       "M 31.109375 56 \n",
       "z\n",
       "\" id=\"DejaVuSans-117\"/>\n",
       "       <path d=\"M 52 44.1875 \n",
       "Q 55.375 50.25 60.0625 53.125 \n",
       "Q 64.75 56 71.09375 56 \n",
       "Q 79.640625 56 84.28125 50.015625 \n",
       "Q 88.921875 44.046875 88.921875 33.015625 \n",
       "L 88.921875 0 \n",
       "L 79.890625 0 \n",
       "L 79.890625 32.71875 \n",
       "Q 79.890625 40.578125 77.09375 44.375 \n",
       "Q 74.3125 48.1875 68.609375 48.1875 \n",
       "Q 61.625 48.1875 57.5625 43.546875 \n",
       "Q 53.515625 38.921875 53.515625 30.90625 \n",
       "L 53.515625 0 \n",
       "L 44.484375 0 \n",
       "L 44.484375 32.71875 \n",
       "Q 44.484375 40.625 41.703125 44.40625 \n",
       "Q 38.921875 48.1875 33.109375 48.1875 \n",
       "Q 26.21875 48.1875 22.15625 43.53125 \n",
       "Q 18.109375 38.875 18.109375 30.90625 \n",
       "L 18.109375 0 \n",
       "L 9.078125 0 \n",
       "L 9.078125 54.6875 \n",
       "L 18.109375 54.6875 \n",
       "L 18.109375 46.1875 \n",
       "Q 21.1875 51.21875 25.484375 53.609375 \n",
       "Q 29.78125 56 35.6875 56 \n",
       "Q 41.65625 56 45.828125 52.96875 \n",
       "Q 50 49.953125 52 44.1875 \n",
       "z\n",
       "\" id=\"DejaVuSans-109\"/>\n",
       "       <path d=\"M 48.6875 27.296875 \n",
       "Q 48.6875 37.203125 44.609375 42.84375 \n",
       "Q 40.53125 48.484375 33.40625 48.484375 \n",
       "Q 26.265625 48.484375 22.1875 42.84375 \n",
       "Q 18.109375 37.203125 18.109375 27.296875 \n",
       "Q 18.109375 17.390625 22.1875 11.75 \n",
       "Q 26.265625 6.109375 33.40625 6.109375 \n",
       "Q 40.53125 6.109375 44.609375 11.75 \n",
       "Q 48.6875 17.390625 48.6875 27.296875 \n",
       "z\n",
       "M 18.109375 46.390625 \n",
       "Q 20.953125 51.265625 25.265625 53.625 \n",
       "Q 29.59375 56 35.59375 56 \n",
       "Q 45.5625 56 51.78125 48.09375 \n",
       "Q 58.015625 40.1875 58.015625 27.296875 \n",
       "Q 58.015625 14.40625 51.78125 6.484375 \n",
       "Q 45.5625 -1.421875 35.59375 -1.421875 \n",
       "Q 29.59375 -1.421875 25.265625 0.953125 \n",
       "Q 20.953125 3.328125 18.109375 8.203125 \n",
       "L 18.109375 0 \n",
       "L 9.078125 0 \n",
       "L 9.078125 75.984375 \n",
       "L 18.109375 75.984375 \n",
       "z\n",
       "\" id=\"DejaVuSans-98\"/>\n",
       "       <path d=\"M 56.203125 29.59375 \n",
       "L 56.203125 25.203125 \n",
       "L 14.890625 25.203125 \n",
       "Q 15.484375 15.921875 20.484375 11.0625 \n",
       "Q 25.484375 6.203125 34.421875 6.203125 \n",
       "Q 39.59375 6.203125 44.453125 7.46875 \n",
       "Q 49.3125 8.734375 54.109375 11.28125 \n",
       "L 54.109375 2.78125 \n",
       "Q 49.265625 0.734375 44.1875 -0.34375 \n",
       "Q 39.109375 -1.421875 33.890625 -1.421875 \n",
       "Q 20.796875 -1.421875 13.15625 6.1875 \n",
       "Q 5.515625 13.8125 5.515625 26.8125 \n",
       "Q 5.515625 40.234375 12.765625 48.109375 \n",
       "Q 20.015625 56 32.328125 56 \n",
       "Q 43.359375 56 49.78125 48.890625 \n",
       "Q 56.203125 41.796875 56.203125 29.59375 \n",
       "z\n",
       "M 47.21875 32.234375 \n",
       "Q 47.125 39.59375 43.09375 43.984375 \n",
       "Q 39.0625 48.390625 32.421875 48.390625 \n",
       "Q 24.90625 48.390625 20.390625 44.140625 \n",
       "Q 15.875 39.890625 15.1875 32.171875 \n",
       "z\n",
       "\" id=\"DejaVuSans-101\"/>\n",
       "       <path d=\"M 41.109375 46.296875 \n",
       "Q 39.59375 47.171875 37.8125 47.578125 \n",
       "Q 36.03125 48 33.890625 48 \n",
       "Q 26.265625 48 22.1875 43.046875 \n",
       "Q 18.109375 38.09375 18.109375 28.8125 \n",
       "L 18.109375 0 \n",
       "L 9.078125 0 \n",
       "L 9.078125 54.6875 \n",
       "L 18.109375 54.6875 \n",
       "L 18.109375 46.1875 \n",
       "Q 20.953125 51.171875 25.484375 53.578125 \n",
       "Q 30.03125 56 36.53125 56 \n",
       "Q 37.453125 56 38.578125 55.875 \n",
       "Q 39.703125 55.765625 41.0625 55.515625 \n",
       "z\n",
       "\" id=\"DejaVuSans-114\"/>\n",
       "       <path id=\"DejaVuSans-32\"/>\n",
       "       <path d=\"M 30.609375 48.390625 \n",
       "Q 23.390625 48.390625 19.1875 42.75 \n",
       "Q 14.984375 37.109375 14.984375 27.296875 \n",
       "Q 14.984375 17.484375 19.15625 11.84375 \n",
       "Q 23.34375 6.203125 30.609375 6.203125 \n",
       "Q 37.796875 6.203125 41.984375 11.859375 \n",
       "Q 46.1875 17.53125 46.1875 27.296875 \n",
       "Q 46.1875 37.015625 41.984375 42.703125 \n",
       "Q 37.796875 48.390625 30.609375 48.390625 \n",
       "z\n",
       "M 30.609375 56 \n",
       "Q 42.328125 56 49.015625 48.375 \n",
       "Q 55.71875 40.765625 55.71875 27.296875 \n",
       "Q 55.71875 13.875 49.015625 6.21875 \n",
       "Q 42.328125 -1.421875 30.609375 -1.421875 \n",
       "Q 18.84375 -1.421875 12.171875 6.21875 \n",
       "Q 5.515625 13.875 5.515625 27.296875 \n",
       "Q 5.515625 40.765625 12.171875 48.375 \n",
       "Q 18.84375 56 30.609375 56 \n",
       "z\n",
       "\" id=\"DejaVuSans-111\"/>\n",
       "       <path d=\"M 37.109375 75.984375 \n",
       "L 37.109375 68.5 \n",
       "L 28.515625 68.5 \n",
       "Q 23.6875 68.5 21.796875 66.546875 \n",
       "Q 19.921875 64.59375 19.921875 59.515625 \n",
       "L 19.921875 54.6875 \n",
       "L 34.71875 54.6875 \n",
       "L 34.71875 47.703125 \n",
       "L 19.921875 47.703125 \n",
       "L 19.921875 0 \n",
       "L 10.890625 0 \n",
       "L 10.890625 47.703125 \n",
       "L 2.296875 47.703125 \n",
       "L 2.296875 54.6875 \n",
       "L 10.890625 54.6875 \n",
       "L 10.890625 58.5 \n",
       "Q 10.890625 67.625 15.140625 71.796875 \n",
       "Q 19.390625 75.984375 28.609375 75.984375 \n",
       "z\n",
       "\" id=\"DejaVuSans-102\"/>\n",
       "       <path d=\"M 48.78125 52.59375 \n",
       "L 48.78125 44.1875 \n",
       "Q 44.96875 46.296875 41.140625 47.34375 \n",
       "Q 37.3125 48.390625 33.40625 48.390625 \n",
       "Q 24.65625 48.390625 19.8125 42.84375 \n",
       "Q 14.984375 37.3125 14.984375 27.296875 \n",
       "Q 14.984375 17.28125 19.8125 11.734375 \n",
       "Q 24.65625 6.203125 33.40625 6.203125 \n",
       "Q 37.3125 6.203125 41.140625 7.25 \n",
       "Q 44.96875 8.296875 48.78125 10.40625 \n",
       "L 48.78125 2.09375 \n",
       "Q 45.015625 0.34375 40.984375 -0.53125 \n",
       "Q 36.96875 -1.421875 32.421875 -1.421875 \n",
       "Q 20.0625 -1.421875 12.78125 6.34375 \n",
       "Q 5.515625 14.109375 5.515625 27.296875 \n",
       "Q 5.515625 40.671875 12.859375 48.328125 \n",
       "Q 20.21875 56 33.015625 56 \n",
       "Q 37.15625 56 41.109375 55.140625 \n",
       "Q 45.0625 54.296875 48.78125 52.59375 \n",
       "z\n",
       "\" id=\"DejaVuSans-99\"/>\n",
       "       <path d=\"M 9.421875 75.984375 \n",
       "L 18.40625 75.984375 \n",
       "L 18.40625 0 \n",
       "L 9.421875 0 \n",
       "z\n",
       "\" id=\"DejaVuSans-108\"/>\n",
       "       <path d=\"M 44.28125 53.078125 \n",
       "L 44.28125 44.578125 \n",
       "Q 40.484375 46.53125 36.375 47.5 \n",
       "Q 32.28125 48.484375 27.875 48.484375 \n",
       "Q 21.1875 48.484375 17.84375 46.4375 \n",
       "Q 14.5 44.390625 14.5 40.28125 \n",
       "Q 14.5 37.15625 16.890625 35.375 \n",
       "Q 19.28125 33.59375 26.515625 31.984375 \n",
       "L 29.59375 31.296875 \n",
       "Q 39.15625 29.25 43.1875 25.515625 \n",
       "Q 47.21875 21.78125 47.21875 15.09375 \n",
       "Q 47.21875 7.46875 41.1875 3.015625 \n",
       "Q 35.15625 -1.421875 24.609375 -1.421875 \n",
       "Q 20.21875 -1.421875 15.453125 -0.5625 \n",
       "Q 10.6875 0.296875 5.421875 2 \n",
       "L 5.421875 11.28125 \n",
       "Q 10.40625 8.6875 15.234375 7.390625 \n",
       "Q 20.0625 6.109375 24.8125 6.109375 \n",
       "Q 31.15625 6.109375 34.5625 8.28125 \n",
       "Q 37.984375 10.453125 37.984375 14.40625 \n",
       "Q 37.984375 18.0625 35.515625 20.015625 \n",
       "Q 33.0625 21.96875 24.703125 23.78125 \n",
       "L 21.578125 24.515625 \n",
       "Q 13.234375 26.265625 9.515625 29.90625 \n",
       "Q 5.8125 33.546875 5.8125 39.890625 \n",
       "Q 5.8125 47.609375 11.28125 51.796875 \n",
       "Q 16.75 56 26.8125 56 \n",
       "Q 31.78125 56 36.171875 55.265625 \n",
       "Q 40.578125 54.546875 44.28125 53.078125 \n",
       "z\n",
       "\" id=\"DejaVuSans-115\"/>\n",
       "       <path d=\"M 18.3125 70.21875 \n",
       "L 18.3125 54.6875 \n",
       "L 36.8125 54.6875 \n",
       "L 36.8125 47.703125 \n",
       "L 18.3125 47.703125 \n",
       "L 18.3125 18.015625 \n",
       "Q 18.3125 11.328125 20.140625 9.421875 \n",
       "Q 21.96875 7.515625 27.59375 7.515625 \n",
       "L 36.8125 7.515625 \n",
       "L 36.8125 0 \n",
       "L 27.59375 0 \n",
       "Q 17.1875 0 13.234375 3.875 \n",
       "Q 9.28125 7.765625 9.28125 18.015625 \n",
       "L 9.28125 47.703125 \n",
       "L 2.6875 47.703125 \n",
       "L 2.6875 54.6875 \n",
       "L 9.28125 54.6875 \n",
       "L 9.28125 70.21875 \n",
       "z\n",
       "\" id=\"DejaVuSans-116\"/>\n",
       "      </defs>\n",
       "      <use xlink:href=\"#DejaVuSans-110\"/>\n",
       "      <use x=\"63.378906\" xlink:href=\"#DejaVuSans-117\"/>\n",
       "      <use x=\"126.757812\" xlink:href=\"#DejaVuSans-109\"/>\n",
       "      <use x=\"224.169922\" xlink:href=\"#DejaVuSans-98\"/>\n",
       "      <use x=\"287.646484\" xlink:href=\"#DejaVuSans-101\"/>\n",
       "      <use x=\"349.169922\" xlink:href=\"#DejaVuSans-114\"/>\n",
       "      <use x=\"390.283203\" xlink:href=\"#DejaVuSans-32\"/>\n",
       "      <use x=\"422.070312\" xlink:href=\"#DejaVuSans-111\"/>\n",
       "      <use x=\"483.251953\" xlink:href=\"#DejaVuSans-102\"/>\n",
       "      <use x=\"518.457031\" xlink:href=\"#DejaVuSans-32\"/>\n",
       "      <use x=\"550.244141\" xlink:href=\"#DejaVuSans-99\"/>\n",
       "      <use x=\"605.224609\" xlink:href=\"#DejaVuSans-108\"/>\n",
       "      <use x=\"633.007812\" xlink:href=\"#DejaVuSans-117\"/>\n",
       "      <use x=\"696.386719\" xlink:href=\"#DejaVuSans-115\"/>\n",
       "      <use x=\"748.486328\" xlink:href=\"#DejaVuSans-116\"/>\n",
       "      <use x=\"787.695312\" xlink:href=\"#DejaVuSans-101\"/>\n",
       "      <use x=\"849.21875\" xlink:href=\"#DejaVuSans-114\"/>\n",
       "      <use x=\"890.332031\" xlink:href=\"#DejaVuSans-115\"/>\n",
       "     </g>\n",
       "    </g>\n",
       "   </g>\n",
       "   <g id=\"matplotlib.axis_2\">\n",
       "    <g id=\"ytick_1\">\n",
       "     <g id=\"line2d_6\">\n",
       "      <defs>\n",
       "       <path d=\"M 0 0 \n",
       "L -3.5 0 \n",
       "\" id=\"m34ddd05d32\" style=\"stroke:#000000;stroke-width:0.8;\"/>\n",
       "      </defs>\n",
       "      <g>\n",
       "       <use style=\"stroke:#000000;stroke-width:0.8;\" x=\"50.14375\" xlink:href=\"#m34ddd05d32\" y=\"435.620857\"/>\n",
       "      </g>\n",
       "     </g>\n",
       "     <g id=\"text_7\">\n",
       "      <!-- 2.99 -->\n",
       "      <g transform=\"translate(20.878125 439.420076)scale(0.1 -0.1)\">\n",
       "       <defs>\n",
       "        <path d=\"M 10.6875 12.40625 \n",
       "L 21 12.40625 \n",
       "L 21 0 \n",
       "L 10.6875 0 \n",
       "z\n",
       "\" id=\"DejaVuSans-46\"/>\n",
       "        <path d=\"M 10.984375 1.515625 \n",
       "L 10.984375 10.5 \n",
       "Q 14.703125 8.734375 18.5 7.8125 \n",
       "Q 22.3125 6.890625 25.984375 6.890625 \n",
       "Q 35.75 6.890625 40.890625 13.453125 \n",
       "Q 46.046875 20.015625 46.78125 33.40625 \n",
       "Q 43.953125 29.203125 39.59375 26.953125 \n",
       "Q 35.25 24.703125 29.984375 24.703125 \n",
       "Q 19.046875 24.703125 12.671875 31.3125 \n",
       "Q 6.296875 37.9375 6.296875 49.421875 \n",
       "Q 6.296875 60.640625 12.9375 67.421875 \n",
       "Q 19.578125 74.21875 30.609375 74.21875 \n",
       "Q 43.265625 74.21875 49.921875 64.515625 \n",
       "Q 56.59375 54.828125 56.59375 36.375 \n",
       "Q 56.59375 19.140625 48.40625 8.859375 \n",
       "Q 40.234375 -1.421875 26.421875 -1.421875 \n",
       "Q 22.703125 -1.421875 18.890625 -0.6875 \n",
       "Q 15.09375 0.046875 10.984375 1.515625 \n",
       "z\n",
       "M 30.609375 32.421875 \n",
       "Q 37.25 32.421875 41.125 36.953125 \n",
       "Q 45.015625 41.5 45.015625 49.421875 \n",
       "Q 45.015625 57.28125 41.125 61.84375 \n",
       "Q 37.25 66.40625 30.609375 66.40625 \n",
       "Q 23.96875 66.40625 20.09375 61.84375 \n",
       "Q 16.21875 57.28125 16.21875 49.421875 \n",
       "Q 16.21875 41.5 20.09375 36.953125 \n",
       "Q 23.96875 32.421875 30.609375 32.421875 \n",
       "z\n",
       "\" id=\"DejaVuSans-57\"/>\n",
       "       </defs>\n",
       "       <use xlink:href=\"#DejaVuSans-50\"/>\n",
       "       <use x=\"63.623047\" xlink:href=\"#DejaVuSans-46\"/>\n",
       "       <use x=\"95.410156\" xlink:href=\"#DejaVuSans-57\"/>\n",
       "       <use x=\"159.033203\" xlink:href=\"#DejaVuSans-57\"/>\n",
       "      </g>\n",
       "     </g>\n",
       "    </g>\n",
       "    <g id=\"ytick_2\">\n",
       "     <g id=\"line2d_7\">\n",
       "      <g>\n",
       "       <use style=\"stroke:#000000;stroke-width:0.8;\" x=\"50.14375\" xlink:href=\"#m34ddd05d32\" y=\"375.362998\"/>\n",
       "      </g>\n",
       "     </g>\n",
       "     <g id=\"text_8\">\n",
       "      <!-- 3.00 -->\n",
       "      <g transform=\"translate(20.878125 379.162216)scale(0.1 -0.1)\">\n",
       "       <defs>\n",
       "        <path d=\"M 40.578125 39.3125 \n",
       "Q 47.65625 37.796875 51.625 33 \n",
       "Q 55.609375 28.21875 55.609375 21.1875 \n",
       "Q 55.609375 10.40625 48.1875 4.484375 \n",
       "Q 40.765625 -1.421875 27.09375 -1.421875 \n",
       "Q 22.515625 -1.421875 17.65625 -0.515625 \n",
       "Q 12.796875 0.390625 7.625 2.203125 \n",
       "L 7.625 11.71875 \n",
       "Q 11.71875 9.328125 16.59375 8.109375 \n",
       "Q 21.484375 6.890625 26.8125 6.890625 \n",
       "Q 36.078125 6.890625 40.9375 10.546875 \n",
       "Q 45.796875 14.203125 45.796875 21.1875 \n",
       "Q 45.796875 27.640625 41.28125 31.265625 \n",
       "Q 36.765625 34.90625 28.71875 34.90625 \n",
       "L 20.21875 34.90625 \n",
       "L 20.21875 43.015625 \n",
       "L 29.109375 43.015625 \n",
       "Q 36.375 43.015625 40.234375 45.921875 \n",
       "Q 44.09375 48.828125 44.09375 54.296875 \n",
       "Q 44.09375 59.90625 40.109375 62.90625 \n",
       "Q 36.140625 65.921875 28.71875 65.921875 \n",
       "Q 24.65625 65.921875 20.015625 65.03125 \n",
       "Q 15.375 64.15625 9.8125 62.3125 \n",
       "L 9.8125 71.09375 \n",
       "Q 15.4375 72.65625 20.34375 73.4375 \n",
       "Q 25.25 74.21875 29.59375 74.21875 \n",
       "Q 40.828125 74.21875 47.359375 69.109375 \n",
       "Q 53.90625 64.015625 53.90625 55.328125 \n",
       "Q 53.90625 49.265625 50.4375 45.09375 \n",
       "Q 46.96875 40.921875 40.578125 39.3125 \n",
       "z\n",
       "\" id=\"DejaVuSans-51\"/>\n",
       "       </defs>\n",
       "       <use xlink:href=\"#DejaVuSans-51\"/>\n",
       "       <use x=\"63.623047\" xlink:href=\"#DejaVuSans-46\"/>\n",
       "       <use x=\"95.410156\" xlink:href=\"#DejaVuSans-48\"/>\n",
       "       <use x=\"159.033203\" xlink:href=\"#DejaVuSans-48\"/>\n",
       "      </g>\n",
       "     </g>\n",
       "    </g>\n",
       "    <g id=\"ytick_3\">\n",
       "     <g id=\"line2d_8\">\n",
       "      <g>\n",
       "       <use style=\"stroke:#000000;stroke-width:0.8;\" x=\"50.14375\" xlink:href=\"#m34ddd05d32\" y=\"315.105138\"/>\n",
       "      </g>\n",
       "     </g>\n",
       "     <g id=\"text_9\">\n",
       "      <!-- 3.01 -->\n",
       "      <g transform=\"translate(20.878125 318.904357)scale(0.1 -0.1)\">\n",
       "       <use xlink:href=\"#DejaVuSans-51\"/>\n",
       "       <use x=\"63.623047\" xlink:href=\"#DejaVuSans-46\"/>\n",
       "       <use x=\"95.410156\" xlink:href=\"#DejaVuSans-48\"/>\n",
       "       <use x=\"159.033203\" xlink:href=\"#DejaVuSans-49\"/>\n",
       "      </g>\n",
       "     </g>\n",
       "    </g>\n",
       "    <g id=\"ytick_4\">\n",
       "     <g id=\"line2d_9\">\n",
       "      <g>\n",
       "       <use style=\"stroke:#000000;stroke-width:0.8;\" x=\"50.14375\" xlink:href=\"#m34ddd05d32\" y=\"254.847279\"/>\n",
       "      </g>\n",
       "     </g>\n",
       "     <g id=\"text_10\">\n",
       "      <!-- 3.02 -->\n",
       "      <g transform=\"translate(20.878125 258.646497)scale(0.1 -0.1)\">\n",
       "       <use xlink:href=\"#DejaVuSans-51\"/>\n",
       "       <use x=\"63.623047\" xlink:href=\"#DejaVuSans-46\"/>\n",
       "       <use x=\"95.410156\" xlink:href=\"#DejaVuSans-48\"/>\n",
       "       <use x=\"159.033203\" xlink:href=\"#DejaVuSans-50\"/>\n",
       "      </g>\n",
       "     </g>\n",
       "    </g>\n",
       "    <g id=\"ytick_5\">\n",
       "     <g id=\"line2d_10\">\n",
       "      <g>\n",
       "       <use style=\"stroke:#000000;stroke-width:0.8;\" x=\"50.14375\" xlink:href=\"#m34ddd05d32\" y=\"194.589419\"/>\n",
       "      </g>\n",
       "     </g>\n",
       "     <g id=\"text_11\">\n",
       "      <!-- 3.03 -->\n",
       "      <g transform=\"translate(20.878125 198.388638)scale(0.1 -0.1)\">\n",
       "       <use xlink:href=\"#DejaVuSans-51\"/>\n",
       "       <use x=\"63.623047\" xlink:href=\"#DejaVuSans-46\"/>\n",
       "       <use x=\"95.410156\" xlink:href=\"#DejaVuSans-48\"/>\n",
       "       <use x=\"159.033203\" xlink:href=\"#DejaVuSans-51\"/>\n",
       "      </g>\n",
       "     </g>\n",
       "    </g>\n",
       "    <g id=\"ytick_6\">\n",
       "     <g id=\"line2d_11\">\n",
       "      <g>\n",
       "       <use style=\"stroke:#000000;stroke-width:0.8;\" x=\"50.14375\" xlink:href=\"#m34ddd05d32\" y=\"134.33156\"/>\n",
       "      </g>\n",
       "     </g>\n",
       "     <g id=\"text_12\">\n",
       "      <!-- 3.04 -->\n",
       "      <g transform=\"translate(20.878125 138.130779)scale(0.1 -0.1)\">\n",
       "       <use xlink:href=\"#DejaVuSans-51\"/>\n",
       "       <use x=\"63.623047\" xlink:href=\"#DejaVuSans-46\"/>\n",
       "       <use x=\"95.410156\" xlink:href=\"#DejaVuSans-48\"/>\n",
       "       <use x=\"159.033203\" xlink:href=\"#DejaVuSans-52\"/>\n",
       "      </g>\n",
       "     </g>\n",
       "    </g>\n",
       "    <g id=\"ytick_7\">\n",
       "     <g id=\"line2d_12\">\n",
       "      <g>\n",
       "       <use style=\"stroke:#000000;stroke-width:0.8;\" x=\"50.14375\" xlink:href=\"#m34ddd05d32\" y=\"74.073701\"/>\n",
       "      </g>\n",
       "     </g>\n",
       "     <g id=\"text_13\">\n",
       "      <!-- 3.05 -->\n",
       "      <g transform=\"translate(20.878125 77.872919)scale(0.1 -0.1)\">\n",
       "       <defs>\n",
       "        <path d=\"M 10.796875 72.90625 \n",
       "L 49.515625 72.90625 \n",
       "L 49.515625 64.59375 \n",
       "L 19.828125 64.59375 \n",
       "L 19.828125 46.734375 \n",
       "Q 21.96875 47.46875 24.109375 47.828125 \n",
       "Q 26.265625 48.1875 28.421875 48.1875 \n",
       "Q 40.625 48.1875 47.75 41.5 \n",
       "Q 54.890625 34.8125 54.890625 23.390625 \n",
       "Q 54.890625 11.625 47.5625 5.09375 \n",
       "Q 40.234375 -1.421875 26.90625 -1.421875 \n",
       "Q 22.3125 -1.421875 17.546875 -0.640625 \n",
       "Q 12.796875 0.140625 7.71875 1.703125 \n",
       "L 7.71875 11.625 \n",
       "Q 12.109375 9.234375 16.796875 8.0625 \n",
       "Q 21.484375 6.890625 26.703125 6.890625 \n",
       "Q 35.15625 6.890625 40.078125 11.328125 \n",
       "Q 45.015625 15.765625 45.015625 23.390625 \n",
       "Q 45.015625 31 40.078125 35.4375 \n",
       "Q 35.15625 39.890625 26.703125 39.890625 \n",
       "Q 22.75 39.890625 18.8125 39.015625 \n",
       "Q 14.890625 38.140625 10.796875 36.28125 \n",
       "z\n",
       "\" id=\"DejaVuSans-53\"/>\n",
       "       </defs>\n",
       "       <use xlink:href=\"#DejaVuSans-51\"/>\n",
       "       <use x=\"63.623047\" xlink:href=\"#DejaVuSans-46\"/>\n",
       "       <use x=\"95.410156\" xlink:href=\"#DejaVuSans-48\"/>\n",
       "       <use x=\"159.033203\" xlink:href=\"#DejaVuSans-53\"/>\n",
       "      </g>\n",
       "     </g>\n",
       "    </g>\n",
       "    <g id=\"text_14\">\n",
       "     <!-- davies-bouldin score -->\n",
       "     <g transform=\"translate(14.798438 291.375312)rotate(-90)scale(0.1 -0.1)\">\n",
       "      <defs>\n",
       "       <path d=\"M 45.40625 46.390625 \n",
       "L 45.40625 75.984375 \n",
       "L 54.390625 75.984375 \n",
       "L 54.390625 0 \n",
       "L 45.40625 0 \n",
       "L 45.40625 8.203125 \n",
       "Q 42.578125 3.328125 38.25 0.953125 \n",
       "Q 33.9375 -1.421875 27.875 -1.421875 \n",
       "Q 17.96875 -1.421875 11.734375 6.484375 \n",
       "Q 5.515625 14.40625 5.515625 27.296875 \n",
       "Q 5.515625 40.1875 11.734375 48.09375 \n",
       "Q 17.96875 56 27.875 56 \n",
       "Q 33.9375 56 38.25 53.625 \n",
       "Q 42.578125 51.265625 45.40625 46.390625 \n",
       "z\n",
       "M 14.796875 27.296875 \n",
       "Q 14.796875 17.390625 18.875 11.75 \n",
       "Q 22.953125 6.109375 30.078125 6.109375 \n",
       "Q 37.203125 6.109375 41.296875 11.75 \n",
       "Q 45.40625 17.390625 45.40625 27.296875 \n",
       "Q 45.40625 37.203125 41.296875 42.84375 \n",
       "Q 37.203125 48.484375 30.078125 48.484375 \n",
       "Q 22.953125 48.484375 18.875 42.84375 \n",
       "Q 14.796875 37.203125 14.796875 27.296875 \n",
       "z\n",
       "\" id=\"DejaVuSans-100\"/>\n",
       "       <path d=\"M 34.28125 27.484375 \n",
       "Q 23.390625 27.484375 19.1875 25 \n",
       "Q 14.984375 22.515625 14.984375 16.5 \n",
       "Q 14.984375 11.71875 18.140625 8.90625 \n",
       "Q 21.296875 6.109375 26.703125 6.109375 \n",
       "Q 34.1875 6.109375 38.703125 11.40625 \n",
       "Q 43.21875 16.703125 43.21875 25.484375 \n",
       "L 43.21875 27.484375 \n",
       "z\n",
       "M 52.203125 31.203125 \n",
       "L 52.203125 0 \n",
       "L 43.21875 0 \n",
       "L 43.21875 8.296875 \n",
       "Q 40.140625 3.328125 35.546875 0.953125 \n",
       "Q 30.953125 -1.421875 24.3125 -1.421875 \n",
       "Q 15.921875 -1.421875 10.953125 3.296875 \n",
       "Q 6 8.015625 6 15.921875 \n",
       "Q 6 25.140625 12.171875 29.828125 \n",
       "Q 18.359375 34.515625 30.609375 34.515625 \n",
       "L 43.21875 34.515625 \n",
       "L 43.21875 35.40625 \n",
       "Q 43.21875 41.609375 39.140625 45 \n",
       "Q 35.0625 48.390625 27.6875 48.390625 \n",
       "Q 23 48.390625 18.546875 47.265625 \n",
       "Q 14.109375 46.140625 10.015625 43.890625 \n",
       "L 10.015625 52.203125 \n",
       "Q 14.9375 54.109375 19.578125 55.046875 \n",
       "Q 24.21875 56 28.609375 56 \n",
       "Q 40.484375 56 46.34375 49.84375 \n",
       "Q 52.203125 43.703125 52.203125 31.203125 \n",
       "z\n",
       "\" id=\"DejaVuSans-97\"/>\n",
       "       <path d=\"M 2.984375 54.6875 \n",
       "L 12.5 54.6875 \n",
       "L 29.59375 8.796875 \n",
       "L 46.6875 54.6875 \n",
       "L 56.203125 54.6875 \n",
       "L 35.6875 0 \n",
       "L 23.484375 0 \n",
       "z\n",
       "\" id=\"DejaVuSans-118\"/>\n",
       "       <path d=\"M 9.421875 54.6875 \n",
       "L 18.40625 54.6875 \n",
       "L 18.40625 0 \n",
       "L 9.421875 0 \n",
       "z\n",
       "M 9.421875 75.984375 \n",
       "L 18.40625 75.984375 \n",
       "L 18.40625 64.59375 \n",
       "L 9.421875 64.59375 \n",
       "z\n",
       "\" id=\"DejaVuSans-105\"/>\n",
       "       <path d=\"M 4.890625 31.390625 \n",
       "L 31.203125 31.390625 \n",
       "L 31.203125 23.390625 \n",
       "L 4.890625 23.390625 \n",
       "z\n",
       "\" id=\"DejaVuSans-45\"/>\n",
       "      </defs>\n",
       "      <use xlink:href=\"#DejaVuSans-100\"/>\n",
       "      <use x=\"63.476562\" xlink:href=\"#DejaVuSans-97\"/>\n",
       "      <use x=\"124.755859\" xlink:href=\"#DejaVuSans-118\"/>\n",
       "      <use x=\"183.935547\" xlink:href=\"#DejaVuSans-105\"/>\n",
       "      <use x=\"211.71875\" xlink:href=\"#DejaVuSans-101\"/>\n",
       "      <use x=\"273.242188\" xlink:href=\"#DejaVuSans-115\"/>\n",
       "      <use x=\"325.341797\" xlink:href=\"#DejaVuSans-45\"/>\n",
       "      <use x=\"361.425781\" xlink:href=\"#DejaVuSans-98\"/>\n",
       "      <use x=\"424.902344\" xlink:href=\"#DejaVuSans-111\"/>\n",
       "      <use x=\"486.083984\" xlink:href=\"#DejaVuSans-117\"/>\n",
       "      <use x=\"549.462891\" xlink:href=\"#DejaVuSans-108\"/>\n",
       "      <use x=\"577.246094\" xlink:href=\"#DejaVuSans-100\"/>\n",
       "      <use x=\"640.722656\" xlink:href=\"#DejaVuSans-105\"/>\n",
       "      <use x=\"668.505859\" xlink:href=\"#DejaVuSans-110\"/>\n",
       "      <use x=\"731.884766\" xlink:href=\"#DejaVuSans-32\"/>\n",
       "      <use x=\"763.671875\" xlink:href=\"#DejaVuSans-115\"/>\n",
       "      <use x=\"815.771484\" xlink:href=\"#DejaVuSans-99\"/>\n",
       "      <use x=\"870.751953\" xlink:href=\"#DejaVuSans-111\"/>\n",
       "      <use x=\"931.933594\" xlink:href=\"#DejaVuSans-114\"/>\n",
       "      <use x=\"970.796875\" xlink:href=\"#DejaVuSans-101\"/>\n",
       "     </g>\n",
       "    </g>\n",
       "   </g>\n",
       "   <g id=\"line2d_13\">\n",
       "    <path clip-path=\"url(#p314e05afc8)\" d=\"M 75.507386 178.470168 \n",
       "L 131.871023 220.6664 \n",
       "L 188.234659 362.228689 \n",
       "L 244.598295 410.055984 \n",
       "L 300.961932 343.830031 \n",
       "L 357.325568 374.773624 \n",
       "L 413.689205 344.781733 \n",
       "L 470.052841 42.085398 \n",
       "L 526.416477 145.456411 \n",
       "L 582.780114 437.430852 \n",
       "\" style=\"fill:none;stroke:#0000ff;stroke-linecap:square;stroke-width:1.5;\"/>\n",
       "    <defs>\n",
       "     <path d=\"M -3 3 \n",
       "L 3 -3 \n",
       "M -3 -3 \n",
       "L 3 3 \n",
       "\" id=\"m65df77d71d\" style=\"stroke:#0000ff;\"/>\n",
       "    </defs>\n",
       "    <g clip-path=\"url(#p314e05afc8)\">\n",
       "     <use style=\"fill:#0000ff;stroke:#0000ff;\" x=\"75.507386\" xlink:href=\"#m65df77d71d\" y=\"178.470168\"/>\n",
       "     <use style=\"fill:#0000ff;stroke:#0000ff;\" x=\"131.871023\" xlink:href=\"#m65df77d71d\" y=\"220.6664\"/>\n",
       "     <use style=\"fill:#0000ff;stroke:#0000ff;\" x=\"188.234659\" xlink:href=\"#m65df77d71d\" y=\"362.228689\"/>\n",
       "     <use style=\"fill:#0000ff;stroke:#0000ff;\" x=\"244.598295\" xlink:href=\"#m65df77d71d\" y=\"410.055984\"/>\n",
       "     <use style=\"fill:#0000ff;stroke:#0000ff;\" x=\"300.961932\" xlink:href=\"#m65df77d71d\" y=\"343.830031\"/>\n",
       "     <use style=\"fill:#0000ff;stroke:#0000ff;\" x=\"357.325568\" xlink:href=\"#m65df77d71d\" y=\"374.773624\"/>\n",
       "     <use style=\"fill:#0000ff;stroke:#0000ff;\" x=\"413.689205\" xlink:href=\"#m65df77d71d\" y=\"344.781733\"/>\n",
       "     <use style=\"fill:#0000ff;stroke:#0000ff;\" x=\"470.052841\" xlink:href=\"#m65df77d71d\" y=\"42.085398\"/>\n",
       "     <use style=\"fill:#0000ff;stroke:#0000ff;\" x=\"526.416477\" xlink:href=\"#m65df77d71d\" y=\"145.456411\"/>\n",
       "     <use style=\"fill:#0000ff;stroke:#0000ff;\" x=\"582.780114\" xlink:href=\"#m65df77d71d\" y=\"437.430852\"/>\n",
       "    </g>\n",
       "   </g>\n",
       "   <g id=\"patch_3\">\n",
       "    <path d=\"M 50.14375 457.198125 \n",
       "L 50.14375 22.318125 \n",
       "\" style=\"fill:none;stroke:#000000;stroke-linecap:square;stroke-linejoin:miter;stroke-width:0.8;\"/>\n",
       "   </g>\n",
       "   <g id=\"patch_4\">\n",
       "    <path d=\"M 608.14375 457.198125 \n",
       "L 608.14375 22.318125 \n",
       "\" style=\"fill:none;stroke:#000000;stroke-linecap:square;stroke-linejoin:miter;stroke-width:0.8;\"/>\n",
       "   </g>\n",
       "   <g id=\"patch_5\">\n",
       "    <path d=\"M 50.14375 457.198125 \n",
       "L 608.14375 457.198125 \n",
       "\" style=\"fill:none;stroke:#000000;stroke-linecap:square;stroke-linejoin:miter;stroke-width:0.8;\"/>\n",
       "   </g>\n",
       "   <g id=\"patch_6\">\n",
       "    <path d=\"M 50.14375 22.318125 \n",
       "L 608.14375 22.318125 \n",
       "\" style=\"fill:none;stroke:#000000;stroke-linecap:square;stroke-linejoin:miter;stroke-width:0.8;\"/>\n",
       "   </g>\n",
       "   <g id=\"text_15\">\n",
       "    <!-- Davies-Bouldin Index elbow for optimal number of clusters -->\n",
       "    <g transform=\"translate(153.046563 16.318125)scale(0.12 -0.12)\">\n",
       "     <defs>\n",
       "      <path d=\"M 19.671875 64.796875 \n",
       "L 19.671875 8.109375 \n",
       "L 31.59375 8.109375 \n",
       "Q 46.6875 8.109375 53.6875 14.9375 \n",
       "Q 60.6875 21.78125 60.6875 36.53125 \n",
       "Q 60.6875 51.171875 53.6875 57.984375 \n",
       "Q 46.6875 64.796875 31.59375 64.796875 \n",
       "z\n",
       "M 9.8125 72.90625 \n",
       "L 30.078125 72.90625 \n",
       "Q 51.265625 72.90625 61.171875 64.09375 \n",
       "Q 71.09375 55.28125 71.09375 36.53125 \n",
       "Q 71.09375 17.671875 61.125 8.828125 \n",
       "Q 51.171875 0 30.078125 0 \n",
       "L 9.8125 0 \n",
       "z\n",
       "\" id=\"DejaVuSans-68\"/>\n",
       "      <path d=\"M 19.671875 34.8125 \n",
       "L 19.671875 8.109375 \n",
       "L 35.5 8.109375 \n",
       "Q 43.453125 8.109375 47.28125 11.40625 \n",
       "Q 51.125 14.703125 51.125 21.484375 \n",
       "Q 51.125 28.328125 47.28125 31.5625 \n",
       "Q 43.453125 34.8125 35.5 34.8125 \n",
       "z\n",
       "M 19.671875 64.796875 \n",
       "L 19.671875 42.828125 \n",
       "L 34.28125 42.828125 \n",
       "Q 41.5 42.828125 45.03125 45.53125 \n",
       "Q 48.578125 48.25 48.578125 53.8125 \n",
       "Q 48.578125 59.328125 45.03125 62.0625 \n",
       "Q 41.5 64.796875 34.28125 64.796875 \n",
       "z\n",
       "M 9.8125 72.90625 \n",
       "L 35.015625 72.90625 \n",
       "Q 46.296875 72.90625 52.390625 68.21875 \n",
       "Q 58.5 63.53125 58.5 54.890625 \n",
       "Q 58.5 48.1875 55.375 44.234375 \n",
       "Q 52.25 40.28125 46.1875 39.3125 \n",
       "Q 53.46875 37.75 57.5 32.78125 \n",
       "Q 61.53125 27.828125 61.53125 20.40625 \n",
       "Q 61.53125 10.640625 54.890625 5.3125 \n",
       "Q 48.25 0 35.984375 0 \n",
       "L 9.8125 0 \n",
       "z\n",
       "\" id=\"DejaVuSans-66\"/>\n",
       "      <path d=\"M 9.8125 72.90625 \n",
       "L 19.671875 72.90625 \n",
       "L 19.671875 0 \n",
       "L 9.8125 0 \n",
       "z\n",
       "\" id=\"DejaVuSans-73\"/>\n",
       "      <path d=\"M 54.890625 54.6875 \n",
       "L 35.109375 28.078125 \n",
       "L 55.90625 0 \n",
       "L 45.3125 0 \n",
       "L 29.390625 21.484375 \n",
       "L 13.484375 0 \n",
       "L 2.875 0 \n",
       "L 24.125 28.609375 \n",
       "L 4.6875 54.6875 \n",
       "L 15.28125 54.6875 \n",
       "L 29.78125 35.203125 \n",
       "L 44.28125 54.6875 \n",
       "z\n",
       "\" id=\"DejaVuSans-120\"/>\n",
       "      <path d=\"M 4.203125 54.6875 \n",
       "L 13.1875 54.6875 \n",
       "L 24.421875 12.015625 \n",
       "L 35.59375 54.6875 \n",
       "L 46.1875 54.6875 \n",
       "L 57.421875 12.015625 \n",
       "L 68.609375 54.6875 \n",
       "L 77.59375 54.6875 \n",
       "L 63.28125 0 \n",
       "L 52.6875 0 \n",
       "L 40.921875 44.828125 \n",
       "L 29.109375 0 \n",
       "L 18.5 0 \n",
       "z\n",
       "\" id=\"DejaVuSans-119\"/>\n",
       "      <path d=\"M 18.109375 8.203125 \n",
       "L 18.109375 -20.796875 \n",
       "L 9.078125 -20.796875 \n",
       "L 9.078125 54.6875 \n",
       "L 18.109375 54.6875 \n",
       "L 18.109375 46.390625 \n",
       "Q 20.953125 51.265625 25.265625 53.625 \n",
       "Q 29.59375 56 35.59375 56 \n",
       "Q 45.5625 56 51.78125 48.09375 \n",
       "Q 58.015625 40.1875 58.015625 27.296875 \n",
       "Q 58.015625 14.40625 51.78125 6.484375 \n",
       "Q 45.5625 -1.421875 35.59375 -1.421875 \n",
       "Q 29.59375 -1.421875 25.265625 0.953125 \n",
       "Q 20.953125 3.328125 18.109375 8.203125 \n",
       "z\n",
       "M 48.6875 27.296875 \n",
       "Q 48.6875 37.203125 44.609375 42.84375 \n",
       "Q 40.53125 48.484375 33.40625 48.484375 \n",
       "Q 26.265625 48.484375 22.1875 42.84375 \n",
       "Q 18.109375 37.203125 18.109375 27.296875 \n",
       "Q 18.109375 17.390625 22.1875 11.75 \n",
       "Q 26.265625 6.109375 33.40625 6.109375 \n",
       "Q 40.53125 6.109375 44.609375 11.75 \n",
       "Q 48.6875 17.390625 48.6875 27.296875 \n",
       "z\n",
       "\" id=\"DejaVuSans-112\"/>\n",
       "     </defs>\n",
       "     <use xlink:href=\"#DejaVuSans-68\"/>\n",
       "     <use x=\"77.001953\" xlink:href=\"#DejaVuSans-97\"/>\n",
       "     <use x=\"138.28125\" xlink:href=\"#DejaVuSans-118\"/>\n",
       "     <use x=\"197.460938\" xlink:href=\"#DejaVuSans-105\"/>\n",
       "     <use x=\"225.244141\" xlink:href=\"#DejaVuSans-101\"/>\n",
       "     <use x=\"286.767578\" xlink:href=\"#DejaVuSans-115\"/>\n",
       "     <use x=\"338.867188\" xlink:href=\"#DejaVuSans-45\"/>\n",
       "     <use x=\"371.326172\" xlink:href=\"#DejaVuSans-66\"/>\n",
       "     <use x=\"439.929688\" xlink:href=\"#DejaVuSans-111\"/>\n",
       "     <use x=\"501.111328\" xlink:href=\"#DejaVuSans-117\"/>\n",
       "     <use x=\"564.490234\" xlink:href=\"#DejaVuSans-108\"/>\n",
       "     <use x=\"592.273438\" xlink:href=\"#DejaVuSans-100\"/>\n",
       "     <use x=\"655.75\" xlink:href=\"#DejaVuSans-105\"/>\n",
       "     <use x=\"683.533203\" xlink:href=\"#DejaVuSans-110\"/>\n",
       "     <use x=\"746.912109\" xlink:href=\"#DejaVuSans-32\"/>\n",
       "     <use x=\"778.699219\" xlink:href=\"#DejaVuSans-73\"/>\n",
       "     <use x=\"808.191406\" xlink:href=\"#DejaVuSans-110\"/>\n",
       "     <use x=\"871.570312\" xlink:href=\"#DejaVuSans-100\"/>\n",
       "     <use x=\"935.046875\" xlink:href=\"#DejaVuSans-101\"/>\n",
       "     <use x=\"994.820312\" xlink:href=\"#DejaVuSans-120\"/>\n",
       "     <use x=\"1054\" xlink:href=\"#DejaVuSans-32\"/>\n",
       "     <use x=\"1085.787109\" xlink:href=\"#DejaVuSans-101\"/>\n",
       "     <use x=\"1147.310547\" xlink:href=\"#DejaVuSans-108\"/>\n",
       "     <use x=\"1175.09375\" xlink:href=\"#DejaVuSans-98\"/>\n",
       "     <use x=\"1238.570312\" xlink:href=\"#DejaVuSans-111\"/>\n",
       "     <use x=\"1299.751953\" xlink:href=\"#DejaVuSans-119\"/>\n",
       "     <use x=\"1381.539062\" xlink:href=\"#DejaVuSans-32\"/>\n",
       "     <use x=\"1413.326172\" xlink:href=\"#DejaVuSans-102\"/>\n",
       "     <use x=\"1448.53125\" xlink:href=\"#DejaVuSans-111\"/>\n",
       "     <use x=\"1509.712891\" xlink:href=\"#DejaVuSans-114\"/>\n",
       "     <use x=\"1550.826172\" xlink:href=\"#DejaVuSans-32\"/>\n",
       "     <use x=\"1582.613281\" xlink:href=\"#DejaVuSans-111\"/>\n",
       "     <use x=\"1643.794922\" xlink:href=\"#DejaVuSans-112\"/>\n",
       "     <use x=\"1707.271484\" xlink:href=\"#DejaVuSans-116\"/>\n",
       "     <use x=\"1746.480469\" xlink:href=\"#DejaVuSans-105\"/>\n",
       "     <use x=\"1774.263672\" xlink:href=\"#DejaVuSans-109\"/>\n",
       "     <use x=\"1871.675781\" xlink:href=\"#DejaVuSans-97\"/>\n",
       "     <use x=\"1932.955078\" xlink:href=\"#DejaVuSans-108\"/>\n",
       "     <use x=\"1960.738281\" xlink:href=\"#DejaVuSans-32\"/>\n",
       "     <use x=\"1992.525391\" xlink:href=\"#DejaVuSans-110\"/>\n",
       "     <use x=\"2055.904297\" xlink:href=\"#DejaVuSans-117\"/>\n",
       "     <use x=\"2119.283203\" xlink:href=\"#DejaVuSans-109\"/>\n",
       "     <use x=\"2216.695312\" xlink:href=\"#DejaVuSans-98\"/>\n",
       "     <use x=\"2280.171875\" xlink:href=\"#DejaVuSans-101\"/>\n",
       "     <use x=\"2341.695312\" xlink:href=\"#DejaVuSans-114\"/>\n",
       "     <use x=\"2382.808594\" xlink:href=\"#DejaVuSans-32\"/>\n",
       "     <use x=\"2414.595703\" xlink:href=\"#DejaVuSans-111\"/>\n",
       "     <use x=\"2475.777344\" xlink:href=\"#DejaVuSans-102\"/>\n",
       "     <use x=\"2510.982422\" xlink:href=\"#DejaVuSans-32\"/>\n",
       "     <use x=\"2542.769531\" xlink:href=\"#DejaVuSans-99\"/>\n",
       "     <use x=\"2597.75\" xlink:href=\"#DejaVuSans-108\"/>\n",
       "     <use x=\"2625.533203\" xlink:href=\"#DejaVuSans-117\"/>\n",
       "     <use x=\"2688.912109\" xlink:href=\"#DejaVuSans-115\"/>\n",
       "     <use x=\"2741.011719\" xlink:href=\"#DejaVuSans-116\"/>\n",
       "     <use x=\"2780.220703\" xlink:href=\"#DejaVuSans-101\"/>\n",
       "     <use x=\"2841.744141\" xlink:href=\"#DejaVuSans-114\"/>\n",
       "     <use x=\"2882.857422\" xlink:href=\"#DejaVuSans-115\"/>\n",
       "    </g>\n",
       "   </g>\n",
       "   <g id=\"legend_1\">\n",
       "    <g id=\"patch_7\">\n",
       "     <path d=\"M 480.8625 44.99625 \n",
       "L 601.14375 44.99625 \n",
       "Q 603.14375 44.99625 603.14375 42.99625 \n",
       "L 603.14375 29.318125 \n",
       "Q 603.14375 27.318125 601.14375 27.318125 \n",
       "L 480.8625 27.318125 \n",
       "Q 478.8625 27.318125 478.8625 29.318125 \n",
       "L 478.8625 42.99625 \n",
       "Q 478.8625 44.99625 480.8625 44.99625 \n",
       "z\n",
       "\" style=\"fill:#ffffff;opacity:0.8;stroke:#cccccc;stroke-linejoin:miter;\"/>\n",
       "    </g>\n",
       "    <g id=\"line2d_14\">\n",
       "     <path d=\"M 482.8625 35.416562 \n",
       "L 502.8625 35.416562 \n",
       "\" style=\"fill:none;stroke:#0000ff;stroke-linecap:square;stroke-width:1.5;\"/>\n",
       "    </g>\n",
       "    <g id=\"line2d_15\">\n",
       "     <g>\n",
       "      <use style=\"fill:#0000ff;stroke:#0000ff;\" x=\"492.8625\" xlink:href=\"#m65df77d71d\" y=\"35.416562\"/>\n",
       "     </g>\n",
       "    </g>\n",
       "    <g id=\"text_16\">\n",
       "     <!-- MiniBatchKMeans -->\n",
       "     <g transform=\"translate(510.8625 38.916562)scale(0.1 -0.1)\">\n",
       "      <defs>\n",
       "       <path d=\"M 9.8125 72.90625 \n",
       "L 24.515625 72.90625 \n",
       "L 43.109375 23.296875 \n",
       "L 61.8125 72.90625 \n",
       "L 76.515625 72.90625 \n",
       "L 76.515625 0 \n",
       "L 66.890625 0 \n",
       "L 66.890625 64.015625 \n",
       "L 48.09375 14.015625 \n",
       "L 38.1875 14.015625 \n",
       "L 19.390625 64.015625 \n",
       "L 19.390625 0 \n",
       "L 9.8125 0 \n",
       "z\n",
       "\" id=\"DejaVuSans-77\"/>\n",
       "       <path d=\"M 54.890625 33.015625 \n",
       "L 54.890625 0 \n",
       "L 45.90625 0 \n",
       "L 45.90625 32.71875 \n",
       "Q 45.90625 40.484375 42.875 44.328125 \n",
       "Q 39.84375 48.1875 33.796875 48.1875 \n",
       "Q 26.515625 48.1875 22.3125 43.546875 \n",
       "Q 18.109375 38.921875 18.109375 30.90625 \n",
       "L 18.109375 0 \n",
       "L 9.078125 0 \n",
       "L 9.078125 75.984375 \n",
       "L 18.109375 75.984375 \n",
       "L 18.109375 46.1875 \n",
       "Q 21.34375 51.125 25.703125 53.5625 \n",
       "Q 30.078125 56 35.796875 56 \n",
       "Q 45.21875 56 50.046875 50.171875 \n",
       "Q 54.890625 44.34375 54.890625 33.015625 \n",
       "z\n",
       "\" id=\"DejaVuSans-104\"/>\n",
       "       <path d=\"M 9.8125 72.90625 \n",
       "L 19.671875 72.90625 \n",
       "L 19.671875 42.09375 \n",
       "L 52.390625 72.90625 \n",
       "L 65.09375 72.90625 \n",
       "L 28.90625 38.921875 \n",
       "L 67.671875 0 \n",
       "L 54.6875 0 \n",
       "L 19.671875 35.109375 \n",
       "L 19.671875 0 \n",
       "L 9.8125 0 \n",
       "z\n",
       "\" id=\"DejaVuSans-75\"/>\n",
       "      </defs>\n",
       "      <use xlink:href=\"#DejaVuSans-77\"/>\n",
       "      <use x=\"86.279297\" xlink:href=\"#DejaVuSans-105\"/>\n",
       "      <use x=\"114.0625\" xlink:href=\"#DejaVuSans-110\"/>\n",
       "      <use x=\"177.441406\" xlink:href=\"#DejaVuSans-105\"/>\n",
       "      <use x=\"205.224609\" xlink:href=\"#DejaVuSans-66\"/>\n",
       "      <use x=\"273.828125\" xlink:href=\"#DejaVuSans-97\"/>\n",
       "      <use x=\"335.107422\" xlink:href=\"#DejaVuSans-116\"/>\n",
       "      <use x=\"374.316406\" xlink:href=\"#DejaVuSans-99\"/>\n",
       "      <use x=\"429.296875\" xlink:href=\"#DejaVuSans-104\"/>\n",
       "      <use x=\"492.675781\" xlink:href=\"#DejaVuSans-75\"/>\n",
       "      <use x=\"558.251953\" xlink:href=\"#DejaVuSans-77\"/>\n",
       "      <use x=\"644.53125\" xlink:href=\"#DejaVuSans-101\"/>\n",
       "      <use x=\"706.054688\" xlink:href=\"#DejaVuSans-97\"/>\n",
       "      <use x=\"767.333984\" xlink:href=\"#DejaVuSans-110\"/>\n",
       "      <use x=\"830.712891\" xlink:href=\"#DejaVuSans-115\"/>\n",
       "     </g>\n",
       "    </g>\n",
       "   </g>\n",
       "  </g>\n",
       " </g>\n",
       " <defs>\n",
       "  <clipPath id=\"p314e05afc8\">\n",
       "   <rect height=\"434.88\" width=\"558\" x=\"50.14375\" y=\"22.318125\"/>\n",
       "  </clipPath>\n",
       " </defs>\n",
       "</svg>\n"
      ],
      "text/plain": [
       "<Figure size 720x576 with 1 Axes>"
      ]
     },
     "metadata": {
      "needs_background": "light"
     },
     "output_type": "display_data"
    },
    {
     "name": "stdout",
     "output_type": "stream",
     "text": [
      "number of clusters: 100 | MiniBatchKMeans: 3.03267504551066\n",
      "number of clusters: 200 | MiniBatchKMeans: 3.0256724349067996\n",
      "number of clusters: 300 | MiniBatchKMeans: 3.0021796838443287\n",
      "number of clusters: 400 | MiniBatchKMeans: 2.9942425789378\n",
      "number of clusters: 500 | MiniBatchKMeans: 3.0052330048211524\n",
      "number of clusters: 600 | MiniBatchKMeans: 3.000097808607382\n",
      "number of clusters: 700 | MiniBatchKMeans: 3.005075066588511\n",
      "number of clusters: 800 | MiniBatchKMeans: 3.0553085694010953\n",
      "number of clusters: 900 | MiniBatchKMeans: 3.0381537926051556\n",
      "number of clusters: 1000 | MiniBatchKMeans: 2.989699625014526\n"
     ]
    }
   ],
   "source": [
    "plt.figure(figsize=(10,8))\n",
    "\n",
    "plt.plot(range(100, 1100, 100), batch_kmeans_score, 'bx-', label='MiniBatchKMeans')\n",
    "\n",
    "plt.xlabel('number of clusters')\n",
    "plt.ylabel('davies-bouldin score')\n",
    "plt.title('Davies-Bouldin Index elbow for optimal number of clusters')\n",
    "plt.legend()\n",
    "\n",
    "plt.show()\n",
    "\n",
    "for count, value in enumerate(range(100, 1100, 100)):\n",
    "    print(f'number of clusters: {value} | MiniBatchKMeans: {batch_kmeans_score[count]}')"
   ]
  },
  {
   "cell_type": "code",
   "execution_count": 31,
   "metadata": {
    "ExecuteTime": {
     "end_time": "2021-05-10T16:49:58.763383Z",
     "start_time": "2021-05-10T16:49:58.544978Z"
    },
    "hidden": true
   },
   "outputs": [
    {
     "data": {
      "text/plain": [
       "['bovw.joblib']"
      ]
     },
     "execution_count": 31,
     "metadata": {},
     "output_type": "execute_result"
    }
   ],
   "source": [
    "# retrain best model (the best model has the lowest davies-bouldin score)\n",
    "bovw = get_visual_words(descriptors=des_sift_raw_train, \n",
    "                        model=MiniBatchKMeans(n_clusters=400, batch_size=64, n_init=10, max_iter=300))\n",
    "\n",
    "# save model\n",
    "with open('..\\\\saved-model\\\\bovw.joblib', 'wb') as f:\n",
    "    joblib.dump(bovw, f)"
   ]
  },
  {
   "cell_type": "markdown",
   "metadata": {
    "heading_collapsed": true,
    "hidden": true
   },
   "source": [
    "## 4.2 Vector Representations"
   ]
  },
  {
   "cell_type": "code",
   "execution_count": 34,
   "metadata": {
    "ExecuteTime": {
     "end_time": "2021-08-20T08:44:30.259301Z",
     "start_time": "2021-08-20T08:44:30.246320Z"
    },
    "hidden": true
   },
   "outputs": [],
   "source": [
    "def get_vector_representation(model, descriptors):\n",
    "    \"\"\" Computes the vector representations of images.\n",
    "\n",
    "    The representations are based on the images descriptors and a predefined BoVW model. Specifically,\n",
    "    they're a histogram of the frequencies of visual words from the vocabulary of the BoVW.\n",
    "\n",
    "    Args:\n",
    "        model:\n",
    "            precomputed BoVW model, as scikit-learn obj.\n",
    "        descriptors:\n",
    "            descriptors, as list of numpy arrays.\n",
    "\n",
    "    Returns:\n",
    "        vector representations of images, as list of numpy array.\n",
    "    \"\"\"\n",
    "    histograms = []\n",
    "    for desc in descriptors:\n",
    "        hist = np.zeros(model.cluster_centers_.shape[0])\n",
    "        if desc is not None:\n",
    "            for d in desc:\n",
    "                # find the cluster each descriptor is close to\n",
    "                cluster_idx = model.predict([d.astype(float)])\n",
    "                hist[cluster_idx] += 1\n",
    "            histograms.append(hist)\n",
    "    \n",
    "    return histograms"
   ]
  },
  {
   "cell_type": "code",
   "execution_count": 35,
   "metadata": {
    "ExecuteTime": {
     "end_time": "2021-08-20T08:44:30.790520Z",
     "start_time": "2021-08-20T08:44:30.261255Z"
    },
    "hidden": true
   },
   "outputs": [],
   "source": [
    "with open('..\\\\saved-model\\\\bovw.joblib', 'rb') as f:\n",
    "    bovw = joblib.load(f)"
   ]
  },
  {
   "cell_type": "code",
   "execution_count": 36,
   "metadata": {
    "ExecuteTime": {
     "end_time": "2021-08-20T09:03:29.651319Z",
     "start_time": "2021-08-20T08:44:30.791518Z"
    },
    "hidden": true
   },
   "outputs": [],
   "source": [
    "des_sift_train = get_vector_representation(bovw, des_sift_train)\n",
    "des_sift_test = get_vector_representation(bovw, des_sift_test)"
   ]
  },
  {
   "cell_type": "markdown",
   "metadata": {
    "heading_collapsed": true
   },
   "source": [
    "# 5. Early Fusion\n",
    "\n",
    "Since **Histogram of Oriented Gradients (HOG)** are the most popular features for computer vision tasks (like classification), we'll only create combinations that include them. The combinations are:\n",
    "* HOG + GCH\n",
    "* HOG + SIFT\n",
    "* HOG + GCH + SIFT"
   ]
  },
  {
   "cell_type": "markdown",
   "metadata": {
    "heading_collapsed": true,
    "hidden": true
   },
   "source": [
    "## 5.1 Early Fusion: HOG + GCH"
   ]
  },
  {
   "cell_type": "code",
   "execution_count": 37,
   "metadata": {
    "ExecuteTime": {
     "end_time": "2021-08-20T09:03:30.166236Z",
     "start_time": "2021-08-20T09:03:29.658275Z"
    },
    "hidden": true
   },
   "outputs": [],
   "source": [
    "hog_gch_train = []\n",
    "for idx in range(X_train_grayscale.shape[0]):\n",
    "    fused = np.concatenate((hog_train[idx], color_hist_train[idx]), axis=None)\n",
    "    hog_gch_train.append(fused)\n",
    "\n",
    "hog_gch_test = []\n",
    "for idx in range(X_test_grayscale.shape[0]):\n",
    "    fused = np.concatenate((hog_test[idx], color_hist_test[idx]), axis=None)\n",
    "    hog_gch_test.append(fused)"
   ]
  },
  {
   "cell_type": "code",
   "execution_count": 38,
   "metadata": {
    "ExecuteTime": {
     "end_time": "2021-08-20T09:03:30.181194Z",
     "start_time": "2021-08-20T09:03:30.169228Z"
    },
    "hidden": true
   },
   "outputs": [
    {
     "name": "stdout",
     "output_type": "stream",
     "text": [
      "Number of features: 580\n"
     ]
    }
   ],
   "source": [
    "print(f'Number of features: {hog_gch_train[0].shape[0]}')"
   ]
  },
  {
   "cell_type": "markdown",
   "metadata": {
    "heading_collapsed": true,
    "hidden": true
   },
   "source": [
    "## 5.2 Early Fusion: HOG + SIFT"
   ]
  },
  {
   "cell_type": "code",
   "execution_count": 39,
   "metadata": {
    "ExecuteTime": {
     "end_time": "2021-08-20T09:03:30.902400Z",
     "start_time": "2021-08-20T09:03:30.184189Z"
    },
    "hidden": true
   },
   "outputs": [],
   "source": [
    "hog_sift_train = []\n",
    "for idx in range(X_train_grayscale.shape[0]):\n",
    "    fused = np.concatenate((hog_train[idx], des_sift_train[idx]), axis=None)\n",
    "    hog_sift_train.append(fused)\n",
    "\n",
    "hog_sift_test = []\n",
    "for idx in range(X_test_grayscale.shape[0]):\n",
    "    fused = np.concatenate((hog_test[idx], des_sift_test[idx]), axis=None)\n",
    "    hog_sift_test.append(fused)"
   ]
  },
  {
   "cell_type": "code",
   "execution_count": 40,
   "metadata": {
    "ExecuteTime": {
     "end_time": "2021-08-20T09:03:30.921280Z",
     "start_time": "2021-08-20T09:03:30.909316Z"
    },
    "hidden": true
   },
   "outputs": [
    {
     "name": "stdout",
     "output_type": "stream",
     "text": [
      "Number of features: 724\n"
     ]
    }
   ],
   "source": [
    "print(f'Number of features: {hog_sift_train[0].shape[0]}')"
   ]
  },
  {
   "cell_type": "markdown",
   "metadata": {
    "heading_collapsed": true,
    "hidden": true
   },
   "source": [
    "## 5.3 Early Fusion: HOG + GCH + SIFT"
   ]
  },
  {
   "cell_type": "code",
   "execution_count": 41,
   "metadata": {
    "ExecuteTime": {
     "end_time": "2021-08-20T09:03:31.822456Z",
     "start_time": "2021-08-20T09:03:30.925269Z"
    },
    "hidden": true
   },
   "outputs": [],
   "source": [
    "hog_gch_sift_train = []\n",
    "for idx in range(X_train_grayscale.shape[0]):\n",
    "    fused = np.concatenate((hog_train[idx], color_hist_train[idx]), axis=None)\n",
    "    fused = np.concatenate((fused, des_sift_train[idx]), axis=None)\n",
    "    hog_gch_sift_train.append(fused)\n",
    "\n",
    "hog_gch_sift_test = []\n",
    "for idx in range(X_test_grayscale.shape[0]):\n",
    "    fused = np.concatenate((hog_test[idx], color_hist_test[idx]), axis=None)\n",
    "    fused = np.concatenate((fused, des_sift_test[idx]), axis=None)\n",
    "    hog_gch_sift_test.append(fused)"
   ]
  },
  {
   "cell_type": "code",
   "execution_count": 42,
   "metadata": {
    "ExecuteTime": {
     "end_time": "2021-08-20T09:03:31.838552Z",
     "start_time": "2021-08-20T09:03:31.825452Z"
    },
    "hidden": true
   },
   "outputs": [
    {
     "name": "stdout",
     "output_type": "stream",
     "text": [
      "Number of features: 980\n"
     ]
    }
   ],
   "source": [
    "print(f'Number of features: {hog_gch_sift_train[0].shape[0]}')"
   ]
  },
  {
   "cell_type": "markdown",
   "metadata": {},
   "source": [
    "# 6. Classification\n",
    "\n",
    "The primary **metric** we'll use to validate our models will be **accuracy**, since CIFAR-10 is a well balanced dataset. \n",
    "\n",
    "Other metrics that are worth looking at are **precision** and **recall**, since the models will be used for retreval tasks."
   ]
  },
  {
   "cell_type": "code",
   "execution_count": 45,
   "metadata": {
    "ExecuteTime": {
     "end_time": "2021-08-20T09:05:48.470297Z",
     "start_time": "2021-08-20T09:05:48.411410Z"
    }
   },
   "outputs": [],
   "source": [
    "target_names = ['airplane', 'automobile', 'bird', 'cat', 'deer', 'dog', 'frog', 'horse', 'ship', 'truck']"
   ]
  },
  {
   "cell_type": "markdown",
   "metadata": {
    "heading_collapsed": true
   },
   "source": [
    "## 6.1 Gaussian Naive Bayes"
   ]
  },
  {
   "cell_type": "markdown",
   "metadata": {
    "heading_collapsed": true,
    "hidden": true
   },
   "source": [
    "### 6.1.1 Gaussian NB: HOG + GCH"
   ]
  },
  {
   "cell_type": "code",
   "execution_count": 54,
   "metadata": {
    "ExecuteTime": {
     "end_time": "2021-08-20T09:19:32.212478Z",
     "start_time": "2021-08-20T09:19:26.197100Z"
    },
    "hidden": true
   },
   "outputs": [],
   "source": [
    "clf = GaussianNB()\n",
    "\n",
    "clf.fit(hog_gch_train, Y_train.ravel())\n",
    "\n",
    "Y_train_pred = clf.predict(hog_gch_train)\n",
    "Y_test_pred = clf.predict(hog_gch_test)"
   ]
  },
  {
   "cell_type": "code",
   "execution_count": 69,
   "metadata": {
    "ExecuteTime": {
     "end_time": "2021-08-20T09:26:26.017676Z",
     "start_time": "2021-08-20T09:26:25.882947Z"
    },
    "hidden": true
   },
   "outputs": [
    {
     "name": "stdout",
     "output_type": "stream",
     "text": [
      "Train:\n",
      "              precision    recall  f1-score   support\n",
      "\n",
      "    airplane       0.48      0.35      0.40      5000\n",
      "  automobile       0.45      0.52      0.48      5000\n",
      "        bird       0.41      0.17      0.24      5000\n",
      "         cat       0.26      0.14      0.18      5000\n",
      "        deer       0.25      0.46      0.32      5000\n",
      "         dog       0.35      0.41      0.38      5000\n",
      "        frog       0.37      0.45      0.41      5000\n",
      "       horse       0.48      0.23      0.31      5000\n",
      "        ship       0.40      0.39      0.39      5000\n",
      "       truck       0.41      0.62      0.49      5000\n",
      "\n",
      "    accuracy                           0.37     50000\n",
      "   macro avg       0.39      0.37      0.36     50000\n",
      "weighted avg       0.39      0.37      0.36     50000\n",
      "\n",
      "Test:\n",
      "              precision    recall  f1-score   support\n",
      "\n",
      "    airplane       0.47      0.35      0.40      1000\n",
      "  automobile       0.47      0.49      0.48      1000\n",
      "        bird       0.38      0.16      0.23      1000\n",
      "         cat       0.24      0.12      0.16      1000\n",
      "        deer       0.26      0.47      0.34      1000\n",
      "         dog       0.35      0.42      0.38      1000\n",
      "        frog       0.37      0.46      0.41      1000\n",
      "       horse       0.49      0.23      0.31      1000\n",
      "        ship       0.40      0.41      0.40      1000\n",
      "       truck       0.40      0.63      0.49      1000\n",
      "\n",
      "    accuracy                           0.37     10000\n",
      "   macro avg       0.38      0.37      0.36     10000\n",
      "weighted avg       0.38      0.37      0.36     10000\n",
      "\n"
     ]
    }
   ],
   "source": [
    "print(f'Train:\\n{classification_report(Y_train.ravel(), Y_train_pred, target_names=target_names)}')\n",
    "print(f'Test:\\n{classification_report(Y_test.ravel(), Y_test_pred, target_names=target_names)}')"
   ]
  },
  {
   "cell_type": "code",
   "execution_count": 70,
   "metadata": {
    "ExecuteTime": {
     "end_time": "2021-08-20T09:27:08.012111Z",
     "start_time": "2021-08-20T09:27:07.481502Z"
    },
    "hidden": true
   },
   "outputs": [
    {
     "data": {
      "text/plain": [
       "<AxesSubplot:>"
      ]
     },
     "execution_count": 70,
     "metadata": {},
     "output_type": "execute_result"
    },
    {
     "data": {
      "image/png": "[encoded data removed]",
      "text/plain": [
       "<Figure size 720x576 with 2 Axes>"
      ]
     },
     "metadata": {
      "needs_background": "light"
     },
     "output_type": "display_data"
    }
   ],
   "source": [
    "cm = confusion_matrix(Y_test.ravel(), Y_test_pred)\n",
    "sns.heatmap(cm, annot=True, fmt='', xticklabels=target_names, yticklabels=target_names, ax=plt.subplots(figsize=(10,8))[1])"
   ]
  },
  {
   "cell_type": "markdown",
   "metadata": {
    "heading_collapsed": true,
    "hidden": true
   },
   "source": [
    "### 6.1.2 Gaussian NB: HOG + SIFT"
   ]
  },
  {
   "cell_type": "code",
   "execution_count": 71,
   "metadata": {
    "ExecuteTime": {
     "end_time": "2021-08-20T09:28:08.953289Z",
     "start_time": "2021-08-20T09:28:01.755187Z"
    },
    "hidden": true
   },
   "outputs": [],
   "source": [
    "clf = GaussianNB()\n",
    "\n",
    "clf.fit(hog_sift_train, Y_train.ravel())\n",
    "\n",
    "Y_train_pred = clf.predict(hog_sift_train)\n",
    "Y_test_pred = clf.predict(hog_sift_test)"
   ]
  },
  {
   "cell_type": "code",
   "execution_count": 72,
   "metadata": {
    "ExecuteTime": {
     "end_time": "2021-08-20T09:28:09.077986Z",
     "start_time": "2021-08-20T09:28:08.955286Z"
    },
    "hidden": true
   },
   "outputs": [
    {
     "name": "stdout",
     "output_type": "stream",
     "text": [
      "Train:\n",
      "              precision    recall  f1-score   support\n",
      "\n",
      "    airplane       0.42      0.58      0.49      5000\n",
      "  automobile       0.51      0.35      0.41      5000\n",
      "        bird       0.25      0.37      0.30      5000\n",
      "         cat       0.33      0.24      0.28      5000\n",
      "        deer       0.35      0.17      0.23      5000\n",
      "         dog       0.45      0.34      0.39      5000\n",
      "        frog       0.40      0.55      0.46      5000\n",
      "       horse       0.47      0.31      0.37      5000\n",
      "        ship       0.37      0.61      0.46      5000\n",
      "       truck       0.51      0.41      0.46      5000\n",
      "\n",
      "    accuracy                           0.39     50000\n",
      "   macro avg       0.41      0.39      0.38     50000\n",
      "weighted avg       0.41      0.39      0.38     50000\n",
      "\n",
      "Test:\n",
      "              precision    recall  f1-score   support\n",
      "\n",
      "    airplane       0.40      0.56      0.47      1000\n",
      "  automobile       0.47      0.31      0.38      1000\n",
      "        bird       0.22      0.33      0.26      1000\n",
      "         cat       0.31      0.23      0.26      1000\n",
      "        deer       0.31      0.15      0.21      1000\n",
      "         dog       0.39      0.30      0.34      1000\n",
      "        frog       0.38      0.52      0.44      1000\n",
      "       horse       0.46      0.29      0.35      1000\n",
      "        ship       0.36      0.59      0.45      1000\n",
      "       truck       0.48      0.41      0.44      1000\n",
      "\n",
      "    accuracy                           0.37     10000\n",
      "   macro avg       0.38      0.37      0.36     10000\n",
      "weighted avg       0.38      0.37      0.36     10000\n",
      "\n"
     ]
    }
   ],
   "source": [
    "print(f'Train:\\n{classification_report(Y_train.ravel(), Y_train_pred, target_names=target_names)}')\n",
    "print(f'Test:\\n{classification_report(Y_test.ravel(), Y_test_pred, target_names=target_names)}')"
   ]
  },
  {
   "cell_type": "code",
   "execution_count": 73,
   "metadata": {
    "ExecuteTime": {
     "end_time": "2021-08-20T09:28:09.662401Z",
     "start_time": "2021-08-20T09:28:09.080952Z"
    },
    "hidden": true
   },
   "outputs": [
    {
     "data": {
      "text/plain": [
       "<AxesSubplot:>"
      ]
     },
     "execution_count": 73,
     "metadata": {},
     "output_type": "execute_result"
    },
    {
     "data": {
      "image/png": "[encoded data removed]",
      "text/plain": [
       "<Figure size 720x576 with 2 Axes>"
      ]
     },
     "metadata": {
      "needs_background": "light"
     },
     "output_type": "display_data"
    }
   ],
   "source": [
    "cm = confusion_matrix(Y_test.ravel(), Y_test_pred)\n",
    "sns.heatmap(cm, annot=True, fmt='', xticklabels=target_names, yticklabels=target_names, ax=plt.subplots(figsize=(10,8))[1])"
   ]
  },
  {
   "cell_type": "markdown",
   "metadata": {
    "heading_collapsed": true,
    "hidden": true
   },
   "source": [
    "### 6.1.3 Gaussian NB: HOG + GCH + SIFT"
   ]
  },
  {
   "cell_type": "code",
   "execution_count": 74,
   "metadata": {
    "ExecuteTime": {
     "end_time": "2021-08-20T09:28:20.119626Z",
     "start_time": "2021-08-20T09:28:09.665389Z"
    },
    "hidden": true
   },
   "outputs": [],
   "source": [
    "clf = GaussianNB()\n",
    "\n",
    "clf.fit(hog_gch_sift_train, Y_train.ravel())\n",
    "\n",
    "Y_train_pred = clf.predict(hog_gch_sift_train)\n",
    "Y_test_pred = clf.predict(hog_gch_sift_test)"
   ]
  },
  {
   "cell_type": "code",
   "execution_count": 75,
   "metadata": {
    "ExecuteTime": {
     "end_time": "2021-08-20T09:28:20.260381Z",
     "start_time": "2021-08-20T09:28:20.121625Z"
    },
    "hidden": true
   },
   "outputs": [
    {
     "name": "stdout",
     "output_type": "stream",
     "text": [
      "Train:\n",
      "              precision    recall  f1-score   support\n",
      "\n",
      "    airplane       0.45      0.45      0.45      5000\n",
      "  automobile       0.47      0.49      0.48      5000\n",
      "        bird       0.40      0.19      0.26      5000\n",
      "         cat       0.29      0.22      0.25      5000\n",
      "        deer       0.29      0.37      0.33      5000\n",
      "         dog       0.39      0.43      0.41      5000\n",
      "        frog       0.40      0.50      0.45      5000\n",
      "       horse       0.47      0.30      0.37      5000\n",
      "        ship       0.39      0.50      0.44      5000\n",
      "       truck       0.43      0.53      0.47      5000\n",
      "\n",
      "    accuracy                           0.40     50000\n",
      "   macro avg       0.40      0.40      0.39     50000\n",
      "weighted avg       0.40      0.40      0.39     50000\n",
      "\n",
      "Test:\n",
      "              precision    recall  f1-score   support\n",
      "\n",
      "    airplane       0.43      0.45      0.44      1000\n",
      "  automobile       0.44      0.42      0.43      1000\n",
      "        bird       0.34      0.16      0.22      1000\n",
      "         cat       0.25      0.17      0.21      1000\n",
      "        deer       0.28      0.37      0.32      1000\n",
      "         dog       0.34      0.40      0.37      1000\n",
      "        frog       0.37      0.47      0.41      1000\n",
      "       horse       0.42      0.25      0.32      1000\n",
      "        ship       0.39      0.52      0.45      1000\n",
      "       truck       0.42      0.52      0.47      1000\n",
      "\n",
      "    accuracy                           0.37     10000\n",
      "   macro avg       0.37      0.37      0.36     10000\n",
      "weighted avg       0.37      0.37      0.36     10000\n",
      "\n"
     ]
    }
   ],
   "source": [
    "print(f'Train:\\n{classification_report(Y_train.ravel(), Y_train_pred, target_names=target_names)}')\n",
    "print(f'Test:\\n{classification_report(Y_test.ravel(), Y_test_pred, target_names=target_names)}')"
   ]
  },
  {
   "cell_type": "code",
   "execution_count": 76,
   "metadata": {
    "ExecuteTime": {
     "end_time": "2021-08-20T09:28:20.828885Z",
     "start_time": "2021-08-20T09:28:20.265369Z"
    },
    "hidden": true
   },
   "outputs": [
    {
     "data": {
      "text/plain": [
       "<AxesSubplot:>"
      ]
     },
     "execution_count": 76,
     "metadata": {},
     "output_type": "execute_result"
    },
    {
     "data": {
      "image/png": "[encoded data removed]",
      "text/plain": [
       "<Figure size 720x576 with 2 Axes>"
      ]
     },
     "metadata": {
      "needs_background": "light"
     },
     "output_type": "display_data"
    }
   ],
   "source": [
    "cm = confusion_matrix(Y_test.ravel(), Y_test_pred)\n",
    "sns.heatmap(cm, annot=True, fmt='', xticklabels=target_names, yticklabels=target_names, ax=plt.subplots(figsize=(10,8))[1])"
   ]
  },
  {
   "cell_type": "markdown",
   "metadata": {
    "heading_collapsed": true
   },
   "source": [
    "## 6.2 Logistic Regression"
   ]
  },
  {
   "cell_type": "code",
   "execution_count": null,
   "metadata": {
    "ExecuteTime": {
     "end_time": "2021-05-11T16:37:45.785131Z",
     "start_time": "2021-05-11T16:37:45.770197Z"
    },
    "hidden": true
   },
   "outputs": [],
   "source": [
    "# hyperparameter space\n",
    "space = {\n",
    "    'C': [0.01, 0.1, 1, 10],\n",
    "    'class_weight': [None],\n",
    "    'max_iter': [5000] \n",
    "}\n",
    "\n",
    "clf = LogisticRegression()"
   ]
  },
  {
   "cell_type": "code",
   "execution_count": null,
   "metadata": {
    "ExecuteTime": {
     "start_time": "2021-05-11T16:37:47.814Z"
    },
    "hidden": true
   },
   "outputs": [],
   "source": [
    "# hyperparameter tunning & cross validation\n",
    "search = GridSearchCV(clf, space, scoring=\"accuracy\", cv=10)\n",
    "results = search.fit(X_train_hog_sift, Y_train.ravel())\n",
    "\n",
    "print(results.best_score_)\n",
    "print(results.best_params_)"
   ]
  },
  {
   "cell_type": "code",
   "execution_count": null,
   "metadata": {
    "ExecuteTime": {
     "end_time": "2021-05-11T18:36:48.428383Z",
     "start_time": "2021-05-11T18:34:04.729544Z"
    },
    "hidden": true
   },
   "outputs": [],
   "source": [
    "clf = LogisticRegression(C=10, class_weight=None, max_iter=5000)\n",
    "\n",
    "clf.fit(X_train_hog_sift, Y_train.ravel())\n",
    "\n",
    "Y_train_pred = clf.predict(X_train_hog_sift)\n",
    "Y_test_pred = clf.predict(X_test_hog_sift)\n",
    "\n",
    "print(f'Train accuracy: {accuracy_score(Y_train.ravel(), Y_train_pred)}')\n",
    "print(f'Test accuracy: {accuracy_score(Y_test.ravel(), Y_test_pred)}')"
   ]
  },
  {
   "cell_type": "markdown",
   "metadata": {
    "hidden": true
   },
   "source": [
    "### 6.2.1 LR: HOG + GCH"
   ]
  },
  {
   "cell_type": "markdown",
   "metadata": {
    "hidden": true
   },
   "source": [
    "### 6.2.2 LR: HOG + SIFT"
   ]
  },
  {
   "cell_type": "markdown",
   "metadata": {
    "hidden": true
   },
   "source": [
    "### 6.2.3 LR: HOG + GCH + SIFT"
   ]
  },
  {
   "cell_type": "markdown",
   "metadata": {
    "heading_collapsed": true
   },
   "source": [
    "## 6.3 kNN"
   ]
  },
  {
   "cell_type": "code",
   "execution_count": null,
   "metadata": {
    "ExecuteTime": {
     "end_time": "2021-04-22T13:14:45.478253Z",
     "start_time": "2021-04-22T13:14:45.465290Z"
    },
    "hidden": true
   },
   "outputs": [],
   "source": [
    "# hyperparameter space\n",
    "space = {\n",
    "    'n_neighbors': list(range(1, 20, 3)),\n",
    "    'weights': ['uniform', 'distance']\n",
    "}\n",
    "\n",
    "clf = KNeighborsClassifier()"
   ]
  },
  {
   "cell_type": "code",
   "execution_count": null,
   "metadata": {
    "ExecuteTime": {
     "end_time": "2021-04-22T15:04:49.112505Z",
     "start_time": "2021-04-22T14:25:22.840539Z"
    },
    "hidden": true
   },
   "outputs": [],
   "source": [
    "# hyperparameter tunning & cross validation\n",
    "search = GridSearchCV(clf, space, scoring=\"accuracy\", cv=10)\n",
    "results = search.fit(X_train_hog_sift, Y_train.ravel())\n",
    "\n",
    "print(results.best_score_)\n",
    "print(results.best_params_)"
   ]
  },
  {
   "cell_type": "code",
   "execution_count": null,
   "metadata": {
    "ExecuteTime": {
     "end_time": "2021-05-10T21:10:19.677094Z",
     "start_time": "2021-05-10T21:08:31.361128Z"
    },
    "hidden": true
   },
   "outputs": [],
   "source": [
    "clf = KNeighborsClassifier(n_neighbors=19, weights='distance')\n",
    "\n",
    "clf.fit(X_train_hog_sift, Y_train.ravel())\n",
    "\n",
    "Y_train_pred = clf.predict(X_train_hog_sift)\n",
    "Y_test_pred = clf.predict(X_test_hog_sift)\n",
    "\n",
    "print(f'Train accuracy: {accuracy_score(Y_train.ravel(), Y_train_pred)}')\n",
    "print(f'Test accuracy: {accuracy_score(Y_test.ravel(), Y_test_pred)}')"
   ]
  },
  {
   "cell_type": "markdown",
   "metadata": {
    "heading_collapsed": true
   },
   "source": [
    "## 6.4 Random Forest"
   ]
  },
  {
   "cell_type": "code",
   "execution_count": null,
   "metadata": {
    "ExecuteTime": {
     "start_time": "2021-04-22T15:48:41.308Z"
    },
    "hidden": true
   },
   "outputs": [],
   "source": [
    "# hyperparameter space\n",
    "max_depth = (np.linspace(10, 50, num = 5).astype(int)).tolist()\n",
    "max_depth.append(None)\n",
    "space = {\n",
    "    'n_estimators': list(range(10, 101, 10)),\n",
    "    'max_depth': max_depth ,\n",
    "    'min_samples_split': [2, 5, 10],\n",
    "    'min_samples_leaf': [1, 3, 5],\n",
    "}\n",
    "\n",
    "clf = RandomForestClassifier()"
   ]
  },
  {
   "cell_type": "code",
   "execution_count": null,
   "metadata": {
    "ExecuteTime": {
     "start_time": "2021-04-22T15:48:41.316Z"
    },
    "hidden": true
   },
   "outputs": [],
   "source": [
    "# hyperparameter tunning & cross validation\n",
    "search = GridSearchCV(clf, space, scoring=\"accuracy\", cv=10)\n",
    "results = search.fit(X_train_hog_sift, Y_train.ravel())\n",
    "\n",
    "print(results.best_score_)\n",
    "print(results.best_params_)"
   ]
  },
  {
   "cell_type": "code",
   "execution_count": null,
   "metadata": {
    "ExecuteTime": {
     "end_time": "2021-05-10T21:11:46.476952Z",
     "start_time": "2021-05-10T21:10:19.716987Z"
    },
    "hidden": true
   },
   "outputs": [],
   "source": [
    "clf = RandomForestClassifier(n_estimators=100, max_depth=None, min_samples_split=2, min_samples_leaf=1)\n",
    "\n",
    "clf.fit(X_train_hog_sift, Y_train.ravel())\n",
    "\n",
    "Y_train_pred = clf.predict(X_train_hog_sift)\n",
    "Y_test_pred = clf.predict(X_test_hog_sift)\n",
    "\n",
    "print(f'Train accuracy: {accuracy_score(Y_train.ravel(), Y_train_pred)}')\n",
    "print(f'Test accuracy: {accuracy_score(Y_test.ravel(), Y_test_pred)}')"
   ]
  }
 ],
 "metadata": {
  "interpreter": {
   "hash": "af2c560f9a2fd48ea2660017820ca96c24cae0d096f5d3083124b771466d1d33"
  },
  "kernelspec": {
   "display_name": "Python [conda env:cbir-ml]",
   "language": "python",
   "name": "conda-env-cbir-ml-py"
  },
  "language_info": {
   "codemirror_mode": {
    "name": "ipython",
    "version": 3
   },
   "file_extension": ".py",
   "mimetype": "text/x-python",
   "name": "python",
   "nbconvert_exporter": "python",
   "pygments_lexer": "ipython3",
   "version": "3.6.13"
  },
  "toc": {
   "base_numbering": 1,
   "nav_menu": {
    "height": "283px",
    "width": "284px"
   },
   "number_sections": false,
   "sideBar": true,
   "skip_h1_title": false,
   "title_cell": "Table of Contents",
   "title_sidebar": "Contents",
   "toc_cell": false,
   "toc_position": {
    "height": "calc(100% - 180px)",
    "left": "10px",
    "top": "150px",
    "width": "269.2px"
   },
   "toc_section_display": true,
   "toc_window_display": true
  }
 },
 "nbformat": 4,
 "nbformat_minor": 4
}
