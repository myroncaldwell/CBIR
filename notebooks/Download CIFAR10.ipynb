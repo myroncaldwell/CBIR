{
 "cells": [
  {
   "cell_type": "code",
   "execution_count": null,
   "metadata": {},
   "outputs": [],
   "source": [
    "from keras.datasets import cifar10\n",
    "import os\n",
    "import cv2 as cv"
   ]
  },
  {
   "cell_type": "markdown",
   "metadata": {},
   "source": [
    "Load CIFAR10"
   ]
  },
  {
   "cell_type": "code",
   "execution_count": null,
   "metadata": {},
   "outputs": [],
   "source": [
    "(X_train, Y_train), (X_test, Y_test) = cifar10.load_data()"
   ]
  },
  {
   "cell_type": "markdown",
   "metadata": {},
   "source": [
    "Map numbers to label names"
   ]
  },
  {
   "cell_type": "code",
   "execution_count": null,
   "metadata": {},
   "outputs": [],
   "source": [
    "labels = {0: 'airplane',\n",
    "         1: 'automobile',\n",
    "         2: 'bird',\n",
    "         3: 'cat',\n",
    "         4: 'deer',\n",
    "         5: 'dog',\n",
    "         6: 'frog',\n",
    "         7: 'horse',\n",
    "         8: 'ship',\n",
    "         9: 'truck'\n",
    "}"
   ]
  },
  {
   "cell_type": "markdown",
   "metadata": {},
   "source": [
    "Create directories"
   ]
  },
  {
   "cell_type": "code",
   "execution_count": null,
   "metadata": {},
   "outputs": [],
   "source": [
    "PARENT_DIR = '..\\\\static\\\\data'\n",
    "TRAIN_DIR = os.path.join(PARENT_DIR, 'train')\n",
    "TEST_DIR = os.path.join(PARENT_DIR, 'test')\n",
    "\n",
    "if not os.path.isdir(PARENT_DIR):\n",
    "    try:\n",
    "        os.mkdir(PARENT_DIR)\n",
    "        os.mkdir(TRAIN_DIR)\n",
    "        os.mkdir(TEST_DIR)\n",
    "    except OSError as ex:\n",
    "        print(ex)"
   ]
  },
  {
   "cell_type": "markdown",
   "metadata": {},
   "source": [
    "Download train images"
   ]
  },
  {
   "cell_type": "code",
   "execution_count": null,
   "metadata": {},
   "outputs": [],
   "source": [
    "index = 0\n",
    "for i in range(X_train.shape[0]):\n",
    "    filename = '{}-{}.png'.format(labels[Y_train[i][0]], index)\n",
    "    path = os.path.join(TRAIN_DIR, filename)\n",
    "    \n",
    "    cv.imwrite(path, X_train[i])\n",
    "    \n",
    "    index += 1"
   ]
  },
  {
   "cell_type": "markdown",
   "metadata": {},
   "source": [
    "Download test images"
   ]
  },
  {
   "cell_type": "code",
   "execution_count": null,
   "metadata": {},
   "outputs": [],
   "source": [
    "index = 0\n",
    "for i in range(X_test.shape[0]):\n",
    "    filename = '{}-{}.png'.format(labels[Y_test[i][0]], index)\n",
    "    path = os.path.join(TEST_DIR, filename)\n",
    "    \n",
    "    cv.imwrite(path, X_test[i])\n",
    "    \n",
    "    index += 1"
   ]
  }
 ],
 "metadata": {
  "kernelspec": {
   "display_name": "Python [conda env:image-retrieval]",
   "language": "python",
   "name": "conda-env-image-retrieval-py"
  },
  "language_info": {
   "codemirror_mode": {
    "name": "ipython",
    "version": 3
   },
   "file_extension": ".py",
   "mimetype": "text/x-python",
   "name": "python",
   "nbconvert_exporter": "python",
   "pygments_lexer": "ipython3",
   "version": "3.7.10"
  }
 },
 "nbformat": 4,
 "nbformat_minor": 4
}
