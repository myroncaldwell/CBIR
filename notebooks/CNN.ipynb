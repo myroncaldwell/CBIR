{
 "cells": [
  {
   "cell_type": "code",
   "execution_count": null,
   "metadata": {
    "ExecuteTime": {
     "end_time": "2021-06-07T13:57:40.419767Z",
     "start_time": "2021-06-07T13:57:40.399248Z"
    },
    "id": "e1QDis694UJm"
   },
   "outputs": [],
   "source": [
    "# dataset\n",
    "from torchvision import datasets\n",
    "\n",
    "from functools import partial\n",
    "import numpy as np\n",
    "\n",
    "# visualization\n",
    "%matplotlib inline\n",
    "import matplotlib.pyplot as plt\n",
    "import seaborn as sns\n",
    "from tabulate import tabulate\n",
    "\n",
    "# preprocessing\n",
    "from torch.utils.data import Dataset, DataLoader\n",
    "import torchvision.transforms as transforms\n",
    "from torch.utils.data import random_split\n",
    "\n",
    "# model\n",
    "import torch\n",
    "from torch import nn\n",
    "from torch.optim import AdamW\n",
    "from torch.optim.lr_scheduler import ReduceLROnPlateau\n",
    "\n",
    "# hyperparameter tuning\n",
    "from ray import tune\n",
    "from ray.tune import CLIReporter\n",
    "from ray.tune.schedulers import ASHAScheduler\n",
    "\n",
    "# metrics\n",
    "from sklearn.metrics import classification_report\n",
    "from sklearn.metrics import confusion_matrix\n",
    "from sklearn.metrics import accuracy_score"
   ]
  },
  {
   "cell_type": "markdown",
   "metadata": {
    "heading_collapsed": true,
    "id": "QVsPsuI-4UJn"
   },
   "source": [
    "# 1. Load Data & Preprocessing\n",
    "\n",
    "**Dataset**: <a href=\"https://www.cs.toronto.edu/~kriz/cifar.html\" target=\"_blank\">CIFAR-10</a>\n",
    "\n",
    "**Classes**: airplane, automobile, bird, cat, deer, dog, frog, horse, ship, truck\n",
    "\n",
    "The following transformations are tested:\n",
    "* **normalization**: from [0, 255] to [0, 1]\n",
    "* **standardization**: by substracting the mean and dividing with std"
   ]
  },
  {
   "cell_type": "code",
   "execution_count": null,
   "metadata": {
    "ExecuteTime": {
     "end_time": "2021-06-07T13:57:40.497198Z",
     "start_time": "2021-06-07T13:57:40.426745Z"
    },
    "hidden": true,
    "id": "ii9r9fLY4UJn"
   },
   "outputs": [],
   "source": [
    "def load_data(data_dir):\n",
    "    \"\"\" Create train and test pytorch dataset objects from CIFAR-10.\n",
    "    \n",
    "    The following tranformations are applied on CIFAR-10:\n",
    "        * normalization: from [0, 255] to [0, 1] by dividing with 255,\n",
    "        * standardization: by substracting the mean and dividing with std\n",
    "    \n",
    "    Args:\n",
    "        data_dir:\n",
    "            directory where data will be saved, as a string.\n",
    "    \n",
    "    Returns:\n",
    "        train and test dataset, as pytorch dataset objects.\n",
    "    \"\"\"\n",
    "    transform = transforms.Compose([\n",
    "        transforms.ToTensor(),\n",
    "        transforms.Normalize(mean=(0.4914, 0.4822, 0.4465), std=(0.247, 0.2435, 0.2616))\n",
    "    ])\n",
    "\n",
    "    trainset = datasets.CIFAR10(root=data_dir,\n",
    "                                train=True, \n",
    "                                download=True, \n",
    "                                transform=transform)\n",
    "\n",
    "    testset = datasets.CIFAR10(root=data_dir, \n",
    "                               train=False, \n",
    "                               download=True, \n",
    "                               transform=transform)\n",
    "\n",
    "    return trainset, testset"
   ]
  },
  {
   "cell_type": "code",
   "execution_count": null,
   "metadata": {
    "ExecuteTime": {
     "end_time": "2021-06-07T13:57:43.362186Z",
     "start_time": "2021-06-07T13:57:40.499192Z"
    },
    "colab": {
     "base_uri": "https://localhost:8080/"
    },
    "hidden": true,
    "id": "AK8yhYr-4UJo",
    "outputId": "7d8e257b-91e8-429f-8967-bdd36410e682"
   },
   "outputs": [],
   "source": [
    "trainset, testset = load_data(data_dir='cifar10-pytorch')\n",
    "\n",
    "print(f'\\nTraining data:\\n--------------\\n{trainset}')\n",
    "print(f'Test data:\\n--------------\\n{testset}')"
   ]
  },
  {
   "cell_type": "code",
   "execution_count": null,
   "metadata": {
    "hidden": true
   },
   "outputs": [],
   "source": [
    "batch_size = 64\n",
    "\n",
    "train_dataloader = DataLoader(trainset, batch_size=batch_size, shuffle=True)\n",
    "test_dataloader = DataLoader(testset, batch_size=batch_size, shuffle=False)"
   ]
  },
  {
   "cell_type": "markdown",
   "metadata": {
    "heading_collapsed": true,
    "id": "-WC227VV4UJo"
   },
   "source": [
    "# 2. CNN Architecture\n",
    "\n",
    "This Convolutional Neural Network follows the architecture of LeNet. However, instead of using Tanh activation function and average pooling, **ReLU activation function** and **max pooling** is used. Also, **dropout layers** and **batch normalization layers** have been added.\n",
    "\n",
    "**Architecture:** Input &#8594; CONV1 &#8594; NORM &#8594; ReLU &#8594; POOL2 &#8594; CONV3 &#8594; NORM &#8594; ReLU &#8594; POOL4 &#8594; CONV5 &#8594; FC6 &#8594; Softmax\n",
    "\n",
    "Convolutional layers:\n",
    "* **CONV1**: 6 filters and kernel size of 5 x 5\n",
    "* **CONV3**: 16 filters and kernel size of 5 x 5\n",
    "* **CONV5**:120 filters and kernel size of 5 x 5\n",
    "\n",
    "Pooling Layers:\n",
    "* **POOL2, POOL4**: max pooling layers with receptive field of 2 x 2.\n",
    "\n",
    "Activations:\n",
    "* ReLU activation function **(hidden layer)**\n",
    "* Softmax activation function **(output layer)**\n",
    "\n",
    "Regularization:\n",
    "* Weight decay (L2 regularization)\n",
    "* Dropout layers\n",
    "\n",
    "Normalization:\n",
    "* Batch normalization\n",
    "\n",
    "Loss Function:\n",
    "* Cross Entropy Loss\n",
    "\n",
    "Optimizer and Scheduler:\n",
    "* Adam optimizer\n",
    "* ReduceLROnPlateau scheduler"
   ]
  },
  {
   "cell_type": "code",
   "execution_count": null,
   "metadata": {
    "ExecuteTime": {
     "end_time": "2021-06-07T13:57:43.377147Z",
     "start_time": "2021-06-07T13:57:43.364183Z"
    },
    "hidden": true,
    "id": "PFTUJ7u_4UJp"
   },
   "outputs": [],
   "source": [
    "class CNN(nn.Module):\n",
    "    \"\"\" Convolutional Neural Network for multiclass classification.\n",
    "    \n",
    "    This CNN follows the architecture of LeNet. However, instead of using \n",
    "    Tanh activation function and average pooling, ReLU activation function \n",
    "    and max pooling is used. Also, dropout layers and batch normalization layers have been added.\n",
    "    \n",
    "    The CNN architecture is as follows:\n",
    "    Input → CONV1 → NORM → ReLU → POOL2 → CONV3 → NORM → ReLU → POOL4 → CONV5 → FC6 → Softmax\n",
    "    \n",
    "    The convolutional layers are configured as follows:\n",
    "    * CONV1: 6 filters and kernel size of 5 x 5\n",
    "    * CONV3: 16 filters and kernel size of 5 x 5\n",
    "    * CONV5: 120 filters and kernel size of 5 x 5\n",
    "    \n",
    "    The pooling layers are configured as follwos:\n",
    "    * POOL2, POOL4: max pooling layers with receptive field of 2 x 2.\n",
    "    \n",
    "    The hyperparameters of the CNN are:\n",
    "    * probability of dropout layer.\n",
    "    \n",
    "    Arguments:\n",
    "        in_channels:\n",
    "            size of input, as an integer.\n",
    "        output_size:\n",
    "            size of output (number of labels), as an integer\n",
    "        p:\n",
    "            dropout probability, as a float.\n",
    "    \"\"\"\n",
    "    \n",
    "    def __init__(self, in_channels, output_size, p):\n",
    "        \"\"\" Initialize Convolutional Neural Network.\n",
    "        \n",
    "        Args:\n",
    "            in_channels:\n",
    "                size of input, as an integer.\n",
    "            output_size:\n",
    "                number of neurons in hidden layers, as an integer.\n",
    "            output_size:\n",
    "                size of output (number of labels), as an integer.\n",
    "            p:\n",
    "                dropout probability, as a float.\n",
    "        \"\"\"\n",
    "        super(CNN, self).__init__()\n",
    "        \n",
    "        self.in_channels = in_channels\n",
    "        self.output_size = output_size\n",
    "        self.p = p\n",
    "        \n",
    "        # activation function\n",
    "        self.activation = nn.ReLU()\n",
    "        \n",
    "        # convolutional layer: CONV1\n",
    "        self.conv1 = nn.Conv2d(in_channels=in_channels, out_channels=6, kernel_size=5, stride=1)\n",
    "        \n",
    "        # convolutional layer: CONV3\n",
    "        self.conv2 = nn.Conv2d(in_channels=6, out_channels=16, kernel_size=5, stride=1)\n",
    "        \n",
    "        # max pooling layer \n",
    "        self.pool = nn.MaxPool2d(kernel_size=2, stride=2)\n",
    "        \n",
    "        # dropout layer\n",
    "        self.dropout = nn.Dropout(p)\n",
    "        \n",
    "        # batch normalization layer\n",
    "        self.batch_norm = nn.BatchNorm1d(hidden_size)\n",
    "        \n",
    "        # fully connected layers\n",
    "        self.fc1 = nn.Linear(in_features=16 * 5 * 5, out_features=120)\n",
    "        self.fc2 = nn.Linear(in_features=120, out_features=84)\n",
    "        self.fc3 = nn.Linear(in_features=84, out_features=output_size)\n",
    "        \n",
    "    def forward(self, x):\n",
    "        # Input --> CONV1 --> NORM --> ReLU --> POOL2\n",
    "        pre = self.conv1(x)\n",
    "        normalized = self.batch_norm(pre)\n",
    "        post = self.activation(normalized)\n",
    "        x = self.pool(post)\n",
    "        \n",
    "        # CONV3 → NORM → ReLU → POOL4\n",
    "        pre = self.conv2(x)\n",
    "        normalized = self.batch_norm(pre)\n",
    "        post = self.activation(normalized)\n",
    "        x = self.pool(post)\n",
    "        \n",
    "        # flatten all dimensions except batch\n",
    "        x = torch.flatten(x, 1)\n",
    "        \n",
    "        # CONV5\n",
    "        logits = self.activation(self.fc1(x))\n",
    "        logits = self.dropout(logits)\n",
    "        \n",
    "        # FC6\n",
    "        logits = self.activation(self.fc2(logits))\n",
    "        logits = self.dropout(logits)\n",
    "        \n",
    "        # outpout\n",
    "        logits = self.fc3(logits)\n",
    "        \n",
    "        return logits"
   ]
  },
  {
   "cell_type": "markdown",
   "metadata": {
    "heading_collapsed": true
   },
   "source": [
    "# 3. Hyperparameter Tuning\n",
    "\n",
    "We'll use **early stopping** with **ASHAScheduler** to stop bad trials earlier.\n",
    "\n",
    "|                               | Validation Loss | Validation Accuracy |\n",
    "| :---------------------------: | :-------------: | :-----------------: |\n",
    "| w/ batch normalization        |             |                  |\n",
    "| w/o batch normalization       |             |                  |\n",
    "\n",
    "\n",
    "Best trial **configuration** for nn **w/ batch normalization**:\n",
    "\n",
    "Best trial **configuration** for nn **w/o batch normalization**:"
   ]
  },
  {
   "cell_type": "code",
   "execution_count": null,
   "metadata": {
    "hidden": true
   },
   "outputs": [],
   "source": [
    "def tune_helper(config, trainset, in_channels, num_labels, batch_size, epochs):\n",
    "    \"\"\" Fit Convolutional Neural Network and test it on a hold-out validation set.\n",
    "    \n",
    "    The validation set is a 20% hold-out set of the training set. \n",
    "    The loss function used is Cross Entropy Loss.\n",
    "    The optimer used is Adam and the scheduler that wraps the optimizer is ReduceLROnPlateau.\n",
    "    The metric used is accuracy score.\n",
    "    \n",
    "    Args:\n",
    "        config:\n",
    "            hyperparameters of neural network, as a dictionary.\n",
    "        trainset:\n",
    "            training dataset, as a pytorch object.\n",
    "        in_channels:\n",
    "            number of input channels, as an integer.\n",
    "        num_labels:\n",
    "            number of labels, as an integer.\n",
    "        batch_size:\n",
    "            size of batches to be processed, as an integer.\n",
    "        epochs:\n",
    "            number of epochs (times the neural network will see the data), as an integer.\n",
    "    \"\"\"\n",
    "    model = CNN(in_channels=in_channels,\n",
    "                output_size=num_labels,\n",
    "                p=config['p'])\n",
    "    \n",
    "    # support data parallel training on multiple GPUs\n",
    "    device = \"cpu\"\n",
    "    if torch.cuda.is_available():\n",
    "        device = \"cuda:0\"\n",
    "        if torch.cuda.device_count() > 1:\n",
    "            model = nn.DataParallel(model)\n",
    "    model.to(device)\n",
    "    \n",
    "    # loss function\n",
    "    loss_fn = nn.CrossEntropyLoss()\n",
    "    \n",
    "    # optimizer\n",
    "    optimizer = AdamW(model.parameters(), lr=config['lr'], weight_decay=config['l2'])\n",
    "    \n",
    "    #scheduler\n",
    "    scheduler = ReduceLROnPlateau(optimizer, mode='min')\n",
    "    \n",
    "    # split data: training (80%) - validation (20%)\n",
    "    test_abs = int(len(trainset) * 0.8)\n",
    "    train_subset, val_subset = random_split(trainset, [test_abs, len(trainset) - test_abs])\n",
    "\n",
    "    train_dataloader = DataLoader(train_subset,\n",
    "                                  batch_size=batch_size,\n",
    "                                  shuffle=True, \n",
    "                                  num_workers=2)\n",
    "    \n",
    "    val_dataloader = DataLoader(val_subset,\n",
    "                                batch_size=batch_size,\n",
    "                                shuffle=True,\n",
    "                                num_workers=2)\n",
    "    \n",
    "    for epoch in range(epochs):\n",
    "        # fit neural network on training data\n",
    "        model.train()  # put on train mode\n",
    "        for batch, (X, Y) in enumerate(train_dataloader, 0):\n",
    "            # send the data to the GPU memory explicitly\n",
    "            X, Y = X.to(device), Y.to(device)\n",
    "\n",
    "            # reset the gradients\n",
    "            optimizer.zero_grad()\n",
    "            \n",
    "            # compute prediction\n",
    "            pred = model(X)\n",
    "\n",
    "            # compute loss\n",
    "            loss = loss_fn(pred, Y)\n",
    "\n",
    "            # backpropagate\n",
    "            loss.backward()\n",
    "\n",
    "            # update parameters\n",
    "            optimizer.step()\n",
    "        \n",
    "        # test on validation data\n",
    "        val_loss = 0.0\n",
    "        val_steps = 0\n",
    "        total = 0\n",
    "        correct = 0\n",
    "        model.eval()  # put on evaluation mode\n",
    "        for batch, (X, Y) in enumerate(val_dataloader, 0):\n",
    "            with torch.no_grad():\n",
    "                X, Y = X.to(device), Y.to(device)\n",
    "\n",
    "                pred = model(X)\n",
    "                \n",
    "                _, predicted = torch.max(pred.data, 1)\n",
    "                total += Y.size(0)\n",
    "                correct += (predicted == Y).sum().item()\n",
    "\n",
    "                loss = loss_fn(pred, Y)\n",
    "                val_loss += loss.cpu().numpy()\n",
    "                val_steps += 1\n",
    "        \n",
    "        # update scheduler\n",
    "        scheduler.step(val_loss)\n",
    "        \n",
    "        # report metrics\n",
    "        tune.report(loss=(val_loss / val_steps), accuracy=(correct / total))"
   ]
  },
  {
   "cell_type": "code",
   "execution_count": null,
   "metadata": {
    "hidden": true
   },
   "outputs": [],
   "source": [
    "def hyperparameter_tune(data_dir,\n",
    "                        batch_size,\n",
    "                        epochs,\n",
    "                        config,\n",
    "                        grace_period,\n",
    "                        num_samples, \n",
    "                        cpus_per_trial,\n",
    "                        gpus_per_trial):\n",
    "    \"\"\" Run hyperparameter tuning and report best hyperparameters.\n",
    "    \n",
    "    Args:\n",
    "        data_dir:\n",
    "            directory where CIFAR-10 data will be saved/loaded, as a string.\n",
    "        batch_size:\n",
    "            size of batches to be processed, as an integer.\n",
    "        epochs:\n",
    "            number of epochs (times the neural network will see the data), as an integer.\n",
    "        config:\n",
    "            hyperparametes, as a dictionary.\n",
    "        grace_period:\n",
    "            stop trials at least this old in time, as an integer.\n",
    "        num_samples:\n",
    "            number of times to sample from the hyperparameter space (if grid_search is provided as an argument,\n",
    "            the grid will be repeated num_samples of times), as an integer.\n",
    "        cpus_per_trial:\n",
    "            CPUs to allocate per trial, as integer.\n",
    "        gpus_per_trial:\n",
    "            GPUs to allocate per trial, as integer.\n",
    "    \"\"\"\n",
    "    trainset, testset = load_data(data_dir=data_dir)\n",
    "    \n",
    "    in_channels = 3\n",
    "    num_labels = 10\n",
    "    \n",
    "    # hyperparameter search space\n",
    "    cofig = config\n",
    "    \n",
    "    # used for early stopping\n",
    "    scheduler = ASHAScheduler(metric=\"loss\", \n",
    "                              mode=\"min\",\n",
    "                              max_t=epochs,\n",
    "                              grace_period=grace_period,\n",
    "                              reduction_factor=2)\n",
    "    \n",
    "    reporter = CLIReporter(metric_columns=[\"loss\", \"accuracy\", \"training_iteration\"])\n",
    "    \n",
    "    # hyperparamet tuning\n",
    "    result = tune.run(partial(tune_helper, \n",
    "                              trainset=trainset,\n",
    "                              in_channels=in_channels, \n",
    "                              num_labels=num_labels,\n",
    "                              batch_size=batch_size,\n",
    "                              epochs=epochs),\n",
    "                      resources_per_trial={\"cpu\": cpus_per_trial, \"gpu\": gpus_per_trial},\n",
    "                      config=config,\n",
    "                      num_samples=num_samples,\n",
    "                      scheduler=scheduler,\n",
    "                      progress_reporter=reporter)\n",
    "    \n",
    "    # report best results\n",
    "    best_trial = result.get_best_trial(\"loss\", \"min\", \"last\")\n",
    "    print(\"Best trial config: {}\".format(best_trial.config))\n",
    "    print(\"Best trial final validation loss: {}\".format(best_trial.last_result[\"loss\"]))\n",
    "    print(\"Best trial final validation acurracy: {}\".format(best_trial.last_result[\"accuracy\"]))"
   ]
  },
  {
   "cell_type": "code",
   "execution_count": null,
   "metadata": {
    "hidden": true
   },
   "outputs": [],
   "source": [
    "# hyperparameter search space\n",
    "config = {\n",
    "    \"p\": tune.grid_search([0.4, 0.5, 0.6]),\n",
    "    \"lr\": tune.grid_search([1e-3, 1e-4]),\n",
    "    \"l2\": tune.grid_search([1e-3, 1e-4]),\n",
    "    }"
   ]
  },
  {
   "cell_type": "code",
   "execution_count": null,
   "metadata": {
    "hidden": true
   },
   "outputs": [],
   "source": [
    "hyperparameter_tune(data_dir='cifar10-pytorch',\n",
    "                    batch_size=64,\n",
    "                    epochs=100,\n",
    "                    config=config,\n",
    "                    grace_period=10,\n",
    "                    num_samples=1, \n",
    "                    cpus_per_trial=2,\n",
    "                    gpus_per_trial=0)"
   ]
  },
  {
   "cell_type": "markdown",
   "metadata": {
    "heading_collapsed": true,
    "id": "XLhFmou74UJp"
   },
   "source": [
    "# 4. Fit and Predict"
   ]
  },
  {
   "cell_type": "code",
   "execution_count": null,
   "metadata": {
    "ExecuteTime": {
     "end_time": "2021-06-07T13:57:43.532847Z",
     "start_time": "2021-06-07T13:57:43.380141Z"
    },
    "hidden": true,
    "id": "HI8rqVnQ4UJq"
   },
   "outputs": [],
   "source": [
    "def fit(dataloader, model, loss_fn, optimizer, print_loss=False):\n",
    "    \"\"\" Fit Convolutional Neural Network.\n",
    "    \n",
    "    Args:\n",
    "        dataloader:\n",
    "            pytorch DataLoader object.\n",
    "        model:\n",
    "            convolutional neural network, as pytorch object.\n",
    "        loss_fn:\n",
    "            loss function, as pytorch object.\n",
    "        optimizer:\n",
    "            optimizer function, as pytorch object.\n",
    "        print_loss:\n",
    "            print loss on every batch, as boolean (default False)\n",
    "    \"\"\"\n",
    "    size = len(dataloader.dataset)\n",
    "    model.train()  # put on train mode\n",
    "    for batch, (X, Y) in enumerate(dataloader):\n",
    "        X, Y = X.to(device), Y.to(device)\n",
    "        \n",
    "        # compute prediction\n",
    "        pred = model(X)\n",
    "        \n",
    "        # compute loss\n",
    "        loss = loss_fn(pred, Y)\n",
    "\n",
    "        # reset the gradients\n",
    "        optimizer.zero_grad()\n",
    "        \n",
    "        # backpropagate\n",
    "        loss.backward()\n",
    "        \n",
    "        # update parameters\n",
    "        optimizer.step()\n",
    "\n",
    "        if print_loss and batch % 100 == 0:\n",
    "            loss, current = loss.item(), batch * len(X)\n",
    "            print(f\"loss: {loss:>7f} [{current:>5d}/{size:>5d}]\")"
   ]
  },
  {
   "cell_type": "code",
   "execution_count": null,
   "metadata": {
    "ExecuteTime": {
     "end_time": "2021-06-07T13:57:43.641140Z",
     "start_time": "2021-06-07T13:57:43.533627Z"
    },
    "hidden": true,
    "id": "SZ8dvmTY4UJr"
   },
   "outputs": [],
   "source": [
    "def predict(dataloader, num_labels, model, loss_fn):\n",
    "    \"\"\" Predict with Convolutional Neural Network.\n",
    "    \n",
    "    Args:\n",
    "        dataloader:\n",
    "            pytorch DataLoader object.\n",
    "        num_labels:\n",
    "            number of labels, as integer.\n",
    "        model:\n",
    "            neural network, as pytorch object.\n",
    "        loss_fn:\n",
    "            loss function, as pytorch object.\n",
    "    \n",
    "    Returns:\n",
    "         test loss, as float.\n",
    "         predictions, as a list of integers.\n",
    "         ground truth, as a list of integers.\n",
    "    \"\"\"\n",
    "    size = len(dataloader.dataset)\n",
    "    num_batches = len(dataloader)\n",
    "    \n",
    "    test_loss = 0\n",
    "\n",
    "    pred_concat = []\n",
    "    y_concat = []\n",
    "    \n",
    "    model.eval()  # put on evaluation mode\n",
    "    with torch.no_grad():\n",
    "        for X, Y in dataloader:\n",
    "            X, Y = X.to(device), Y.to(device)\n",
    "            \n",
    "            pred = model(X)\n",
    "            \n",
    "            test_loss += loss_fn(pred, Y).item()\n",
    "            \n",
    "            # predictions to one-hot vectors\n",
    "            for label in pred.argmax(1):    \n",
    "                pred_concat.append(label.item())\n",
    "            \n",
    "            # ground truth to one-hot vectors\n",
    "            for label in Y:\n",
    "                y_concat.append(label.item())\n",
    "\n",
    "    test_loss /= num_batches\n",
    "    \n",
    "    return test_loss, pred_concat, y_concat"
   ]
  },
  {
   "cell_type": "markdown",
   "metadata": {
    "heading_collapsed": true,
    "id": "uNwQxPx54UJs"
   },
   "source": [
    "# 5. Final Model\n",
    "\n",
    "Best model configuration: num_layers: 1, hidden_size: 200, lr: 0.0001, p: 0.5, l2: 0.0001\n",
    "\n",
    "Results:\n",
    "* Best **epoch**: 97\n",
    "* Best **train**: **accuracy**: 72.6%, **avg loss**: 0.843372\n",
    "* Best **test**: **accuracy**: 55.5%, **avg loss**: 1.269634"
   ]
  },
  {
   "cell_type": "code",
   "execution_count": null,
   "metadata": {
    "hidden": true
   },
   "outputs": [],
   "source": [
    "target_names = ['airplane', 'automobile', 'bird', 'cat', 'deer', 'dog', 'frog', 'horse', 'ship', 'truck']"
   ]
  },
  {
   "cell_type": "code",
   "execution_count": null,
   "metadata": {
    "hidden": true
   },
   "outputs": [],
   "source": [
    "device = torch.device(f\"cuda\" if torch.cuda.is_available() else \"cpu\")\n",
    "print('Using {} device'.format(device))"
   ]
  },
  {
   "cell_type": "markdown",
   "metadata": {
    "heading_collapsed": true,
    "hidden": true
   },
   "source": [
    "## 5.1 Define model\n",
    "\n",
    "**TODO**"
   ]
  },
  {
   "cell_type": "code",
   "execution_count": null,
   "metadata": {
    "ExecuteTime": {
     "end_time": "2021-06-07T13:57:46.658570Z",
     "start_time": "2021-06-07T13:57:46.535579Z"
    },
    "colab": {
     "base_uri": "https://localhost:8080/"
    },
    "hidden": true,
    "id": "rvdGVBIK4UJu",
    "outputId": "3acb8378-8eb9-4c10-ebfc-94c276681b1e"
   },
   "outputs": [],
   "source": [
    "in_channels = 3\n",
    "num_labels = 10\n",
    "p=0.4\n",
    "\n",
    "model = CNN(in_channels=in_channels,\n",
    "            output_size=num_labels,\n",
    "            p=p).to(device)\n",
    "\n",
    "print(f'Model architecture:\\n{model}')"
   ]
  },
  {
   "cell_type": "code",
   "execution_count": null,
   "metadata": {
    "hidden": true,
    "id": "XpRD9iYVr2OL"
   },
   "outputs": [],
   "source": [
    "learning_rate = 0.001\n",
    "weight_decay = 0.001\n",
    "\n",
    "# loss function\n",
    "loss_fn = nn.CrossEntropyLoss()\n",
    "\n",
    "# optimizer\n",
    "optimizer = AdamW(model.parameters(), lr=learning_rate, weight_decay=weight_decay)\n",
    "\n",
    "# scheduler\n",
    "scheduler = ReduceLROnPlateau(optimizer, mode='min')"
   ]
  },
  {
   "cell_type": "markdown",
   "metadata": {
    "heading_collapsed": true,
    "hidden": true
   },
   "source": [
    "## 5.2 Fit and predict"
   ]
  },
  {
   "cell_type": "code",
   "execution_count": null,
   "metadata": {
    "ExecuteTime": {
     "start_time": "2021-06-07T13:57:40.414Z"
    },
    "colab": {
     "base_uri": "https://localhost:8080/"
    },
    "hidden": true,
    "id": "o5KaGnvh4UJu",
    "outputId": "b4f7da17-e4de-49af-be40-88a274e22eb3"
   },
   "outputs": [],
   "source": [
    "train_loss = []\n",
    "test_loss = []\n",
    "train_accuracy = []\n",
    "test_accuracy = []\n",
    "\n",
    "# best iteration\n",
    "best_epoch = 0\n",
    "best_train_loss = 0\n",
    "best_test_loss = 0\n",
    "best_train_accuracy = 0\n",
    "best_test_accuracy = 0\n",
    "best_train_pred = None\n",
    "best_test_pred = None\n",
    "best_train_y = None\n",
    "best_test_y = None\n",
    "best_model_state_dict = None\n",
    "\n",
    "epochs = 100\n",
    "\n",
    "for t in range(epochs):\n",
    "    print(f\"Epoch {t+1}\\n-------------------------------\")\n",
    "    \n",
    "    fit(train_dataloader, model, loss_fn, optimizer, print_loss=True)\n",
    "    \n",
    "    print('\\nTrain:\\n-------')\n",
    "    train_current_loss, train_pred, train_y = predict(train_dataloader, num_labels, model, loss_fn)\n",
    "    \n",
    "    train_acc = 100 * accuracy_score(train_y, train_pred)\n",
    "    train_loss.append(train_current_loss)\n",
    "    train_accuracy.append(train_acc)\n",
    "    \n",
    "    print(f\"accuracy: {(100*accuracy_score(train_y, train_pred)):>0.1f}%, avg loss: {train_current_loss:>8f}\")\n",
    "    \n",
    "    print('\\nTest:\\n-------')\n",
    "    test_current_loss, test_pred, test_y = predict(test_dataloader, num_labels, model, loss_fn)\n",
    "\n",
    "    test_acc = 100 * accuracy_score(test_y, test_pred)\n",
    "    test_loss.append(test_current_loss)\n",
    "    test_accuracy.append(test_acc)\n",
    "    \n",
    "    print(f\"accuracy: {(100*accuracy_score(test_y, test_pred)):>0.1f}%, avg loss: {test_current_loss:>8f}\")\n",
    "    \n",
    "    # best iteration\n",
    "    if test_acc > best_test_accuracy:\n",
    "        best_epoch = t + 1\n",
    "        best_train_loss = train_current_loss\n",
    "        best_test_loss = test_current_loss\n",
    "        best_train_accuracy = train_acc\n",
    "        best_test_accuracy = test_acc\n",
    "        best_train_pred = train_pred\n",
    "        best_test_pred = test_pred\n",
    "        best_train_y = train_y\n",
    "        best_test_y = test_y\n",
    "        best_model_state_dict = model.state_dict()\n",
    "        \n",
    "    scheduler.step(test_current_loss)\n",
    "    \n",
    "    print(f\"\\n-------------------------------\")"
   ]
  },
  {
   "cell_type": "markdown",
   "metadata": {
    "heading_collapsed": true,
    "hidden": true
   },
   "source": [
    "## 5.3 Visualize training and testing"
   ]
  },
  {
   "cell_type": "code",
   "execution_count": null,
   "metadata": {
    "hidden": true
   },
   "outputs": [],
   "source": [
    "plt.figure(figsize=(10,8))\n",
    "\n",
    "plt.plot(range(1, 101), train_loss, 'b-', label='train_loss')\n",
    "plt.plot(range(1, 101), test_loss, 'r-', label='test_loss')\n",
    "\n",
    "plt.xlabel('epochs')\n",
    "plt.ylabel('loss')\n",
    "plt.title('train & test loss per epoch')\n",
    "plt.legend()\n",
    "\n",
    "plt.show()"
   ]
  },
  {
   "cell_type": "code",
   "execution_count": null,
   "metadata": {
    "hidden": true
   },
   "outputs": [],
   "source": [
    "plt.figure(figsize=(10,8))\n",
    "\n",
    "plt.plot(range(1, 101), train_accuracy, 'b-', label='train_accuracy')\n",
    "plt.plot(range(1, 101), test_accuracy, 'r-', label='test_accuracy')\n",
    "\n",
    "plt.xlabel('epochs')\n",
    "plt.ylabel('accuracy')\n",
    "plt.title('train & test accuracy per epoch')\n",
    "plt.legend()\n",
    "\n",
    "plt.show()"
   ]
  },
  {
   "cell_type": "code",
   "execution_count": null,
   "metadata": {
    "hidden": true
   },
   "outputs": [],
   "source": [
    "print(f'Best epoch: {best_epoch}')\n",
    "print(f'Train: accuracy: {best_train_accuracy:>0.1f}%, avg loss: {best_train_loss:>8f}')\n",
    "print(f'Test: accuracy: {best_test_accuracy:>0.1f}%, avg loss: {best_test_loss:>8f}')"
   ]
  },
  {
   "cell_type": "markdown",
   "metadata": {
    "heading_collapsed": true,
    "hidden": true
   },
   "source": [
    "## 5.4 Model metrics"
   ]
  },
  {
   "cell_type": "code",
   "execution_count": null,
   "metadata": {
    "hidden": true
   },
   "outputs": [],
   "source": [
    "print(f'Train:\\n{classification_report(best_train_y, best_train_pred, target_names=target_names)}')\n",
    "print(f'Test:\\n{classification_report(best_test_y, best_test_pred, target_names=target_names)}')"
   ]
  },
  {
   "cell_type": "code",
   "execution_count": null,
   "metadata": {
    "hidden": true
   },
   "outputs": [],
   "source": [
    "cm = confusion_matrix(best_test_y, best_test_pred)\n",
    "sns.heatmap(cm, annot=True, fmt='', xticklabels=target_names, yticklabels=target_names, ax=plt.subplots(figsize=(10,8))[1])"
   ]
  },
  {
   "cell_type": "markdown",
   "metadata": {
    "heading_collapsed": true,
    "hidden": true
   },
   "source": [
    "## 5.5 Save model"
   ]
  },
  {
   "cell_type": "code",
   "execution_count": null,
   "metadata": {
    "hidden": true
   },
   "outputs": [],
   "source": [
    "torch.save(best_model_state_dict, '../saved-model/cnn-weights.pth')"
   ]
  }
 ],
 "metadata": {
  "accelerator": "GPU",
  "colab": {
   "collapsed_sections": [],
   "name": "CNN.ipynb",
   "provenance": []
  },
  "kernelspec": {
   "display_name": "Python [conda env:cbir-dl]",
   "language": "python",
   "name": "conda-env-cbir-dl-py"
  },
  "language_info": {
   "codemirror_mode": {
    "name": "ipython",
    "version": 3
   },
   "file_extension": ".py",
   "mimetype": "text/x-python",
   "name": "python",
   "nbconvert_exporter": "python",
   "pygments_lexer": "ipython3",
   "version": "3.7.11"
  },
  "metadata": {
   "interpreter": {
    "hash": "3f02b2f559bcc2ffeee464ea6186a548e731d9852e746063497e7b2946854ef8"
   }
  },
  "toc": {
   "base_numbering": 1,
   "nav_menu": {},
   "number_sections": false,
   "sideBar": true,
   "skip_h1_title": false,
   "title_cell": "Table of Contents",
   "title_sidebar": "Contents",
   "toc_cell": false,
   "toc_position": {
    "height": "calc(100% - 180px)",
    "left": "10px",
    "top": "150px",
    "width": "216.2px"
   },
   "toc_section_display": true,
   "toc_window_display": true
  }
 },
 "nbformat": 4,
 "nbformat_minor": 1
}
