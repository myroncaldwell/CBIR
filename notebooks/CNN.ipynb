{
 "cells": [
  {
   "cell_type": "code",
   "execution_count": null,
   "metadata": {
    "ExecuteTime": {
     "end_time": "2021-06-07T13:57:40.419767Z",
     "start_time": "2021-06-07T13:57:40.399248Z"
    },
    "id": "e1QDis694UJm"
   },
   "outputs": [],
   "source": [
    "from torchvision import datasets\n",
    "\n",
    "from functools import partial\n",
    "import numpy as np\n",
    "\n",
    "# preprocessing\n",
    "from torch.utils.data import Dataset, DataLoader\n",
    "import torchvision.transforms as transforms\n",
    "from torch.utils.data import random_split\n",
    "\n",
    "# model\n",
    "import torch\n",
    "from torch import nn\n",
    "from torch.optim import AdamW\n",
    "\n",
    "# hyperparameter tuning\n",
    "from ray import tune\n",
    "from ray.tune import CLIReporter\n",
    "from ray.tune.schedulers import ASHAScheduler"
   ]
  },
  {
   "cell_type": "markdown",
   "metadata": {
    "heading_collapsed": true,
    "id": "QVsPsuI-4UJn"
   },
   "source": [
    "# 1. Load Data"
   ]
  },
  {
   "cell_type": "code",
   "execution_count": null,
   "metadata": {
    "ExecuteTime": {
     "end_time": "2021-06-07T13:57:40.497198Z",
     "start_time": "2021-06-07T13:57:40.426745Z"
    },
    "hidden": true,
    "id": "ii9r9fLY4UJn"
   },
   "outputs": [],
   "source": [
    "def load_data(data_dir):\n",
    "    \"\"\" Create train and test pytorch dataset objects from CIFAR10.\n",
    "    \n",
    "    The following tranformations are applied on CIFAR10:\n",
    "        * image pixels to [0, 1] range,\n",
    "        * normalization (by substracting mean and dividing with std; [-1, 1] range)\n",
    "    \n",
    "    Args:\n",
    "        data_dir:\n",
    "            directory where data will be saved, as a string.\n",
    "    \n",
    "    Returns:\n",
    "        train and test dataset, as pytorch dataset objects.\n",
    "    \"\"\"\n",
    "    transform = transforms.Compose([\n",
    "        transforms.ToTensor(),\n",
    "        transforms.Normalize((0.5, 0.5, 0.5), (0.5, 0.5, 0.5))\n",
    "    ])\n",
    "\n",
    "    trainset = datasets.CIFAR10(root=data_dir,\n",
    "                                train=True, \n",
    "                                download=True, \n",
    "                                transform=transform)\n",
    "\n",
    "    testset = datasets.CIFAR10(root=data_dir, \n",
    "                               train=False, \n",
    "                               download=True, \n",
    "                               transform=transform)\n",
    "\n",
    "    return trainset, testset"
   ]
  },
  {
   "cell_type": "code",
   "execution_count": null,
   "metadata": {
    "ExecuteTime": {
     "end_time": "2021-06-07T13:57:43.362186Z",
     "start_time": "2021-06-07T13:57:40.499192Z"
    },
    "colab": {
     "base_uri": "https://localhost:8080/"
    },
    "hidden": true,
    "id": "AK8yhYr-4UJo",
    "outputId": "7d8e257b-91e8-429f-8967-bdd36410e682"
   },
   "outputs": [],
   "source": [
    "training_data, test_data = load_data(data_dir='cifar10')\n",
    "\n",
    "print(f'\\nTraining data:\\n--------------\\n{training_data}')\n",
    "print(f'Test data:\\n--------------\\n{test_data}')"
   ]
  },
  {
   "cell_type": "markdown",
   "metadata": {
    "heading_collapsed": true,
    "id": "-WC227VV4UJo"
   },
   "source": [
    "# 2. CNN\n",
    "\n",
    "**Architecture:** Input &#8594; CONV1 &#8594; ReLU &#8594; POOL2 &#8594; CONV3 &#8594; ReLU &#8594; POOL4 &#8594; CONV5 &#8594; ReLU &#8594; FC6 &#8594; Softmax\n",
    "\n",
    "Specifically, the CNN's convolutional layers are as follows:\n",
    "* **CONV1** has 6 filters and kernel size of 5 x 5,\n",
    "* **CONV3** has 16 filters and kernel size of 5 x 5,\n",
    "* **CONV5** has 120 filters and kernel size of 5 x 5.\n",
    "\n",
    "Also, the CNN has:\n",
    "* **max pooling layer** with receptive field of 2 x 2,\n",
    "* **dropout layer** and **L2 regularization** to avoid overfitting,\n",
    "* **ReLU** activation function in hidden layers and **Softmax** in output layer."
   ]
  },
  {
   "cell_type": "code",
   "execution_count": null,
   "metadata": {
    "ExecuteTime": {
     "end_time": "2021-06-07T13:57:43.377147Z",
     "start_time": "2021-06-07T13:57:43.364183Z"
    },
    "hidden": true,
    "id": "PFTUJ7u_4UJp"
   },
   "outputs": [],
   "source": [
    "class CNN(nn.Module):\n",
    "    \n",
    "    def __init__(self, in_channels, output_size, p):\n",
    "        super(CNN, self).__init__()\n",
    "        \n",
    "        self.in_channels = in_channels\n",
    "        self.output_size = output_size\n",
    "        self.p = p\n",
    "        \n",
    "        self.conv1 = nn.Conv2d(in_channels=in_channels, out_channels=6, kernel_size=5, stride=1)\n",
    "        self.pool = nn.MaxPool2d(kernel_size=2, stride=2)\n",
    "        self.conv2 = nn.Conv2d(in_channels=6, out_channels=16, kernel_size=5, stride=1)\n",
    "        \n",
    "        self.fc1 = nn.Linear(in_features=16 * 5 * 5, out_features=120)\n",
    "        self.fc2 = nn.Linear(in_features=120, out_features=84)\n",
    "        self.fc3 = nn.Linear(in_features=84, out_features=output_size)\n",
    "        \n",
    "    def forward(self, x):\n",
    "        x = self.pool(torch.relu(self.conv1(x)))\n",
    "        x = self.pool(torch.relu(self.conv2(x)))\n",
    "        \n",
    "        # flatten all dimensions except batch\n",
    "        x = torch.flatten(x, 1)\n",
    "        \n",
    "        logits = torch.relu(self.fc1(x))\n",
    "        logits = nn.Dropout(self.p)(logits)\n",
    "        \n",
    "        logits = torch.relu(self.fc2(logits))\n",
    "        logits = nn.Dropout(self.p)(logits)\n",
    "        \n",
    "        logits = self.fc3(logits)\n",
    "        \n",
    "        return logits"
   ]
  },
  {
   "cell_type": "markdown",
   "metadata": {
    "heading_collapsed": true
   },
   "source": [
    "# 3. Hyperparameter Tuning\n",
    "\n",
    "- [x] early stopping"
   ]
  },
  {
   "cell_type": "code",
   "execution_count": null,
   "metadata": {
    "hidden": true
   },
   "outputs": [],
   "source": [
    "def tune_fit(config, train_data, in_channels, num_labels, batch_size, num_workers, epochs):\n",
    "    \"\"\" Fit convolutional neural network and hyperparameter tune in validation set.\n",
    "    \n",
    "    The validation set is 20% hold out data from the training set. <br>\n",
    "    The metric used is accuracy score.\n",
    "    \n",
    "    Args:\n",
    "        config:\n",
    "            hyperparameters of neural network, as a dictionary.\n",
    "        train_data:\n",
    "            training dataset, as a pytorch object.\n",
    "        in_channels:\n",
    "            number of input channels, as an integer.\n",
    "        num_labels:\n",
    "            number of labels, as an integer.\n",
    "        batch_size:\n",
    "            size of batches to be processed, as an integer.\n",
    "        num_workers:\n",
    "            how many subprocesses to use for data loading (0 means that the data \n",
    "            will be loaded in the main process), as an integer.\n",
    "        epochs:\n",
    "            number of epochs (times the neural network will see the data), as an integer.\n",
    "    \"\"\"\n",
    "    model = CNN(in_channels=in_channels,\n",
    "                output_size=num_labels,\n",
    "                p=config['p'])\n",
    "    \n",
    "    # support data parallel training on multiple GPUs\n",
    "    device = \"cpu\"\n",
    "    if torch.cuda.is_available():\n",
    "        device = \"cuda:0\"\n",
    "        if torch.cuda.device_count() > 1:\n",
    "            model = nn.DataParallel(model)\n",
    "    model.to(device)\n",
    "    \n",
    "    loss_fn = nn.CrossEntropyLoss()\n",
    "    \n",
    "    optimizer = AdamW(model.parameters(), lr=config['lr'], weight_decay=config['l2'])\n",
    "    \n",
    "    # split data: training (80%) - validation (20%)\n",
    "    test_abs = int(len(train_data) * 0.8)\n",
    "    train_subset, val_subset = random_split(train_data, [test_abs, len(train_data) - test_abs])\n",
    "\n",
    "    train_dataloader = DataLoader(train_subset,\n",
    "                                  batch_size=batch_size,\n",
    "                                  shuffle=True, \n",
    "                                  num_workers=num_workers)\n",
    "    \n",
    "    val_dataloader = DataLoader(val_subset,\n",
    "                                batch_size=batch_size,\n",
    "                                shuffle=True,\n",
    "                                num_workers=num_workers)\n",
    "    \n",
    "    for epoch in range(epochs):\n",
    "        model.train()  # put on train mode\n",
    "        for batch, (X, Y) in enumerate(train_dataloader, 0):\n",
    "            # send the data to the GPU memory explicitly\n",
    "            X, Y = X.to(device), Y.to(device)\n",
    "\n",
    "            # reset the gradients\n",
    "            optimizer.zero_grad()\n",
    "            \n",
    "            # compute prediction\n",
    "            pred = model(X)\n",
    "\n",
    "            # compute loss\n",
    "            loss = loss_fn(pred, Y)\n",
    "\n",
    "            # backpropagate\n",
    "            loss.backward()\n",
    "\n",
    "            # update parameters\n",
    "            optimizer.step()\n",
    "\n",
    "        # validation loss\n",
    "        val_loss = 0.0\n",
    "        val_steps = 0\n",
    "        total = 0\n",
    "        correct = 0\n",
    "        model.eval()  # put on evaluation mode\n",
    "        for batch, (X, Y) in enumerate(val_dataloader, 0):\n",
    "            with torch.no_grad():\n",
    "                X, Y = X.to(device), Y.to(device)\n",
    "\n",
    "                pred = model(X)\n",
    "                \n",
    "                _, predicted = torch.max(pred.data, 1)\n",
    "                total += Y.size(0)\n",
    "                correct += (predicted == Y).sum().item()\n",
    "\n",
    "                loss = loss_fn(pred, Y)\n",
    "                val_loss += loss.cpu().numpy()\n",
    "                val_steps += 1\n",
    "\n",
    "        tune.report(loss=(val_loss / val_steps), accuracy=(correct / total))"
   ]
  },
  {
   "cell_type": "code",
   "execution_count": null,
   "metadata": {
    "hidden": true
   },
   "outputs": [],
   "source": [
    "def hyperparameter_tune(data_dir,\n",
    "                        batch_size,\n",
    "                        epochs,\n",
    "                        config,\n",
    "                        grace_period,\n",
    "                        num_samples, \n",
    "                        cpus_per_trial,\n",
    "                        gpus_per_trial):\n",
    "    \"\"\" Run hyperparameter tuning and report best hyperparameters.\n",
    "    \n",
    "    Args:\n",
    "        data_dir:\n",
    "            directory where data will be saved, as a string.\n",
    "        batch_size:\n",
    "            size of batches to be processed, as an integer.\n",
    "        epochs:\n",
    "            number of epochs (times the neural network will see the data), as an integer.\n",
    "        config:\n",
    "            hyperparametes, as a dictionary.\n",
    "        grace_period:\n",
    "            stop trials at least this old in time, as an integer.\n",
    "        num_samples:\n",
    "            number of times to sample from the hyperparameter space (if grid_search is provided as an argument,\n",
    "            the grid will be repeated num_samples of times), as an integer.\n",
    "        cpus_per_trial:\n",
    "            CPUs to allocate per trial, as integer.\n",
    "        gpus_per_trial:\n",
    "            GPUs to allocate per trial, as integer.\n",
    "    \"\"\"\n",
    "    trainset, testset = load_data(data_dir=data_dir)\n",
    "    \n",
    "    in_channels = trainset[0][0].shape[0]\n",
    "    num_labels = 10\n",
    "    \n",
    "    # hyperparameter search space\n",
    "    cofig = config\n",
    "    \n",
    "    # used for early stopping\n",
    "    scheduler = ASHAScheduler(metric=\"loss\", \n",
    "                              mode=\"min\",\n",
    "                              max_t=epochs,\n",
    "                              grace_period=grace_period,\n",
    "                              reduction_factor=2)\n",
    "    \n",
    "    reporter = CLIReporter(metric_columns=[\"loss\", \"accuracy\", \"training_iteration\"])\n",
    "    \n",
    "    # hyperparamet tuning\n",
    "    result = tune.run(partial(tune_fit, \n",
    "                              train_data=trainset,\n",
    "                              in_channels=in_channels, \n",
    "                              num_labels=num_labels,\n",
    "                              batch_size=batch_size,\n",
    "                              num_workers=3, \n",
    "                              epochs=epochs),\n",
    "                      resources_per_trial={\"cpu\": cpus_per_trial, \"gpu\": gpus_per_trial},\n",
    "                      config=config,\n",
    "                      num_samples=num_samples,\n",
    "                      scheduler=scheduler,\n",
    "                      progress_reporter=reporter)\n",
    "    \n",
    "    # report best results\n",
    "    best_trial = result.get_best_trial(\"loss\", \"min\", \"last\")\n",
    "    print(\"Best trial config: {}\".format(best_trial.config))\n",
    "    print(\"Best trial final validation loss: {}\".format(best_trial.last_result[\"loss\"]))\n",
    "    print(\"Best trial final validation acurracy: {}\".format(best_trial.last_result[\"accuracy\"]))"
   ]
  },
  {
   "cell_type": "code",
   "execution_count": null,
   "metadata": {
    "hidden": true
   },
   "outputs": [],
   "source": [
    "# hyperparameter search space\n",
    "config = {\n",
    "        \"lr\": tune.grid_search([1e-4, 1e-3]),\n",
    "        \"l2\": tune.grid_search([1e-4, 1e-3]),\n",
    "        \"p\": tune.grid_search([0.4, 0.5, 0.6])\n",
    "    }"
   ]
  },
  {
   "cell_type": "code",
   "execution_count": null,
   "metadata": {
    "hidden": true
   },
   "outputs": [],
   "source": [
    "hyperparameter_tune(data_dir='cifar10',\n",
    "                    batch_size=64,\n",
    "                    epochs=50,\n",
    "                    config=config,\n",
    "                    grace_period=5,\n",
    "                    num_samples=1, \n",
    "                    cpus_per_trial=2,\n",
    "                    gpus_per_trial=0)"
   ]
  },
  {
   "cell_type": "markdown",
   "metadata": {
    "heading_collapsed": true,
    "id": "XLhFmou74UJp"
   },
   "source": [
    "# 4. Fit and Predict"
   ]
  },
  {
   "cell_type": "code",
   "execution_count": null,
   "metadata": {
    "ExecuteTime": {
     "end_time": "2021-06-07T13:57:43.532847Z",
     "start_time": "2021-06-07T13:57:43.380141Z"
    },
    "hidden": true,
    "id": "HI8rqVnQ4UJq"
   },
   "outputs": [],
   "source": [
    "def fit(dataloader, model, loss_fn, optimizer, print_loss=False):\n",
    "    \"\"\" Fit convolutional neural network.\n",
    "    \n",
    "    Args:\n",
    "        dataloader:\n",
    "            pytorch DataLoader object.\n",
    "        model:\n",
    "            convolutional neural network, as pytorch object.\n",
    "        loss_fn:\n",
    "            loss function, as pytorch object.\n",
    "        optimizer:\n",
    "            optimizer function, as pytorch object.\n",
    "        print_loss:\n",
    "            print loss on every batch, as boolean (default False)\n",
    "    \"\"\"\n",
    "    size = len(dataloader.dataset)\n",
    "    model.train()  # put on train mode\n",
    "    for batch, (X, Y) in enumerate(dataloader):\n",
    "        X, Y = X.to(device), Y.to(device)\n",
    "        \n",
    "        # compute prediction\n",
    "        pred = model(X)\n",
    "        \n",
    "        # compute loss\n",
    "        loss = loss_fn(pred, Y)\n",
    "\n",
    "        # reset the gradients\n",
    "        optimizer.zero_grad()\n",
    "        \n",
    "        # backpropagate\n",
    "        loss.backward()\n",
    "        \n",
    "        # update parameters\n",
    "        optimizer.step()\n",
    "\n",
    "        if print_loss and batch % 100 == 0:\n",
    "            loss, current = loss.item(), batch * len(X)\n",
    "            print(f\"loss: {loss:>7f} [{current:>5d}/{size:>5d}]\")"
   ]
  },
  {
   "cell_type": "code",
   "execution_count": null,
   "metadata": {
    "ExecuteTime": {
     "end_time": "2021-06-07T13:57:43.641140Z",
     "start_time": "2021-06-07T13:57:43.533627Z"
    },
    "hidden": true,
    "id": "SZ8dvmTY4UJr"
   },
   "outputs": [],
   "source": [
    "def predict(dataloader, model, loss_fn):\n",
    "    \"\"\" Predict with convolutional neural network.\n",
    "    \n",
    "    Args:\n",
    "        dataloader:\n",
    "            pytorch DataLoader object.\n",
    "        model:\n",
    "            convolutional neural network, as pytorch object.\n",
    "        loss_fn:\n",
    "            loss function, as pytorch object.\n",
    "    \"\"\"\n",
    "    size = len(dataloader.dataset)\n",
    "    \n",
    "    test_loss = 0\n",
    "    correct = 0\n",
    "    \n",
    "    model.eval()  # put on evaluation mode\n",
    "    with torch.no_grad():\n",
    "        for X, Y in dataloader:\n",
    "            X, Y = X.to(device), Y.to(device)\n",
    "            \n",
    "            pred = model(X)\n",
    "            \n",
    "            test_loss += loss_fn(pred, Y).item()\n",
    "            \n",
    "            correct += (pred.argmax(1) == Y).type(torch.float).sum().item()\n",
    "\n",
    "    test_loss /= size\n",
    "    correct /= size\n",
    "    print(f\"average loss: {test_loss:>8f} \\naccuracy: {(100*correct):>0.1f}%\\n\")"
   ]
  },
  {
   "cell_type": "markdown",
   "metadata": {
    "id": "uNwQxPx54UJs"
   },
   "source": [
    "# 5. Final Model"
   ]
  },
  {
   "cell_type": "code",
   "execution_count": null,
   "metadata": {
    "ExecuteTime": {
     "end_time": "2021-06-07T13:57:46.421905Z",
     "start_time": "2021-06-07T13:57:43.648125Z"
    },
    "colab": {
     "base_uri": "https://localhost:8080/"
    },
    "id": "6hbF5DQ34UJt",
    "outputId": "49585242-8dd1-4e2e-c758-8607cd8aaad9"
   },
   "outputs": [],
   "source": [
    "batch_size = 64\n",
    "\n",
    "training_data, test_data = load_data(data_dir='cifar10')\n",
    "\n",
    "train_dataloader = DataLoader(training_data, batch_size=batch_size, shuffle=True)\n",
    "test_dataloader = DataLoader(test_data, batch_size=batch_size, shuffle=False)"
   ]
  },
  {
   "cell_type": "code",
   "execution_count": null,
   "metadata": {
    "ExecuteTime": {
     "end_time": "2021-06-07T13:57:46.437829Z",
     "start_time": "2021-06-07T13:57:46.423866Z"
    },
    "colab": {
     "base_uri": "https://localhost:8080/"
    },
    "id": "JqMCH5_R4UJt",
    "outputId": "232766e1-d34d-4736-fe31-27e457b17a10"
   },
   "outputs": [],
   "source": [
    "device = 'cuda' if torch.cuda.is_available() else 'cpu'\n",
    "print('Using {} device'.format(device))"
   ]
  },
  {
   "cell_type": "code",
   "execution_count": null,
   "metadata": {
    "ExecuteTime": {
     "end_time": "2021-06-07T13:57:46.658570Z",
     "start_time": "2021-06-07T13:57:46.535579Z"
    },
    "colab": {
     "base_uri": "https://localhost:8080/"
    },
    "id": "rvdGVBIK4UJu",
    "outputId": "3acb8378-8eb9-4c10-ebfc-94c276681b1e"
   },
   "outputs": [],
   "source": [
    "in_channels = 3\n",
    "num_labels = 10\n",
    "p=0.4\n",
    "\n",
    "model = CNN(in_channels=in_channels, output_size=num_labels, p=p)\n",
    "model.to(device)\n",
    "\n",
    "print(f'Model architecture:\\n{model}')"
   ]
  },
  {
   "cell_type": "code",
   "execution_count": null,
   "metadata": {
    "id": "XpRD9iYVr2OL"
   },
   "outputs": [],
   "source": [
    "learning_rate = 0.001\n",
    "weight_decay = 0.001\n",
    "optimizer = AdamW(model.parameters(), lr=learning_rate, weight_decay=weight_decay)"
   ]
  },
  {
   "cell_type": "code",
   "execution_count": null,
   "metadata": {
    "id": "f2A7IW4fr2OL"
   },
   "outputs": [],
   "source": [
    "loss_fn = nn.CrossEntropyLoss()"
   ]
  },
  {
   "cell_type": "code",
   "execution_count": null,
   "metadata": {
    "ExecuteTime": {
     "start_time": "2021-06-07T13:57:40.414Z"
    },
    "colab": {
     "base_uri": "https://localhost:8080/"
    },
    "id": "o5KaGnvh4UJu",
    "outputId": "b4f7da17-e4de-49af-be40-88a274e22eb3"
   },
   "outputs": [],
   "source": [
    "epochs = 20\n",
    "\n",
    "for t in range(epochs):\n",
    "    print(f\"Epoch {t+1}\\n-------------------------------\")\n",
    "    \n",
    "    fit(train_dataloader, model, loss_fn, optimizer, print_loss=False)\n",
    "    \n",
    "    print('\\nTrain:\\n-------')\n",
    "    predict(train_dataloader, model, loss_fn)\n",
    "    \n",
    "    print('\\nTest:\\n-------')\n",
    "    predict(test_dataloader, model, loss_fn)\n",
    "    \n",
    "    print(f\"-------------------------------\")"
   ]
  }
 ],
 "metadata": {
  "accelerator": "GPU",
  "colab": {
   "collapsed_sections": [],
   "name": "CNN.ipynb",
   "provenance": []
  },
  "kernelspec": {
   "display_name": "Python 3",
   "language": "python",
   "name": "python3"
  },
  "language_info": {
   "codemirror_mode": {
    "name": "ipython",
    "version": 3
   },
   "file_extension": ".py",
   "mimetype": "text/x-python",
   "name": "python",
   "nbconvert_exporter": "python",
   "pygments_lexer": "ipython3",
   "version": "3.8.5"
  },
  "metadata": {
   "interpreter": {
    "hash": "3f02b2f559bcc2ffeee464ea6186a548e731d9852e746063497e7b2946854ef8"
   }
  },
  "toc": {
   "base_numbering": 1,
   "nav_menu": {},
   "number_sections": false,
   "sideBar": true,
   "skip_h1_title": false,
   "title_cell": "Table of Contents",
   "title_sidebar": "Contents",
   "toc_cell": false,
   "toc_position": {
    "height": "calc(100% - 180px)",
    "left": "10px",
    "top": "150px",
    "width": "203.2px"
   },
   "toc_section_display": true,
   "toc_window_display": true
  }
 },
 "nbformat": 4,
 "nbformat_minor": 1
}
